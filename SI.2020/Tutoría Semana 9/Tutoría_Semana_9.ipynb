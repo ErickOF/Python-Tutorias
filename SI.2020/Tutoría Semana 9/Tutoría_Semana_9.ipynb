{
  "nbformat": 4,
  "nbformat_minor": 0,
  "metadata": {
    "colab": {
      "name": "Tutoría Semana 9.ipynb",
      "provenance": [],
      "toc_visible": true
    },
    "kernelspec": {
      "name": "python3",
      "display_name": "Python 3"
    }
  },
  "cells": [
    {
      "cell_type": "markdown",
      "metadata": {
        "id": "tQCtWAq6TA3N",
        "colab_type": "text"
      },
      "source": [
        "# Cadenas"
      ]
    },
    {
      "cell_type": "code",
      "metadata": {
        "id": "eXRpsePDS5n2",
        "colab_type": "code",
        "colab": {}
      },
      "source": [
        "cadena = 'AbcdkdkjsidusfoijsSDFHISDFJ143827!'"
      ],
      "execution_count": 0,
      "outputs": []
    },
    {
      "cell_type": "code",
      "metadata": {
        "id": "zmrHn6rfTL7B",
        "colab_type": "code",
        "colab": {
          "base_uri": "https://localhost:8080/",
          "height": 34
        },
        "outputId": "1387ebf9-d8e9-402c-a1e0-8c2b766f267d"
      },
      "source": [
        "cadena[0]"
      ],
      "execution_count": 5,
      "outputs": [
        {
          "output_type": "execute_result",
          "data": {
            "text/plain": [
              "'A'"
            ]
          },
          "metadata": {
            "tags": []
          },
          "execution_count": 5
        }
      ]
    },
    {
      "cell_type": "code",
      "metadata": {
        "id": "tnyYaAs-TOzY",
        "colab_type": "code",
        "colab": {
          "base_uri": "https://localhost:8080/",
          "height": 34
        },
        "outputId": "2121b7cc-7d4a-4edc-ce91-8f739dce5297"
      },
      "source": [
        "cadena[len(cadena) - 1]"
      ],
      "execution_count": 8,
      "outputs": [
        {
          "output_type": "execute_result",
          "data": {
            "text/plain": [
              "'!'"
            ]
          },
          "metadata": {
            "tags": []
          },
          "execution_count": 8
        }
      ]
    },
    {
      "cell_type": "code",
      "metadata": {
        "id": "oouv0ijlTZYz",
        "colab_type": "code",
        "colab": {
          "base_uri": "https://localhost:8080/",
          "height": 34
        },
        "outputId": "2115cdf2-9132-49db-d45f-519169eaf8eb"
      },
      "source": [
        "cadena[-1]"
      ],
      "execution_count": 9,
      "outputs": [
        {
          "output_type": "execute_result",
          "data": {
            "text/plain": [
              "'!'"
            ]
          },
          "metadata": {
            "tags": []
          },
          "execution_count": 9
        }
      ]
    },
    {
      "cell_type": "code",
      "metadata": {
        "id": "lWozNh7sTdEd",
        "colab_type": "code",
        "colab": {
          "base_uri": "https://localhost:8080/",
          "height": 34
        },
        "outputId": "ad819fed-9075-40c0-983f-66eda774fed6"
      },
      "source": [
        "cadena[2:5]"
      ],
      "execution_count": 10,
      "outputs": [
        {
          "output_type": "execute_result",
          "data": {
            "text/plain": [
              "'cdk'"
            ]
          },
          "metadata": {
            "tags": []
          },
          "execution_count": 10
        }
      ]
    },
    {
      "cell_type": "code",
      "metadata": {
        "id": "jqnb-EEhTibs",
        "colab_type": "code",
        "colab": {
          "base_uri": "https://localhost:8080/",
          "height": 34
        },
        "outputId": "91296756-288e-49fa-b2d9-c607a0870abd"
      },
      "source": [
        "cadena[:5]"
      ],
      "execution_count": 11,
      "outputs": [
        {
          "output_type": "execute_result",
          "data": {
            "text/plain": [
              "'Abcdk'"
            ]
          },
          "metadata": {
            "tags": []
          },
          "execution_count": 11
        }
      ]
    },
    {
      "cell_type": "code",
      "metadata": {
        "id": "Lscdvan0Tk2p",
        "colab_type": "code",
        "colab": {
          "base_uri": "https://localhost:8080/",
          "height": 34
        },
        "outputId": "8622fe9a-ec26-43c3-afcb-ed477cf5f443"
      },
      "source": [
        "cadena[10:]"
      ],
      "execution_count": 12,
      "outputs": [
        {
          "output_type": "execute_result",
          "data": {
            "text/plain": [
              "'dusfoijsSDFHISDFJ143827!'"
            ]
          },
          "metadata": {
            "tags": []
          },
          "execution_count": 12
        }
      ]
    },
    {
      "cell_type": "code",
      "metadata": {
        "id": "1VsoEUyIToVU",
        "colab_type": "code",
        "colab": {
          "base_uri": "https://localhost:8080/",
          "height": 34
        },
        "outputId": "f38b8d7b-92f3-4f64-9d5c-f034dbd36a1c"
      },
      "source": [
        "cadena[:]"
      ],
      "execution_count": 13,
      "outputs": [
        {
          "output_type": "execute_result",
          "data": {
            "text/plain": [
              "'AbcdkdkjsidusfoijsSDFHISDFJ143827!'"
            ]
          },
          "metadata": {
            "tags": []
          },
          "execution_count": 13
        }
      ]
    },
    {
      "cell_type": "code",
      "metadata": {
        "id": "m96ofO10TrIB",
        "colab_type": "code",
        "colab": {
          "base_uri": "https://localhost:8080/",
          "height": 34
        },
        "outputId": "a89c7b47-604e-4b42-9b41-29ca9c3da9fe"
      },
      "source": [
        "cadena[2:10:2]"
      ],
      "execution_count": 14,
      "outputs": [
        {
          "output_type": "execute_result",
          "data": {
            "text/plain": [
              "'ckks'"
            ]
          },
          "metadata": {
            "tags": []
          },
          "execution_count": 14
        }
      ]
    },
    {
      "cell_type": "code",
      "metadata": {
        "id": "Hxl_WJDiTxF-",
        "colab_type": "code",
        "colab": {
          "base_uri": "https://localhost:8080/",
          "height": 34
        },
        "outputId": "ca703cbf-d514-409f-e8a6-853859c0d773"
      },
      "source": [
        "cadena[::-1]"
      ],
      "execution_count": 15,
      "outputs": [
        {
          "output_type": "execute_result",
          "data": {
            "text/plain": [
              "'!728341JFDSIHFDSsjiofsudisjkdkdcbA'"
            ]
          },
          "metadata": {
            "tags": []
          },
          "execution_count": 15
        }
      ]
    },
    {
      "cell_type": "code",
      "metadata": {
        "id": "VzQsR-aFT2f7",
        "colab_type": "code",
        "colab": {}
      },
      "source": [
        "def esPalindromo(cadena):\n",
        "    #if cadena == cadena[::-1]:\n",
        "    #    return True\n",
        "    #else:\n",
        "    #    return False\n",
        "    return cadena == cadena[::-1]"
      ],
      "execution_count": 0,
      "outputs": []
    },
    {
      "cell_type": "code",
      "metadata": {
        "id": "p5JD9HHfUB1h",
        "colab_type": "code",
        "colab": {
          "base_uri": "https://localhost:8080/",
          "height": 34
        },
        "outputId": "3757716c-f120-4e46-997c-20d22f901cf9"
      },
      "source": [
        "esPalindromo('Hola')"
      ],
      "execution_count": 19,
      "outputs": [
        {
          "output_type": "execute_result",
          "data": {
            "text/plain": [
              "False"
            ]
          },
          "metadata": {
            "tags": []
          },
          "execution_count": 19
        }
      ]
    },
    {
      "cell_type": "code",
      "metadata": {
        "id": "b0pJUzbHUQLj",
        "colab_type": "code",
        "colab": {
          "base_uri": "https://localhost:8080/",
          "height": 34
        },
        "outputId": "9571b9a4-939c-4b09-beee-0749b77328a7"
      },
      "source": [
        "esPalindromo('ana')"
      ],
      "execution_count": 20,
      "outputs": [
        {
          "output_type": "execute_result",
          "data": {
            "text/plain": [
              "True"
            ]
          },
          "metadata": {
            "tags": []
          },
          "execution_count": 20
        }
      ]
    },
    {
      "cell_type": "code",
      "metadata": {
        "id": "V0-RKykVUTVA",
        "colab_type": "code",
        "colab": {
          "base_uri": "https://localhost:8080/",
          "height": 34
        },
        "outputId": "ccf07296-aea1-4b2f-adfc-83f528b5f0cc"
      },
      "source": [
        "esPalindromo('Ana')"
      ],
      "execution_count": 21,
      "outputs": [
        {
          "output_type": "execute_result",
          "data": {
            "text/plain": [
              "False"
            ]
          },
          "metadata": {
            "tags": []
          },
          "execution_count": 21
        }
      ]
    },
    {
      "cell_type": "code",
      "metadata": {
        "id": "gUE8EZbDUZii",
        "colab_type": "code",
        "colab": {
          "base_uri": "https://localhost:8080/",
          "height": 34
        },
        "outputId": "d4cc19ce-6ff0-4c9b-fe6f-4ad9b1e9b676"
      },
      "source": [
        "'Ana'.lower()"
      ],
      "execution_count": 22,
      "outputs": [
        {
          "output_type": "execute_result",
          "data": {
            "text/plain": [
              "'ana'"
            ]
          },
          "metadata": {
            "tags": []
          },
          "execution_count": 22
        }
      ]
    },
    {
      "cell_type": "code",
      "metadata": {
        "id": "oMko6OuLUdY0",
        "colab_type": "code",
        "colab": {
          "base_uri": "https://localhost:8080/",
          "height": 34
        },
        "outputId": "2b13eeee-20cf-464e-e9d5-7b529e29dcad"
      },
      "source": [
        "nombre = 'Ana'\n",
        "nombre = nombre.lower()\n",
        "nombre"
      ],
      "execution_count": 25,
      "outputs": [
        {
          "output_type": "execute_result",
          "data": {
            "text/plain": [
              "'ana'"
            ]
          },
          "metadata": {
            "tags": []
          },
          "execution_count": 25
        }
      ]
    },
    {
      "cell_type": "code",
      "metadata": {
        "id": "LJrIzJ8cUpCU",
        "colab_type": "code",
        "colab": {
          "base_uri": "https://localhost:8080/",
          "height": 34
        },
        "outputId": "a69c5e05-3125-4874-9b44-7026752bf571"
      },
      "source": [
        "nombre = 'Ana'\n",
        "nombre = nombre.upper()\n",
        "nombre"
      ],
      "execution_count": 26,
      "outputs": [
        {
          "output_type": "execute_result",
          "data": {
            "text/plain": [
              "'ANA'"
            ]
          },
          "metadata": {
            "tags": []
          },
          "execution_count": 26
        }
      ]
    },
    {
      "cell_type": "code",
      "metadata": {
        "id": "5cmxZDjYUsj0",
        "colab_type": "code",
        "colab": {
          "base_uri": "https://localhost:8080/",
          "height": 34
        },
        "outputId": "f1899eee-a982-4570-865d-71ba5631a85e"
      },
      "source": [
        "nombre = 'Ana'\n",
        "print(nombre.islower())"
      ],
      "execution_count": 29,
      "outputs": [
        {
          "output_type": "stream",
          "text": [
            "False\n"
          ],
          "name": "stdout"
        }
      ]
    },
    {
      "cell_type": "code",
      "metadata": {
        "id": "gf4baRqcUzxs",
        "colab_type": "code",
        "colab": {
          "base_uri": "https://localhost:8080/",
          "height": 34
        },
        "outputId": "3fe35c6f-69b1-4c5f-f9cc-0b947cd26110"
      },
      "source": [
        "nombre = 'ANA'\n",
        "print(nombre.isupper())"
      ],
      "execution_count": 30,
      "outputs": [
        {
          "output_type": "stream",
          "text": [
            "True\n"
          ],
          "name": "stdout"
        }
      ]
    },
    {
      "cell_type": "code",
      "metadata": {
        "id": "__OAZoREU4CQ",
        "colab_type": "code",
        "colab": {
          "base_uri": "https://localhost:8080/",
          "height": 51
        },
        "outputId": "9b92d02c-a386-4618-d0fc-c43f23644c09"
      },
      "source": [
        "cadena = 'Hola 123'\n",
        "print(cadena, cadena.isalpha())\n",
        "print(cadena[:4], cadena[:4].isalpha())"
      ],
      "execution_count": 33,
      "outputs": [
        {
          "output_type": "stream",
          "text": [
            "Hola 123 False\n",
            "Hola True\n"
          ],
          "name": "stdout"
        }
      ]
    },
    {
      "cell_type": "code",
      "metadata": {
        "id": "2bMm3fUbVIRp",
        "colab_type": "code",
        "colab": {
          "base_uri": "https://localhost:8080/",
          "height": 51
        },
        "outputId": "47e3b0cd-c25e-4d6f-a312-ebe0f4bebcd8"
      },
      "source": [
        "cadena = 'Hola 123'\n",
        "print(cadena, cadena.isnumeric())\n",
        "print(cadena[5:], cadena[5:].isnumeric())"
      ],
      "execution_count": 34,
      "outputs": [
        {
          "output_type": "stream",
          "text": [
            "Hola 123 False\n",
            "123 True\n"
          ],
          "name": "stdout"
        }
      ]
    },
    {
      "cell_type": "code",
      "metadata": {
        "id": "U_lKrl3hVYcS",
        "colab_type": "code",
        "colab": {
          "base_uri": "https://localhost:8080/",
          "height": 51
        },
        "outputId": "cf8d515e-6f91-4c45-ce22-2f6076b04adc"
      },
      "source": [
        "cadena = 'Hola 123'\n",
        "print(cadena, cadena.isdigit())\n",
        "print(cadena[5:], cadena[5:].isdigit())\n",
        "cadena.isdigit()"
      ],
      "execution_count": 36,
      "outputs": [
        {
          "output_type": "stream",
          "text": [
            "Hola 123 False\n",
            "123 True\n"
          ],
          "name": "stdout"
        }
      ]
    },
    {
      "cell_type": "code",
      "metadata": {
        "id": "CvXX1EmaWGR4",
        "colab_type": "code",
        "colab": {
          "base_uri": "https://localhost:8080/",
          "height": 122
        },
        "outputId": "36a903d5-dcf9-467b-c2f2-8eea11203b37"
      },
      "source": [
        "cadena = 'Lorem Ipsum is simply dummy text of the printing and typesetting industry. Lorem Ipsum has been the industry\\'s standard dummy text ever since the 1500s, when an unknown printer took a galley of type and scrambled it to make a type specimen book. It has survived not only five centuries, but also the leap into electronic typesetting, remaining essentially unchanged. It was popularised in the 1960s with the release of Letraset sheets containing Lorem Ipsum passages, and more recently with desktop publishing software like Aldus PageMaker including versions of Lorem Ipsum.'\n",
        "cadena.split('.')"
      ],
      "execution_count": 39,
      "outputs": [
        {
          "output_type": "execute_result",
          "data": {
            "text/plain": [
              "['Lorem Ipsum is simply dummy text of the printing and typesetting industry',\n",
              " \" Lorem Ipsum has been the industry's standard dummy text ever since the 1500s, when an unknown printer took a galley of type and scrambled it to make a type specimen book\",\n",
              " ' It has survived not only five centuries, but also the leap into electronic typesetting, remaining essentially unchanged',\n",
              " ' It was popularised in the 1960s with the release of Letraset sheets containing Lorem Ipsum passages, and more recently with desktop publishing software like Aldus PageMaker including versions of Lorem Ipsum',\n",
              " '']"
            ]
          },
          "metadata": {
            "tags": []
          },
          "execution_count": 39
        }
      ]
    },
    {
      "cell_type": "code",
      "metadata": {
        "id": "LkgoCG-GWdAo",
        "colab_type": "code",
        "colab": {
          "base_uri": "https://localhost:8080/",
          "height": 54
        },
        "outputId": "e3a87fd4-80f2-4985-b34d-b1b98df41c6d"
      },
      "source": [
        "cadena = 'Lorem Ipsum is simply dummy text of the printing and typesetting industry. Lorem Ipsum has been the industry\\'s standard dummy text ever since the 1500s, when an unknown printer took a galley of type and scrambled it to make a type specimen book. It has survived not only five centuries, but also the leap into electronic typesetting, remaining essentially unchanged. It was popularised in the 1960s with the release of Letraset sheets containing Lorem Ipsum passages, and more recently with desktop publishing software like Aldus PageMaker including versions of Lorem Ipsum.'\n",
        "cadena.replace(' ', '-')"
      ],
      "execution_count": 40,
      "outputs": [
        {
          "output_type": "execute_result",
          "data": {
            "text/plain": [
              "\"Lorem-Ipsum-is-simply-dummy-text-of-the-printing-and-typesetting-industry.-Lorem-Ipsum-has-been-the-industry's-standard-dummy-text-ever-since-the-1500s,-when-an-unknown-printer-took-a-galley-of-type-and-scrambled-it-to-make-a-type-specimen-book.-It-has-survived-not-only-five-centuries,-but-also-the-leap-into-electronic-typesetting,-remaining-essentially-unchanged.-It-was-popularised-in-the-1960s-with-the-release-of-Letraset-sheets-containing-Lorem-Ipsum-passages,-and-more-recently-with-desktop-publishing-software-like-Aldus-PageMaker-including-versions-of-Lorem-Ipsum.\""
            ]
          },
          "metadata": {
            "tags": []
          },
          "execution_count": 40
        }
      ]
    },
    {
      "cell_type": "code",
      "metadata": {
        "id": "5SM83ZZzWkxe",
        "colab_type": "code",
        "colab": {
          "base_uri": "https://localhost:8080/",
          "height": 54
        },
        "outputId": "635619ff-0acd-45d5-c5e0-9bcf4bfa7441"
      },
      "source": [
        "cadena = 'Lorem Ipsum is simply dummy text of the printing and typesetting industry. Lorem Ipsum has been the industry\\'s standard dummy text ever since the 1500s, when an unknown printer took a galley of type and scrambled it to make a type specimen book. It has survived not only five centuries, but also the leap into electronic typesetting, remaining essentially unchanged. It was popularised in the 1960s with the release of Letraset sheets containing Lorem Ipsum passages, and more recently with desktop publishing software like Aldus PageMaker including versions of Lorem Ipsum.'\n",
        "cadena.replace(' ', '').replace('d', 't')"
      ],
      "execution_count": 46,
      "outputs": [
        {
          "output_type": "execute_result",
          "data": {
            "text/plain": [
              "\"LoremIpsumissimplytummytextoftheprintinganttypesettingintustry.LoremIpsumhasbeentheintustry'sstantarttummytexteversincethe1500s,whenanunknownprintertookagalleyoftypeantscrambletittomakeatypespecimenbook.Ithassurvivetnotonlyfivecenturies,butalsotheleapintoelectronictypesetting,remainingessentiallyunchanget.Itwaspopularisetinthe1960swiththereleaseofLetrasetsheetscontainingLoremIpsumpassages,antmorerecentlywithtesktoppublishingsoftwarelikeAltusPageMakerinclutingversionsofLoremIpsum.\""
            ]
          },
          "metadata": {
            "tags": []
          },
          "execution_count": 46
        }
      ]
    },
    {
      "cell_type": "code",
      "metadata": {
        "id": "WhxScGYeWzDD",
        "colab_type": "code",
        "colab": {
          "base_uri": "https://localhost:8080/",
          "height": 1000
        },
        "outputId": "00e77e03-6cc6-4d8b-fb2c-65cca56ab9af"
      },
      "source": [
        "cadena = 'Lorem Ipsum is simply dummy text of the printing and typesetting industry. Lorem Ipsum has been the industry\\'s standard dummy text ever since the 1500s, when an unknown printer took a galley of type and scrambled it to make a type specimen book. It has survived not only five centuries, but also the leap into electronic typesetting, remaining essentially unchanged. It was popularised in the 1960s with the release of Letraset sheets containing Lorem Ipsum passages, and more recently with desktop publishing software like Aldus PageMaker including versions of Lorem Ipsum.'\n",
        "letras = [c for c in cadena]\n",
        "letras"
      ],
      "execution_count": 44,
      "outputs": [
        {
          "output_type": "execute_result",
          "data": {
            "text/plain": [
              "['L',\n",
              " 'o',\n",
              " 'r',\n",
              " 'e',\n",
              " 'm',\n",
              " ' ',\n",
              " 'I',\n",
              " 'p',\n",
              " 's',\n",
              " 'u',\n",
              " 'm',\n",
              " ' ',\n",
              " 'i',\n",
              " 's',\n",
              " ' ',\n",
              " 's',\n",
              " 'i',\n",
              " 'm',\n",
              " 'p',\n",
              " 'l',\n",
              " 'y',\n",
              " ' ',\n",
              " 'd',\n",
              " 'u',\n",
              " 'm',\n",
              " 'm',\n",
              " 'y',\n",
              " ' ',\n",
              " 't',\n",
              " 'e',\n",
              " 'x',\n",
              " 't',\n",
              " ' ',\n",
              " 'o',\n",
              " 'f',\n",
              " ' ',\n",
              " 't',\n",
              " 'h',\n",
              " 'e',\n",
              " ' ',\n",
              " 'p',\n",
              " 'r',\n",
              " 'i',\n",
              " 'n',\n",
              " 't',\n",
              " 'i',\n",
              " 'n',\n",
              " 'g',\n",
              " ' ',\n",
              " 'a',\n",
              " 'n',\n",
              " 'd',\n",
              " ' ',\n",
              " 't',\n",
              " 'y',\n",
              " 'p',\n",
              " 'e',\n",
              " 's',\n",
              " 'e',\n",
              " 't',\n",
              " 't',\n",
              " 'i',\n",
              " 'n',\n",
              " 'g',\n",
              " ' ',\n",
              " 'i',\n",
              " 'n',\n",
              " 'd',\n",
              " 'u',\n",
              " 's',\n",
              " 't',\n",
              " 'r',\n",
              " 'y',\n",
              " '.',\n",
              " ' ',\n",
              " 'L',\n",
              " 'o',\n",
              " 'r',\n",
              " 'e',\n",
              " 'm',\n",
              " ' ',\n",
              " 'I',\n",
              " 'p',\n",
              " 's',\n",
              " 'u',\n",
              " 'm',\n",
              " ' ',\n",
              " 'h',\n",
              " 'a',\n",
              " 's',\n",
              " ' ',\n",
              " 'b',\n",
              " 'e',\n",
              " 'e',\n",
              " 'n',\n",
              " ' ',\n",
              " 't',\n",
              " 'h',\n",
              " 'e',\n",
              " ' ',\n",
              " 'i',\n",
              " 'n',\n",
              " 'd',\n",
              " 'u',\n",
              " 's',\n",
              " 't',\n",
              " 'r',\n",
              " 'y',\n",
              " \"'\",\n",
              " 's',\n",
              " ' ',\n",
              " 's',\n",
              " 't',\n",
              " 'a',\n",
              " 'n',\n",
              " 'd',\n",
              " 'a',\n",
              " 'r',\n",
              " 'd',\n",
              " ' ',\n",
              " 'd',\n",
              " 'u',\n",
              " 'm',\n",
              " 'm',\n",
              " 'y',\n",
              " ' ',\n",
              " 't',\n",
              " 'e',\n",
              " 'x',\n",
              " 't',\n",
              " ' ',\n",
              " 'e',\n",
              " 'v',\n",
              " 'e',\n",
              " 'r',\n",
              " ' ',\n",
              " 's',\n",
              " 'i',\n",
              " 'n',\n",
              " 'c',\n",
              " 'e',\n",
              " ' ',\n",
              " 't',\n",
              " 'h',\n",
              " 'e',\n",
              " ' ',\n",
              " '1',\n",
              " '5',\n",
              " '0',\n",
              " '0',\n",
              " 's',\n",
              " ',',\n",
              " ' ',\n",
              " 'w',\n",
              " 'h',\n",
              " 'e',\n",
              " 'n',\n",
              " ' ',\n",
              " 'a',\n",
              " 'n',\n",
              " ' ',\n",
              " 'u',\n",
              " 'n',\n",
              " 'k',\n",
              " 'n',\n",
              " 'o',\n",
              " 'w',\n",
              " 'n',\n",
              " ' ',\n",
              " 'p',\n",
              " 'r',\n",
              " 'i',\n",
              " 'n',\n",
              " 't',\n",
              " 'e',\n",
              " 'r',\n",
              " ' ',\n",
              " 't',\n",
              " 'o',\n",
              " 'o',\n",
              " 'k',\n",
              " ' ',\n",
              " 'a',\n",
              " ' ',\n",
              " 'g',\n",
              " 'a',\n",
              " 'l',\n",
              " 'l',\n",
              " 'e',\n",
              " 'y',\n",
              " ' ',\n",
              " 'o',\n",
              " 'f',\n",
              " ' ',\n",
              " 't',\n",
              " 'y',\n",
              " 'p',\n",
              " 'e',\n",
              " ' ',\n",
              " 'a',\n",
              " 'n',\n",
              " 'd',\n",
              " ' ',\n",
              " 's',\n",
              " 'c',\n",
              " 'r',\n",
              " 'a',\n",
              " 'm',\n",
              " 'b',\n",
              " 'l',\n",
              " 'e',\n",
              " 'd',\n",
              " ' ',\n",
              " 'i',\n",
              " 't',\n",
              " ' ',\n",
              " 't',\n",
              " 'o',\n",
              " ' ',\n",
              " 'm',\n",
              " 'a',\n",
              " 'k',\n",
              " 'e',\n",
              " ' ',\n",
              " 'a',\n",
              " ' ',\n",
              " 't',\n",
              " 'y',\n",
              " 'p',\n",
              " 'e',\n",
              " ' ',\n",
              " 's',\n",
              " 'p',\n",
              " 'e',\n",
              " 'c',\n",
              " 'i',\n",
              " 'm',\n",
              " 'e',\n",
              " 'n',\n",
              " ' ',\n",
              " 'b',\n",
              " 'o',\n",
              " 'o',\n",
              " 'k',\n",
              " '.',\n",
              " ' ',\n",
              " 'I',\n",
              " 't',\n",
              " ' ',\n",
              " 'h',\n",
              " 'a',\n",
              " 's',\n",
              " ' ',\n",
              " 's',\n",
              " 'u',\n",
              " 'r',\n",
              " 'v',\n",
              " 'i',\n",
              " 'v',\n",
              " 'e',\n",
              " 'd',\n",
              " ' ',\n",
              " 'n',\n",
              " 'o',\n",
              " 't',\n",
              " ' ',\n",
              " 'o',\n",
              " 'n',\n",
              " 'l',\n",
              " 'y',\n",
              " ' ',\n",
              " 'f',\n",
              " 'i',\n",
              " 'v',\n",
              " 'e',\n",
              " ' ',\n",
              " 'c',\n",
              " 'e',\n",
              " 'n',\n",
              " 't',\n",
              " 'u',\n",
              " 'r',\n",
              " 'i',\n",
              " 'e',\n",
              " 's',\n",
              " ',',\n",
              " ' ',\n",
              " 'b',\n",
              " 'u',\n",
              " 't',\n",
              " ' ',\n",
              " 'a',\n",
              " 'l',\n",
              " 's',\n",
              " 'o',\n",
              " ' ',\n",
              " 't',\n",
              " 'h',\n",
              " 'e',\n",
              " ' ',\n",
              " 'l',\n",
              " 'e',\n",
              " 'a',\n",
              " 'p',\n",
              " ' ',\n",
              " 'i',\n",
              " 'n',\n",
              " 't',\n",
              " 'o',\n",
              " ' ',\n",
              " 'e',\n",
              " 'l',\n",
              " 'e',\n",
              " 'c',\n",
              " 't',\n",
              " 'r',\n",
              " 'o',\n",
              " 'n',\n",
              " 'i',\n",
              " 'c',\n",
              " ' ',\n",
              " 't',\n",
              " 'y',\n",
              " 'p',\n",
              " 'e',\n",
              " 's',\n",
              " 'e',\n",
              " 't',\n",
              " 't',\n",
              " 'i',\n",
              " 'n',\n",
              " 'g',\n",
              " ',',\n",
              " ' ',\n",
              " 'r',\n",
              " 'e',\n",
              " 'm',\n",
              " 'a',\n",
              " 'i',\n",
              " 'n',\n",
              " 'i',\n",
              " 'n',\n",
              " 'g',\n",
              " ' ',\n",
              " 'e',\n",
              " 's',\n",
              " 's',\n",
              " 'e',\n",
              " 'n',\n",
              " 't',\n",
              " 'i',\n",
              " 'a',\n",
              " 'l',\n",
              " 'l',\n",
              " 'y',\n",
              " ' ',\n",
              " 'u',\n",
              " 'n',\n",
              " 'c',\n",
              " 'h',\n",
              " 'a',\n",
              " 'n',\n",
              " 'g',\n",
              " 'e',\n",
              " 'd',\n",
              " '.',\n",
              " ' ',\n",
              " 'I',\n",
              " 't',\n",
              " ' ',\n",
              " 'w',\n",
              " 'a',\n",
              " 's',\n",
              " ' ',\n",
              " 'p',\n",
              " 'o',\n",
              " 'p',\n",
              " 'u',\n",
              " 'l',\n",
              " 'a',\n",
              " 'r',\n",
              " 'i',\n",
              " 's',\n",
              " 'e',\n",
              " 'd',\n",
              " ' ',\n",
              " 'i',\n",
              " 'n',\n",
              " ' ',\n",
              " 't',\n",
              " 'h',\n",
              " 'e',\n",
              " ' ',\n",
              " '1',\n",
              " '9',\n",
              " '6',\n",
              " '0',\n",
              " 's',\n",
              " ' ',\n",
              " 'w',\n",
              " 'i',\n",
              " 't',\n",
              " 'h',\n",
              " ' ',\n",
              " 't',\n",
              " 'h',\n",
              " 'e',\n",
              " ' ',\n",
              " 'r',\n",
              " 'e',\n",
              " 'l',\n",
              " 'e',\n",
              " 'a',\n",
              " 's',\n",
              " 'e',\n",
              " ' ',\n",
              " 'o',\n",
              " 'f',\n",
              " ' ',\n",
              " 'L',\n",
              " 'e',\n",
              " 't',\n",
              " 'r',\n",
              " 'a',\n",
              " 's',\n",
              " 'e',\n",
              " 't',\n",
              " ' ',\n",
              " 's',\n",
              " 'h',\n",
              " 'e',\n",
              " 'e',\n",
              " 't',\n",
              " 's',\n",
              " ' ',\n",
              " 'c',\n",
              " 'o',\n",
              " 'n',\n",
              " 't',\n",
              " 'a',\n",
              " 'i',\n",
              " 'n',\n",
              " 'i',\n",
              " 'n',\n",
              " 'g',\n",
              " ' ',\n",
              " 'L',\n",
              " 'o',\n",
              " 'r',\n",
              " 'e',\n",
              " 'm',\n",
              " ' ',\n",
              " 'I',\n",
              " 'p',\n",
              " 's',\n",
              " 'u',\n",
              " 'm',\n",
              " ' ',\n",
              " 'p',\n",
              " 'a',\n",
              " 's',\n",
              " 's',\n",
              " 'a',\n",
              " 'g',\n",
              " 'e',\n",
              " 's',\n",
              " ',',\n",
              " ' ',\n",
              " 'a',\n",
              " 'n',\n",
              " 'd',\n",
              " ' ',\n",
              " 'm',\n",
              " 'o',\n",
              " 'r',\n",
              " 'e',\n",
              " ' ',\n",
              " 'r',\n",
              " 'e',\n",
              " 'c',\n",
              " 'e',\n",
              " 'n',\n",
              " 't',\n",
              " 'l',\n",
              " 'y',\n",
              " ' ',\n",
              " 'w',\n",
              " 'i',\n",
              " 't',\n",
              " 'h',\n",
              " ' ',\n",
              " 'd',\n",
              " 'e',\n",
              " 's',\n",
              " 'k',\n",
              " 't',\n",
              " 'o',\n",
              " 'p',\n",
              " ' ',\n",
              " 'p',\n",
              " 'u',\n",
              " 'b',\n",
              " 'l',\n",
              " 'i',\n",
              " 's',\n",
              " 'h',\n",
              " 'i',\n",
              " 'n',\n",
              " 'g',\n",
              " ' ',\n",
              " 's',\n",
              " 'o',\n",
              " 'f',\n",
              " 't',\n",
              " 'w',\n",
              " 'a',\n",
              " 'r',\n",
              " 'e',\n",
              " ' ',\n",
              " 'l',\n",
              " 'i',\n",
              " 'k',\n",
              " 'e',\n",
              " ' ',\n",
              " 'A',\n",
              " 'l',\n",
              " 'd',\n",
              " 'u',\n",
              " 's',\n",
              " ' ',\n",
              " 'P',\n",
              " 'a',\n",
              " 'g',\n",
              " 'e',\n",
              " 'M',\n",
              " 'a',\n",
              " 'k',\n",
              " 'e',\n",
              " 'r',\n",
              " ' ',\n",
              " 'i',\n",
              " 'n',\n",
              " 'c',\n",
              " 'l',\n",
              " 'u',\n",
              " 'd',\n",
              " 'i',\n",
              " 'n',\n",
              " 'g',\n",
              " ' ',\n",
              " 'v',\n",
              " 'e',\n",
              " 'r',\n",
              " 's',\n",
              " 'i',\n",
              " 'o',\n",
              " 'n',\n",
              " 's',\n",
              " ' ',\n",
              " 'o',\n",
              " 'f',\n",
              " ' ',\n",
              " 'L',\n",
              " 'o',\n",
              " 'r',\n",
              " 'e',\n",
              " 'm',\n",
              " ' ',\n",
              " 'I',\n",
              " 'p',\n",
              " 's',\n",
              " 'u',\n",
              " 'm',\n",
              " '.']"
            ]
          },
          "metadata": {
            "tags": []
          },
          "execution_count": 44
        }
      ]
    },
    {
      "cell_type": "code",
      "metadata": {
        "id": "hrAYRhsrZeyt",
        "colab_type": "code",
        "colab": {
          "base_uri": "https://localhost:8080/",
          "height": 34
        },
        "outputId": "9851aca8-c30e-4a62-d79b-9e1332dd9f47"
      },
      "source": [
        "cadena = 'Erick'\n",
        "cadena += '!'\n",
        "print(cadena)"
      ],
      "execution_count": 60,
      "outputs": [
        {
          "output_type": "stream",
          "text": [
            "Erick!\n"
          ],
          "name": "stdout"
        }
      ]
    },
    {
      "cell_type": "code",
      "metadata": {
        "id": "ySDNgB8YZkje",
        "colab_type": "code",
        "colab": {
          "base_uri": "https://localhost:8080/",
          "height": 182
        },
        "outputId": "fd397080-7dae-42c2-99cf-595640b89682"
      },
      "source": [
        "cadena = 'Erick'\n",
        "cadena[0] = 'e'"
      ],
      "execution_count": 61,
      "outputs": [
        {
          "output_type": "error",
          "ename": "TypeError",
          "evalue": "ignored",
          "traceback": [
            "\u001b[0;31m---------------------------------------------------------------------------\u001b[0m",
            "\u001b[0;31mTypeError\u001b[0m                                 Traceback (most recent call last)",
            "\u001b[0;32m<ipython-input-61-80e529171538>\u001b[0m in \u001b[0;36m<module>\u001b[0;34m()\u001b[0m\n\u001b[1;32m      1\u001b[0m \u001b[0mcadena\u001b[0m \u001b[0;34m=\u001b[0m \u001b[0;34m'Erick'\u001b[0m\u001b[0;34m\u001b[0m\u001b[0;34m\u001b[0m\u001b[0m\n\u001b[0;32m----> 2\u001b[0;31m \u001b[0mcadena\u001b[0m\u001b[0;34m[\u001b[0m\u001b[0;36m0\u001b[0m\u001b[0;34m]\u001b[0m \u001b[0;34m=\u001b[0m \u001b[0;34m'e'\u001b[0m\u001b[0;34m\u001b[0m\u001b[0;34m\u001b[0m\u001b[0m\n\u001b[0m",
            "\u001b[0;31mTypeError\u001b[0m: 'str' object does not support item assignment"
          ]
        }
      ]
    },
    {
      "cell_type": "code",
      "metadata": {
        "id": "oIxtwXs7ZsgB",
        "colab_type": "code",
        "colab": {
          "base_uri": "https://localhost:8080/",
          "height": 34
        },
        "outputId": "0de8a9bd-167e-4d2a-b8bd-c8b24f0efc39"
      },
      "source": [
        "cadena = 'Erick'\n",
        "cadena = 'e' + cadena[1:]\n",
        "print(cadena)"
      ],
      "execution_count": 62,
      "outputs": [
        {
          "output_type": "stream",
          "text": [
            "erick\n"
          ],
          "name": "stdout"
        }
      ]
    },
    {
      "cell_type": "code",
      "metadata": {
        "id": "mmxRLTv4XLHv",
        "colab_type": "code",
        "colab": {
          "base_uri": "https://localhost:8080/",
          "height": 51
        },
        "outputId": "7821399d-88d4-46a7-a4c2-95d1044bca30"
      },
      "source": [
        "cadena = 'ERick'\n",
        "letra = 'r'\n",
        "\n",
        "if letra not in cadena:\n",
        "    print('La letra no existe')\n",
        "else:\n",
        "    cadena = cadena.replace('r', 'R')\n",
        "\n",
        "print(cadena)"
      ],
      "execution_count": 54,
      "outputs": [
        {
          "output_type": "stream",
          "text": [
            "La letra no existe\n",
            "ERick\n"
          ],
          "name": "stdout"
        }
      ]
    },
    {
      "cell_type": "code",
      "metadata": {
        "id": "Q6JFp7FmYevZ",
        "colab_type": "code",
        "colab": {}
      },
      "source": [
        "def obtenerPosicion(cadena, caracter):\n",
        "    cadena = cadena.lower()\n",
        "    caracter = caracter.lower()\n",
        "\n",
        "    if caracter not in cadena:\n",
        "        return []\n",
        "    else:\n",
        "        posiciones = []\n",
        "\n",
        "        for i in range(len(cadena)):\n",
        "            if cadena[i] == caracter:\n",
        "                posiciones.append(i)\n",
        "        \n",
        "        return posiciones"
      ],
      "execution_count": 0,
      "outputs": []
    },
    {
      "cell_type": "code",
      "metadata": {
        "id": "uBZQtEcFY-rg",
        "colab_type": "code",
        "colab": {
          "base_uri": "https://localhost:8080/",
          "height": 34
        },
        "outputId": "cd86f3e1-43e5-4218-bef1-3e5d20b36866"
      },
      "source": [
        "obtenerPosicion('skdfjghslSSSdfkksdkfhgs', 's')"
      ],
      "execution_count": 59,
      "outputs": [
        {
          "output_type": "execute_result",
          "data": {
            "text/plain": [
              "[0, 7, 9, 10, 11, 16, 22]"
            ]
          },
          "metadata": {
            "tags": []
          },
          "execution_count": 59
        }
      ]
    },
    {
      "cell_type": "code",
      "metadata": {
        "id": "ZJkvEDajZOTR",
        "colab_type": "code",
        "colab": {}
      },
      "source": [
        "def obtenerPosicionPila(cadena, caracter):\n",
        "    if caracter not in cadena:\n",
        "        return []\n",
        "    else:\n",
        "        return obtenerPosicionPilaAux(cadena.lower(), caracter.lower(), 0)\n",
        "\n",
        "def obtenerPosicionPilaAux(cadena, caracter, i):\n",
        "    if i == len(cadena):\n",
        "        return []\n",
        "    else:\n",
        "        if cadena[i] == caracter:\n",
        "            return [i] + obtenerPosicionPilaAux(cadena, caracter, i + 1)\n",
        "        else:\n",
        "            return obtenerPosicionPilaAux(cadena, caracter, i + 1)"
      ],
      "execution_count": 0,
      "outputs": []
    },
    {
      "cell_type": "code",
      "metadata": {
        "id": "UNIAWu21aPvs",
        "colab_type": "code",
        "colab": {
          "base_uri": "https://localhost:8080/",
          "height": 34
        },
        "outputId": "9e6c4a07-9400-4edf-87eb-ed50b4c6c4da"
      },
      "source": [
        "obtenerPosicionPila('skdfjghslSSSdfkksdkfhgs', 's')"
      ],
      "execution_count": 76,
      "outputs": [
        {
          "output_type": "execute_result",
          "data": {
            "text/plain": [
              "[0, 7, 9, 10, 11, 16, 22]"
            ]
          },
          "metadata": {
            "tags": []
          },
          "execution_count": 76
        }
      ]
    },
    {
      "cell_type": "code",
      "metadata": {
        "id": "lWaeY22Sbzxo",
        "colab_type": "code",
        "colab": {}
      },
      "source": [
        "def obtenerPosicionCola(cadena, caracter):\n",
        "    if caracter not in cadena:\n",
        "        return []\n",
        "    else:\n",
        "        return obtenerPosicionColaAux(cadena.lower(), caracter.lower(), 0, [])\n",
        "\n",
        "def obtenerPosicionColaAux(cadena, caracter, i, posiciones):\n",
        "    if i == len(cadena):\n",
        "        return posiciones\n",
        "    else:\n",
        "        if cadena[i] == caracter:\n",
        "            return obtenerPosicionColaAux(cadena, caracter, i + 1, posiciones + [i])\n",
        "        else:\n",
        "            return obtenerPosicionColaAux(cadena, caracter, i + 1, posiciones)"
      ],
      "execution_count": 0,
      "outputs": []
    },
    {
      "cell_type": "code",
      "metadata": {
        "id": "CPMjpNs2cPHI",
        "colab_type": "code",
        "colab": {
          "base_uri": "https://localhost:8080/",
          "height": 34
        },
        "outputId": "92259bb2-21e4-4a06-9aea-d1c8b92cf3d8"
      },
      "source": [
        "print(obtenerPosicionCola('skdfjghslSSSdfkksdkfhgs', 's'))"
      ],
      "execution_count": 82,
      "outputs": [
        {
          "output_type": "execute_result",
          "data": {
            "text/plain": [
              "[0, 7, 9, 10, 11, 16, 22]"
            ]
          },
          "metadata": {
            "tags": []
          },
          "execution_count": 82
        }
      ]
    },
    {
      "cell_type": "code",
      "metadata": {
        "id": "DE6Zti26d1ik",
        "colab_type": "code",
        "colab": {}
      },
      "source": [
        "def eliminarCaracter(cadena, caracter, n):\n",
        "    if caracter not in cadena:\n",
        "        return cadena\n",
        "    else:\n",
        "        return eliminarCaracterAux(cadena, caracter, n, '')\n",
        "\n",
        "def eliminarCaracterAux(cadena, caracter, n, resultado):\n",
        "    if cadena == '' or n == 0:\n",
        "        return resultado + cadena\n",
        "    else:\n",
        "        if cadena[0].lower() == caracter.lower():\n",
        "            return eliminarCaracterAux(cadena[1:], caracter, n - 1, resultado)\n",
        "        else:\n",
        "            return eliminarCaracterAux(cadena[1:], caracter, n, resultado + cadena[0])"
      ],
      "execution_count": 0,
      "outputs": []
    },
    {
      "cell_type": "code",
      "metadata": {
        "id": "ef3sjiqWeTvf",
        "colab_type": "code",
        "colab": {
          "base_uri": "https://localhost:8080/",
          "height": 34
        },
        "outputId": "6e78cf44-8fa7-45dd-aa1f-ee89f9175938"
      },
      "source": [
        "print(eliminarCaracter('skdfjghslSSSdfkksdkfhgs', 's', 10))"
      ],
      "execution_count": 109,
      "outputs": [
        {
          "output_type": "stream",
          "text": [
            "kdfjghldfkkdkfhg\n"
          ],
          "name": "stdout"
        }
      ]
    },
    {
      "cell_type": "markdown",
      "metadata": {
        "id": "SGBX0rYqlkBM",
        "colab_type": "text"
      },
      "source": [
        "# Archivos\n",
        "```python\n",
        "archivo = open(nombre_archivo, modo)\n",
        "```\n",
        "\n",
        "## Modo:\n",
        "* r (read)   - Leer\n",
        "* w (write)  - Sobre escribir\n",
        "* a (append) - Leer y escribir agregando nuevo texto\n",
        "* b (bytes)  - Hacer una operación en bytes\n",
        "\n",
        "### Ejemplos\n",
        "* rb - Leer en bytes\n",
        "* wb - Escribir en bytes\n",
        "* ab - Agregar en bytes"
      ]
    },
    {
      "cell_type": "code",
      "metadata": {
        "id": "Q0VLnnQQllp8",
        "colab_type": "code",
        "colab": {
          "base_uri": "https://localhost:8080/",
          "height": 34
        },
        "outputId": "bc87d036-2d61-433b-fe2f-76d9a5047735"
      },
      "source": [
        "archivo = open('notas.txt', 'r')\n",
        "# Contenido del archivo como un texto\n",
        "contenido = archivo.read()\n",
        "archivo.close()\n",
        "\n",
        "print(contenido)"
      ],
      "execution_count": 129,
      "outputs": [
        {
          "output_type": "stream",
          "text": [
            "23 25 70 90 100\n"
          ],
          "name": "stdout"
        }
      ]
    },
    {
      "cell_type": "code",
      "metadata": {
        "id": "amDpZmTEo3o-",
        "colab_type": "code",
        "colab": {
          "base_uri": "https://localhost:8080/",
          "height": 34
        },
        "outputId": "0a5aaa2a-b62d-4636-d233-5f23780b4733"
      },
      "source": [
        "archivo = open('ej.txt', 'r')\n",
        "# Contenido del archivo como un texto\n",
        "contenido = archivo.readlines()\n",
        "archivo.close()\n",
        "\n",
        "print(contenido)"
      ],
      "execution_count": 131,
      "outputs": [
        {
          "output_type": "stream",
          "text": [
            "['Hola\\n', 'Adios\\n', 'Saludos']\n"
          ],
          "name": "stdout"
        }
      ]
    },
    {
      "cell_type": "code",
      "metadata": {
        "id": "7UMkA54spCaI",
        "colab_type": "code",
        "colab": {
          "base_uri": "https://localhost:8080/",
          "height": 34
        },
        "outputId": "7f3ef079-4a53-4176-8bae-14a92a3a3a19"
      },
      "source": [
        "archivo = open('ej.txt', 'r')\n",
        "# Contenido del archivo como un texto\n",
        "contenido = archivo.read()\n",
        "archivo.close()\n",
        "\n",
        "lineas = contenido.split('\\n')\n",
        "print(lineas)"
      ],
      "execution_count": 132,
      "outputs": [
        {
          "output_type": "stream",
          "text": [
            "['Hola', 'Adios', 'Saludos']\n"
          ],
          "name": "stdout"
        }
      ]
    },
    {
      "cell_type": "code",
      "metadata": {
        "id": "d-zDpkCVm26Z",
        "colab_type": "code",
        "colab": {}
      },
      "source": [
        "archivo = open('sample_data/README.txt', 'w')\n",
        "archivo.write('Hoy por la mañana...\\n')\n",
        "archivo.close()"
      ],
      "execution_count": 0,
      "outputs": []
    },
    {
      "cell_type": "code",
      "metadata": {
        "id": "6bqHwbO7n9X2",
        "colab_type": "code",
        "colab": {}
      },
      "source": [
        "archivo = open('sample_data/README.txt', 'a')\n",
        "archivo.write('Me levanté muy cansado...')\n",
        "archivo.close()"
      ],
      "execution_count": 0,
      "outputs": []
    },
    {
      "cell_type": "code",
      "metadata": {
        "id": "UdL8J1w5oeDC",
        "colab_type": "code",
        "colab": {}
      },
      "source": [
        "contenido = ['Hola\\n', 'Adios\\n', 'Saludos']\n",
        "\n",
        "archivo = open('ej.txt', 'w')\n",
        "archivo.writelines(contenido)\n",
        "archivo.close()"
      ],
      "execution_count": 0,
      "outputs": []
    },
    {
      "cell_type": "code",
      "metadata": {
        "id": "mHaQgjSkpSIM",
        "colab_type": "code",
        "colab": {
          "base_uri": "https://localhost:8080/",
          "height": 102
        },
        "outputId": "d8b206af-058d-47fc-fdc6-d9d5e397beb1"
      },
      "source": [
        "palabras = []\n",
        "\n",
        "cantidad = int(input('Digite la cantidad de palabras a ingresar: '))\n",
        "\n",
        "for i in range(cantidad):\n",
        "    palabra = input('Ingrese una palabra: ')\n",
        "    palabras.append(palabra + '\\n')\n",
        "\n",
        "nombre = input('Ingrese el nombre del archivo donde guardar las palabras: ')\n",
        "\n",
        "archivo = open(nombre, 'w')\n",
        "archivo.writelines(palabras)\n",
        "archivo.close()"
      ],
      "execution_count": 134,
      "outputs": [
        {
          "output_type": "stream",
          "text": [
            "Digite la cantidad de palabras a ingresar: 3\n",
            "Ingrese una palabra: Manzanas\n",
            "Ingrese una palabra: Peras\n",
            "Ingrese una palabra: Uvas\n",
            "Ingrese el nombre del archivo donde guardar las palabras: palabras.txt\n"
          ],
          "name": "stdout"
        }
      ]
    },
    {
      "cell_type": "code",
      "metadata": {
        "id": "aAKIulJtqJM7",
        "colab_type": "code",
        "colab": {
          "base_uri": "https://localhost:8080/",
          "height": 153
        },
        "outputId": "bb89ae9d-9759-43ca-9fe4-d5472cc5ce01"
      },
      "source": [
        "palabras = []\n",
        "\n",
        "cantidad = int(input('Digite la cantidad de palabras a ingresar: '))\n",
        "\n",
        "for i in range(cantidad):\n",
        "    palabra = input('Ingrese una palabra: ')\n",
        "    palabras.append(palabra)\n",
        "\n",
        "nombre = input('Ingrese el nombre del archivo donde guardar las palabras: ')\n",
        "\n",
        "contenido = '\\n'.join(palabras)\n",
        "print(contenido)\n",
        "\n",
        "archivo = open(nombre, 'w')\n",
        "archivo.write(contenido)\n",
        "archivo.close()"
      ],
      "execution_count": 136,
      "outputs": [
        {
          "output_type": "stream",
          "text": [
            "Digite la cantidad de palabras a ingresar: 3\n",
            "Ingrese una palabra: Hola\n",
            "Ingrese una palabra: Adios\n",
            "Ingrese una palabra: Saludos\n",
            "Ingrese el nombre del archivo donde guardar las palabras: palabras.txt\n",
            "Hola\n",
            "Adios\n",
            "Saludos\n"
          ],
          "name": "stdout"
        }
      ]
    },
    {
      "cell_type": "code",
      "metadata": {
        "id": "8ug7r8yKqpL8",
        "colab_type": "code",
        "colab": {}
      },
      "source": [
        "def leerArchivo(nombre):\n",
        "    archivo = open(nombre, 'r')\n",
        "    contenido = archivo.read()\n",
        "    archivo.close()\n",
        "    \n",
        "    return contenido"
      ],
      "execution_count": 0,
      "outputs": []
    },
    {
      "cell_type": "code",
      "metadata": {
        "id": "RWAlf0t7rzq0",
        "colab_type": "code",
        "colab": {}
      },
      "source": [
        "def limpiarContenido(contenido):\n",
        "    notas = []\n",
        "    \n",
        "    for nota in contenido.split('\\n'):\n",
        "        nota = nota.split(',')\n",
        "        diccionario = {'Nombre': nota[0], 'Materia': nota[1], 'Nota': float(nota[2])}\n",
        "        notas.append(diccionario)\n",
        "\n",
        "    return notas"
      ],
      "execution_count": 0,
      "outputs": []
    },
    {
      "cell_type": "code",
      "metadata": {
        "id": "4pGSrjnms9b-",
        "colab_type": "code",
        "colab": {}
      },
      "source": [
        "def promedioGeneral(notas):\n",
        "    suma = 0\n",
        "\n",
        "    for nota in notas:\n",
        "        suma += nota['Nota']\n",
        "    \n",
        "    return suma / len(notas)"
      ],
      "execution_count": 0,
      "outputs": []
    },
    {
      "cell_type": "code",
      "metadata": {
        "id": "D195cfpauNTt",
        "colab_type": "code",
        "colab": {}
      },
      "source": [
        "def promedioPorEstudiante(notas):\n",
        "    promedio = {}\n",
        "\n",
        "    for nota in notas:\n",
        "        nombre = nota['Nombre']\n",
        "\n",
        "        if nombre not in promedio:\n",
        "            promedio[nombre] = {'suma': nota['Nota'], 'cantidad': 1}\n",
        "        else:\n",
        "            promedio[nombre]['suma'] += nota['Nota']\n",
        "            promedio[nombre]['cantidad'] += 1\n",
        "    \n",
        "    return promedio"
      ],
      "execution_count": 0,
      "outputs": []
    },
    {
      "cell_type": "code",
      "metadata": {
        "id": "y1mIbbc2wXxI",
        "colab_type": "code",
        "colab": {}
      },
      "source": [
        "def promedioPorMateria(notas):\n",
        "    promedio = {}\n",
        "\n",
        "    for nota in notas:\n",
        "        materia = nota['Materia']\n",
        "\n",
        "        if materia not in promedio:\n",
        "            promedio[materia] = {'suma': nota['Nota'], 'cantidad': 1}\n",
        "        else:\n",
        "            promedio[materia]['suma'] += nota['Nota']\n",
        "            promedio[materia]['cantidad'] += 1\n",
        "    \n",
        "    return promedio"
      ],
      "execution_count": 0,
      "outputs": []
    },
    {
      "cell_type": "code",
      "metadata": {
        "id": "PeUN2WrXrYMK",
        "colab_type": "code",
        "colab": {
          "base_uri": "https://localhost:8080/",
          "height": 224
        },
        "outputId": "25527333-f662-463e-d373-1c4362664ddd"
      },
      "source": [
        "nombre = input('Ingrese el nombre del archivo con las notas: ')\n",
        "\n",
        "contenido = leerArchivo(nombre)\n",
        "\n",
        "notas = limpiarContenido(contenido)\n",
        "\n",
        "promedio = promedioGeneral(notas)\n",
        "promedioEstudiantes = promedioPorEstudiante(notas)\n",
        "promedioMaterias = promedioPorMateria(notas)\n",
        "\n",
        "print(notas)\n",
        "print(f'Promedio General: {promedio}\\n')\n",
        "\n",
        "for estudiante in promedioEstudiantes:\n",
        "    nota = promedioEstudiantes[estudiante]\n",
        "    print(f'Promedio de {estudiante} es: {nota[\"suma\"] / nota[\"cantidad\"]}')\n",
        "\n",
        "print()\n",
        "\n",
        "for materia in promedioMaterias:\n",
        "    nota = promedioMaterias[materia]\n",
        "    print(f'Promedio de {materia} es: {nota[\"suma\"] / nota[\"cantidad\"]}')"
      ],
      "execution_count": 179,
      "outputs": [
        {
          "output_type": "stream",
          "text": [
            "Ingrese el nombre del archivo con las notas: notas.txt\n",
            "[{'Nombre': 'Erick', 'Materia': 'Progra I', 'Nota': 85.0}, {'Nombre': 'Erick', 'Materia': 'Física de Plasmas', 'Nota': 90.0}, {'Nombre': 'Andres', 'Materia': 'Progra I', 'Nota': 70.0}, {'Nombre': 'Andres', 'Materia': 'Física de Plasmas', 'Nota': 50.0}, {'Nombre': 'Maria', 'Materia': 'Progra I', 'Nota': 100.0}, {'Nombre': 'Andres', 'Materia': 'Matematicas', 'Nota': 50.0}]\n",
            "Promedio General: 74.16666666666667\n",
            "\n",
            "Promedio de Erick es: 87.5\n",
            "Promedio de Andres es: 56.666666666666664\n",
            "Promedio de Maria es: 100.0\n",
            "\n",
            "Promedio de Progra I es: 85.0\n",
            "Promedio de Física de Plasmas es: 70.0\n",
            "Promedio de Matematicas es: 50.0\n"
          ],
          "name": "stdout"
        }
      ]
    }
  ]
}
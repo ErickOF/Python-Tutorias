{
  "nbformat": 4,
  "nbformat_minor": 0,
  "metadata": {
    "colab": {
      "name": "01 - Sintaxis básica.ipynb",
      "provenance": []
    },
    "kernelspec": {
      "name": "python3",
      "display_name": "Python 3"
    }
  },
  "cells": [
    {
      "cell_type": "markdown",
      "metadata": {
        "id": "emkMA4eoQiwc",
        "colab_type": "text"
      },
      "source": [
        "# **Identificadores**\n",
        "\n",
        "* Nombre usado para identificar variables, funciones, clases, módulos u otros objetos\n",
        "* Comienzan con una letra de la \"A\" a la \"Z\" (minúscula o mayúscula) o un guión bajo (_) seguido de cero o más letras, guiones bajos y dígitos (del 0 al 9)\n",
        "* No permite caracteres especiales dentro de los identificadores\n",
        "* Es sensible a mayúsculas y minúsculas. *Variable* y *variable* son dos identificadores diferentes\n"
      ]
    },
    {
      "cell_type": "markdown",
      "metadata": {
        "id": "KIMW-qE4Q8Tj",
        "colab_type": "text"
      },
      "source": [
        "### **Uso incorrecto**"
      ]
    },
    {
      "cell_type": "code",
      "metadata": {
        "id": "P2QFzezfQ63g",
        "colab_type": "code",
        "outputId": "55dc020b-edc6-4511-bbff-8ab4a4e79a7f",
        "colab": {
          "base_uri": "https://localhost:8080/",
          "height": 34
        }
      },
      "source": [
        "%numero"
      ],
      "execution_count": 0,
      "outputs": [
        {
          "output_type": "stream",
          "text": [
            "UsageError: Line magic function `%numero` not found.\n"
          ],
          "name": "stderr"
        }
      ]
    },
    {
      "cell_type": "code",
      "metadata": {
        "id": "FaenQsCCQL3p",
        "colab_type": "code",
        "outputId": "2f8fd66c-fe1c-4519-ce30-22e13af4c0cc",
        "colab": {
          "base_uri": "https://localhost:8080/",
          "height": 131
        }
      },
      "source": [
        "@letra"
      ],
      "execution_count": 0,
      "outputs": [
        {
          "output_type": "error",
          "ename": "SyntaxError",
          "evalue": "ignored",
          "traceback": [
            "\u001b[0;36m  File \u001b[0;32m\"<ipython-input-2-87349090566c>\"\u001b[0;36m, line \u001b[0;32m1\u001b[0m\n\u001b[0;31m    @letra\u001b[0m\n\u001b[0m          ^\u001b[0m\n\u001b[0;31mSyntaxError\u001b[0m\u001b[0;31m:\u001b[0m unexpected EOF while parsing\n"
          ]
        }
      ]
    },
    {
      "cell_type": "code",
      "metadata": {
        "id": "uKhP0m9GQiQN",
        "colab_type": "code",
        "outputId": "1a25f350-d150-4f16-b046-c7fc076c128e",
        "colab": {
          "base_uri": "https://localhost:8080/",
          "height": 131
        }
      },
      "source": [
        "$variable"
      ],
      "execution_count": 0,
      "outputs": [
        {
          "output_type": "error",
          "ename": "SyntaxError",
          "evalue": "ignored",
          "traceback": [
            "\u001b[0;36m  File \u001b[0;32m\"<ipython-input-2-45ba6712564f>\"\u001b[0;36m, line \u001b[0;32m1\u001b[0m\n\u001b[0;31m    $variable\u001b[0m\n\u001b[0m    ^\u001b[0m\n\u001b[0;31mSyntaxError\u001b[0m\u001b[0;31m:\u001b[0m invalid syntax\n"
          ]
        }
      ]
    },
    {
      "cell_type": "code",
      "metadata": {
        "id": "ymN-gg5gRMDC",
        "colab_type": "code",
        "outputId": "f136a430-2bca-44f4-8059-02e95dae66c6",
        "colab": {
          "base_uri": "https://localhost:8080/",
          "height": 131
        }
      },
      "source": [
        "2_variable"
      ],
      "execution_count": 0,
      "outputs": [
        {
          "output_type": "error",
          "ename": "SyntaxError",
          "evalue": "ignored",
          "traceback": [
            "\u001b[0;36m  File \u001b[0;32m\"<ipython-input-2-b33bbf24f892>\"\u001b[0;36m, line \u001b[0;32m1\u001b[0m\n\u001b[0;31m    2_variable\u001b[0m\n\u001b[0m     ^\u001b[0m\n\u001b[0;31mSyntaxError\u001b[0m\u001b[0;31m:\u001b[0m invalid token\n"
          ]
        }
      ]
    },
    {
      "cell_type": "markdown",
      "metadata": {
        "id": "rl32Oc--RZXt",
        "colab_type": "text"
      },
      "source": [
        "### **Uso correcto**"
      ]
    },
    {
      "cell_type": "code",
      "metadata": {
        "id": "rZBhmGrHRYKQ",
        "colab_type": "code",
        "colab": {}
      },
      "source": [
        "numero: int"
      ],
      "execution_count": 0,
      "outputs": []
    },
    {
      "cell_type": "code",
      "metadata": {
        "id": "zjispgR2RjKO",
        "colab_type": "code",
        "colab": {}
      },
      "source": [
        "numero2: float"
      ],
      "execution_count": 0,
      "outputs": []
    },
    {
      "cell_type": "code",
      "metadata": {
        "id": "KrAyHj6ERnu_",
        "colab_type": "code",
        "colab": {}
      },
      "source": [
        "_letra: str"
      ],
      "execution_count": 0,
      "outputs": []
    },
    {
      "cell_type": "code",
      "metadata": {
        "id": "UIM5apHZRq7v",
        "colab_type": "code",
        "colab": {}
      },
      "source": [
        "numeroDeHijos: int"
      ],
      "execution_count": 0,
      "outputs": []
    },
    {
      "cell_type": "code",
      "metadata": {
        "id": "grrrrRsHRuxb",
        "colab_type": "code",
        "colab": {}
      },
      "source": [
        "numero_de_primos: int"
      ],
      "execution_count": 0,
      "outputs": []
    },
    {
      "cell_type": "markdown",
      "metadata": {
        "id": "Wh8izNIPR8Cx",
        "colab_type": "text"
      },
      "source": [
        "# **Convenciones de nombres para identificadores**\n",
        "\n",
        "* Los nombres de clases comienzan con una letra mayúscula\n",
        "* Todos los demás identificadores comienzan con una letra minúscula\n",
        "* Iniciar un identificador con un solo guión bajo indica que el identificador es privado\n",
        "* Iniciar un identificador con dos guiones bajos indica un fuerte identificador privado\n"
      ]
    },
    {
      "cell_type": "markdown",
      "metadata": {
        "id": "iG5B6zHnSOsU",
        "colab_type": "text"
      },
      "source": [
        "# **Palabras reservadas**\n",
        "* Palabras reservadas y no pueden usarse como constantes o variables ni como nombre de identificador. Solo contienen letras minúsculas\n",
        "\n",
        "![texto alternativo](http://www.computingnerds.com/pictures/reserved.jpg)"
      ]
    },
    {
      "cell_type": "markdown",
      "metadata": {
        "id": "I_X4QasaTzbp",
        "colab_type": "text"
      },
      "source": [
        "# **Líneas e indentación**\n",
        "* Python no usa llaves ({}) para indicar bloques de código, para definiciones de clases y funciones o control de flujo\n",
        "* Bloques de código se denotan por indentación de línea, que se aplica estrictamente\n",
        "* El número de espacios en la indentación es variable, pero todas las declaraciones dentro del bloque deben indentarse en la misma cantidad"
      ]
    },
    {
      "cell_type": "code",
      "metadata": {
        "id": "QBYV-nL_UBD6",
        "colab_type": "code",
        "outputId": "77cd49f5-1fe2-4f7e-9c08-b9d69eac7116",
        "colab": {
          "base_uri": "https://localhost:8080/",
          "height": 34
        }
      },
      "source": [
        "var = 50\n",
        "\n",
        "if var < 100:\n",
        "    print('Menor que 100')\n",
        "else:\n",
        "    print('Mayor que 100')"
      ],
      "execution_count": 0,
      "outputs": [
        {
          "output_type": "stream",
          "text": [
            "Menor que 100\n"
          ],
          "name": "stdout"
        }
      ]
    },
    {
      "cell_type": "markdown",
      "metadata": {
        "id": "xmGSCf5yUSTP",
        "colab_type": "text"
      },
      "source": [
        "# **Declaraciones en múltiples líneas**\n",
        "* Las declaraciones terminan con una nueva línea\n",
        "* Python, permite el uso del carácter de continuación de línea (\\) para indicar que la línea debe continuar"
      ]
    },
    {
      "cell_type": "code",
      "metadata": {
        "id": "gDLww-TgUY-b",
        "colab_type": "code",
        "colab": {}
      },
      "source": [
        "total = item1 + \\\n",
        "        item2 + \\\n",
        "        item3"
      ],
      "execution_count": 0,
      "outputs": []
    },
    {
      "cell_type": "code",
      "metadata": {
        "id": "pFuWdxqNUinS",
        "colab_type": "code",
        "outputId": "f70e7261-3328-463c-8fc9-2d1bf6a0357a",
        "colab": {
          "base_uri": "https://localhost:8080/",
          "height": 34
        }
      },
      "source": [
        "total = 1 + \\\n",
        "        2 + \\\n",
        "        3\n",
        "total"
      ],
      "execution_count": 0,
      "outputs": [
        {
          "output_type": "execute_result",
          "data": {
            "text/plain": [
              "6"
            ]
          },
          "metadata": {
            "tags": []
          },
          "execution_count": 10
        }
      ]
    },
    {
      "cell_type": "markdown",
      "metadata": {
        "id": "70Rc1PV1U39s",
        "colab_type": "text"
      },
      "source": [
        "* Las instrucciones contenidas dentro de los corchetes [], {} o () no necesitan usar el carácter de continuación de línea\n",
        "* Si contienen muchos elementos podría separarse para una mejor lectura"
      ]
    },
    {
      "cell_type": "code",
      "metadata": {
        "id": "b8Oq8S42U5Aw",
        "colab_type": "code",
        "colab": {}
      },
      "source": [
        "dias = ['Lunes', 'Martes', 'Miercoles', 'Jueves', 'Viernes', 'Sabado', 'Domingo']"
      ],
      "execution_count": 0,
      "outputs": []
    },
    {
      "cell_type": "code",
      "metadata": {
        "id": "JyRGmmGEW4N0",
        "colab_type": "code",
        "colab": {}
      },
      "source": [
        "numeros = [[1, 2, 3],\n",
        "           [4, 5, 6],\n",
        "           [7, 8, 9]]"
      ],
      "execution_count": 0,
      "outputs": []
    },
    {
      "cell_type": "markdown",
      "metadata": {
        "id": "2WoNFeZ-XDWu",
        "colab_type": "text"
      },
      "source": [
        "# **Uso de las comillas**\n",
        "* Se aceptan comillas simples ('), dobles (\") y triples (''' o \"\"\") para denotar cadenas de texto\n",
        "* Siempre el mismo tipo de comillas comienza y finaliza la cadena\n",
        "* Las comillas triples se utilizan para abarcar la cadena en múltiples líneas"
      ]
    },
    {
      "cell_type": "code",
      "metadata": {
        "id": "gyFWhWbTXKpP",
        "colab_type": "code",
        "colab": {}
      },
      "source": [
        "palabra = 'palabra'"
      ],
      "execution_count": 0,
      "outputs": []
    },
    {
      "cell_type": "code",
      "metadata": {
        "id": "93UcKTvfXOZm",
        "colab_type": "code",
        "colab": {}
      },
      "source": [
        "oracion = \"Esto es una oracion\""
      ],
      "execution_count": 0,
      "outputs": []
    },
    {
      "cell_type": "code",
      "metadata": {
        "id": "7BWof9_kXVCb",
        "colab_type": "code",
        "colab": {}
      },
      "source": [
        "parrafo = \"\"\"Esto es un parrafo.\n",
        "Esta hecho con mutiples oraciones.\"\"\""
      ],
      "execution_count": 0,
      "outputs": []
    },
    {
      "cell_type": "markdown",
      "metadata": {
        "id": "c3DvGH_NXlRq",
        "colab_type": "text"
      },
      "source": [
        "# **Comentarios**\n",
        "* Un signo de hash (#), que no esté dentro de comillas, es el comienzo de un comentario\n",
        "* Todos los caracteres después del #, hasta el final de la línea física, son parte del comentario y el intérprete de Python los ignora"
      ]
    },
    {
      "cell_type": "code",
      "metadata": {
        "id": "_hoVCQGJXryE",
        "colab_type": "code",
        "outputId": "f082dcb9-e740-449e-9b16-d439fcc6df9f",
        "colab": {
          "base_uri": "https://localhost:8080/",
          "height": 34
        }
      },
      "source": [
        "# Esto es un comentario\n",
        "variable = 20 # Esto tambien es un comentario\n",
        "\"\"\"\n",
        "Esto es un comentario multilinea\n",
        "Puede escribir en distintas lineas\n",
        "Sin que marque error\n",
        "\"\"\""
      ],
      "execution_count": 0,
      "outputs": [
        {
          "output_type": "execute_result",
          "data": {
            "text/plain": [
              "'\\nEsto es un comentario multilinea\\nPuede escribir en distintas lineas\\nSin que marque error\\n'"
            ]
          },
          "metadata": {
            "tags": []
          },
          "execution_count": 16
        }
      ]
    }
  ]
}
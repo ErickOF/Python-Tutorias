{
  "nbformat": 4,
  "nbformat_minor": 0,
  "metadata": {
    "colab": {
      "name": "02 - Tipos de Datos.ipynb",
      "provenance": []
    },
    "kernelspec": {
      "name": "python3",
      "display_name": "Python 3"
    }
  },
  "cells": [
    {
      "cell_type": "markdown",
      "metadata": {
        "id": "CKX3QAX2SNKr",
        "colab_type": "text"
      },
      "source": [
        "# **Tipos de Datos**"
      ]
    },
    {
      "cell_type": "markdown",
      "metadata": {
        "id": "0aq7JcUBSUV5",
        "colab_type": "text"
      },
      "source": [
        "* Ubicaciones de memoria reservadas para almacenar valores\n",
        "* Cuando se crea una variable se reserva espacio en la memoria\n",
        "* Según tipo de dato de la variable, el intérprete asigna memoria y decide qué se puede almacenar en la memoria reservada\n",
        "* Al asignar diferentes tipos de datos a las variables, puede almacenar enteros, decimales o caracteres en estas"
      ]
    },
    {
      "cell_type": "code",
      "metadata": {
        "id": "LcYi-JmwR9Gu",
        "colab_type": "code",
        "colab": {}
      },
      "source": [
        "contador = 100\n",
        "kilometros = 1000\n",
        "nombre = 'John'"
      ],
      "execution_count": 0,
      "outputs": []
    },
    {
      "cell_type": "markdown",
      "metadata": {
        "id": "7DRuWbHaSmDN",
        "colab_type": "text"
      },
      "source": [
        "# **Asignación múltiple**"
      ]
    },
    {
      "cell_type": "markdown",
      "metadata": {
        "id": "ujVtm1pgStf8",
        "colab_type": "text"
      },
      "source": [
        "* Permite asignar un solo valor a distintas variables simultáneamente"
      ]
    },
    {
      "cell_type": "code",
      "metadata": {
        "id": "ZB9Num5nSqFD",
        "colab_type": "code",
        "colab": {}
      },
      "source": [
        "a = b = c = 1"
      ],
      "execution_count": 0,
      "outputs": []
    },
    {
      "cell_type": "markdown",
      "metadata": {
        "id": "HyDMbB5tSxN5",
        "colab_type": "text"
      },
      "source": [
        "* Se puede asignar múltiples objetos a múltiples variables"
      ]
    },
    {
      "cell_type": "code",
      "metadata": {
        "id": "ooY9ctn4S1KT",
        "colab_type": "code",
        "colab": {}
      },
      "source": [
        "a, b, c = 1, 2, 'John'"
      ],
      "execution_count": 0,
      "outputs": []
    },
    {
      "cell_type": "markdown",
      "metadata": {
        "id": "PGYVeR3LS_7G",
        "colab_type": "text"
      },
      "source": [
        "# **Tipos de datos estándar**\n",
        "* Datos almacenados en la memoria pueden ser de muchos tipos\n",
        "* Se utilizan para definir las operaciones posibles en ellos y el método de almacenamiento\n",
        "* Tiene cinco tipos de datos estándar:\n",
        "    * Números\n",
        "    * Cadenas\n",
        "    * Lista\n",
        "    * Tuplas\n",
        "    * Diccionario"
      ]
    },
    {
      "cell_type": "markdown",
      "metadata": {
        "id": "DcXTJtIkTaFu",
        "colab_type": "text"
      },
      "source": [
        "# **Números en Python**\n",
        "* Almacenan valores numéricos\n",
        "* Objetos numéricos se crean cuando les asigna un valor\n",
        "* Se puede eliminar la referencia a un objeto numérico utilizando la instrucción \"del\".\n",
        "* Se puede eliminar uno o varios objetos utilizando la instrucción “del”\n"
      ]
    },
    {
      "cell_type": "code",
      "metadata": {
        "id": "OvydW0qaTOkQ",
        "colab_type": "code",
        "colab": {}
      },
      "source": [
        "var1 = 1\n",
        "var2 = 10"
      ],
      "execution_count": 0,
      "outputs": []
    },
    {
      "cell_type": "code",
      "metadata": {
        "id": "vmGSrj8GUCI3",
        "colab_type": "code",
        "outputId": "6dcbde2d-6365-4a97-c836-912dc6442ead",
        "colab": {
          "base_uri": "https://localhost:8080/",
          "height": 34
        }
      },
      "source": [
        "var1"
      ],
      "execution_count": 0,
      "outputs": [
        {
          "output_type": "execute_result",
          "data": {
            "text/plain": [
              "1"
            ]
          },
          "metadata": {
            "tags": []
          },
          "execution_count": 8
        }
      ]
    },
    {
      "cell_type": "code",
      "metadata": {
        "id": "mY1rkKkeUFCM",
        "colab_type": "code",
        "outputId": "a6b001a2-eb11-4778-f821-0033a98ad96a",
        "colab": {
          "base_uri": "https://localhost:8080/",
          "height": 34
        }
      },
      "source": [
        "var2"
      ],
      "execution_count": 0,
      "outputs": [
        {
          "output_type": "execute_result",
          "data": {
            "text/plain": [
              "10"
            ]
          },
          "metadata": {
            "tags": []
          },
          "execution_count": 9
        }
      ]
    },
    {
      "cell_type": "code",
      "metadata": {
        "id": "OF-GjYcYTvo_",
        "colab_type": "code",
        "colab": {}
      },
      "source": [
        "var_a = 1\n",
        "var_b = 2"
      ],
      "execution_count": 0,
      "outputs": []
    },
    {
      "cell_type": "code",
      "metadata": {
        "id": "2BaIKAd5T53O",
        "colab_type": "code",
        "outputId": "c3ad7f72-ce99-419f-f760-d896fdabf13c",
        "colab": {
          "base_uri": "https://localhost:8080/",
          "height": 34
        }
      },
      "source": [
        "var_a"
      ],
      "execution_count": 0,
      "outputs": [
        {
          "output_type": "execute_result",
          "data": {
            "text/plain": [
              "1"
            ]
          },
          "metadata": {
            "tags": []
          },
          "execution_count": 6
        }
      ]
    },
    {
      "cell_type": "code",
      "metadata": {
        "id": "HLcqzBe2T-aB",
        "colab_type": "code",
        "outputId": "9912e9c2-35a1-4d52-abd2-647a1cc5f499",
        "colab": {
          "base_uri": "https://localhost:8080/",
          "height": 34
        }
      },
      "source": [
        "var_b"
      ],
      "execution_count": 0,
      "outputs": [
        {
          "output_type": "execute_result",
          "data": {
            "text/plain": [
              "2"
            ]
          },
          "metadata": {
            "tags": []
          },
          "execution_count": 7
        }
      ]
    },
    {
      "cell_type": "code",
      "metadata": {
        "id": "pQnrqrw7USal",
        "colab_type": "code",
        "colab": {}
      },
      "source": [
        "del var1\n",
        "del var2"
      ],
      "execution_count": 0,
      "outputs": []
    },
    {
      "cell_type": "code",
      "metadata": {
        "id": "eRaMtLG3UVIa",
        "colab_type": "code",
        "outputId": "af34cdfc-fd2f-44c3-bf83-b6c5e36edad6",
        "colab": {
          "base_uri": "https://localhost:8080/",
          "height": 165
        }
      },
      "source": [
        "var1"
      ],
      "execution_count": 0,
      "outputs": [
        {
          "output_type": "error",
          "ename": "NameError",
          "evalue": "ignored",
          "traceback": [
            "\u001b[0;31m---------------------------------------------------------------------------\u001b[0m",
            "\u001b[0;31mNameError\u001b[0m                                 Traceback (most recent call last)",
            "\u001b[0;32m<ipython-input-11-1b1d3752adce>\u001b[0m in \u001b[0;36m<module>\u001b[0;34m()\u001b[0m\n\u001b[0;32m----> 1\u001b[0;31m \u001b[0mvar1\u001b[0m\u001b[0;34m\u001b[0m\u001b[0;34m\u001b[0m\u001b[0m\n\u001b[0m",
            "\u001b[0;31mNameError\u001b[0m: name 'var1' is not defined"
          ]
        }
      ]
    },
    {
      "cell_type": "code",
      "metadata": {
        "id": "rsxb7CPHUxAP",
        "colab_type": "code",
        "outputId": "f90fa9fb-bb9c-4fdf-f4b6-8d4f6c6448fd",
        "colab": {
          "base_uri": "https://localhost:8080/",
          "height": 165
        }
      },
      "source": [
        "var2"
      ],
      "execution_count": 0,
      "outputs": [
        {
          "output_type": "error",
          "ename": "NameError",
          "evalue": "ignored",
          "traceback": [
            "\u001b[0;31m---------------------------------------------------------------------------\u001b[0m",
            "\u001b[0;31mNameError\u001b[0m                                 Traceback (most recent call last)",
            "\u001b[0;32m<ipython-input-12-5395c735b10d>\u001b[0m in \u001b[0;36m<module>\u001b[0;34m()\u001b[0m\n\u001b[0;32m----> 1\u001b[0;31m \u001b[0mvar2\u001b[0m\u001b[0;34m\u001b[0m\u001b[0;34m\u001b[0m\u001b[0m\n\u001b[0m",
            "\u001b[0;31mNameError\u001b[0m: name 'var2' is not defined"
          ]
        }
      ]
    },
    {
      "cell_type": "code",
      "metadata": {
        "id": "RN0Fzq-CU7fK",
        "colab_type": "code",
        "colab": {}
      },
      "source": [
        "del var_a, var_b"
      ],
      "execution_count": 0,
      "outputs": []
    },
    {
      "cell_type": "code",
      "metadata": {
        "id": "LLenaSPCU-JS",
        "colab_type": "code",
        "outputId": "b4bb4899-58bc-460a-abac-16fbafe14a68",
        "colab": {
          "base_uri": "https://localhost:8080/",
          "height": 165
        }
      },
      "source": [
        "var_a"
      ],
      "execution_count": 0,
      "outputs": [
        {
          "output_type": "error",
          "ename": "NameError",
          "evalue": "ignored",
          "traceback": [
            "\u001b[0;31m---------------------------------------------------------------------------\u001b[0m",
            "\u001b[0;31mNameError\u001b[0m                                 Traceback (most recent call last)",
            "\u001b[0;32m<ipython-input-14-10939fc4f8a9>\u001b[0m in \u001b[0;36m<module>\u001b[0;34m()\u001b[0m\n\u001b[0;32m----> 1\u001b[0;31m \u001b[0mvar_a\u001b[0m\u001b[0;34m\u001b[0m\u001b[0;34m\u001b[0m\u001b[0m\n\u001b[0m",
            "\u001b[0;31mNameError\u001b[0m: name 'var_a' is not defined"
          ]
        }
      ]
    },
    {
      "cell_type": "code",
      "metadata": {
        "id": "lLsQC5hAU_OH",
        "colab_type": "code",
        "outputId": "28a11a97-89ab-4aa0-94f6-997e686fb5dc",
        "colab": {
          "base_uri": "https://localhost:8080/",
          "height": 165
        }
      },
      "source": [
        "var_b"
      ],
      "execution_count": 0,
      "outputs": [
        {
          "output_type": "error",
          "ename": "NameError",
          "evalue": "ignored",
          "traceback": [
            "\u001b[0;31m---------------------------------------------------------------------------\u001b[0m",
            "\u001b[0;31mNameError\u001b[0m                                 Traceback (most recent call last)",
            "\u001b[0;32m<ipython-input-15-dddcb144636e>\u001b[0m in \u001b[0;36m<module>\u001b[0;34m()\u001b[0m\n\u001b[0;32m----> 1\u001b[0;31m \u001b[0mvar_b\u001b[0m\u001b[0;34m\u001b[0m\u001b[0;34m\u001b[0m\u001b[0m\n\u001b[0m",
            "\u001b[0;31mNameError\u001b[0m: name 'var_b' is not defined"
          ]
        }
      ]
    },
    {
      "cell_type": "markdown",
      "metadata": {
        "id": "8bk1RGAmWTrr",
        "colab_type": "text"
      },
      "source": [
        "* Tres tipos numéricos diferentes:\n",
        "    * *int* (enteros con signo)\n",
        "    * *float* (valores reales de coma flotante)\n",
        "    * *complex* (números complejos)\n",
        "* Todos los enteros se representan como enteros largos.\n",
        "* Número complejo consiste en par ordenado de números reales denotados por $x + yj$ ($x$, $y$ números reales, $j$ unidad imaginaria)"
      ]
    },
    {
      "cell_type": "code",
      "metadata": {
        "id": "Qg2mdHMuW00t",
        "colab_type": "code",
        "colab": {}
      },
      "source": [
        "numero: int"
      ],
      "execution_count": 0,
      "outputs": []
    },
    {
      "cell_type": "code",
      "metadata": {
        "id": "TvQ3GwZEW3jo",
        "colab_type": "code",
        "outputId": "7c95e8f8-b99c-46f8-d482-8f4cc16fcd89",
        "colab": {
          "base_uri": "https://localhost:8080/",
          "height": 165
        }
      },
      "source": [
        "numero"
      ],
      "execution_count": 0,
      "outputs": [
        {
          "output_type": "error",
          "ename": "NameError",
          "evalue": "ignored",
          "traceback": [
            "\u001b[0;31m---------------------------------------------------------------------------\u001b[0m",
            "\u001b[0;31mNameError\u001b[0m                                 Traceback (most recent call last)",
            "\u001b[0;32m<ipython-input-17-5e3ead709b23>\u001b[0m in \u001b[0;36m<module>\u001b[0;34m()\u001b[0m\n\u001b[0;32m----> 1\u001b[0;31m \u001b[0mnumero\u001b[0m\u001b[0;34m\u001b[0m\u001b[0;34m\u001b[0m\u001b[0m\n\u001b[0m",
            "\u001b[0;31mNameError\u001b[0m: name 'numero' is not defined"
          ]
        }
      ]
    },
    {
      "cell_type": "code",
      "metadata": {
        "id": "dQh6DFmWW-Z-",
        "colab_type": "code",
        "outputId": "39b813f9-6e34-488c-ca6a-c7e292a73eb3",
        "colab": {
          "base_uri": "https://localhost:8080/",
          "height": 34
        }
      },
      "source": [
        "numero = 20\n",
        "numero"
      ],
      "execution_count": 0,
      "outputs": [
        {
          "output_type": "execute_result",
          "data": {
            "text/plain": [
              "20"
            ]
          },
          "metadata": {
            "tags": []
          },
          "execution_count": 19
        }
      ]
    },
    {
      "cell_type": "code",
      "metadata": {
        "id": "gMzyG8j6XC_C",
        "colab_type": "code",
        "colab": {}
      },
      "source": [
        "numeroEntero: int\n",
        "numeroDecimal: float\n",
        "numeroComplejo: complex"
      ],
      "execution_count": 0,
      "outputs": []
    },
    {
      "cell_type": "code",
      "metadata": {
        "id": "-PkeKYU9XLOl",
        "colab_type": "code",
        "outputId": "5d6e49bc-39e3-40e3-9f34-1cbd2d85bdc1",
        "colab": {
          "base_uri": "https://localhost:8080/",
          "height": 34
        }
      },
      "source": [
        "numeroEntero = 50\n",
        "numeroEntero"
      ],
      "execution_count": 0,
      "outputs": [
        {
          "output_type": "execute_result",
          "data": {
            "text/plain": [
              "50"
            ]
          },
          "metadata": {
            "tags": []
          },
          "execution_count": 21
        }
      ]
    },
    {
      "cell_type": "code",
      "metadata": {
        "id": "_J4ZAlsxXO4i",
        "colab_type": "code",
        "outputId": "db962857-5b2a-4b01-8393-25a725eb78d6",
        "colab": {
          "base_uri": "https://localhost:8080/",
          "height": 34
        }
      },
      "source": [
        "numeroDecimal = 25.67\n",
        "numeroDecimal"
      ],
      "execution_count": 0,
      "outputs": [
        {
          "output_type": "execute_result",
          "data": {
            "text/plain": [
              "25.67"
            ]
          },
          "metadata": {
            "tags": []
          },
          "execution_count": 22
        }
      ]
    },
    {
      "cell_type": "code",
      "metadata": {
        "id": "ipb68PYcXVgV",
        "colab_type": "code",
        "outputId": "62812066-6bba-45fb-99a8-5228bff1fec7",
        "colab": {
          "base_uri": "https://localhost:8080/",
          "height": 34
        }
      },
      "source": [
        "numeroComplejo = 2 + 5.6j\n",
        "numeroComplejo"
      ],
      "execution_count": 0,
      "outputs": [
        {
          "output_type": "execute_result",
          "data": {
            "text/plain": [
              "(2+5.6j)"
            ]
          },
          "metadata": {
            "tags": []
          },
          "execution_count": 24
        }
      ]
    },
    {
      "cell_type": "markdown",
      "metadata": {
        "id": "TlhXCWnWYMPd",
        "colab_type": "text"
      },
      "source": [
        "# **Cadenas de Python**\n",
        "* Cadenas se identifican como un conjunto contiguo de caracteres representados entre comillas\n",
        "* Cualquier par de comillas (simples o dobles)\n",
        "* Subconjuntos de cadenas o subcadenas pueden tomarse con el operador de slice ([] y [:])\n",
        "* Índices comienzan en 0\n",
        "* Llegan hasta -1\n",
        "* El signo más (+) operador de concatenación\n",
        "* El asterisco (*) operador de repetición"
      ]
    },
    {
      "cell_type": "code",
      "metadata": {
        "id": "2zQyGAeuYeWu",
        "colab_type": "code",
        "colab": {}
      },
      "source": [
        "cadena = 'Hola mundo'"
      ],
      "execution_count": 0,
      "outputs": []
    },
    {
      "cell_type": "code",
      "metadata": {
        "id": "9he7DbldYtAt",
        "colab_type": "code",
        "outputId": "8f919c68-5f12-4572-b38f-6481ec63e44b",
        "colab": {
          "base_uri": "https://localhost:8080/",
          "height": 34
        }
      },
      "source": [
        "cadena[0]"
      ],
      "execution_count": 0,
      "outputs": [
        {
          "output_type": "execute_result",
          "data": {
            "text/plain": [
              "'H'"
            ]
          },
          "metadata": {
            "tags": []
          },
          "execution_count": 26
        }
      ]
    },
    {
      "cell_type": "code",
      "metadata": {
        "id": "2sLRzPFOY1Y5",
        "colab_type": "code",
        "outputId": "b8c27a0c-fd0f-4781-f690-f7dcbe66b4ae",
        "colab": {
          "base_uri": "https://localhost:8080/",
          "height": 34
        }
      },
      "source": [
        "cadena[2:5]"
      ],
      "execution_count": 0,
      "outputs": [
        {
          "output_type": "execute_result",
          "data": {
            "text/plain": [
              "'la '"
            ]
          },
          "metadata": {
            "tags": []
          },
          "execution_count": 27
        }
      ]
    },
    {
      "cell_type": "code",
      "metadata": {
        "id": "nKYkkJ2EY5Tu",
        "colab_type": "code",
        "outputId": "04380196-f781-4ec7-a410-4e979c3be287",
        "colab": {
          "base_uri": "https://localhost:8080/",
          "height": 34
        }
      },
      "source": [
        "cadena[2:]"
      ],
      "execution_count": 0,
      "outputs": [
        {
          "output_type": "execute_result",
          "data": {
            "text/plain": [
              "'la mundo'"
            ]
          },
          "metadata": {
            "tags": []
          },
          "execution_count": 28
        }
      ]
    },
    {
      "cell_type": "code",
      "metadata": {
        "id": "xrQ0Gio7Y-B0",
        "colab_type": "code",
        "outputId": "d7a3604a-2f81-4280-d3f5-bc99f0128438",
        "colab": {
          "base_uri": "https://localhost:8080/",
          "height": 34
        }
      },
      "source": [
        "cadena * 2"
      ],
      "execution_count": 0,
      "outputs": [
        {
          "output_type": "execute_result",
          "data": {
            "text/plain": [
              "'Hola mundoHola mundo'"
            ]
          },
          "metadata": {
            "tags": []
          },
          "execution_count": 29
        }
      ]
    },
    {
      "cell_type": "code",
      "metadata": {
        "id": "4YPyZtLdZDV5",
        "colab_type": "code",
        "outputId": "8a011950-b727-4189-d8f8-e18b86b42edb",
        "colab": {
          "base_uri": "https://localhost:8080/",
          "height": 34
        }
      },
      "source": [
        "cadena + \" Prueba\""
      ],
      "execution_count": 0,
      "outputs": [
        {
          "output_type": "execute_result",
          "data": {
            "text/plain": [
              "'Hola mundo Prueba'"
            ]
          },
          "metadata": {
            "tags": []
          },
          "execution_count": 30
        }
      ]
    },
    {
      "cell_type": "markdown",
      "metadata": {
        "id": "yHjtobSLZeEF",
        "colab_type": "text"
      },
      "source": [
        "# Listas de Python\n",
        "* Tipos de datos compuestos más versátiles de Python\n",
        "* Contiene elementos separados por comas y encerrados entre corchetes ([])\n",
        "* Son similares a los arrays en C\n",
        "* Todos los elementos que pertenecen pueden ser de tipos de datos diferentes\n",
        "* Se puede acceder a los valores utilizando el operador de división ([] y [:])\n",
        "* Índices comienzan en 0\n",
        "* Llegan hasta -1\n",
        "* El signo más (+) operador de concatenación\n",
        "* El asterisco (*) operador de repetición"
      ]
    },
    {
      "cell_type": "code",
      "metadata": {
        "id": "E43WtXnhZo8o",
        "colab_type": "code",
        "colab": {}
      },
      "source": [
        "lista = ['abcd', 786, 2.23, 'John', 70.2]\n",
        "minilista = [123, 'John']"
      ],
      "execution_count": 0,
      "outputs": []
    },
    {
      "cell_type": "code",
      "metadata": {
        "id": "bvZkypfRZ916",
        "colab_type": "code",
        "outputId": "315e004a-30ba-48d1-8a00-a4ca6d92f99c",
        "colab": {
          "base_uri": "https://localhost:8080/",
          "height": 34
        }
      },
      "source": [
        "lista"
      ],
      "execution_count": 0,
      "outputs": [
        {
          "output_type": "execute_result",
          "data": {
            "text/plain": [
              "['abcd', 786, 2.23, 'John', 70.2]"
            ]
          },
          "metadata": {
            "tags": []
          },
          "execution_count": 32
        }
      ]
    },
    {
      "cell_type": "code",
      "metadata": {
        "id": "nqXwikwhaAdD",
        "colab_type": "code",
        "outputId": "19ff1e40-0dfa-45a6-9123-7a220b7ef1eb",
        "colab": {
          "base_uri": "https://localhost:8080/",
          "height": 34
        }
      },
      "source": [
        "lista[0]"
      ],
      "execution_count": 0,
      "outputs": [
        {
          "output_type": "execute_result",
          "data": {
            "text/plain": [
              "'abcd'"
            ]
          },
          "metadata": {
            "tags": []
          },
          "execution_count": 33
        }
      ]
    },
    {
      "cell_type": "code",
      "metadata": {
        "id": "BMubu4W6aCz-",
        "colab_type": "code",
        "outputId": "4fdbfb26-e7e6-4c93-cdd0-d6649632a15a",
        "colab": {
          "base_uri": "https://localhost:8080/",
          "height": 34
        }
      },
      "source": [
        "lista[1:3]"
      ],
      "execution_count": 0,
      "outputs": [
        {
          "output_type": "execute_result",
          "data": {
            "text/plain": [
              "[786, 2.23]"
            ]
          },
          "metadata": {
            "tags": []
          },
          "execution_count": 34
        }
      ]
    },
    {
      "cell_type": "code",
      "metadata": {
        "id": "W2xDPyZQaIKp",
        "colab_type": "code",
        "outputId": "d64abb75-6167-44bf-85ae-38d591427b03",
        "colab": {
          "base_uri": "https://localhost:8080/",
          "height": 34
        }
      },
      "source": [
        "lista[2:]"
      ],
      "execution_count": 0,
      "outputs": [
        {
          "output_type": "execute_result",
          "data": {
            "text/plain": [
              "[2.23, 'John', 70.2]"
            ]
          },
          "metadata": {
            "tags": []
          },
          "execution_count": 35
        }
      ]
    },
    {
      "cell_type": "code",
      "metadata": {
        "id": "Q6Z-BMq1aa7G",
        "colab_type": "code",
        "outputId": "932ae2d7-6344-4d09-e0a0-31ff46e9b49e",
        "colab": {
          "base_uri": "https://localhost:8080/",
          "height": 34
        }
      },
      "source": [
        "minilista * 2"
      ],
      "execution_count": 0,
      "outputs": [
        {
          "output_type": "execute_result",
          "data": {
            "text/plain": [
              "[123, 'John', 123, 'John']"
            ]
          },
          "metadata": {
            "tags": []
          },
          "execution_count": 36
        }
      ]
    },
    {
      "cell_type": "code",
      "metadata": {
        "id": "GLNp2rEGadiR",
        "colab_type": "code",
        "outputId": "dc2b29c3-2558-40ae-92db-3ed8a32724e5",
        "colab": {
          "base_uri": "https://localhost:8080/",
          "height": 34
        }
      },
      "source": [
        "lista + minilista"
      ],
      "execution_count": 0,
      "outputs": [
        {
          "output_type": "execute_result",
          "data": {
            "text/plain": [
              "['abcd', 786, 2.23, 'John', 70.2, 123, 'John']"
            ]
          },
          "metadata": {
            "tags": []
          },
          "execution_count": 37
        }
      ]
    },
    {
      "cell_type": "markdown",
      "metadata": {
        "id": "jYlfaSodaywQ",
        "colab_type": "text"
      },
      "source": [
        "## Tuplas de Python\n",
        "* Tipo de datos de secuencia\n",
        "* Similar a la lista\n",
        "* Serie de valores separados por comas\n",
        "* Diferencia con las listas:\n",
        "* Se incluyen entre paréntesis\n",
        "* Son inmutables\n",
        "* Se pueden considerar listas de solo lectura"
      ]
    },
    {
      "cell_type": "code",
      "metadata": {
        "id": "qmEhu0SWbMB5",
        "colab_type": "code",
        "colab": {}
      },
      "source": [
        "tupla = ('abcd', 786, 2.23, 'John', 70.2)\n",
        "minitupla = (123, 'John')"
      ],
      "execution_count": 0,
      "outputs": []
    },
    {
      "cell_type": "code",
      "metadata": {
        "id": "tZEKAcVAbWup",
        "colab_type": "code",
        "outputId": "1cf9c413-a19f-487e-e9c2-cde9d1a2b250",
        "colab": {
          "base_uri": "https://localhost:8080/",
          "height": 34
        }
      },
      "source": [
        "tupla"
      ],
      "execution_count": 0,
      "outputs": [
        {
          "output_type": "execute_result",
          "data": {
            "text/plain": [
              "('abcd', 786, 2.23, 'John', 70.2)"
            ]
          },
          "metadata": {
            "tags": []
          },
          "execution_count": 39
        }
      ]
    },
    {
      "cell_type": "code",
      "metadata": {
        "id": "eEa5LpDibZZV",
        "colab_type": "code",
        "outputId": "6a9d3376-2e1a-4181-f5c9-04b3bdc9f243",
        "colab": {
          "base_uri": "https://localhost:8080/",
          "height": 34
        }
      },
      "source": [
        "tupla[0]"
      ],
      "execution_count": 0,
      "outputs": [
        {
          "output_type": "execute_result",
          "data": {
            "text/plain": [
              "'abcd'"
            ]
          },
          "metadata": {
            "tags": []
          },
          "execution_count": 40
        }
      ]
    },
    {
      "cell_type": "code",
      "metadata": {
        "id": "39mECK3Wbkek",
        "colab_type": "code",
        "outputId": "3ba7d67c-0421-468d-d7d4-90babe462728",
        "colab": {
          "base_uri": "https://localhost:8080/",
          "height": 34
        }
      },
      "source": [
        "tupla[1:3]"
      ],
      "execution_count": 0,
      "outputs": [
        {
          "output_type": "execute_result",
          "data": {
            "text/plain": [
              "(786, 2.23)"
            ]
          },
          "metadata": {
            "tags": []
          },
          "execution_count": 41
        }
      ]
    },
    {
      "cell_type": "code",
      "metadata": {
        "id": "4uG7IsflboAq",
        "colab_type": "code",
        "outputId": "f72f3261-c743-4a95-bffd-9facbcebd239",
        "colab": {
          "base_uri": "https://localhost:8080/",
          "height": 34
        }
      },
      "source": [
        "tupla[2:]"
      ],
      "execution_count": 0,
      "outputs": [
        {
          "output_type": "execute_result",
          "data": {
            "text/plain": [
              "(2.23, 'John', 70.2)"
            ]
          },
          "metadata": {
            "tags": []
          },
          "execution_count": 42
        }
      ]
    },
    {
      "cell_type": "code",
      "metadata": {
        "id": "7p3dKC2gbsmd",
        "colab_type": "code",
        "outputId": "230b0dcb-3c27-4c32-b67c-b622ffd0595f",
        "colab": {
          "base_uri": "https://localhost:8080/",
          "height": 34
        }
      },
      "source": [
        "minitupla * 2"
      ],
      "execution_count": 0,
      "outputs": [
        {
          "output_type": "execute_result",
          "data": {
            "text/plain": [
              "(123, 'John', 123, 'John')"
            ]
          },
          "metadata": {
            "tags": []
          },
          "execution_count": 43
        }
      ]
    },
    {
      "cell_type": "code",
      "metadata": {
        "id": "pLY4bd8Tbu-g",
        "colab_type": "code",
        "outputId": "cf2fcf36-c1bf-423d-f744-88dfdeb6db03",
        "colab": {
          "base_uri": "https://localhost:8080/",
          "height": 34
        }
      },
      "source": [
        "tupla + minitupla"
      ],
      "execution_count": 0,
      "outputs": [
        {
          "output_type": "execute_result",
          "data": {
            "text/plain": [
              "('abcd', 786, 2.23, 'John', 70.2, 123, 'John')"
            ]
          },
          "metadata": {
            "tags": []
          },
          "execution_count": 44
        }
      ]
    },
    {
      "cell_type": "markdown",
      "metadata": {
        "id": "6uQFN0gPb2cb",
        "colab_type": "text"
      },
      "source": [
        "* El siguiente código no es válido con tuplas, porque intentamos actualizar una tupla, algo que no está permitido\n",
        "* Caso similar es posible con listas"
      ]
    },
    {
      "cell_type": "code",
      "metadata": {
        "id": "H6k0yJB6b5G3",
        "colab_type": "code",
        "outputId": "b10113bd-5abc-4338-bc43-dc00a8caeb24",
        "colab": {
          "base_uri": "https://localhost:8080/",
          "height": 165
        }
      },
      "source": [
        "tupla[2] = 1000"
      ],
      "execution_count": 0,
      "outputs": [
        {
          "output_type": "error",
          "ename": "TypeError",
          "evalue": "ignored",
          "traceback": [
            "\u001b[0;31m---------------------------------------------------------------------------\u001b[0m",
            "\u001b[0;31mTypeError\u001b[0m                                 Traceback (most recent call last)",
            "\u001b[0;32m<ipython-input-45-96dc0ba754f5>\u001b[0m in \u001b[0;36m<module>\u001b[0;34m()\u001b[0m\n\u001b[0;32m----> 1\u001b[0;31m \u001b[0mtupla\u001b[0m\u001b[0;34m[\u001b[0m\u001b[0;36m2\u001b[0m\u001b[0;34m]\u001b[0m \u001b[0;34m=\u001b[0m \u001b[0;36m1000\u001b[0m\u001b[0;34m\u001b[0m\u001b[0;34m\u001b[0m\u001b[0m\n\u001b[0m",
            "\u001b[0;31mTypeError\u001b[0m: 'tuple' object does not support item assignment"
          ]
        }
      ]
    },
    {
      "cell_type": "code",
      "metadata": {
        "id": "3PBFHlgXb9Df",
        "colab_type": "code",
        "colab": {}
      },
      "source": [
        "lista[2] = 1000"
      ],
      "execution_count": 0,
      "outputs": []
    },
    {
      "cell_type": "code",
      "metadata": {
        "id": "QHIOnQmob_f1",
        "colab_type": "code",
        "outputId": "cd3bc2a6-2a73-41ec-eead-1f8f5a55c97f",
        "colab": {
          "base_uri": "https://localhost:8080/",
          "height": 34
        }
      },
      "source": [
        "lista"
      ],
      "execution_count": 0,
      "outputs": [
        {
          "output_type": "execute_result",
          "data": {
            "text/plain": [
              "['abcd', 786, 1000, 'John', 70.2]"
            ]
          },
          "metadata": {
            "tags": []
          },
          "execution_count": 47
        }
      ]
    },
    {
      "cell_type": "markdown",
      "metadata": {
        "id": "ua-7G7smcNEl",
        "colab_type": "text"
      },
      "source": [
        "## Diccionarios de Python\n",
        "* Tipo de tabla hash\n",
        "* Funcionan como arreglos asociativos o hashes encontrados en Perl\n",
        "* Consisten en pares clave-valor\n",
        "* La clave:\n",
        "    * puede ser casi cualquier tipo de dato\n",
        "    * generalmente son números o cadenas\n",
        "* Los valores pueden ser cualquier objeto arbitrario de Python\n",
        "* Los diccionarios están encerrados con llaves ({})\n",
        "* Valores pueden asignarse y accederse usando llaves cuadradas ([])\n",
        "* No tienen ningún concepto de orden entre los elementos"
      ]
    },
    {
      "cell_type": "code",
      "metadata": {
        "id": "3WMdvrn8cW3a",
        "colab_type": "code",
        "outputId": "ace63614-597a-4677-c3be-8e69cb317fe5",
        "colab": {
          "base_uri": "https://localhost:8080/",
          "height": 34
        }
      },
      "source": [
        "diccionario = {}\n",
        "diccionario"
      ],
      "execution_count": 0,
      "outputs": [
        {
          "output_type": "execute_result",
          "data": {
            "text/plain": [
              "{}"
            ]
          },
          "metadata": {
            "tags": []
          },
          "execution_count": 48
        }
      ]
    },
    {
      "cell_type": "code",
      "metadata": {
        "id": "-93tOQYacc05",
        "colab_type": "code",
        "outputId": "f355bdc7-01ff-4b44-a1cf-d9c704a3ad5f",
        "colab": {
          "base_uri": "https://localhost:8080/",
          "height": 34
        }
      },
      "source": [
        "diccionario['one'] = 'Esto es uno'\n",
        "diccionario"
      ],
      "execution_count": 0,
      "outputs": [
        {
          "output_type": "execute_result",
          "data": {
            "text/plain": [
              "{'one': 'Esto es uno'}"
            ]
          },
          "metadata": {
            "tags": []
          },
          "execution_count": 50
        }
      ]
    },
    {
      "cell_type": "code",
      "metadata": {
        "id": "KuXIyCN_cj5i",
        "colab_type": "code",
        "outputId": "f040e521-69e2-4e1f-f672-99d552e94086",
        "colab": {
          "base_uri": "https://localhost:8080/",
          "height": 34
        }
      },
      "source": [
        "diccionario[2] = 'Esto es dos'\n",
        "diccionario"
      ],
      "execution_count": 0,
      "outputs": [
        {
          "output_type": "execute_result",
          "data": {
            "text/plain": [
              "{2: 'Esto es dos', 'one': 'Esto es uno'}"
            ]
          },
          "metadata": {
            "tags": []
          },
          "execution_count": 52
        }
      ]
    },
    {
      "cell_type": "code",
      "metadata": {
        "id": "vVxNNzk5cnck",
        "colab_type": "code",
        "outputId": "dcf87ad5-1b91-49b7-ddbf-e7ed392f44ab",
        "colab": {
          "base_uri": "https://localhost:8080/",
          "height": 34
        }
      },
      "source": [
        "minidiccionario = {'name': 'john', 'code': 6734, 'dept': 'sales'}\n",
        "minidiccionario"
      ],
      "execution_count": 0,
      "outputs": [
        {
          "output_type": "execute_result",
          "data": {
            "text/plain": [
              "{'code': 6734, 'dept': 'sales', 'name': 'john'}"
            ]
          },
          "metadata": {
            "tags": []
          },
          "execution_count": 54
        }
      ]
    },
    {
      "cell_type": "code",
      "metadata": {
        "id": "_U0VkLuKc3ga",
        "colab_type": "code",
        "outputId": "17a354dc-815f-428a-dc33-4f61c5cc0a68",
        "colab": {
          "base_uri": "https://localhost:8080/",
          "height": 34
        }
      },
      "source": [
        "diccionario['one']"
      ],
      "execution_count": 0,
      "outputs": [
        {
          "output_type": "execute_result",
          "data": {
            "text/plain": [
              "'Esto es uno'"
            ]
          },
          "metadata": {
            "tags": []
          },
          "execution_count": 55
        }
      ]
    },
    {
      "cell_type": "code",
      "metadata": {
        "id": "cJdTwuh0c6c_",
        "colab_type": "code",
        "outputId": "843702e9-59f5-44d6-e7f8-fd724da5c8bd",
        "colab": {
          "base_uri": "https://localhost:8080/",
          "height": 34
        }
      },
      "source": [
        "diccionario[2]"
      ],
      "execution_count": 0,
      "outputs": [
        {
          "output_type": "execute_result",
          "data": {
            "text/plain": [
              "'Esto es dos'"
            ]
          },
          "metadata": {
            "tags": []
          },
          "execution_count": 56
        }
      ]
    },
    {
      "cell_type": "code",
      "metadata": {
        "id": "WtMWAcRBc8_t",
        "colab_type": "code",
        "outputId": "f6b38730-ef1e-432c-9544-6211651cfc20",
        "colab": {
          "base_uri": "https://localhost:8080/",
          "height": 34
        }
      },
      "source": [
        "minidiccionario"
      ],
      "execution_count": 0,
      "outputs": [
        {
          "output_type": "execute_result",
          "data": {
            "text/plain": [
              "{'code': 6734, 'dept': 'sales', 'name': 'john'}"
            ]
          },
          "metadata": {
            "tags": []
          },
          "execution_count": 57
        }
      ]
    },
    {
      "cell_type": "code",
      "metadata": {
        "id": "PoiAdLRIc_v9",
        "colab_type": "code",
        "outputId": "597d2248-bdeb-49ed-bb12-16e6ff3e755d",
        "colab": {
          "base_uri": "https://localhost:8080/",
          "height": 34
        }
      },
      "source": [
        "minidiccionario.keys()"
      ],
      "execution_count": 0,
      "outputs": [
        {
          "output_type": "execute_result",
          "data": {
            "text/plain": [
              "dict_keys(['name', 'code', 'dept'])"
            ]
          },
          "metadata": {
            "tags": []
          },
          "execution_count": 58
        }
      ]
    },
    {
      "cell_type": "code",
      "metadata": {
        "id": "xJBHVHH6dDQH",
        "colab_type": "code",
        "outputId": "5a723a64-3a71-4d92-8a91-ce82e9e6fec9",
        "colab": {
          "base_uri": "https://localhost:8080/",
          "height": 34
        }
      },
      "source": [
        "minidiccionario.values()"
      ],
      "execution_count": 0,
      "outputs": [
        {
          "output_type": "execute_result",
          "data": {
            "text/plain": [
              "dict_values(['john', 6734, 'sales'])"
            ]
          },
          "metadata": {
            "tags": []
          },
          "execution_count": 59
        }
      ]
    }
  ]
}
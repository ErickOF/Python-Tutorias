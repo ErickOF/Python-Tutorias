{
  "nbformat": 4,
  "nbformat_minor": 0,
  "metadata": {
    "colab": {
      "name": "Ejercicios ciclos/recursividad - Solución ciclos.ipynb",
      "provenance": []
    },
    "kernelspec": {
      "name": "python3",
      "display_name": "Python 3"
    }
  },
  "cells": [
    {
      "cell_type": "markdown",
      "metadata": {
        "id": "tbl68znOh4M-",
        "colab_type": "text"
      },
      "source": [
        "# **Instrucciones**\n",
        "1. Utilice el siguiente archivo ya sea solo para recursividad (pila o cola) o\n",
        "solo para ciclos (while o for). Puede crear dos archivos para trabajar cada tema\n",
        "por separado.\n",
        "2. Si usa ciclos, queda a su criterio escoger cuál ciclo (while o for)\n",
        "soluciona mejor el problema (ambos podrían solucionar el mismo). Lo mismo\n",
        "aplica con recursividad.\n",
        "3. Se le provee un esqueleto de la función con los parámetros que debe recibir.\n",
        "Su trabajo es rellenar la función para que cumpla con la especificación del\n",
        "ejercicio.\n",
        "4. Se provee una función la cuál realiza las pruebas necesarias. Si su función\n",
        "pasa todas las pruebas, significa que está correcta. De lo contrario, debe\n",
        "cambiar el ejercicio.\n",
        "5. Estos ejercicios son únicamente de práctica, por lo que si lo desea puede\n",
        "enviarlos al tutor para recibir feedback. No es obligatorio hacerlos.\n",
        "6. Debe de quitar el comentario a la función de prueba que desear probar.\n",
        "7. Puede implementar cualquier función extra que necesite, así como reutilizar\n",
        "función ya hechas en este código."
      ]
    },
    {
      "cell_type": "markdown",
      "metadata": {
        "id": "U5qE1BfbhveQ",
        "colab_type": "text"
      },
      "source": [
        "## **Ejemplo**\n",
        "\n",
        "Realice una función que cuente la cantidad de dígitos de un número\n",
        "\n",
        "```python\n",
        ">>> contarDigitos(23)\n",
        "2\n",
        ">>> contarDigitos(23456)\n",
        "5\n",
        ">>> contarDigitos(123)\n",
        "3\n",
        ">>> contarDigitos(-12123)\n",
        "5\n",
        "```"
      ]
    },
    {
      "cell_type": "code",
      "metadata": {
        "id": "c8uK2YM4hcEG",
        "colab_type": "code",
        "colab": {}
      },
      "source": [
        "def contarDigitos(num):\n",
        "    if num == 0:\n",
        "        return 1\n",
        "    elif num < 0:\n",
        "        num = abs(num)\n",
        "\n",
        "    cantidad = 0\n",
        "\n",
        "    while num != 0:\n",
        "        cantidad += 1\n",
        "        num //= 10\n",
        "    \n",
        "    return cantidad"
      ],
      "execution_count": 0,
      "outputs": []
    },
    {
      "cell_type": "code",
      "metadata": {
        "id": "18EuGMV7kkEv",
        "colab_type": "code",
        "outputId": "6f96235c-0670-4dca-a147-c59f33c83408",
        "colab": {
          "base_uri": "https://localhost:8080/",
          "height": 34
        }
      },
      "source": [
        "def testContarDigitos():\n",
        "    assert contarDigitos(0) == 1\n",
        "    assert contarDigitos(23) == 2\n",
        "    assert contarDigitos(-1) == 1\n",
        "    assert contarDigitos(3483578) == 7\n",
        "    assert contarDigitos(-98748578995) == 11\n",
        "    assert contarDigitos(-15) == 2\n",
        "    print('Contar digitos funciona.')\n",
        "\n",
        "testContarDigitos()"
      ],
      "execution_count": 0,
      "outputs": [
        {
          "output_type": "stream",
          "text": [
            "Contar digitos funciona.\n"
          ],
          "name": "stdout"
        }
      ]
    },
    {
      "cell_type": "markdown",
      "metadata": {
        "id": "Rmnw-qZwl33A",
        "colab_type": "text"
      },
      "source": [
        "## **Ejercicio 1**\n",
        "\n",
        "Escribir una función que encadene los dígitos del segundo número con el primer número, de acuerdo al comportamiento siguiente:"
      ]
    },
    {
      "cell_type": "code",
      "metadata": {
        "id": "zcX6Q-u-mh2C",
        "colab_type": "code",
        "colab": {}
      },
      "source": [
        "def concatenarNumeros(num1, num2):\n",
        "    # Variable donde se guarda el nuevo numero con unicamente numeros pares\n",
        "    nuevo = 0\n",
        "    # Factor el cual nos ayuda a aplicar la idea de notacion desarrollada\n",
        "    # Ver explicacion de notacion desarrollada\n",
        "    # https://es.khanacademy.org/math/pre-algebra/pre-algebra-arith-prop/pre-algebra-place-value/a/whole-numbers-in-expanded-form-review\n",
        "    factor = 1\n",
        "\n",
        "    if num2 != 0:\n",
        "        # Ejecutar hasta que el numero se haga cero\n",
        "        while num2 != 0:\n",
        "            # Se agrega el digito de mas a la derecha al nuevo numero\n",
        "            nuevo += (num2 % 10) * factor\n",
        "            # Aumentar factor diez veces\n",
        "            factor *= 10\n",
        "            # Cortar el digito de mas a la derecha\n",
        "            num2 //= 10\n",
        "    # Si no\n",
        "    else:\n",
        "        # El factor se pone en diez, ya que el digito de mas a la derecha del\n",
        "        # nuevo numero sera un cero\n",
        "        factor = 10\n",
        "    \n",
        "    # Ejecutar hasta que el numero se haga cero\n",
        "    while num1 != 0:\n",
        "        # Se agrega el digito de mas a la derecha al nuevo numero\n",
        "        nuevo += (num1 % 10) * factor\n",
        "        # Aumentar factor diez veces\n",
        "        factor *= 10\n",
        "        # Cortar el digito de mas a la derecha\n",
        "        num1 //= 10\n",
        "    \n",
        "    return nuevo"
      ],
      "execution_count": 0,
      "outputs": []
    },
    {
      "cell_type": "code",
      "metadata": {
        "id": "mgPuufVzmqev",
        "colab_type": "code",
        "outputId": "d4972963-65a5-4fbd-caf6-bdb8148efcab",
        "colab": {
          "base_uri": "https://localhost:8080/",
          "height": 34
        }
      },
      "source": [
        "def testConcatenarNumeros():\n",
        "    assert concatenarNumeros(0, 0) == 0\n",
        "    assert concatenarNumeros(0, 1) == 1\n",
        "    assert concatenarNumeros(0, 12) == 12\n",
        "    assert concatenarNumeros(0, 100) == 100\n",
        "    assert concatenarNumeros(0, 123455678) == 123455678\n",
        "    assert concatenarNumeros(1, 0) == 10\n",
        "    assert concatenarNumeros(12, 0) == 120\n",
        "    assert concatenarNumeros(450, 0) == 4500\n",
        "    assert concatenarNumeros(123456, 10) == 12345610\n",
        "    assert concatenarNumeros(39835938, 39458349) == 3983593839458349\n",
        "    assert concatenarNumeros(2346, 28743) == 234628743\n",
        "    print('Concatenar numeros funciona.')\n",
        "\n",
        "testConcatenarNumeros()"
      ],
      "execution_count": 0,
      "outputs": [
        {
          "output_type": "stream",
          "text": [
            "Concatenar numeros funciona.\n"
          ],
          "name": "stdout"
        }
      ]
    },
    {
      "cell_type": "markdown",
      "metadata": {
        "id": "bgJAEwSOoUGE",
        "colab_type": "text"
      },
      "source": [
        "# **Ejercicio 2**\n",
        "\n",
        "Escribir una función que construya un nuevo número con los dígitos pares de\n",
        "*num1*."
      ]
    },
    {
      "cell_type": "code",
      "metadata": {
        "id": "1tKPgPRAoTVW",
        "colab_type": "code",
        "colab": {}
      },
      "source": [
        "def construirPares(num):\n",
        "    # Si el numero es cero, se devuelve cero\n",
        "    if num == 0:\n",
        "        return 0\n",
        "\n",
        "    # Variable donde se guarda el nuevo numero con unicamente numeros pares\n",
        "    nuevo = 0\n",
        "    # Factor el cual nos ayuda a aplicar la idea de notacion desarrollada\n",
        "    factor = 1\n",
        "    # Variable que guarda la cantidad de pares agregados\n",
        "    pares = 0\n",
        "\n",
        "    # Ejecutar hasta que el numero se haga cero\n",
        "    while num != 0:\n",
        "        # Tomar el digito de mas a la derecha\n",
        "        dig = num % 10\n",
        "\n",
        "        # Si el numero es par\n",
        "        if dig % 2 == 0:\n",
        "            # Se agrega al nuevo numero\n",
        "            nuevo += dig * factor\n",
        "            # Aumentar factor diez veces\n",
        "            factor *= 10\n",
        "            # Aumentar la cantidad de pares\n",
        "            pares += 1\n",
        "        \n",
        "        # Cortar el digito de mas a la derecha\n",
        "        num //= 10\n",
        "\n",
        "    # Si se agregaron pares\n",
        "    if pares > 0:\n",
        "        # Se devuelve el numero\n",
        "        return nuevo\n",
        "    # Si no\n",
        "    else:\n",
        "        # Se devuelve menos uno\n",
        "        return -1"
      ],
      "execution_count": 0,
      "outputs": []
    },
    {
      "cell_type": "code",
      "metadata": {
        "id": "GW_JPRekop0D",
        "colab_type": "code",
        "outputId": "be414caf-7353-4704-d6ec-825b89feb772",
        "colab": {
          "base_uri": "https://localhost:8080/",
          "height": 34
        }
      },
      "source": [
        "def testConstruirPares():\n",
        "    assert construirPares(0) == 0\n",
        "    assert construirPares(1) == -1\n",
        "    assert construirPares(2) == 2\n",
        "    assert construirPares(3) == -1\n",
        "    assert construirPares(4) == 4\n",
        "    assert construirPares(5) == -1\n",
        "    assert construirPares(6) == 6\n",
        "    assert construirPares(7) == -1\n",
        "    assert construirPares(8) == 8\n",
        "    assert construirPares(9) == -1\n",
        "    assert construirPares(22) == 22\n",
        "    assert construirPares(324) == 24\n",
        "    assert construirPares(357385) == 8\n",
        "    assert construirPares(350085) == 8\n",
        "    assert construirPares(357305) == 0\n",
        "    assert construirPares(19385938359) == 88\n",
        "    assert construirPares(135797531) == -1\n",
        "    assert construirPares(1847387) == 848\n",
        "    print('Construir pares funciona.')\n",
        "\n",
        "testConstruirPares()"
      ],
      "execution_count": 0,
      "outputs": [
        {
          "output_type": "stream",
          "text": [
            "Construir pares funciona.\n"
          ],
          "name": "stdout"
        }
      ]
    },
    {
      "cell_type": "markdown",
      "metadata": {
        "id": "vQ_1b0pKqKzP",
        "colab_type": "text"
      },
      "source": [
        "# **Ejercicio 3**\n",
        "\n",
        "Escribir una función que cuente la cantidad de apariciones de un dígito en un\n",
        "número."
      ]
    },
    {
      "cell_type": "code",
      "metadata": {
        "id": "20PZUzhcqePz",
        "colab_type": "code",
        "colab": {}
      },
      "source": [
        "def contarApariciones(digito, num):\n",
        "    # Si el numero y el digito son iguales se devuelve uno, ya que solo hay un\n",
        "    # digito en el numero y, por lo tanto, solo una aparicion\n",
        "    if num == digito:\n",
        "        return 1\n",
        "    \n",
        "    # Variable donde se guarda el numero de apariciones\n",
        "    apariciones = 0\n",
        "\n",
        "    # Ejecutar hasta que el numero se haga cero\n",
        "    while num != 0:\n",
        "        # Si el digito de mas a la derecha es igual al digito que se busca\n",
        "        if num % 10 == digito:\n",
        "            # Se suma uno a la cantidad de apariciones\n",
        "            apariciones += 1\n",
        "\n",
        "        # Cortar el digito de mas a la derecha\n",
        "        num //= 10\n",
        "\n",
        "    return apariciones"
      ],
      "execution_count": 0,
      "outputs": []
    },
    {
      "cell_type": "code",
      "metadata": {
        "id": "QJSk2CPVrP3K",
        "colab_type": "code",
        "outputId": "bee1dda5-9749-4143-ee98-5d14082046d1",
        "colab": {
          "base_uri": "https://localhost:8080/",
          "height": 34
        }
      },
      "source": [
        "def testContarApariciones():\n",
        "    assert contarApariciones(0, 0) == 1\n",
        "    assert contarApariciones(1, 0) == 0\n",
        "    assert contarApariciones(2, 0) == 0\n",
        "    assert contarApariciones(7, 0) == 0\n",
        "    assert contarApariciones(8, 0) == 0\n",
        "    assert contarApariciones(1, 10) == 1\n",
        "    assert contarApariciones(2, 129) == 1\n",
        "    assert contarApariciones(8, 43658379) == 1\n",
        "    assert contarApariciones(6, 86482765785) == 2\n",
        "    assert contarApariciones(3, 33333) == 5\n",
        "    assert contarApariciones(2, 3828722982223059) == 6\n",
        "    assert contarApariciones(1, 9849580258290) == 0\n",
        "    print('Contar apariciones funciona.')\n",
        "\n",
        "testContarApariciones()"
      ],
      "execution_count": 0,
      "outputs": [
        {
          "output_type": "stream",
          "text": [
            "Contar apariciones funciona.\n"
          ],
          "name": "stdout"
        }
      ]
    },
    {
      "cell_type": "markdown",
      "metadata": {
        "id": "BRWik9fysUkQ",
        "colab_type": "text"
      },
      "source": [
        "# **Ejercicio 4**\n",
        "\n",
        "Escriba una función que calcule el factorial de un número\n",
        "\n",
        "$0! = 1$\n",
        "\n",
        "$1! = 1$\n",
        "\n",
        "$2! = 2 * 1 = 2$\n",
        "\n",
        "$3! = 3 * 2 * 1 = 6$\n",
        "\n",
        "$4! = 4 * 3 * 2 * 1 = 24$\n",
        "\n",
        "$n! = n * (n - 1) * (n - 2) * ... * 2 * 1$"
      ]
    },
    {
      "cell_type": "code",
      "metadata": {
        "id": "1L7A-01jtSEl",
        "colab_type": "code",
        "colab": {}
      },
      "source": [
        "# Version while\n",
        "\"\"\"\n",
        "def factorial(num):\n",
        "    # Variable donde se guardara el resultado del factorial\n",
        "    # Se inicia en uno ya que se haran multiplicaciones\n",
        "    fact = 1\n",
        "\n",
        "    # Ejecutar hasta que el numero se haga cero\n",
        "    while num != 0:\n",
        "        # Multiplicar el factorial actual por el numero actual\n",
        "        fact *= num\n",
        "        # Se disminuye numero\n",
        "        num -= 1\n",
        "\n",
        "    return fact\n",
        "\"\"\"\n",
        "\n",
        "# Version for\n",
        "def factorial(num):\n",
        "    # Variable donde se guardara el resultado del factorial\n",
        "    # Se inicia en uno ya que se haran multiplicaciones\n",
        "    fact = 1\n",
        "\n",
        "    # Ejecutar hasta que i llegue al valor de num\n",
        "    for i in range(2, num + 1):\n",
        "        # Multiplicar el factorial actual por el numero actual\n",
        "        fact *= i\n",
        "\n",
        "    return fact"
      ],
      "execution_count": 0,
      "outputs": []
    },
    {
      "cell_type": "code",
      "metadata": {
        "id": "SHMambPJtac2",
        "colab_type": "code",
        "outputId": "b36d11cf-fba9-4dcb-c275-9117d699fd85",
        "colab": {
          "base_uri": "https://localhost:8080/",
          "height": 34
        }
      },
      "source": [
        "def testFactorial():\n",
        "    assert factorial(0) == 1\n",
        "    assert factorial(1) == 1\n",
        "    assert factorial(2) == 2\n",
        "    assert factorial(3) == 6\n",
        "    assert factorial(4) == 24\n",
        "    assert factorial(5) == 120\n",
        "    assert factorial(6) == 720\n",
        "    assert factorial(7) == 5040\n",
        "    assert factorial(8) == 40320\n",
        "    assert factorial(9) == 362880\n",
        "    assert factorial(10) == 3628800\n",
        "    assert factorial(11) == 39916800\n",
        "    assert factorial(12) == 479001600\n",
        "    assert factorial(13) == 6227020800\n",
        "    assert factorial(14) == 87178291200\n",
        "    assert factorial(15) == 1307674368000\n",
        "    print('Factorial funciona.')\n",
        "\n",
        "testFactorial()"
      ],
      "execution_count": 0,
      "outputs": [
        {
          "output_type": "stream",
          "text": [
            "Factorial funciona.\n"
          ],
          "name": "stdout"
        }
      ]
    },
    {
      "cell_type": "markdown",
      "metadata": {
        "id": "AwfBLU6lvN1S",
        "colab_type": "text"
      },
      "source": [
        "# **Ejercicio 5**\n",
        "\n",
        "Escribir una función que calcule el fibonacci de un número.\n",
        "El fibonacci de un número es la suma del fibonacci del anterior y el\n",
        "trasanterior.\n",
        "\n",
        "$fibonacci(0) = 0$\n",
        "\n",
        "$fibonacci(1) = 1$\n",
        "\n",
        "$fibonacci(n) = fibonacci(n - 1) + fibonacci(n - 2)$"
      ]
    },
    {
      "cell_type": "code",
      "metadata": {
        "id": "sdj2TW14vsEX",
        "colab_type": "code",
        "colab": {}
      },
      "source": [
        "# Version while\n",
        "\"\"\"\n",
        "def fibonacci(num):\n",
        "    # Si num es cero, se devuelve cero\n",
        "    if num == 0:\n",
        "        return 0\n",
        "    # Si num es uno, se devuelve uno\n",
        "    elif num == 1:\n",
        "        return 1\n",
        "\n",
        "    # Variable donde se guarda el valor del trasanterior\n",
        "    trasanterior = 0\n",
        "    # Variable donde se guarda el valor del anterior\n",
        "    anterior = 1\n",
        "    # Fibonacci actual\n",
        "    actual = 2\n",
        "\n",
        "    # Ejecutar hasta llegar al fibonacci deseado\n",
        "    while actual < num:\n",
        "        # Calcular el nuevo trasanterior y el anterior\n",
        "        trasanterior, anterior = anterior, trasanterior + anterior\n",
        "        # Aumentar el fibonacci actual\n",
        "        actual += 1\n",
        "\n",
        "    # Definicion de fibonacci\n",
        "    resultado = anterior + trasanterior\n",
        "    return resultado\n",
        "\"\"\"\n",
        "\n",
        "# Version for\n",
        "def fibonacci(num):\n",
        "    # Si num es cero, se devuelve cero\n",
        "    if num == 0:\n",
        "        return 0\n",
        "    # Si num es uno, se devuelve uno\n",
        "    elif num == 1:\n",
        "        return 1\n",
        "\n",
        "    # Variable donde se guarda el valor del trasanterior\n",
        "    trasanterior = 0\n",
        "    # Variable donde se guarda el valor del anterior\n",
        "    anterior = 1\n",
        "    \n",
        "    # Ejecutar hasta llegar al fibonacci deseado\n",
        "    for actual in range(2, num):\n",
        "        # Calcular el nuevo trasanterior y el anterior\n",
        "        trasanterior, anterior = anterior, trasanterior + anterior\n",
        "\n",
        "    # Definicion de fibonacci\n",
        "    resultado = anterior + trasanterior\n",
        "    return resultado"
      ],
      "execution_count": 0,
      "outputs": []
    },
    {
      "cell_type": "code",
      "metadata": {
        "id": "p5Fo40AVvuos",
        "colab_type": "code",
        "outputId": "fd6509b0-d43b-4f57-a23f-b5c01a399427",
        "colab": {
          "base_uri": "https://localhost:8080/",
          "height": 34
        }
      },
      "source": [
        "def testFibonacci():\n",
        "    assert fibonacci(0) == 0\n",
        "    assert fibonacci(1) == 1\n",
        "    assert fibonacci(2) == 1\n",
        "    assert fibonacci(3) == 2\n",
        "    assert fibonacci(4) == 3\n",
        "    assert fibonacci(5) == 5\n",
        "    assert fibonacci(6) == 8\n",
        "    assert fibonacci(7) == 13\n",
        "    assert fibonacci(8) == 21\n",
        "    assert fibonacci(9) == 34\n",
        "    assert fibonacci(10) == 55\n",
        "    assert fibonacci(11) == 89\n",
        "    assert fibonacci(12) == 144\n",
        "    assert fibonacci(13) == 233\n",
        "    assert fibonacci(14) == 377\n",
        "    assert fibonacci(15) == 610\n",
        "    print('Fibonacci funciona.')\n",
        "\n",
        "testFibonacci()"
      ],
      "execution_count": 0,
      "outputs": [
        {
          "output_type": "stream",
          "text": [
            "Fibonacci funciona.\n"
          ],
          "name": "stdout"
        }
      ]
    },
    {
      "cell_type": "markdown",
      "metadata": {
        "id": "bS8DJCPazMsV",
        "colab_type": "text"
      },
      "source": [
        "# **Ejercicio 6**\n",
        "\n",
        "Escriba una función que valida si un número es un palíndromo.\n",
        "Un número es un palíndromo si es igual al darle la vuelta."
      ]
    },
    {
      "cell_type": "code",
      "metadata": {
        "id": "KyRK2tlzzg46",
        "colab_type": "code",
        "colab": {}
      },
      "source": [
        "def darVuelta(num):\n",
        "    # Variable donde se almacena el numero al reves\n",
        "    numAlReves = 0\n",
        "\n",
        "    # Ejecutar hasta que el numero se haga cero\n",
        "    while num != 0:\n",
        "        # Agregar el nuevo digito mas a la derecha\n",
        "        numAlReves = numAlReves * 10 + (num % 10)\n",
        "        # Cortar el digito de mas a la derecha\n",
        "        num //= 10\n",
        "    \n",
        "    return numAlReves\n",
        "\n",
        "def esPalindromo(num):\n",
        "    # Se le da vuelta al numero\n",
        "    numAlReves = darVuelta(num)\n",
        "\n",
        "    # Devuelve True o False dependiendo de si los valores son iguales o no\n",
        "    return num == numAlReves\n",
        "\n",
        "    # Opcionalmente, con solo esta linea basta\n",
        "    #return num == darVuelta(num)"
      ],
      "execution_count": 0,
      "outputs": []
    },
    {
      "cell_type": "code",
      "metadata": {
        "id": "CLnZE0TSzlrd",
        "colab_type": "code",
        "outputId": "4b8c7f2d-56ab-4a9e-8d2f-6f7f6a0ad494",
        "colab": {
          "base_uri": "https://localhost:8080/",
          "height": 34
        }
      },
      "source": [
        "def testEsPalindromo():\n",
        "    assert esPalindromo(0) == True\n",
        "    assert esPalindromo(1) == True\n",
        "    assert esPalindromo(22) == True\n",
        "    assert esPalindromo(23) == False\n",
        "    assert esPalindromo(123) == False\n",
        "    assert esPalindromo(151) == True\n",
        "    assert esPalindromo(2657) == False\n",
        "    assert esPalindromo(2222) == True\n",
        "    assert esPalindromo(1234321) == True\n",
        "    assert esPalindromo(1231234) == False\n",
        "    assert esPalindromo(23145654132) == True\n",
        "    assert esPalindromo(123214) == False\n",
        "    assert esPalindromo(1234567890987654321) == True\n",
        "    print('Es palindromo funciona.')\n",
        "\n",
        "testEsPalindromo()"
      ],
      "execution_count": 0,
      "outputs": [
        {
          "output_type": "stream",
          "text": [
            "Es palindromo funciona.\n"
          ],
          "name": "stdout"
        }
      ]
    },
    {
      "cell_type": "markdown",
      "metadata": {
        "id": "08KNPg3_5r8P",
        "colab_type": "text"
      },
      "source": [
        "# **Ejercicio 7**\n",
        "\n",
        "Escriba una función  que reciba dos números enteros y obtenga como resultado\n",
        "dos números, el primero compuesto por los dígitos del primer número que no\n",
        "pertenecen al segundo número y el segundo formado por los elementos del segundo\n",
        "número que no pertenecen al primer número."
      ]
    },
    {
      "cell_type": "code",
      "metadata": {
        "id": "DXBBaX-46Mzj",
        "colab_type": "code",
        "colab": {}
      },
      "source": [
        "def estaEnNumero(num, dig):\n",
        "    while num != 0:\n",
        "        if num % 10 == dig:\n",
        "            return True\n",
        "        \n",
        "        num //= 10\n",
        "\n",
        "    return False\n",
        "\n",
        "def diferenciar(num1, num2):\n",
        "    diferencia = 0\n",
        "    factor = 1\n",
        "\n",
        "    while num1 != 0:\n",
        "        digito = num1 % 10\n",
        "        \n",
        "        if not estaEnNumero(num2, digito):\n",
        "            diferencia += digito * factor\n",
        "            factor *= 10\n",
        "        print(factor, num1, num2, diferencia)\n",
        "        num1 //= 10\n",
        "    \n",
        "    return diferencia\n",
        "\n",
        "def calcularDiferencia(num1, num2):\n",
        "    # Se obtiene la diferencia de ambos numeros\n",
        "    diferencia1 = diferenciar(num1, num2)\n",
        "    diferencia2 = diferenciar(num2, num1)\n",
        "\n",
        "    # Se devuelven las diferencias\n",
        "    return diferencia1, diferencia2"
      ],
      "execution_count": 0,
      "outputs": []
    },
    {
      "cell_type": "code",
      "metadata": {
        "id": "Bh8HP3kT6jzh",
        "colab_type": "code",
        "outputId": "e571b166-668a-4a0d-e58a-2056582a31ba",
        "colab": {
          "base_uri": "https://localhost:8080/",
          "height": 204
        }
      },
      "source": [
        "diferenciar(1234567890, 56237)"
      ],
      "execution_count": 0,
      "outputs": [
        {
          "output_type": "stream",
          "text": [
            "10 1234567890 56237 0\n",
            "100 123456789 56237 90\n",
            "1000 12345678 56237 890\n",
            "1000 1234567 56237 890\n",
            "1000 123456 56237 890\n",
            "1000 12345 56237 890\n",
            "10000 1234 56237 4890\n",
            "10000 123 56237 4890\n",
            "10000 12 56237 4890\n",
            "100000 1 56237 14890\n"
          ],
          "name": "stdout"
        },
        {
          "output_type": "execute_result",
          "data": {
            "text/plain": [
              "14890"
            ]
          },
          "metadata": {
            "tags": []
          },
          "execution_count": 5
        }
      ]
    },
    {
      "cell_type": "code",
      "metadata": {
        "id": "Hx5Cp3Ws6Saa",
        "colab_type": "code",
        "outputId": "fb76ba05-6864-4052-9336-2cbc61d48ae3",
        "colab": {
          "base_uri": "https://localhost:8080/",
          "height": 34
        }
      },
      "source": [
        "def testCalcularDiferencia():\n",
        "    assert calcularDiferencia(0, 0) == (0, 0)\n",
        "    assert calcularDiferencia(1234, 254) == (13, 5)\n",
        "    assert calcularDiferencia(1468, 866124) == (0, 2)\n",
        "    assert calcularDiferencia(2935, 623587) == (9, 687)\n",
        "    assert calcularDiferencia(8527938, 8452739) == (0, 4)\n",
        "    assert calcularDiferencia(893475, 389457) == (0, 0)\n",
        "    assert calcularDiferencia(73528, 283049) == (75, 49)\n",
        "    assert calcularDiferencia(35897, 8387) == (59, 0)\n",
        "    assert calcularDiferencia(29370, 1487) == (2930, 148)\n",
        "    print('Calcular diferencia funciona.')\n",
        "\n",
        "testCalcularDiferencia()"
      ],
      "execution_count": 0,
      "outputs": [
        {
          "output_type": "stream",
          "text": [
            "Calcular diferencia funciona.\n"
          ],
          "name": "stdout"
        }
      ]
    },
    {
      "cell_type": "markdown",
      "metadata": {
        "id": "AkD6UCYXzkue",
        "colab_type": "text"
      },
      "source": [
        "# **Ejercicio 8**\n",
        "\n",
        "Si de 5 parejas de hormigas cada una engendra 3 hormiguitas, luego mueren,\n",
        "dejando que las 15 hormiguitas nacidas, engendren también 3 hormiguitas por\n",
        "pareja, luego mueren y se sigue repitiendo el proceso.\n",
        "Escriba una función que recibe como argumento un entero positivo y que\n",
        "determine el número de hormiguitas qué existirán al cabo de n períodos.\n",
        "Considere que siempre se pueden formar las parejas."
      ]
    },
    {
      "cell_type": "code",
      "metadata": {
        "id": "R4b5GZhl1lEE",
        "colab_type": "code",
        "colab": {}
      },
      "source": [
        "# Version while\n",
        "\"\"\"\n",
        "def calcularHormigas(n):\n",
        "    # Poblacion inicial de hormigas\n",
        "    # Como son cinco parejas, son diez hormigas inicialmente\n",
        "    hormigas = 10\n",
        "\n",
        "    # Ejercutar hasta que n sea cero\n",
        "    while n != 0:\n",
        "        # Calcular la nueva cantidad de hormigas\n",
        "        hormigas = hormigas // 2 * 3\n",
        "        # Se le resta uno a la cantidad de periodos\n",
        "        n -= 1\n",
        "\n",
        "    return hormigas\n",
        "\"\"\"\n",
        "\n",
        "# Version for\n",
        "def calcularHormigas(n):\n",
        "    # Poblacion inicial de hormigas\n",
        "    # Como son cinco parejas, son diez hormigas inicialmente\n",
        "    hormigas = 10\n",
        "\n",
        "    # Ejercutar hasta que n sea cero\n",
        "    for _ in range(n):\n",
        "        # Calcular la nueva cantidad de hormigas\n",
        "        hormigas = hormigas // 2 * 3\n",
        "\n",
        "    return hormigas"
      ],
      "execution_count": 0,
      "outputs": []
    },
    {
      "cell_type": "code",
      "metadata": {
        "id": "_kfa3hp01qxJ",
        "colab_type": "code",
        "outputId": "0ffc4b95-8688-4c4d-9974-39874dcfa3ca",
        "colab": {
          "base_uri": "https://localhost:8080/",
          "height": 34
        }
      },
      "source": [
        "def testCalcularHormigas():\n",
        "    assert calcularHormigas(0) == 10\n",
        "    assert calcularHormigas(1) == 15\n",
        "    assert calcularHormigas(2) == 21\n",
        "    assert calcularHormigas(3) == 30\n",
        "    assert calcularHormigas(4) == 45\n",
        "    assert calcularHormigas(5) == 66\n",
        "    assert calcularHormigas(6) == 99\n",
        "    assert calcularHormigas(7) == 147\n",
        "    assert calcularHormigas(8) == 219\n",
        "    assert calcularHormigas(9) == 327\n",
        "    assert calcularHormigas(10) == 489\n",
        "    assert calcularHormigas(11) == 732\n",
        "    assert calcularHormigas(12) == 1098\n",
        "    assert calcularHormigas(13) == 1647\n",
        "    assert calcularHormigas(14) == 2469\n",
        "    assert calcularHormigas(15) == 3702\n",
        "    assert calcularHormigas(16) == 5553\n",
        "    assert calcularHormigas(17) == 8328\n",
        "    assert calcularHormigas(18) == 12492\n",
        "    assert calcularHormigas(19) == 18738\n",
        "    print('Calcular hormigas funciona.')\n",
        "\n",
        "testCalcularHormigas()"
      ],
      "execution_count": 0,
      "outputs": [
        {
          "output_type": "stream",
          "text": [
            "Calcular hormigas funciona.\n"
          ],
          "name": "stdout"
        }
      ]
    },
    {
      "cell_type": "markdown",
      "metadata": {
        "id": "MjF7bhNx9uCH",
        "colab_type": "text"
      },
      "source": [
        "# **Ejercicio 9**\n",
        "Escriba una función que valide si un par de número son amigos. En matemáticas un par de números m y n es llamado par amigable (o números amigos), si la suma\n",
        "de todos los divisores de m (excluyendo a m) es igual al número n, y la suma de\n",
        "todos los divisores del número n (excluyendo a n) es igual a m (donde m != n).\n",
        "\n",
        "Ejemplo: los números 220 y 284 son un par amigable. La explicación es la\n",
        "siguiente:\n",
        "\n",
        "Los únicos números que dividen de forma exacta a 220 son 1, 2, 4, 5, 10, 11, 20,\n",
        "22, 44, 55 y 110, y la suma de ellos es: 1 + 2 + 4 + 5 + 10 + 11 + 20 + 22 + 44 + 55 + 110 = 284\n",
        "\n",
        "Los únicos números que dividen de forma exacta a 284 son 1, 2, 4, 71 y 142 , y\n",
        "la suma de ellos es: 1 + 2 + 4 + 71 + 142 = 220\n",
        "\n",
        "*Ejercicio tomado de William Mata*"
      ]
    },
    {
      "cell_type": "code",
      "metadata": {
        "id": "liWb0IJe-D6O",
        "colab_type": "code",
        "colab": {}
      },
      "source": [
        "# Version while\n",
        "\"\"\"\n",
        "def sumarDivisores(num):\n",
        "    # Variable donde se guarda la suma de los divisores\n",
        "    suma = 0\n",
        "    # Variable donde se va guardando cada divisor\n",
        "    div = 1\n",
        "\n",
        "    # Ejercutar hasta que divisor llegue al valor de num\n",
        "    while div < num:\n",
        "        # Si div es un divisor de numero\n",
        "        if num % div == 0:\n",
        "            # Se suma a los divisores\n",
        "            suma += div\n",
        "        \n",
        "        # Se aumenta en uno el divisor\n",
        "        div += 1\n",
        "    \n",
        "    return suma\n",
        "\"\"\"\n",
        "\n",
        "# Version For\n",
        "def sumarDivisores(num):\n",
        "    # Variable donde se guarda la suma de los divisores\n",
        "    suma = 0\n",
        "\n",
        "    # Ejercutar hasta que divisor llegue al valor de num\n",
        "    for div in range(1,  num):\n",
        "        # Si div es un divisor de numero\n",
        "        if num % div == 0:\n",
        "            # Se suma a los divisores\n",
        "            suma += div\n",
        "    \n",
        "    return suma\n",
        "\n",
        "def esParAmigable(num1, num2):\n",
        "    # Si los numeros son iguales no son amigos\n",
        "    if num1 == num2:\n",
        "        return False\n",
        "    \n",
        "    # Obtener la suma de los dvisores\n",
        "    div1 = sumarDivisores(num1)\n",
        "    div2 = sumarDivisores(num2)\n",
        "\n",
        "    # Devuelve True si la suma de los divisores del primer numero es igual al\n",
        "    # segundo numero y, a la vez, la suma de los divisores del segundo numero\n",
        "    # es igual al primer numeros\n",
        "    return div1 == num2 and div2 == num1"
      ],
      "execution_count": 0,
      "outputs": []
    },
    {
      "cell_type": "code",
      "metadata": {
        "id": "L5J3jsi7-TxV",
        "colab_type": "code",
        "outputId": "20dd7e69-b36a-42d0-effa-7ad4d6055af5",
        "colab": {
          "base_uri": "https://localhost:8080/",
          "height": 34
        }
      },
      "source": [
        "def testEsParAmigable():\n",
        "    assert esParAmigable(220, 284) == True\n",
        "    assert esParAmigable(15, 18) == False\n",
        "    assert esParAmigable(1210, 1184) == True\n",
        "    assert esParAmigable(30, 42) == False\n",
        "    assert esParAmigable(2620, 2924) == True\n",
        "    assert esParAmigable(1510, 900) == False\n",
        "    assert esParAmigable(5020, 5564) == True\n",
        "    assert esParAmigable(1234, 789) == False\n",
        "    print('Es par amigable funciona.')\n",
        "\n",
        "testEsParAmigable()"
      ],
      "execution_count": 0,
      "outputs": [
        {
          "output_type": "stream",
          "text": [
            "Es par amigable funciona.\n"
          ],
          "name": "stdout"
        }
      ]
    },
    {
      "cell_type": "markdown",
      "metadata": {
        "id": "tw6Y_7fQAtmW",
        "colab_type": "text"
      },
      "source": [
        "# **Ejercicio 10**\n",
        "\n",
        "Escriba una función para obtener un solo número que contenga todos los números\n",
        "enteros sucesivos (de 1 en 1) que se encuentren en un rango. El programa recibe\n",
        "2 entradas enteras positivas: el inicio del rango y el fin del rango.\n",
        "Retorna un número conteniendo todos los números enteros en el rango indicado.\n",
        "\n",
        "Los números deben ponerse en el resultado secuencialmente de derecha a\n",
        "izquierda.\n",
        "\n",
        "Proceso:\n",
        "Debe generar la serie de números enteros sucesivos (de 1 en 1) en el rango\n",
        "indicado y formar un solo número con esa serie. El primer número de la serie\n",
        "será el número de más a la derecha en el número resultante, luego se le pega a\n",
        "la izquierda el segundo número de la serie y así sucesivamente hasta el último\n",
        "número en el rango.\n",
        "\n",
        "*Ejercicio tomado de William Mata*"
      ]
    },
    {
      "cell_type": "code",
      "metadata": {
        "id": "hDvCbhyxBPOK",
        "colab_type": "code",
        "colab": {}
      },
      "source": [
        "# Version while\n",
        "\"\"\"\n",
        "def formarRango(inicio, fin):\n",
        "    # Variable donde se guarda el resultado\n",
        "    rango = 0\n",
        "\n",
        "    # Ejecutar ientras fin no llegue a inicio\n",
        "    while fin >= inicio:\n",
        "        # Se cuenta la cantidad de digitos que tiene el numero a agregar\n",
        "        cantidadDigitos = contarDigitos(fin)\n",
        "        # Se corre el rango a al izquierda la cantidad de digitos que tiene el\n",
        "        # numero a agregar y se suma el numero\n",
        "        rango = rango * 10**(cantidadDigitos) + fin\n",
        "        # Se disminuye fin en uno\n",
        "        fin -= 1\n",
        "\n",
        "    return rango\n",
        "\"\"\"\n",
        "\n",
        "# Version for\n",
        "def formarRango(inicio, fin):\n",
        "    # Variable donde se guarda el resultado\n",
        "    rango = 0\n",
        "\n",
        "    # Ejecutar ientras fin no llegue a inicio\n",
        "    for num in range(fin, inicio - 1, -1):\n",
        "        # Se cuenta la cantidad de digitos que tiene el numero a agregar\n",
        "        cantidadDigitos = contarDigitos(num)\n",
        "        # Se corre el rango a al izquierda la cantidad de digitos que tiene el\n",
        "        # numero a agregar y se suma el numero\n",
        "        rango = rango * 10**(cantidadDigitos) + num\n",
        "\n",
        "    return rango"
      ],
      "execution_count": 0,
      "outputs": []
    },
    {
      "cell_type": "code",
      "metadata": {
        "id": "lTDYcbjkBUWc",
        "colab_type": "code",
        "outputId": "0ea6df03-7b23-4524-d20a-46686d3a9122",
        "colab": {
          "base_uri": "https://localhost:8080/",
          "height": 34
        }
      },
      "source": [
        "def testFormarRango():\n",
        "    assert formarRango(0, 2) == 210\n",
        "    assert formarRango(0, 9) == 9876543210\n",
        "    assert formarRango(5, 10) == 1098765\n",
        "    assert formarRango(98, 101) == 1011009998\n",
        "    assert formarRango(997, 1005) == 100510041003100210011000999998997\n",
        "    print('Formar rango funciona.')\n",
        "\n",
        "testFormarRango()"
      ],
      "execution_count": 0,
      "outputs": [
        {
          "output_type": "stream",
          "text": [
            "Formar rango funciona.\n"
          ],
          "name": "stdout"
        }
      ]
    },
    {
      "cell_type": "markdown",
      "metadata": {
        "id": "1EOIXOmaCQxO",
        "colab_type": "text"
      },
      "source": [
        "# **Ejercicio Bonus**\n",
        "\n",
        "Escriba una función que reciba dos números y los concatene ordenando de mayor a\n",
        "menor los digitos de los números."
      ]
    },
    {
      "cell_type": "code",
      "metadata": {
        "id": "VTfxs6mgCo0v",
        "colab_type": "code",
        "colab": {}
      },
      "source": [
        "def insertarDigEnOrden(num, digitoAInsertar):\n",
        "    # Variable donde se guarda el nuevo numero con el digito insertado\n",
        "    nuevo = 0\n",
        "    # Factor el cual nos ayuda a aplicar la idea de notacion desarrollada\n",
        "    factor = 1\n",
        "    # Variable que indica si el digito se inserto\n",
        "    insertado = False\n",
        "\n",
        "    while num != 0 and not insertado:\n",
        "        # Guardar el digito de mas a la derecha\n",
        "        dig = num % 10\n",
        "\n",
        "        # Si el digito a insertar es menor o igual al digito actual\n",
        "        if dig >= digitoAInsertar:\n",
        "            # Se inserta ese digito junto a lo que queda del numero\n",
        "            nuevo += digitoAInsertar * factor + num * factor * 10\n",
        "            # Se indica que ya se inserto el numero\n",
        "            insertado = True\n",
        "        # Si no\n",
        "        else:\n",
        "            # Se agrega el digito de nuevo al numero\n",
        "            nuevo += dig * factor\n",
        "        \n",
        "        # Se corta el digito de mas a la derecha\n",
        "        num //= 10\n",
        "        # Se multiplica factor por diez\n",
        "        factor *= 10\n",
        "    \n",
        "    # Si el valor no se inserto\n",
        "    if not insertado:\n",
        "        # Se agrega como digito de mas a la izquierda\n",
        "        nuevo += digitoAInsertar * factor\n",
        "\n",
        "    return nuevo\n",
        "\n",
        "def insertarEnOrden(nuevo, num, cantidadCeros):\n",
        "    # Recorrer hasta que el numero se haga cero\n",
        "    while num != 0:\n",
        "        # Se toma el digito de mas a la derecha\n",
        "        dig = num % 10\n",
        "\n",
        "        # Si el digito es un valor diferente de cero\n",
        "        if dig != 0:\n",
        "            # Se inserta en orden en el nuevo numero\n",
        "            nuevo = insertarDigEnOrden(nuevo, dig)\n",
        "        # De lo contrario\n",
        "        else:\n",
        "            # Se aumenta en uno la cantidad de ceros\n",
        "            cantidadCeros += 1\n",
        "        num //= 10\n",
        "    \n",
        "    return nuevo, cantidadCeros\n",
        "\n",
        "def concatenarYOrdenar(num1, num2):\n",
        "    # Almacena la cantidad de ceros a agregar\n",
        "    cantidadCeros = 0\n",
        "\n",
        "    # Si ambos numeros son ceros\n",
        "    if num1 == 0 and num2 == 0:\n",
        "        # Se devuelve cero\n",
        "        return 0\n",
        "    # Si alguno de los numeros es cero\n",
        "    elif num1 == 0 or num2 == 0:\n",
        "        # Se agrega un cero\n",
        "        cantidadCeros += 1\n",
        "\n",
        "    # Se llama la funcion que inserta los digitos en orden\n",
        "    nuevo, cantidadCeros = insertarEnOrden(0, num1, cantidadCeros)\n",
        "    nuevo, cantidadCeros = insertarEnOrden(nuevo, num2, cantidadCeros)\n",
        "\n",
        "    # Devuelve el numero agregando la cantidad de ceros correspondiente\n",
        "    return nuevo * 10**cantidadCeros"
      ],
      "execution_count": 0,
      "outputs": []
    },
    {
      "cell_type": "code",
      "metadata": {
        "id": "1NbcNisSCwjt",
        "colab_type": "code",
        "outputId": "a80c01ac-d741-47d6-b176-fc673793c8d7",
        "colab": {
          "base_uri": "https://localhost:8080/",
          "height": 34
        }
      },
      "source": [
        "def testConcatenarYOrdenar():\n",
        "    assert concatenarYOrdenar(0, 0) == 0\n",
        "    assert concatenarYOrdenar(0, 1) == 10\n",
        "    assert concatenarYOrdenar(1, 0) == 10\n",
        "    assert concatenarYOrdenar(12, 0) == 210\n",
        "    assert concatenarYOrdenar(12, 10) == 2110\n",
        "    assert concatenarYOrdenar(123, 135) == 533211\n",
        "    assert concatenarYOrdenar(100, 901) == 911000\n",
        "    assert concatenarYOrdenar(123478, 18247) == 88774432211\n",
        "    assert concatenarYOrdenar(97624, 8462) == 987664422\n",
        "    print('Concatener y ordenar funciona')\n",
        "\n",
        "testConcatenarYOrdenar()"
      ],
      "execution_count": 0,
      "outputs": [
        {
          "output_type": "stream",
          "text": [
            "Concatener y ordenar funciona\n"
          ],
          "name": "stdout"
        }
      ]
    }
  ]
}
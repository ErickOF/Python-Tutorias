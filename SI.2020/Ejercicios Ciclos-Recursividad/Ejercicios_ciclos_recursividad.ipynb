{
  "nbformat": 4,
  "nbformat_minor": 0,
  "metadata": {
    "colab": {
      "name": "Ejercicios ciclos/recursividad.ipynb",
      "provenance": []
    },
    "kernelspec": {
      "name": "python3",
      "display_name": "Python 3"
    }
  },
  "cells": [
    {
      "cell_type": "markdown",
      "metadata": {
        "id": "tbl68znOh4M-",
        "colab_type": "text"
      },
      "source": [
        "# **Instrucciones**\n",
        "1. Utilice el siguiente archivo ya sea solo para recursividad (pila o cola) o\n",
        "solo para ciclos (while o for). Puede crear dos archivos para trabajar cada tema\n",
        "por separado.\n",
        "2. Si usa ciclos, queda a su criterio escoger cuál ciclo (while o for)\n",
        "soluciona mejor el problema (ambos podrían solucionar el mismo). Lo mismo\n",
        "aplica con recursividad.\n",
        "3. Se le provee un esqueleto de la función con los parámetros que debe recibir.\n",
        "Su trabajo es rellenar la función para que cumpla con la especificación del\n",
        "ejercicio.\n",
        "4. Se provee una función la cuál realiza las pruebas necesarias. Si su función\n",
        "pasa todas las pruebas, significa que está correcta. De lo contrario, debe\n",
        "cambiar el ejercicio.\n",
        "5. Estos ejercicios son únicamente de práctica, por lo que si lo desea puede\n",
        "enviarlos al tutor para recibir feedback. No es obligatorio hacerlos.\n",
        "6. Debe de quitar el comentario a la función de prueba que desear probar.\n",
        "7. Puede implementar cualquier función extra que necesite, así como reutilizar\n",
        "función ya hechas en este código."
      ]
    },
    {
      "cell_type": "markdown",
      "metadata": {
        "id": "U5qE1BfbhveQ",
        "colab_type": "text"
      },
      "source": [
        "## **Ejemplo**\n",
        "\n",
        "Realice una función que cuente la cantidad de dígitos de un número\n",
        "\n",
        "```python\n",
        ">>> contarDigitos(23)\n",
        "2\n",
        ">>> contarDigitos(23456)\n",
        "5\n",
        ">>> contarDigitos(123)\n",
        "3\n",
        ">>> contarDigitos(-12123)\n",
        "5\n",
        "```"
      ]
    },
    {
      "cell_type": "code",
      "metadata": {
        "id": "c8uK2YM4hcEG",
        "colab_type": "code",
        "colab": {}
      },
      "source": [
        "def contarDigitos(num):\n",
        "    if num == 0:\n",
        "        return 1\n",
        "    elif num < 0:\n",
        "        num = abs(num)\n",
        "\n",
        "    cantidad = 0\n",
        "\n",
        "    while num != 0:\n",
        "        cantidad += 1\n",
        "        num //= 10\n",
        "    \n",
        "    return cantidad"
      ],
      "execution_count": 0,
      "outputs": []
    },
    {
      "cell_type": "code",
      "metadata": {
        "id": "18EuGMV7kkEv",
        "colab_type": "code",
        "outputId": "43f7fcfd-6a50-4fa1-8ae5-2d62e400352e",
        "colab": {
          "base_uri": "https://localhost:8080/",
          "height": 34
        }
      },
      "source": [
        "def testContarDigitos():\n",
        "    assert contarDigitos(0) == 1\n",
        "    assert contarDigitos(23) == 2\n",
        "    assert contarDigitos(-1) == 1\n",
        "    assert contarDigitos(3483578) == 7\n",
        "    assert contarDigitos(-98748578995) == 11\n",
        "    assert contarDigitos(-15) == 2\n",
        "    print('Contar digitos funciona.')\n",
        "\n",
        "testContarDigitos()"
      ],
      "execution_count": 0,
      "outputs": [
        {
          "output_type": "stream",
          "text": [
            "Contar digitos funciona.\n"
          ],
          "name": "stdout"
        }
      ]
    },
    {
      "cell_type": "markdown",
      "metadata": {
        "id": "Rmnw-qZwl33A",
        "colab_type": "text"
      },
      "source": [
        "## **Ejercicio 1**\n",
        "\n",
        "Escribir una función que encadene los dígitos del segundo número con el primer número, de acuerdo al comportamiento siguiente:"
      ]
    },
    {
      "cell_type": "code",
      "metadata": {
        "id": "zcX6Q-u-mh2C",
        "colab_type": "code",
        "colab": {}
      },
      "source": [
        "def concatenarNumeros(num1, num2):\n",
        "    return 0"
      ],
      "execution_count": 0,
      "outputs": []
    },
    {
      "cell_type": "code",
      "metadata": {
        "id": "mgPuufVzmqev",
        "colab_type": "code",
        "colab": {}
      },
      "source": [
        "def testConcatenarNumeros():\n",
        "    assert concatenarNumeros(0, 0) == 0\n",
        "    assert concatenarNumeros(0, 1) == 1\n",
        "    assert concatenarNumeros(0, 12) == 12\n",
        "    assert concatenarNumeros(0, 100) == 100\n",
        "    assert concatenarNumeros(0, 123455678) == 123455678\n",
        "    assert concatenarNumeros(1, 0) == 10\n",
        "    assert concatenarNumeros(12, 0) == 120\n",
        "    assert concatenarNumeros(450, 0) == 4500\n",
        "    assert concatenarNumeros(123456, 10) == 12345610\n",
        "    assert concatenarNumeros(39835938, 39458349) == 3983593839458349\n",
        "    assert concatenarNumeros(2346, 28743) == 234628743\n",
        "    print('Concatenar numeros funciona.')\n",
        "\n",
        "#testConcatenarNumeros()"
      ],
      "execution_count": 0,
      "outputs": []
    },
    {
      "cell_type": "markdown",
      "metadata": {
        "id": "bgJAEwSOoUGE",
        "colab_type": "text"
      },
      "source": [
        "# **Ejercicio 2**\n",
        "\n",
        "Escribir una función que construya un nuevo número con los dígitos pares de\n",
        "*num1*."
      ]
    },
    {
      "cell_type": "code",
      "metadata": {
        "id": "1tKPgPRAoTVW",
        "colab_type": "code",
        "colab": {}
      },
      "source": [
        "def construirPares(num):\n",
        "    return 0"
      ],
      "execution_count": 0,
      "outputs": []
    },
    {
      "cell_type": "code",
      "metadata": {
        "id": "GW_JPRekop0D",
        "colab_type": "code",
        "colab": {}
      },
      "source": [
        "def testConstruirPares():\n",
        "    assert construirPares(0) == 0\n",
        "    assert construirPares(1) == -1\n",
        "    assert construirPares(2) == 2\n",
        "    assert construirPares(3) == -1\n",
        "    assert construirPares(4) == 4\n",
        "    assert construirPares(5) == -1\n",
        "    assert construirPares(6) == 6\n",
        "    assert construirPares(7) == -1\n",
        "    assert construirPares(8) == 8\n",
        "    assert construirPares(9) == -1\n",
        "    assert construirPares(22) == 22\n",
        "    assert construirPares(324) == 24\n",
        "    assert construirPares(357385) == 8\n",
        "    assert construirPares(350085) == 8\n",
        "    assert construirPares(357305) == 0\n",
        "    assert construirPares(19385938359) == 88\n",
        "    assert construirPares(135797531) == -1\n",
        "    assert construirPares(1847387) == 848\n",
        "    print('Construir pares funciona.')\n",
        "\n",
        "#testConstruirPares()"
      ],
      "execution_count": 0,
      "outputs": []
    },
    {
      "cell_type": "markdown",
      "metadata": {
        "id": "vQ_1b0pKqKzP",
        "colab_type": "text"
      },
      "source": [
        "# **Ejercicio 3**\n",
        "\n",
        "Escribir una función que cuente la cantidad de apariciones de un dígito en un\n",
        "número."
      ]
    },
    {
      "cell_type": "code",
      "metadata": {
        "id": "20PZUzhcqePz",
        "colab_type": "code",
        "colab": {}
      },
      "source": [
        "def contarApariciones(digito, num):\n",
        "    return 0"
      ],
      "execution_count": 0,
      "outputs": []
    },
    {
      "cell_type": "code",
      "metadata": {
        "id": "QJSk2CPVrP3K",
        "colab_type": "code",
        "colab": {}
      },
      "source": [
        "def testContarApariciones():\n",
        "    assert contarApariciones(0, 0) == 1\n",
        "    assert contarApariciones(1, 0) == 0\n",
        "    assert contarApariciones(2, 0) == 0\n",
        "    assert contarApariciones(7, 0) == 0\n",
        "    assert contarApariciones(8, 0) == 0\n",
        "    assert contarApariciones(1, 10) == 1\n",
        "    assert contarApariciones(2, 129) == 1\n",
        "    assert contarApariciones(8, 43658379) == 1\n",
        "    assert contarApariciones(6, 86482765785) == 2\n",
        "    assert contarApariciones(3, 33333) == 5\n",
        "    assert contarApariciones(2, 3828722982223059) == 6\n",
        "    assert contarApariciones(1, 9849580258290) == 0\n",
        "    print('Contar apariciones funciona.')\n",
        "\n",
        "#testContarApariciones()"
      ],
      "execution_count": 0,
      "outputs": []
    },
    {
      "cell_type": "markdown",
      "metadata": {
        "id": "BRWik9fysUkQ",
        "colab_type": "text"
      },
      "source": [
        "# **Ejercicio 4**\n",
        "\n",
        "Escriba una función que calcule el factorial de un número\n",
        "\n",
        "$0! = 1$\n",
        "\n",
        "$1! = 1$\n",
        "\n",
        "$2! = 2 * 1 = 2$\n",
        "\n",
        "$3! = 3 * 2 * 1 = 6$\n",
        "\n",
        "$4! = 4 * 3 * 2 * 1 = 24$\n",
        "\n",
        "$n! = n * (n - 1) * (n - 2) * ... * 2 * 1$"
      ]
    },
    {
      "cell_type": "code",
      "metadata": {
        "id": "1L7A-01jtSEl",
        "colab_type": "code",
        "colab": {}
      },
      "source": [
        "def factorial(num):\n",
        "    return 0"
      ],
      "execution_count": 0,
      "outputs": []
    },
    {
      "cell_type": "code",
      "metadata": {
        "id": "SHMambPJtac2",
        "colab_type": "code",
        "colab": {}
      },
      "source": [
        "def testFactorial():\n",
        "    assert factorial(0) == 1\n",
        "    assert factorial(1) == 1\n",
        "    assert factorial(2) == 2\n",
        "    assert factorial(3) == 6\n",
        "    assert factorial(4) == 24\n",
        "    assert factorial(5) == 120\n",
        "    assert factorial(6) == 720\n",
        "    assert factorial(7) == 5040\n",
        "    assert factorial(8) == 40320\n",
        "    assert factorial(9) == 362880\n",
        "    assert factorial(10) == 3628800\n",
        "    assert factorial(11) == 39916800\n",
        "    assert factorial(12) == 479001600\n",
        "    assert factorial(13) == 6227020800\n",
        "    assert factorial(14) == 87178291200\n",
        "    assert factorial(15) == 1307674368000\n",
        "    print('Factorial funciona.')\n",
        "\n",
        "#testFactorial()"
      ],
      "execution_count": 0,
      "outputs": []
    },
    {
      "cell_type": "markdown",
      "metadata": {
        "id": "AwfBLU6lvN1S",
        "colab_type": "text"
      },
      "source": [
        "# **Ejercicio 5**\n",
        "\n",
        "Escribir una función que calcule el fibonacci de un número.\n",
        "El fibonacci de un número es la suma del fibonacci del anterior y el\n",
        "trasanterior.\n",
        "\n",
        "$fibonacci(0) = 0$\n",
        "\n",
        "$fibonacci(1) = 1$\n",
        "\n",
        "$fibonacci(n) = fibonacci(n - 1) + fibonacci(n - 2)$"
      ]
    },
    {
      "cell_type": "code",
      "metadata": {
        "id": "sdj2TW14vsEX",
        "colab_type": "code",
        "colab": {}
      },
      "source": [
        "def fibonacci(num):\n",
        "    return 0"
      ],
      "execution_count": 0,
      "outputs": []
    },
    {
      "cell_type": "code",
      "metadata": {
        "id": "p5Fo40AVvuos",
        "colab_type": "code",
        "colab": {}
      },
      "source": [
        "def testFibonacci():\n",
        "    assert fibonacci(0) == 0\n",
        "    assert fibonacci(1) == 1\n",
        "    assert fibonacci(2) == 1\n",
        "    assert fibonacci(3) == 2\n",
        "    assert fibonacci(4) == 3\n",
        "    assert fibonacci(5) == 5\n",
        "    assert fibonacci(6) == 8\n",
        "    assert fibonacci(7) == 13\n",
        "    assert fibonacci(8) == 21\n",
        "    assert fibonacci(9) == 34\n",
        "    assert fibonacci(10) == 55\n",
        "    assert fibonacci(11) == 89\n",
        "    assert fibonacci(12) == 144\n",
        "    assert fibonacci(13) == 233\n",
        "    assert fibonacci(14) == 377\n",
        "    assert fibonacci(15) == 610\n",
        "    print('Fibonacci funciona.')\n",
        "\n",
        "#testFibonacci()"
      ],
      "execution_count": 0,
      "outputs": []
    },
    {
      "cell_type": "markdown",
      "metadata": {
        "id": "bS8DJCPazMsV",
        "colab_type": "text"
      },
      "source": [
        "# **Ejercicio 6**\n",
        "\n",
        "Escriba una función que valida si un número es un palíndromo.\n",
        "Un número es un palíndromo si es igual al darle la vuelta."
      ]
    },
    {
      "cell_type": "code",
      "metadata": {
        "id": "KyRK2tlzzg46",
        "colab_type": "code",
        "colab": {}
      },
      "source": [
        "def esPalindromo(num):\n",
        "    return False"
      ],
      "execution_count": 0,
      "outputs": []
    },
    {
      "cell_type": "code",
      "metadata": {
        "id": "CLnZE0TSzlrd",
        "colab_type": "code",
        "colab": {}
      },
      "source": [
        "def testEsPalindromo():\n",
        "    assert esPalindromo(0) == True\n",
        "    assert esPalindromo(1) == True\n",
        "    assert esPalindromo(22) == True\n",
        "    assert esPalindromo(23) == False\n",
        "    assert esPalindromo(123) == False\n",
        "    assert esPalindromo(151) == True\n",
        "    assert esPalindromo(2657) == False\n",
        "    assert esPalindromo(2222) == True\n",
        "    assert esPalindromo(1234321) == True\n",
        "    assert esPalindromo(1231234) == False\n",
        "    assert esPalindromo(23145654132) == True\n",
        "    assert esPalindromo(123214) == False\n",
        "    assert esPalindromo(1234567890987654321) == True\n",
        "    print('Es palindromo funciona.')\n",
        "\n",
        "#testEsPalindromo()"
      ],
      "execution_count": 0,
      "outputs": []
    },
    {
      "cell_type": "markdown",
      "metadata": {
        "id": "08KNPg3_5r8P",
        "colab_type": "text"
      },
      "source": [
        "# **Ejercicio 7**\n",
        "\n",
        "Escriba una función  que reciba dos números enteros y obtenga como resultado\n",
        "dos números, el primero compuesto por los dígitos del primer número que no\n",
        "pertenecen al segundo número y el segundo formado por los elementos del segundo\n",
        "número que no pertenecen al primer número."
      ]
    },
    {
      "cell_type": "code",
      "metadata": {
        "id": "DXBBaX-46Mzj",
        "colab_type": "code",
        "colab": {}
      },
      "source": [
        "def calcularDiferencia(num1, num2):\n",
        "    return 0, 0"
      ],
      "execution_count": 0,
      "outputs": []
    },
    {
      "cell_type": "code",
      "metadata": {
        "id": "Hx5Cp3Ws6Saa",
        "colab_type": "code",
        "colab": {}
      },
      "source": [
        "def testCalcularDiferencia():\n",
        "    assert calcularDiferencia(0, 0) == (0, 0)\n",
        "    assert calcularDiferencia(1234, 254) == (13, 5)\n",
        "    assert calcularDiferencia(1468, 866124) == (0, 2)\n",
        "    assert calcularDiferencia(2935, 623587) == (9, 687)\n",
        "    assert calcularDiferencia(8527938, 8452739) == (0, 4)\n",
        "    assert calcularDiferencia(893475, 389457) == (0, 0)\n",
        "    assert calcularDiferencia(73528, 283049) == (75, 49)\n",
        "    assert calcularDiferencia(35897, 8387) == (59, 0)\n",
        "    assert calcularDiferencia(29370, 1487) == (2930, 148)\n",
        "    print('Calcular diferencia funciona.')\n",
        "\n",
        "#testCalcularDiferencia()"
      ],
      "execution_count": 0,
      "outputs": []
    },
    {
      "cell_type": "markdown",
      "metadata": {
        "id": "AkD6UCYXzkue",
        "colab_type": "text"
      },
      "source": [
        "# **Ejercicio 8**\n",
        "\n",
        "Si de 5 parejas de hormigas cada una engendra 3 hormiguitas, luego mueren,\n",
        "dejando que las 15 hormiguitas nacidas, engendren también 3 hormiguitas por\n",
        "pareja, luego mueren y se sigue repitiendo el proceso.\n",
        "Escriba una función que recibe como argumento un entero positivo y que\n",
        "determine el número de hormiguitas qué existirán al cabo de n períodos.\n",
        "Considere que siempre se pueden formar las parejas."
      ]
    },
    {
      "cell_type": "code",
      "metadata": {
        "id": "R4b5GZhl1lEE",
        "colab_type": "code",
        "colab": {}
      },
      "source": [
        "def calcularHormigas(n):\n",
        "    return 0"
      ],
      "execution_count": 0,
      "outputs": []
    },
    {
      "cell_type": "code",
      "metadata": {
        "id": "_kfa3hp01qxJ",
        "colab_type": "code",
        "colab": {}
      },
      "source": [
        "def testCalcularHormigas():\n",
        "    assert calcularHormigas(0) == 10\n",
        "    assert calcularHormigas(1) == 15\n",
        "    assert calcularHormigas(2) == 21\n",
        "    assert calcularHormigas(3) == 30\n",
        "    assert calcularHormigas(4) == 45\n",
        "    assert calcularHormigas(5) == 66\n",
        "    assert calcularHormigas(6) == 99\n",
        "    assert calcularHormigas(7) == 147\n",
        "    assert calcularHormigas(8) == 219\n",
        "    assert calcularHormigas(9) == 327\n",
        "    assert calcularHormigas(10) == 489\n",
        "    assert calcularHormigas(11) == 732\n",
        "    assert calcularHormigas(12) == 1098\n",
        "    assert calcularHormigas(13) == 1647\n",
        "    assert calcularHormigas(14) == 2469\n",
        "    assert calcularHormigas(15) == 3702\n",
        "    assert calcularHormigas(16) == 5553\n",
        "    assert calcularHormigas(17) == 8328\n",
        "    assert calcularHormigas(18) == 12492\n",
        "    assert calcularHormigas(19) == 18738\n",
        "    print('Calcular hormigas funciona.')\n",
        "\n",
        "#testCalcularHormigas()"
      ],
      "execution_count": 0,
      "outputs": []
    },
    {
      "cell_type": "markdown",
      "metadata": {
        "id": "MjF7bhNx9uCH",
        "colab_type": "text"
      },
      "source": [
        "# **Ejercicio 9**\n",
        "Escriba una función que valide si un par de número son amigos. En matemáticas un par de números m y n es llamado par amigable (o números amigos), si la suma\n",
        "de todos los divisores de m (excluyendo a m) es igual al número n, y la suma de\n",
        "todos los divisores del número n (excluyendo a n) es igual a m (donde m != n).\n",
        "\n",
        "Ejemplo: los números 220 y 284 son un par amigable. La explicación es la\n",
        "siguiente:\n",
        "\n",
        "Los únicos números que dividen de forma exacta a 220 son 1, 2, 4, 5, 10, 11, 20,\n",
        "22, 44, 55 y 110, y la suma de ellos es: 1 + 2 + 4 + 5 + 10 + 11 + 20 + 22 + 44\n",
        "+ 55 + 110 = 284\n",
        "\n",
        "Los únicos números que dividen de forma exacta a 284 son 1, 2, 4, 71 y 142 , y\n",
        "la suma de ellos es: 1 + 2 + 4 + 71 + 142 = 220\n",
        "\n",
        "*Ejercicio tomado de William Mata*"
      ]
    },
    {
      "cell_type": "code",
      "metadata": {
        "id": "liWb0IJe-D6O",
        "colab_type": "code",
        "colab": {}
      },
      "source": [
        "def esParAmigable(num1, num2):\n",
        "    return False"
      ],
      "execution_count": 0,
      "outputs": []
    },
    {
      "cell_type": "code",
      "metadata": {
        "id": "L5J3jsi7-TxV",
        "colab_type": "code",
        "colab": {}
      },
      "source": [
        "def testEsParAmigable():\n",
        "    assert esParAmigable(220, 284) == True\n",
        "    assert esParAmigable(15, 18) == False\n",
        "    assert esParAmigable(1210, 1184) == True\n",
        "    assert esParAmigable(30, 42) == False\n",
        "    assert esParAmigable(2620, 2924) == True\n",
        "    assert esParAmigable(1510, 900) == False\n",
        "    assert esParAmigable(5020, 5564) == True\n",
        "    assert esParAmigable(1234, 789) == False\n",
        "    print('Es par amigable funciona.')\n",
        "\n",
        "#testEsParAmigable()"
      ],
      "execution_count": 0,
      "outputs": []
    },
    {
      "cell_type": "markdown",
      "metadata": {
        "id": "tw6Y_7fQAtmW",
        "colab_type": "text"
      },
      "source": [
        "# **Ejercicio 10**\n",
        "\n",
        "Escriba una función para obtener un solo número que contenga todos los números\n",
        "enteros sucesivos (de 1 en 1) que se encuentren en un rango. El programa recibe\n",
        "2 entradas enteras positivas: el inicio del rango y el fin del rango.\n",
        "Retorna un número conteniendo todos los números enteros en el rango indicado.\n",
        "\n",
        "Los números deben ponerse en el resultado secuencialmente de derecha a\n",
        "izquierda.\n",
        "\n",
        "Proceso:\n",
        "Debe generar la serie de números enteros sucesivos (de 1 en 1) en el rango\n",
        "indicado y formar un solo número con esa serie. El primer número de la serie\n",
        "será el número de más a la derecha en el número resultante, luego se le pega a\n",
        "la izquierda el segundo número de la serie y así sucesivamente hasta el último\n",
        "número en el rango.\n",
        "\n",
        "*Ejercicio tomado de William Mata*"
      ]
    },
    {
      "cell_type": "code",
      "metadata": {
        "id": "hDvCbhyxBPOK",
        "colab_type": "code",
        "colab": {}
      },
      "source": [
        "def formarRango(inicio, fin):\n",
        "    return 0"
      ],
      "execution_count": 0,
      "outputs": []
    },
    {
      "cell_type": "code",
      "metadata": {
        "id": "lTDYcbjkBUWc",
        "colab_type": "code",
        "colab": {}
      },
      "source": [
        "def testFormarRango():\n",
        "    assert formarRango(0, 2) == 210\n",
        "    assert formarRango(0, 9) == 9876543210\n",
        "    assert formarRango(5, 10) == 1098765\n",
        "    assert formarRango(98, 101) == 1011009998\n",
        "    assert formarRango(997, 1005) == 100510041003100210011000999998997\n",
        "    print('Formar rango funciona.')\n",
        "\n",
        "#testFormarRango()"
      ],
      "execution_count": 0,
      "outputs": []
    },
    {
      "cell_type": "markdown",
      "metadata": {
        "id": "1EOIXOmaCQxO",
        "colab_type": "text"
      },
      "source": [
        "# **Ejercicio Bonus**\n",
        "\n",
        "Escriba una función que reciba dos números y los concatene ordenando de mayor a\n",
        "menor los digitos de los números."
      ]
    },
    {
      "cell_type": "code",
      "metadata": {
        "id": "VTfxs6mgCo0v",
        "colab_type": "code",
        "colab": {}
      },
      "source": [
        "def concatenarYOrdenar(num1, num2):\n",
        "    return 0"
      ],
      "execution_count": 0,
      "outputs": []
    },
    {
      "cell_type": "code",
      "metadata": {
        "id": "1NbcNisSCwjt",
        "colab_type": "code",
        "colab": {}
      },
      "source": [
        "def testConcatenarYOrdenar():\n",
        "    assert concatenarYOrdenar(0, 0) == 0\n",
        "    assert concatenarYOrdenar(0, 1) == 10\n",
        "    assert concatenarYOrdenar(1, 0) == 10\n",
        "    assert concatenarYOrdenar(12, 0) == 210\n",
        "    assert concatenarYOrdenar(12, 10) == 2110\n",
        "    assert concatenarYOrdenar(123, 135) == 533211\n",
        "    assert concatenarYOrdenar(100, 901) == 911000\n",
        "    assert concatenarYOrdenar(123478, 18247) == 88774432211\n",
        "    assert concatenarYOrdenar(97624, 8462) == 987664422\n",
        "    print('Concatener y ordenar funciona')\n",
        "\n",
        "#testConcatenarYOrdenar()"
      ],
      "execution_count": 0,
      "outputs": []
    }
  ]
}
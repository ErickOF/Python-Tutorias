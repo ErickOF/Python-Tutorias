{
  "nbformat": 4,
  "nbformat_minor": 0,
  "metadata": {
    "colab": {
      "name": "Tutoría Semana 8.ipynb",
      "provenance": [],
      "collapsed_sections": []
    },
    "kernelspec": {
      "name": "python3",
      "display_name": "Python 3"
    }
  },
  "cells": [
    {
      "cell_type": "markdown",
      "metadata": {
        "id": "cFyfQkEzW7AG",
        "colab_type": "text"
      },
      "source": [
        "# Separar cadenas con\n",
        "```python\n",
        "str.split()\n",
        "```"
      ]
    },
    {
      "cell_type": "code",
      "metadata": {
        "id": "NwW7WcesUmZo",
        "colab_type": "code",
        "colab": {}
      },
      "source": [
        "cadena = \"Hola soy Erick\""
      ],
      "execution_count": 0,
      "outputs": []
    },
    {
      "cell_type": "code",
      "metadata": {
        "id": "y1QzW7tnUuVY",
        "colab_type": "code",
        "outputId": "ea0a80ce-a942-43d0-d920-5e0919444bfe",
        "colab": {
          "base_uri": "https://localhost:8080/",
          "height": 34
        }
      },
      "source": [
        "cadena.split()"
      ],
      "execution_count": 0,
      "outputs": [
        {
          "output_type": "execute_result",
          "data": {
            "text/plain": [
              "['Hola', 'soy', 'Erick']"
            ]
          },
          "metadata": {
            "tags": []
          },
          "execution_count": 2
        }
      ]
    },
    {
      "cell_type": "code",
      "metadata": {
        "id": "7UDsjrQ-Uy-c",
        "colab_type": "code",
        "outputId": "01f132f5-0397-48c3-bfd2-1c6816c3322f",
        "colab": {
          "base_uri": "https://localhost:8080/",
          "height": 34
        }
      },
      "source": [
        "cadena.split(' ')"
      ],
      "execution_count": 0,
      "outputs": [
        {
          "output_type": "execute_result",
          "data": {
            "text/plain": [
              "['Hola', 'soy', 'Erick']"
            ]
          },
          "metadata": {
            "tags": []
          },
          "execution_count": 3
        }
      ]
    },
    {
      "cell_type": "code",
      "metadata": {
        "id": "pIXk0xnSU3WG",
        "colab_type": "code",
        "outputId": "4c91f529-951f-4486-e8d1-8ba20d129ab5",
        "colab": {
          "base_uri": "https://localhost:8080/",
          "height": 34
        }
      },
      "source": [
        "cadena.split('a')"
      ],
      "execution_count": 0,
      "outputs": [
        {
          "output_type": "execute_result",
          "data": {
            "text/plain": [
              "['Hol', ' soy Erick']"
            ]
          },
          "metadata": {
            "tags": []
          },
          "execution_count": 4
        }
      ]
    },
    {
      "cell_type": "code",
      "metadata": {
        "id": "jJ_iU9y4U8SO",
        "colab_type": "code",
        "colab": {}
      },
      "source": [
        "cadena = 'Lorem ipsum dolor sit amet, consectetur adipiscing elit, sed do eiusmod tempor incididunt ut labore et dolore magna aliqua. Ut enim ad minim veniam, quis nostrud exercitation ullamco laboris nisi ut aliquip ex ea commodo consequat. Duis aute irure dolor in reprehenderit in voluptate velit esse cillum dolore eu fugiat nulla pariatur. Excepteur sint occaecat cupidatat non proident, sunt in culpa qui officia deserunt mollit anim id est laborum.'"
      ],
      "execution_count": 0,
      "outputs": []
    },
    {
      "cell_type": "code",
      "metadata": {
        "id": "o_asBpEGVI4l",
        "colab_type": "code",
        "outputId": "6f024998-a5fa-423e-d0ec-5a8f3efdeb9b",
        "colab": {
          "base_uri": "https://localhost:8080/",
          "height": 1000
        }
      },
      "source": [
        "cadena.split()"
      ],
      "execution_count": 0,
      "outputs": [
        {
          "output_type": "execute_result",
          "data": {
            "text/plain": [
              "['Lorem',\n",
              " 'ipsum',\n",
              " 'dolor',\n",
              " 'sit',\n",
              " 'amet,',\n",
              " 'consectetur',\n",
              " 'adipiscing',\n",
              " 'elit,',\n",
              " 'sed',\n",
              " 'do',\n",
              " 'eiusmod',\n",
              " 'tempor',\n",
              " 'incididunt',\n",
              " 'ut',\n",
              " 'labore',\n",
              " 'et',\n",
              " 'dolore',\n",
              " 'magna',\n",
              " 'aliqua.',\n",
              " 'Ut',\n",
              " 'enim',\n",
              " 'ad',\n",
              " 'minim',\n",
              " 'veniam,',\n",
              " 'quis',\n",
              " 'nostrud',\n",
              " 'exercitation',\n",
              " 'ullamco',\n",
              " 'laboris',\n",
              " 'nisi',\n",
              " 'ut',\n",
              " 'aliquip',\n",
              " 'ex',\n",
              " 'ea',\n",
              " 'commodo',\n",
              " 'consequat.',\n",
              " 'Duis',\n",
              " 'aute',\n",
              " 'irure',\n",
              " 'dolor',\n",
              " 'in',\n",
              " 'reprehenderit',\n",
              " 'in',\n",
              " 'voluptate',\n",
              " 'velit',\n",
              " 'esse',\n",
              " 'cillum',\n",
              " 'dolore',\n",
              " 'eu',\n",
              " 'fugiat',\n",
              " 'nulla',\n",
              " 'pariatur.',\n",
              " 'Excepteur',\n",
              " 'sint',\n",
              " 'occaecat',\n",
              " 'cupidatat',\n",
              " 'non',\n",
              " 'proident,',\n",
              " 'sunt',\n",
              " 'in',\n",
              " 'culpa',\n",
              " 'qui',\n",
              " 'officia',\n",
              " 'deserunt',\n",
              " 'mollit',\n",
              " 'anim',\n",
              " 'id',\n",
              " 'est',\n",
              " 'laborum.']"
            ]
          },
          "metadata": {
            "tags": []
          },
          "execution_count": 6
        }
      ]
    },
    {
      "cell_type": "code",
      "metadata": {
        "id": "HVivFE4sVMf_",
        "colab_type": "code",
        "outputId": "47ee28d2-1d2c-4475-ef3f-9fcc2bc9f109",
        "colab": {
          "base_uri": "https://localhost:8080/",
          "height": 122
        }
      },
      "source": [
        "cadena.split(',')"
      ],
      "execution_count": 0,
      "outputs": [
        {
          "output_type": "execute_result",
          "data": {
            "text/plain": [
              "['Lorem ipsum dolor sit amet',\n",
              " ' consectetur adipiscing elit',\n",
              " ' sed do eiusmod tempor incididunt ut labore et dolore magna aliqua. Ut enim ad minim veniam',\n",
              " ' quis nostrud exercitation ullamco laboris nisi ut aliquip ex ea commodo consequat. Duis aute irure dolor in reprehenderit in voluptate velit esse cillum dolore eu fugiat nulla pariatur. Excepteur sint occaecat cupidatat non proident',\n",
              " ' sunt in culpa qui officia deserunt mollit anim id est laborum.']"
            ]
          },
          "metadata": {
            "tags": []
          },
          "execution_count": 7
        }
      ]
    },
    {
      "cell_type": "code",
      "metadata": {
        "id": "CUpMY8JcVQFx",
        "colab_type": "code",
        "outputId": "ef8f35aa-e644-4386-b9fa-c6915c3e8bbc",
        "colab": {
          "base_uri": "https://localhost:8080/",
          "height": 54
        }
      },
      "source": [
        "cadena.splitlines()"
      ],
      "execution_count": 0,
      "outputs": [
        {
          "output_type": "execute_result",
          "data": {
            "text/plain": [
              "['Lorem ipsum dolor sit amet, consectetur adipiscing elit, sed do eiusmod tempor incididunt ut labore et dolore magna aliqua. Ut enim ad minim veniam, quis nostrud exercitation ullamco laboris nisi ut aliquip ex ea commodo consequat. Duis aute irure dolor in reprehenderit in voluptate velit esse cillum dolore eu fugiat nulla pariatur. Excepteur sint occaecat cupidatat non proident, sunt in culpa qui officia deserunt mollit anim id est laborum.']"
            ]
          },
          "metadata": {
            "tags": []
          },
          "execution_count": 8
        }
      ]
    },
    {
      "cell_type": "code",
      "metadata": {
        "id": "8R6Gzm7RVUs0",
        "colab_type": "code",
        "colab": {}
      },
      "source": [
        "cadena2 = 'Hola soy Erick\\nAdios Juana\\nComer dulces\\nManzanas rojas\\n'"
      ],
      "execution_count": 0,
      "outputs": []
    },
    {
      "cell_type": "code",
      "metadata": {
        "id": "pkB9yyTcVZw8",
        "colab_type": "code",
        "outputId": "d933b791-bc30-418f-a8ba-6adbc0e5b8e8",
        "colab": {
          "base_uri": "https://localhost:8080/",
          "height": 34
        }
      },
      "source": [
        "cadena2.splitlines()"
      ],
      "execution_count": 0,
      "outputs": [
        {
          "output_type": "execute_result",
          "data": {
            "text/plain": [
              "['Hola soy Erick', 'Adios Juana', 'Comer dulces', 'Manzanas rojas']"
            ]
          },
          "metadata": {
            "tags": []
          },
          "execution_count": 12
        }
      ]
    },
    {
      "cell_type": "code",
      "metadata": {
        "id": "yoHpWdgTVwPh",
        "colab_type": "code",
        "outputId": "754c9835-b937-4884-9b10-4f3a95f0c941",
        "colab": {
          "base_uri": "https://localhost:8080/",
          "height": 34
        }
      },
      "source": [
        "cadena2.split('\\n')"
      ],
      "execution_count": 0,
      "outputs": [
        {
          "output_type": "execute_result",
          "data": {
            "text/plain": [
              "['Hola soy Erick', 'Adios Juana', 'Comer dulces', 'Manzanas rojas', '']"
            ]
          },
          "metadata": {
            "tags": []
          },
          "execution_count": 13
        }
      ]
    },
    {
      "cell_type": "code",
      "metadata": {
        "id": "Ph0lX7AnV89f",
        "colab_type": "code",
        "outputId": "2fb8e010-d898-4eb0-b9e4-299d58d88073",
        "colab": {
          "base_uri": "https://localhost:8080/",
          "height": 323
        }
      },
      "source": [
        "cadena.split('m')"
      ],
      "execution_count": 0,
      "outputs": [
        {
          "output_type": "execute_result",
          "data": {
            "text/plain": [
              "['Lore',\n",
              " ' ipsu',\n",
              " ' dolor sit a',\n",
              " 'et, consectetur adipiscing elit, sed do eius',\n",
              " 'od te',\n",
              " 'por incididunt ut labore et dolore ',\n",
              " 'agna aliqua. Ut eni',\n",
              " ' ad ',\n",
              " 'ini',\n",
              " ' venia',\n",
              " ', quis nostrud exercitation ulla',\n",
              " 'co laboris nisi ut aliquip ex ea co',\n",
              " '',\n",
              " 'odo consequat. Duis aute irure dolor in reprehenderit in voluptate velit esse cillu',\n",
              " ' dolore eu fugiat nulla pariatur. Excepteur sint occaecat cupidatat non proident, sunt in culpa qui officia deserunt ',\n",
              " 'ollit ani',\n",
              " ' id est laboru',\n",
              " '.']"
            ]
          },
          "metadata": {
            "tags": []
          },
          "execution_count": 19
        }
      ]
    },
    {
      "cell_type": "markdown",
      "metadata": {
        "id": "-quaKjRDXD3j",
        "colab_type": "text"
      },
      "source": [
        "# Listas"
      ]
    },
    {
      "cell_type": "code",
      "metadata": {
        "id": "_MC2aMwBXDNx",
        "colab_type": "code",
        "colab": {}
      },
      "source": [
        "lista = []"
      ],
      "execution_count": 0,
      "outputs": []
    },
    {
      "cell_type": "code",
      "metadata": {
        "id": "RXfnrJPkXgKr",
        "colab_type": "code",
        "colab": {}
      },
      "source": [
        "lista = [1, 2, 3, 4, 5, ...]"
      ],
      "execution_count": 0,
      "outputs": []
    },
    {
      "cell_type": "code",
      "metadata": {
        "id": "0CuUm_YhXiXd",
        "colab_type": "code",
        "colab": {}
      },
      "source": [
        "lista = ['hola', 'adios', 'salud', ...]"
      ],
      "execution_count": 0,
      "outputs": []
    },
    {
      "cell_type": "code",
      "metadata": {
        "id": "ZZbaVd2RXmVE",
        "colab_type": "code",
        "colab": {}
      },
      "source": [
        "lista = [1, 2, 'hola', [1, 2, 3], {'hola': 23}, {1, 2, 3}]"
      ],
      "execution_count": 0,
      "outputs": []
    },
    {
      "cell_type": "code",
      "metadata": {
        "id": "ZtAYd5LeXv4h",
        "colab_type": "code",
        "outputId": "4505acb5-543c-4e00-f734-0f66a3672573",
        "colab": {
          "base_uri": "https://localhost:8080/",
          "height": 34
        }
      },
      "source": [
        "lista[0]"
      ],
      "execution_count": 0,
      "outputs": [
        {
          "output_type": "execute_result",
          "data": {
            "text/plain": [
              "1"
            ]
          },
          "metadata": {
            "tags": []
          },
          "execution_count": 21
        }
      ]
    },
    {
      "cell_type": "code",
      "metadata": {
        "id": "_iiYJX9cX5ve",
        "colab_type": "code",
        "outputId": "582050ac-d8e4-4e28-de5d-640d905720bc",
        "colab": {
          "base_uri": "https://localhost:8080/",
          "height": 34
        }
      },
      "source": [
        "lista[1]"
      ],
      "execution_count": 0,
      "outputs": [
        {
          "output_type": "execute_result",
          "data": {
            "text/plain": [
              "2"
            ]
          },
          "metadata": {
            "tags": []
          },
          "execution_count": 22
        }
      ]
    },
    {
      "cell_type": "code",
      "metadata": {
        "id": "6osgPTX4X7M0",
        "colab_type": "code",
        "outputId": "6ac2ed08-f264-4fb0-8a72-a6844152ae43",
        "colab": {
          "base_uri": "https://localhost:8080/",
          "height": 34
        }
      },
      "source": [
        "lista[3]"
      ],
      "execution_count": 0,
      "outputs": [
        {
          "output_type": "execute_result",
          "data": {
            "text/plain": [
              "[1, 2, 3]"
            ]
          },
          "metadata": {
            "tags": []
          },
          "execution_count": 23
        }
      ]
    },
    {
      "cell_type": "code",
      "metadata": {
        "id": "KV7MSUp8YEZR",
        "colab_type": "code",
        "outputId": "8c6d0293-2a1f-4e9f-9f7a-41f49023a5c0",
        "colab": {
          "base_uri": "https://localhost:8080/",
          "height": 34
        }
      },
      "source": [
        "len(lista)"
      ],
      "execution_count": 0,
      "outputs": [
        {
          "output_type": "execute_result",
          "data": {
            "text/plain": [
              "6"
            ]
          },
          "metadata": {
            "tags": []
          },
          "execution_count": 24
        }
      ]
    },
    {
      "cell_type": "code",
      "metadata": {
        "id": "1rKkiP9_X_dQ",
        "colab_type": "code",
        "outputId": "8b8a2d0a-cc6c-43de-ea4e-681e0679deab",
        "colab": {
          "base_uri": "https://localhost:8080/",
          "height": 119
        }
      },
      "source": [
        "for i in range(len(lista)):\n",
        "    print(i, lista[i])"
      ],
      "execution_count": 0,
      "outputs": [
        {
          "output_type": "stream",
          "text": [
            "0 1\n",
            "1 2\n",
            "2 hola\n",
            "3 [1, 2, 3]\n",
            "4 {'hola': 23}\n",
            "5 {1, 2, 3}\n"
          ],
          "name": "stdout"
        }
      ]
    },
    {
      "cell_type": "code",
      "metadata": {
        "id": "nti6uIdyYVwd",
        "colab_type": "code",
        "outputId": "82fbfe38-9920-4c4c-c6fb-d89efae8a6f2",
        "colab": {
          "base_uri": "https://localhost:8080/",
          "height": 119
        }
      },
      "source": [
        "i = 0\n",
        "for elemento in lista:\n",
        "    print(i, elemento)\n",
        "    i += 1"
      ],
      "execution_count": 0,
      "outputs": [
        {
          "output_type": "stream",
          "text": [
            "0 1\n",
            "1 2\n",
            "2 hola\n",
            "3 [1, 2, 3]\n",
            "4 {'hola': 23}\n",
            "5 {1, 2, 3}\n"
          ],
          "name": "stdout"
        }
      ]
    },
    {
      "cell_type": "code",
      "metadata": {
        "id": "TjdzusKbYfdZ",
        "colab_type": "code",
        "outputId": "99857d52-3629-448f-de8c-12d1665edde7",
        "colab": {
          "base_uri": "https://localhost:8080/",
          "height": 119
        }
      },
      "source": [
        "for i, elemento in enumerate(lista):\n",
        "    print(i, elemento)"
      ],
      "execution_count": 0,
      "outputs": [
        {
          "output_type": "stream",
          "text": [
            "0 1\n",
            "1 2\n",
            "2 hola\n",
            "3 [1, 2, 3]\n",
            "4 {'hola': 23}\n",
            "5 {1, 2, 3}\n"
          ],
          "name": "stdout"
        }
      ]
    },
    {
      "cell_type": "code",
      "metadata": {
        "id": "cgGxHcQTYt9F",
        "colab_type": "code",
        "colab": {}
      },
      "source": [
        "impares = [1, 3, 5, 7,  9, 11, 13, 15]\n",
        "pares   = [2, 4, 6, 8, 10, 12, 14, 16, 18]"
      ],
      "execution_count": 0,
      "outputs": []
    },
    {
      "cell_type": "code",
      "metadata": {
        "id": "Wo4UGAuFY1QR",
        "colab_type": "code",
        "outputId": "6d035bbc-26c6-4f77-d75e-31b8b5e97be3",
        "colab": {
          "base_uri": "https://localhost:8080/",
          "height": 102
        }
      },
      "source": [
        "for i in range(len(impares)):\n",
        "    print(i, pares[i], impares[i])"
      ],
      "execution_count": 0,
      "outputs": [
        {
          "output_type": "stream",
          "text": [
            "0 2 1\n",
            "1 4 3\n",
            "2 6 5\n",
            "3 8 7\n",
            "4 10 9\n"
          ],
          "name": "stdout"
        }
      ]
    },
    {
      "cell_type": "code",
      "metadata": {
        "id": "2UKzzvmlZRh7",
        "colab_type": "code",
        "outputId": "26c609e9-e7c5-435b-8a49-bbd84cc9c6d4",
        "colab": {
          "base_uri": "https://localhost:8080/",
          "height": 153
        }
      },
      "source": [
        "for par, impar in zip(pares, impares):\n",
        "    print(par, impar)"
      ],
      "execution_count": 0,
      "outputs": [
        {
          "output_type": "stream",
          "text": [
            "2 1\n",
            "4 3\n",
            "6 5\n",
            "8 7\n",
            "10 9\n",
            "12 11\n",
            "14 13\n",
            "16 15\n"
          ],
          "name": "stdout"
        }
      ]
    },
    {
      "cell_type": "code",
      "metadata": {
        "id": "2GS7DGzAZuk1",
        "colab_type": "code",
        "outputId": "f06335c3-6050-4bbb-e9af-454b3db7db97",
        "colab": {
          "base_uri": "https://localhost:8080/",
          "height": 34
        }
      },
      "source": [
        "vector1 = [0, 6, 3]\n",
        "vector2 = [2, -1, 5]\n",
        "suma = []\n",
        "\n",
        "for i in range(len(vector1)):\n",
        "    suma.append(vector1[i] + vector2[i])\n",
        "\n",
        "print(suma)"
      ],
      "execution_count": 0,
      "outputs": [
        {
          "output_type": "stream",
          "text": [
            "[2, 5, 8]\n"
          ],
          "name": "stdout"
        }
      ]
    },
    {
      "cell_type": "code",
      "metadata": {
        "id": "8beaoeRYaXot",
        "colab_type": "code",
        "outputId": "3badbbb8-68c5-4e21-ca28-6290d39a3b8c",
        "colab": {
          "base_uri": "https://localhost:8080/",
          "height": 34
        }
      },
      "source": [
        "lista = []\n",
        "lista.insert(0, 'hola')\n",
        "print(lista)"
      ],
      "execution_count": 0,
      "outputs": [
        {
          "output_type": "stream",
          "text": [
            "['hola']\n"
          ],
          "name": "stdout"
        }
      ]
    },
    {
      "cell_type": "code",
      "metadata": {
        "id": "6mWQVorqadVn",
        "colab_type": "code",
        "colab": {}
      },
      "source": [
        "lista.insert(1000, 'adios')"
      ],
      "execution_count": 0,
      "outputs": []
    },
    {
      "cell_type": "code",
      "metadata": {
        "id": "1akKNPHVah3d",
        "colab_type": "code",
        "outputId": "cde4a6d9-df2b-4b45-821e-ba551e635e70",
        "colab": {
          "base_uri": "https://localhost:8080/",
          "height": 34
        }
      },
      "source": [
        "print(lista)"
      ],
      "execution_count": 0,
      "outputs": [
        {
          "output_type": "stream",
          "text": [
            "['hola', 'adios']\n"
          ],
          "name": "stdout"
        }
      ]
    },
    {
      "cell_type": "code",
      "metadata": {
        "id": "hpdhDVVvalP_",
        "colab_type": "code",
        "outputId": "a62e6183-6ad4-44f0-bc42-1f31a0bf0083",
        "colab": {
          "base_uri": "https://localhost:8080/",
          "height": 34
        }
      },
      "source": [
        "lista.pop()"
      ],
      "execution_count": 0,
      "outputs": [
        {
          "output_type": "execute_result",
          "data": {
            "text/plain": [
              "'adios'"
            ]
          },
          "metadata": {
            "tags": []
          },
          "execution_count": 69
        }
      ]
    },
    {
      "cell_type": "code",
      "metadata": {
        "id": "RuFYbE-Xao_b",
        "colab_type": "code",
        "outputId": "d51a33cc-00ca-440d-a509-802cd9bf50bf",
        "colab": {
          "base_uri": "https://localhost:8080/",
          "height": 34
        }
      },
      "source": [
        "lista = [1, 2, 3, 4, 5]\n",
        "eliminado = lista.pop()\n",
        "\n",
        "print(eliminado, lista)"
      ],
      "execution_count": 0,
      "outputs": [
        {
          "output_type": "stream",
          "text": [
            "5 [1, 2, 3, 4]\n"
          ],
          "name": "stdout"
        }
      ]
    },
    {
      "cell_type": "code",
      "metadata": {
        "id": "PbM6CNqKayXf",
        "colab_type": "code",
        "outputId": "71a89b7c-a9d1-419f-bdbb-f3630f27bea9",
        "colab": {
          "base_uri": "https://localhost:8080/",
          "height": 34
        }
      },
      "source": [
        "lista = [1, 2, 3, 4, 5]\n",
        "eliminado = lista.pop(0)\n",
        "\n",
        "print(eliminado, lista)"
      ],
      "execution_count": 0,
      "outputs": [
        {
          "output_type": "stream",
          "text": [
            "1 [2, 3, 4, 5]\n"
          ],
          "name": "stdout"
        }
      ]
    },
    {
      "cell_type": "code",
      "metadata": {
        "id": "6ZcwgfAQa2OE",
        "colab_type": "code",
        "outputId": "bce91187-4438-4365-b38f-93d73c5e92c4",
        "colab": {
          "base_uri": "https://localhost:8080/",
          "height": 34
        }
      },
      "source": [
        "lista = [1, 2, 3, 4, 5]\n",
        "lista.pop()\n",
        "\n",
        "print(lista)"
      ],
      "execution_count": 0,
      "outputs": [
        {
          "output_type": "stream",
          "text": [
            "[1, 2, 3, 4]\n"
          ],
          "name": "stdout"
        }
      ]
    },
    {
      "cell_type": "code",
      "metadata": {
        "id": "VFFUl5pha6Sq",
        "colab_type": "code",
        "outputId": "26ea9ee2-568c-4cbd-d98b-863d37400b8e",
        "colab": {
          "base_uri": "https://localhost:8080/",
          "height": 34
        }
      },
      "source": [
        "lista = [1, 0, 2, 6, 3, 4, 5]\n",
        "lista.remove(6)\n",
        "\n",
        "print(lista)"
      ],
      "execution_count": 0,
      "outputs": [
        {
          "output_type": "stream",
          "text": [
            "[1, 0, 2, 3, 4, 5]\n"
          ],
          "name": "stdout"
        }
      ]
    },
    {
      "cell_type": "code",
      "metadata": {
        "id": "gn0ybRrPbKVV",
        "colab_type": "code",
        "outputId": "b6adcf5d-34df-4564-8e4d-5e3cab9bcc96",
        "colab": {
          "base_uri": "https://localhost:8080/",
          "height": 34
        }
      },
      "source": [
        "lista = [1, 0, 2, 6, 3, 4, 5]\n",
        "lista[0:3]"
      ],
      "execution_count": 0,
      "outputs": [
        {
          "output_type": "execute_result",
          "data": {
            "text/plain": [
              "[1, 0, 2]"
            ]
          },
          "metadata": {
            "tags": []
          },
          "execution_count": 76
        }
      ]
    },
    {
      "cell_type": "code",
      "metadata": {
        "id": "SZX_WN66bTNb",
        "colab_type": "code",
        "outputId": "f645b5fd-0ed8-4475-a1bb-b2e329ac92f5",
        "colab": {
          "base_uri": "https://localhost:8080/",
          "height": 34
        }
      },
      "source": [
        "lista = [1, 0, 2, 6, 3, 4, 5]\n",
        "lista[:3]"
      ],
      "execution_count": 0,
      "outputs": [
        {
          "output_type": "execute_result",
          "data": {
            "text/plain": [
              "[1, 0, 2]"
            ]
          },
          "metadata": {
            "tags": []
          },
          "execution_count": 77
        }
      ]
    },
    {
      "cell_type": "code",
      "metadata": {
        "id": "iQOR4xfgbWQ7",
        "colab_type": "code",
        "outputId": "3eab9614-897d-445d-b24d-323f56938bef",
        "colab": {
          "base_uri": "https://localhost:8080/",
          "height": 34
        }
      },
      "source": [
        "lista = [1, 0, 2, 6, 3, 4, 5]\n",
        "lista[2:]"
      ],
      "execution_count": 0,
      "outputs": [
        {
          "output_type": "execute_result",
          "data": {
            "text/plain": [
              "[2, 6, 3, 4, 5]"
            ]
          },
          "metadata": {
            "tags": []
          },
          "execution_count": 78
        }
      ]
    },
    {
      "cell_type": "code",
      "metadata": {
        "id": "T6SM9BKpbcK3",
        "colab_type": "code",
        "outputId": "2fcd09d7-0e1c-4147-e6af-7604c77355e6",
        "colab": {
          "base_uri": "https://localhost:8080/",
          "height": 34
        }
      },
      "source": [
        "lista[:]"
      ],
      "execution_count": 0,
      "outputs": [
        {
          "output_type": "execute_result",
          "data": {
            "text/plain": [
              "[1, 0, 2, 6, 3, 4, 5]"
            ]
          },
          "metadata": {
            "tags": []
          },
          "execution_count": 79
        }
      ]
    },
    {
      "cell_type": "code",
      "metadata": {
        "id": "1hw9XdGEbdz_",
        "colab_type": "code",
        "outputId": "75d6a47d-b9ab-4d99-c6f2-342c7766082e",
        "colab": {
          "base_uri": "https://localhost:8080/",
          "height": 34
        }
      },
      "source": [
        "lista[:100000]"
      ],
      "execution_count": 0,
      "outputs": [
        {
          "output_type": "execute_result",
          "data": {
            "text/plain": [
              "[1, 0, 2, 6, 3, 4, 5]"
            ]
          },
          "metadata": {
            "tags": []
          },
          "execution_count": 80
        }
      ]
    },
    {
      "cell_type": "code",
      "metadata": {
        "id": "Of7gcCNYbi0y",
        "colab_type": "code",
        "outputId": "1b5eab38-c044-4a3e-9535-878e74bfe83c",
        "colab": {
          "base_uri": "https://localhost:8080/",
          "height": 34
        }
      },
      "source": [
        "lista[-1]"
      ],
      "execution_count": 0,
      "outputs": [
        {
          "output_type": "execute_result",
          "data": {
            "text/plain": [
              "5"
            ]
          },
          "metadata": {
            "tags": []
          },
          "execution_count": 81
        }
      ]
    },
    {
      "cell_type": "code",
      "metadata": {
        "id": "1vW24FSobmcq",
        "colab_type": "code",
        "outputId": "60411d13-98de-408c-ccbb-f654dbd3ddb9",
        "colab": {
          "base_uri": "https://localhost:8080/",
          "height": 34
        }
      },
      "source": [
        "lista[-2]"
      ],
      "execution_count": 0,
      "outputs": [
        {
          "output_type": "execute_result",
          "data": {
            "text/plain": [
              "4"
            ]
          },
          "metadata": {
            "tags": []
          },
          "execution_count": 82
        }
      ]
    },
    {
      "cell_type": "code",
      "metadata": {
        "id": "dd5afmlwboox",
        "colab_type": "code",
        "outputId": "20bacc9f-1aff-4cd8-8a1f-82a159fcd2ba",
        "colab": {
          "base_uri": "https://localhost:8080/",
          "height": 136
        }
      },
      "source": [
        "lista = [1, 0, 2, 6, 3, 4, 5]\n",
        "\n",
        "for i in range(-1, -len(lista) - 1, -1):\n",
        "    print(i, lista[i])"
      ],
      "execution_count": 0,
      "outputs": [
        {
          "output_type": "stream",
          "text": [
            "-1 5\n",
            "-2 4\n",
            "-3 3\n",
            "-4 6\n",
            "-5 2\n",
            "-6 0\n",
            "-7 1\n"
          ],
          "name": "stdout"
        }
      ]
    },
    {
      "cell_type": "code",
      "metadata": {
        "id": "9o8_dI6_cC_u",
        "colab_type": "code",
        "outputId": "790558c8-c5b9-4a12-ecba-6e4b914a9294",
        "colab": {
          "base_uri": "https://localhost:8080/",
          "height": 34
        }
      },
      "source": [
        "lista = [1, 0, 2, 6, 3, 4, 5]\n",
        "lista[::-1]"
      ],
      "execution_count": 0,
      "outputs": [
        {
          "output_type": "execute_result",
          "data": {
            "text/plain": [
              "[5, 4, 3, 6, 2, 0, 1]"
            ]
          },
          "metadata": {
            "tags": []
          },
          "execution_count": 88
        }
      ]
    },
    {
      "cell_type": "code",
      "metadata": {
        "id": "x7MuKgB4cGle",
        "colab_type": "code",
        "outputId": "7acc296b-c241-42bd-e2d8-b3f85fbda116",
        "colab": {
          "base_uri": "https://localhost:8080/",
          "height": 34
        }
      },
      "source": [
        "lista = [1, 0, 2, 6, 3, 4, 5]\n",
        "lista[::2]"
      ],
      "execution_count": 0,
      "outputs": [
        {
          "output_type": "execute_result",
          "data": {
            "text/plain": [
              "[1, 2, 3, 5]"
            ]
          },
          "metadata": {
            "tags": []
          },
          "execution_count": 89
        }
      ]
    },
    {
      "cell_type": "code",
      "metadata": {
        "id": "thlSNCDpcJpo",
        "colab_type": "code",
        "colab": {}
      },
      "source": [
        "lista[inicial:final:paso]"
      ],
      "execution_count": 0,
      "outputs": []
    },
    {
      "cell_type": "code",
      "metadata": {
        "id": "50MX_q7gcPxY",
        "colab_type": "code",
        "outputId": "8d89c81e-10dd-404c-a593-4d5bdb154489",
        "colab": {
          "base_uri": "https://localhost:8080/",
          "height": 34
        }
      },
      "source": [
        "lista[1::2]"
      ],
      "execution_count": 0,
      "outputs": [
        {
          "output_type": "execute_result",
          "data": {
            "text/plain": [
              "[0, 6, 4]"
            ]
          },
          "metadata": {
            "tags": []
          },
          "execution_count": 90
        }
      ]
    },
    {
      "cell_type": "code",
      "metadata": {
        "id": "c4_8_jdXcWHA",
        "colab_type": "code",
        "outputId": "fa8160a1-049f-47ba-96be-ffb450645d1d",
        "colab": {
          "base_uri": "https://localhost:8080/",
          "height": 51
        }
      },
      "source": [
        "print(lista)\n",
        "lista = lista + [2]\n",
        "print(lista)"
      ],
      "execution_count": 0,
      "outputs": [
        {
          "output_type": "stream",
          "text": [
            "[1, 0, 2, 6, 3, 4, 5]\n",
            "[1, 0, 2, 6, 3, 4, 5, 2]\n"
          ],
          "name": "stdout"
        }
      ]
    },
    {
      "cell_type": "code",
      "metadata": {
        "id": "Q3pPjB-xceWD",
        "colab_type": "code",
        "colab": {}
      },
      "source": [
        "lista += [3]"
      ],
      "execution_count": 0,
      "outputs": []
    },
    {
      "cell_type": "code",
      "metadata": {
        "id": "loSBmkgkcgIZ",
        "colab_type": "code",
        "outputId": "ffbad85d-1589-4204-a321-61ae26289a3c",
        "colab": {
          "base_uri": "https://localhost:8080/",
          "height": 34
        }
      },
      "source": [
        "print(lista)"
      ],
      "execution_count": 0,
      "outputs": [
        {
          "output_type": "stream",
          "text": [
            "[1, 0, 2, 6, 3, 4, 5, 2, 3]\n"
          ],
          "name": "stdout"
        }
      ]
    },
    {
      "cell_type": "code",
      "metadata": {
        "id": "lyYGCddxcqmM",
        "colab_type": "code",
        "outputId": "0493aef7-da59-4f90-e1bd-44dcabe7aa60",
        "colab": {
          "base_uri": "https://localhost:8080/",
          "height": 34
        }
      },
      "source": [
        "lista = [0, 1, 2, 3, 4, 5, 6, 7]\n",
        "i = 6\n",
        "\n",
        "lista = lista[:i] + lista[i+1:]\n",
        "print(lista)"
      ],
      "execution_count": 0,
      "outputs": [
        {
          "output_type": "stream",
          "text": [
            "[0, 1, 2, 3, 4, 5, 7]\n"
          ],
          "name": "stdout"
        }
      ]
    },
    {
      "cell_type": "code",
      "metadata": {
        "id": "3HPb3HQYdEnQ",
        "colab_type": "code",
        "outputId": "65f522ed-9d72-4cee-cdf4-3f8b209f4b79",
        "colab": {
          "base_uri": "https://localhost:8080/",
          "height": 34
        }
      },
      "source": [
        "lista = [0, 1, 2, 3, 4, 5, 6, 7]\n",
        "i = 100000000\n",
        "num = 1000\n",
        "\n",
        "lista = lista[:i] + [num] + lista[i:]\n",
        "print(lista)"
      ],
      "execution_count": 0,
      "outputs": [
        {
          "output_type": "stream",
          "text": [
            "[0, 1, 2, 3, 4, 5, 6, 7, 1000]\n"
          ],
          "name": "stdout"
        }
      ]
    },
    {
      "cell_type": "code",
      "metadata": {
        "id": "oo79EABHdY8v",
        "colab_type": "code",
        "outputId": "ed630d58-126d-4312-904f-13d7cb7903b3",
        "colab": {
          "base_uri": "https://localhost:8080/",
          "height": 34
        }
      },
      "source": [
        "def insertar(indice, num, lista):\n",
        "    if indice < 0:\n",
        "        return [num] + lista\n",
        "    elif indice >= len(lista):\n",
        "        return lista + [num]\n",
        "\n",
        "    nuevaLista = []\n",
        "\n",
        "    for i in range(len(lista)):\n",
        "        if i == indice:\n",
        "            nuevaLista += [num]\n",
        "        nuevaLista += [lista[i]]\n",
        "    \n",
        "    return nuevaLista\n",
        "\n",
        "lista = [0, 1, 2, 3, 4, 5, 6, 7]\n",
        "i = 1000\n",
        "num = 1000\n",
        "\n",
        "print(insertar(i, num, lista))"
      ],
      "execution_count": 0,
      "outputs": [
        {
          "output_type": "stream",
          "text": [
            "[0, 1, 2, 3, 4, 5, 6, 7, 1000]\n"
          ],
          "name": "stdout"
        }
      ]
    },
    {
      "cell_type": "code",
      "metadata": {
        "id": "PG_1IU-aetdM",
        "colab_type": "code",
        "outputId": "ba6105da-933f-4d64-d571-313546698b6b",
        "colab": {
          "base_uri": "https://localhost:8080/",
          "height": 34
        }
      },
      "source": [
        "impares = [1, 3, 5, 7,  9, 11, 13, 15]\n",
        "pares   = [2, 4, 6, 8, 10, 12, 14, 16, 18]\n",
        "\n",
        "lista = impares + pares\n",
        "print(lista)"
      ],
      "execution_count": 0,
      "outputs": [
        {
          "output_type": "stream",
          "text": [
            "[1, 3, 5, 7, 9, 11, 13, 15, 2, 4, 6, 8, 10, 12, 14, 16, 18]\n"
          ],
          "name": "stdout"
        }
      ]
    },
    {
      "cell_type": "code",
      "metadata": {
        "id": "MgT3uEd8e7mt",
        "colab_type": "code",
        "colab": {}
      },
      "source": [
        "def insertarEnOrden(num, lista):\n",
        "    if lista == []:\n",
        "        return [num]\n",
        "    elif lista[0] > num: # Opcional\n",
        "        return [num] + lista\n",
        "    elif lista[-1] < num:\n",
        "        return lista + [num]\n",
        "    \n",
        "    for i in range(len(lista)):\n",
        "        if lista[i] > num:\n",
        "            lista = lista[:i] + [num] + lista[i:]\n",
        "            break\n",
        "\n",
        "    return lista"
      ],
      "execution_count": 0,
      "outputs": []
    },
    {
      "cell_type": "code",
      "metadata": {
        "id": "KsZ3clkqgyOI",
        "colab_type": "code",
        "colab": {}
      },
      "source": [
        "import random"
      ],
      "execution_count": 0,
      "outputs": []
    },
    {
      "cell_type": "code",
      "metadata": {
        "id": "5oxewBhKfX4f",
        "colab_type": "code",
        "outputId": "d0a48f78-4ca5-4da0-ce69-c051d2803013",
        "colab": {
          "base_uri": "https://localhost:8080/",
          "height": 34
        }
      },
      "source": [
        "numeros = [random.randint(-20, 20) for _ in range(10)]\n",
        "listaNueva = []\n",
        "\n",
        "for num in numeros:\n",
        "    listaNueva = insertarEnOrden(num, listaNueva)\n",
        "\n",
        "print(listaNueva)"
      ],
      "execution_count": 0,
      "outputs": [
        {
          "output_type": "stream",
          "text": [
            "[-20, -6, -3, 6, 8, 10, 12, 15, 19, 20]\n"
          ],
          "name": "stdout"
        }
      ]
    },
    {
      "cell_type": "code",
      "metadata": {
        "id": "o7HY4gbQhqcs",
        "colab_type": "code",
        "outputId": "290aa0cd-737d-4ffb-998b-f637cc053fe7",
        "colab": {
          "base_uri": "https://localhost:8080/",
          "height": 34
        }
      },
      "source": [
        "import datetime\n",
        "\n",
        "print(datetime.datetime.now())"
      ],
      "execution_count": 0,
      "outputs": [
        {
          "output_type": "stream",
          "text": [
            "2020-05-25 20:29:38.537877\n"
          ],
          "name": "stdout"
        }
      ]
    },
    {
      "cell_type": "code",
      "metadata": {
        "id": "O84lMpAaij-u",
        "colab_type": "code",
        "outputId": "3abb176f-9e2a-4c1d-93e4-1ffe4b2011e2",
        "colab": {
          "base_uri": "https://localhost:8080/",
          "height": 1000
        }
      },
      "source": [
        "frase = 'Lorem ipsum dolor sit amet, consectetur adipiscing elit, sed do eiusmod tempor incididunt ut labore et dolore magna aliqua. Ut enim ad minim veniam, quis nostrud exercitation ullamco laboris nisi ut aliquip ex ea commodo consequat. Duis aute irure dolor in reprehenderit in voluptate velit esse cillum dolore eu fugiat nulla pariatur. Excepteur sint occaecat cupidatat non proident, sunt in culpa qui officia deserunt mollit anim id est laborum.'\n",
        "frase = frase.replace(',', '')\n",
        "frase = frase.replace('.', '')\n",
        "frase = frase.lower()\n",
        "palabras = frase.split()\n",
        "\n",
        "palabrasSinRepetir = list(set(palabras))\n",
        "\n",
        "for palabra in palabrasSinRepetir:\n",
        "    cantidad = palabras.count(palabra)\n",
        "    print(f'{palabra}: {cantidad}')"
      ],
      "execution_count": 0,
      "outputs": [
        {
          "output_type": "stream",
          "text": [
            "officia: 1\n",
            "ullamco: 1\n",
            "amet: 1\n",
            "qui: 1\n",
            "dolor: 2\n",
            "labore: 1\n",
            "est: 1\n",
            "mollit: 1\n",
            "veniam: 1\n",
            "tempor: 1\n",
            "consequat: 1\n",
            "voluptate: 1\n",
            "elit: 1\n",
            "ex: 1\n",
            "deserunt: 1\n",
            "irure: 1\n",
            "ipsum: 1\n",
            "exercitation: 1\n",
            "ea: 1\n",
            "eu: 1\n",
            "lorem: 1\n",
            "minim: 1\n",
            "velit: 1\n",
            "dolore: 2\n",
            "pariatur: 1\n",
            "do: 1\n",
            "sunt: 1\n",
            "laboris: 1\n",
            "reprehenderit: 1\n",
            "occaecat: 1\n",
            "esse: 1\n",
            "quis: 1\n",
            "id: 1\n",
            "enim: 1\n",
            "in: 3\n",
            "fugiat: 1\n",
            "sed: 1\n",
            "ad: 1\n",
            "commodo: 1\n",
            "incididunt: 1\n",
            "nostrud: 1\n",
            "laborum: 1\n",
            "cupidatat: 1\n",
            "anim: 1\n",
            "culpa: 1\n",
            "et: 1\n",
            "sint: 1\n",
            "sit: 1\n",
            "consectetur: 1\n",
            "non: 1\n",
            "eiusmod: 1\n",
            "proident: 1\n",
            "aliqua: 1\n",
            "magna: 1\n",
            "duis: 1\n",
            "cillum: 1\n",
            "nisi: 1\n",
            "ut: 3\n",
            "aliquip: 1\n",
            "nulla: 1\n",
            "excepteur: 1\n",
            "aute: 1\n",
            "adipiscing: 1\n"
          ],
          "name": "stdout"
        }
      ]
    },
    {
      "cell_type": "code",
      "metadata": {
        "id": "rqm2HPwmtAH7",
        "colab_type": "code",
        "colab": {}
      },
      "source": [
        "def sumar(num):\n",
        "    suma = 0\n",
        "\n",
        "    for i in range(1, num + 1):\n",
        "        suma += i\n",
        "    \n",
        "    return suma"
      ],
      "execution_count": 0,
      "outputs": []
    },
    {
      "cell_type": "code",
      "metadata": {
        "id": "B5Ong0N2tJg2",
        "colab_type": "code",
        "outputId": "46b8dcda-8376-4a79-a19d-0526c4ca6283",
        "colab": {
          "base_uri": "https://localhost:8080/",
          "height": 34
        }
      },
      "source": [
        "sumar(10)"
      ],
      "execution_count": 0,
      "outputs": [
        {
          "output_type": "execute_result",
          "data": {
            "text/plain": [
              "55"
            ]
          },
          "metadata": {
            "tags": []
          },
          "execution_count": 165
        }
      ]
    },
    {
      "cell_type": "code",
      "metadata": {
        "id": "7fg7kvuaug2B",
        "colab_type": "code",
        "colab": {}
      },
      "source": [
        ""
      ],
      "execution_count": 0,
      "outputs": []
    }
  ]
}
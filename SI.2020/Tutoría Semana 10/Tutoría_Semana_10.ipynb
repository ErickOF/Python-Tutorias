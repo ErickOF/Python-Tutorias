{
  "nbformat": 4,
  "nbformat_minor": 0,
  "metadata": {
    "colab": {
      "name": "Tutoría Semana 10.ipynb",
      "provenance": []
    },
    "kernelspec": {
      "name": "python3",
      "display_name": "Python 3"
    }
  },
  "cells": [
    {
      "cell_type": "markdown",
      "metadata": {
        "id": "FuikqOeZbCt2",
        "colab_type": "text"
      },
      "source": [
        "# **Diccionarios**"
      ]
    },
    {
      "cell_type": "code",
      "metadata": {
        "id": "XOQQf0TERuSQ",
        "colab_type": "code",
        "colab": {
          "base_uri": "https://localhost:8080/",
          "height": 34
        },
        "outputId": "3263bb15-9ae8-4e23-aeaf-12657e98cdc7"
      },
      "source": [
        "diccionario = {}\n",
        "print(diccionario)"
      ],
      "execution_count": 2,
      "outputs": [
        {
          "output_type": "stream",
          "text": [
            "{}\n"
          ],
          "name": "stdout"
        }
      ]
    },
    {
      "cell_type": "code",
      "metadata": {
        "id": "Qc80qT9vbLgU",
        "colab_type": "code",
        "colab": {
          "base_uri": "https://localhost:8080/",
          "height": 34
        },
        "outputId": "c93209d5-f5bb-4725-f3cc-3188f16998fd"
      },
      "source": [
        "diccionario['uno'] = 1\n",
        "print(diccionario)"
      ],
      "execution_count": 3,
      "outputs": [
        {
          "output_type": "stream",
          "text": [
            "{'uno': 1}\n"
          ],
          "name": "stdout"
        }
      ]
    },
    {
      "cell_type": "code",
      "metadata": {
        "id": "Ly261dG5bWUn",
        "colab_type": "code",
        "colab": {
          "base_uri": "https://localhost:8080/",
          "height": 34
        },
        "outputId": "a343429b-aae4-4b24-ee47-cc48ee5f18c9"
      },
      "source": [
        "diccionario['dos'] = 2\n",
        "print(diccionario)"
      ],
      "execution_count": 4,
      "outputs": [
        {
          "output_type": "stream",
          "text": [
            "{'uno': 1, 'dos': 2}\n"
          ],
          "name": "stdout"
        }
      ]
    },
    {
      "cell_type": "code",
      "metadata": {
        "id": "hFJC4jrobZx5",
        "colab_type": "code",
        "colab": {
          "base_uri": "https://localhost:8080/",
          "height": 34
        },
        "outputId": "c94e2ba5-4ce6-4067-c2d3-5dae5c3bee41"
      },
      "source": [
        "print(diccionario['uno'])"
      ],
      "execution_count": 5,
      "outputs": [
        {
          "output_type": "stream",
          "text": [
            "1\n"
          ],
          "name": "stdout"
        }
      ]
    },
    {
      "cell_type": "code",
      "metadata": {
        "id": "xwsND1-gbegF",
        "colab_type": "code",
        "colab": {
          "base_uri": "https://localhost:8080/",
          "height": 163
        },
        "outputId": "180fa29f-0628-4730-df5d-a07adc7a1d3c"
      },
      "source": [
        "print(diccionario['tres'])"
      ],
      "execution_count": 6,
      "outputs": [
        {
          "output_type": "error",
          "ename": "KeyError",
          "evalue": "ignored",
          "traceback": [
            "\u001b[0;31m---------------------------------------------------------------------------\u001b[0m",
            "\u001b[0;31mKeyError\u001b[0m                                  Traceback (most recent call last)",
            "\u001b[0;32m<ipython-input-6-d119958761a2>\u001b[0m in \u001b[0;36m<module>\u001b[0;34m()\u001b[0m\n\u001b[0;32m----> 1\u001b[0;31m \u001b[0mprint\u001b[0m\u001b[0;34m(\u001b[0m\u001b[0mdiccionario\u001b[0m\u001b[0;34m[\u001b[0m\u001b[0;34m'tres'\u001b[0m\u001b[0;34m]\u001b[0m\u001b[0;34m)\u001b[0m\u001b[0;34m\u001b[0m\u001b[0;34m\u001b[0m\u001b[0m\n\u001b[0m",
            "\u001b[0;31mKeyError\u001b[0m: 'tres'"
          ]
        }
      ]
    },
    {
      "cell_type": "code",
      "metadata": {
        "id": "J4gziY_GbiQz",
        "colab_type": "code",
        "colab": {
          "base_uri": "https://localhost:8080/",
          "height": 34
        },
        "outputId": "c020aab0-4b88-4647-f041-d4658d0e6b96"
      },
      "source": [
        "diccionario['tres'] = 3\n",
        "print(diccionario['tres'])"
      ],
      "execution_count": 7,
      "outputs": [
        {
          "output_type": "stream",
          "text": [
            "3\n"
          ],
          "name": "stdout"
        }
      ]
    },
    {
      "cell_type": "code",
      "metadata": {
        "id": "LTOYC3A9bpFo",
        "colab_type": "code",
        "colab": {
          "base_uri": "https://localhost:8080/",
          "height": 34
        },
        "outputId": "e6794665-ad55-4192-85d7-b1a1fa4230ee"
      },
      "source": [
        "diccionario['tres'] = 33\n",
        "print(diccionario)"
      ],
      "execution_count": 8,
      "outputs": [
        {
          "output_type": "stream",
          "text": [
            "{'uno': 1, 'dos': 2, 'tres': 33}\n"
          ],
          "name": "stdout"
        }
      ]
    },
    {
      "cell_type": "code",
      "metadata": {
        "id": "55ALfrdBbyXX",
        "colab_type": "code",
        "colab": {
          "base_uri": "https://localhost:8080/",
          "height": 34
        },
        "outputId": "fdaffc4f-0f74-476f-9c85-a648d34fcbbc"
      },
      "source": [
        "diccionario['cuatro'] = []\n",
        "print(diccionario)"
      ],
      "execution_count": 9,
      "outputs": [
        {
          "output_type": "stream",
          "text": [
            "{'uno': 1, 'dos': 2, 'tres': 33, 'cuatro': []}\n"
          ],
          "name": "stdout"
        }
      ]
    },
    {
      "cell_type": "code",
      "metadata": {
        "id": "MlaedhNeb30N",
        "colab_type": "code",
        "colab": {
          "base_uri": "https://localhost:8080/",
          "height": 34
        },
        "outputId": "4f711159-5d4a-4127-9680-a4be7c33eb7d"
      },
      "source": [
        "diccionario['cuatro'].append(4)\n",
        "diccionario['cuatro'].append(44)\n",
        "diccionario['cuatro'].append(444)\n",
        "print(diccionario)"
      ],
      "execution_count": 10,
      "outputs": [
        {
          "output_type": "stream",
          "text": [
            "{'uno': 1, 'dos': 2, 'tres': 33, 'cuatro': [4, 44, 444]}\n"
          ],
          "name": "stdout"
        }
      ]
    },
    {
      "cell_type": "code",
      "metadata": {
        "id": "5_8stsDScAJj",
        "colab_type": "code",
        "colab": {
          "base_uri": "https://localhost:8080/",
          "height": 34
        },
        "outputId": "70c916ec-2c01-40e8-eef0-66a68ea047fa"
      },
      "source": [
        "diccionario['cuatro'].remove(4)\n",
        "print(diccionario)"
      ],
      "execution_count": 11,
      "outputs": [
        {
          "output_type": "stream",
          "text": [
            "{'uno': 1, 'dos': 2, 'tres': 33, 'cuatro': [44, 444]}\n"
          ],
          "name": "stdout"
        }
      ]
    },
    {
      "cell_type": "code",
      "metadata": {
        "id": "s32jN0MScH5w",
        "colab_type": "code",
        "colab": {
          "base_uri": "https://localhost:8080/",
          "height": 34
        },
        "outputId": "524274b3-d11b-44b4-bb87-4ab9974b63e5"
      },
      "source": [
        "subdiccionario = {1: 'uno', 2: 'dos'}\n",
        "print(subdiccionario)"
      ],
      "execution_count": 12,
      "outputs": [
        {
          "output_type": "stream",
          "text": [
            "{1: 'uno', 2: 'dos'}\n"
          ],
          "name": "stdout"
        }
      ]
    },
    {
      "cell_type": "code",
      "metadata": {
        "id": "KK2P29zncQUj",
        "colab_type": "code",
        "colab": {
          "base_uri": "https://localhost:8080/",
          "height": 34
        },
        "outputId": "342a4ab5-2656-4bb9-90da-b62c9875d79a"
      },
      "source": [
        "diccionario['sub'] = subdiccionario\n",
        "print(diccionario)"
      ],
      "execution_count": 13,
      "outputs": [
        {
          "output_type": "stream",
          "text": [
            "{'uno': 1, 'dos': 2, 'tres': 33, 'cuatro': [44, 444], 'sub': {1: 'uno', 2: 'dos'}}\n"
          ],
          "name": "stdout"
        }
      ]
    },
    {
      "cell_type": "code",
      "metadata": {
        "id": "OceAoQcucXb4",
        "colab_type": "code",
        "colab": {
          "base_uri": "https://localhost:8080/",
          "height": 34
        },
        "outputId": "683e5c05-625d-40de-b207-952fcd63f885"
      },
      "source": [
        "diccionario['sub'][5] = 'cinco'\n",
        "print(diccionario)"
      ],
      "execution_count": 14,
      "outputs": [
        {
          "output_type": "stream",
          "text": [
            "{'uno': 1, 'dos': 2, 'tres': 33, 'cuatro': [44, 444], 'sub': {1: 'uno', 2: 'dos', 5: 'cinco'}}\n"
          ],
          "name": "stdout"
        }
      ]
    },
    {
      "cell_type": "code",
      "metadata": {
        "id": "SHqpgi_pchnJ",
        "colab_type": "code",
        "colab": {
          "base_uri": "https://localhost:8080/",
          "height": 102
        },
        "outputId": "20baec4a-79b3-4180-8baf-577667cbe40e"
      },
      "source": [
        "for key in diccionario:\n",
        "    print(key)"
      ],
      "execution_count": 15,
      "outputs": [
        {
          "output_type": "stream",
          "text": [
            "uno\n",
            "dos\n",
            "tres\n",
            "cuatro\n",
            "sub\n"
          ],
          "name": "stdout"
        }
      ]
    },
    {
      "cell_type": "code",
      "metadata": {
        "id": "04SrsmjfcoAD",
        "colab_type": "code",
        "colab": {
          "base_uri": "https://localhost:8080/",
          "height": 102
        },
        "outputId": "0e6c1303-c428-497c-a95d-b237973925c9"
      },
      "source": [
        "for key in diccionario:\n",
        "    print(key, diccionario[key])"
      ],
      "execution_count": 16,
      "outputs": [
        {
          "output_type": "stream",
          "text": [
            "uno 1\n",
            "dos 2\n",
            "tres 33\n",
            "cuatro [44, 444]\n",
            "sub {1: 'uno', 2: 'dos', 5: 'cinco'}\n"
          ],
          "name": "stdout"
        }
      ]
    },
    {
      "cell_type": "code",
      "metadata": {
        "id": "HmGY2kzncul3",
        "colab_type": "code",
        "colab": {
          "base_uri": "https://localhost:8080/",
          "height": 102
        },
        "outputId": "6d5b5c72-051f-4ef7-8d00-c37b69f74741"
      },
      "source": [
        "for value in diccionario.values():\n",
        "    print(value)"
      ],
      "execution_count": 17,
      "outputs": [
        {
          "output_type": "stream",
          "text": [
            "1\n",
            "2\n",
            "33\n",
            "[44, 444]\n",
            "{1: 'uno', 2: 'dos', 5: 'cinco'}\n"
          ],
          "name": "stdout"
        }
      ]
    },
    {
      "cell_type": "code",
      "metadata": {
        "id": "j7wuorRXc0tj",
        "colab_type": "code",
        "colab": {
          "base_uri": "https://localhost:8080/",
          "height": 102
        },
        "outputId": "908d626f-5224-4266-99e9-b1709107001e"
      },
      "source": [
        "for key in diccionario.keys():\n",
        "    print(key, diccionario[key])"
      ],
      "execution_count": 18,
      "outputs": [
        {
          "output_type": "stream",
          "text": [
            "uno 1\n",
            "dos 2\n",
            "tres 33\n",
            "cuatro [44, 444]\n",
            "sub {1: 'uno', 2: 'dos', 5: 'cinco'}\n"
          ],
          "name": "stdout"
        }
      ]
    },
    {
      "cell_type": "code",
      "metadata": {
        "id": "lNg2fLwTc5yf",
        "colab_type": "code",
        "colab": {
          "base_uri": "https://localhost:8080/",
          "height": 102
        },
        "outputId": "a31cc49e-9553-4e9b-d1e0-f78a95b26bf5"
      },
      "source": [
        "for key, value in diccionario.items():\n",
        "    print(key, value)"
      ],
      "execution_count": 19,
      "outputs": [
        {
          "output_type": "stream",
          "text": [
            "uno 1\n",
            "dos 2\n",
            "tres 33\n",
            "cuatro [44, 444]\n",
            "sub {1: 'uno', 2: 'dos', 5: 'cinco'}\n"
          ],
          "name": "stdout"
        }
      ]
    },
    {
      "cell_type": "code",
      "metadata": {
        "id": "RTMwJL6ndFLX",
        "colab_type": "code",
        "colab": {
          "base_uri": "https://localhost:8080/",
          "height": 102
        },
        "outputId": "8216d19f-482d-4459-e188-e51db0f13269"
      },
      "source": [
        "for item in diccionario.items():\n",
        "    print(item)"
      ],
      "execution_count": 20,
      "outputs": [
        {
          "output_type": "stream",
          "text": [
            "('uno', 1)\n",
            "('dos', 2)\n",
            "('tres', 33)\n",
            "('cuatro', [44, 444])\n",
            "('sub', {1: 'uno', 2: 'dos', 5: 'cinco'})\n"
          ],
          "name": "stdout"
        }
      ]
    },
    {
      "cell_type": "code",
      "metadata": {
        "id": "E9FqPqmddLEg",
        "colab_type": "code",
        "colab": {
          "base_uri": "https://localhost:8080/",
          "height": 306
        },
        "outputId": "06815723-ecbc-4a9d-e050-7da2b5763b88"
      },
      "source": [
        "inventario = {}\n",
        "\n",
        "seguir = 'S'\n",
        "\n",
        "while seguir.upper() != 'N':\n",
        "    # Pedimos los valores\n",
        "    producto = input('Ingrese el nombre del producto: ')\n",
        "    cantidad = int(input('Ingrese la cantidad del producto: '))\n",
        "\n",
        "    # Agregamos al diccionario\n",
        "    producto = producto.lower()\n",
        "\n",
        "    if producto in inventario:\n",
        "        inventario[producto] += cantidad\n",
        "    else:\n",
        "        inventario[producto] = cantidad\n",
        "\n",
        "    # Preguntamos si desea continuar\n",
        "    seguir = input('Desea seguir (S/N): ')\n",
        "\n",
        "    print()\n",
        "\n",
        "print(inventario)"
      ],
      "execution_count": 24,
      "outputs": [
        {
          "output_type": "stream",
          "text": [
            "Ingrese el nombre del producto: Manzanas\n",
            "Ingrese la cantidad del producto: 10\n",
            "Desea seguir (S/N): S\n",
            "\n",
            "Ingrese el nombre del producto: manzanas\n",
            "Ingrese la cantidad del producto: 15\n",
            "Desea seguir (S/N): S\n",
            "\n",
            "Ingrese el nombre del producto: MANZANAS\n",
            "Ingrese la cantidad del producto: 20\n",
            "Desea seguir (S/N): S\n",
            "\n",
            "Ingrese el nombre del producto: manzana\n",
            "Ingrese la cantidad del producto: 100\n",
            "Desea seguir (S/N): N\n",
            "\n",
            "{'manzanas': 45, 'manzana': 100}\n"
          ],
          "name": "stdout"
        }
      ]
    },
    {
      "cell_type": "code",
      "metadata": {
        "id": "TVSwVswCfyrx",
        "colab_type": "code",
        "colab": {
          "base_uri": "https://localhost:8080/",
          "height": 34
        },
        "outputId": "aaf049c5-dc00-4d72-e28b-b46a3b2293b1"
      },
      "source": [
        "print(diccionario)"
      ],
      "execution_count": 25,
      "outputs": [
        {
          "output_type": "stream",
          "text": [
            "{'uno': 1, 'dos': 2, 'tres': 33, 'cuatro': [44, 444], 'sub': {1: 'uno', 2: 'dos', 5: 'cinco'}}\n"
          ],
          "name": "stdout"
        }
      ]
    },
    {
      "cell_type": "code",
      "metadata": {
        "id": "S02uTM9bf1G1",
        "colab_type": "code",
        "colab": {
          "base_uri": "https://localhost:8080/",
          "height": 34
        },
        "outputId": "984c741b-430d-437b-ab61-25d628a8efe4"
      },
      "source": [
        "del diccionario['uno']\n",
        "print(diccionario)"
      ],
      "execution_count": 26,
      "outputs": [
        {
          "output_type": "stream",
          "text": [
            "{'dos': 2, 'tres': 33, 'cuatro': [44, 444], 'sub': {1: 'uno', 2: 'dos', 5: 'cinco'}}\n"
          ],
          "name": "stdout"
        }
      ]
    },
    {
      "cell_type": "code",
      "metadata": {
        "id": "qwHa3_zdf-Z4",
        "colab_type": "code",
        "colab": {
          "base_uri": "https://localhost:8080/",
          "height": 34
        },
        "outputId": "bf88d29f-7d9e-46bd-8dee-31027a746873"
      },
      "source": [
        "num = 2\n",
        "print(num)"
      ],
      "execution_count": 27,
      "outputs": [
        {
          "output_type": "stream",
          "text": [
            "2\n"
          ],
          "name": "stdout"
        }
      ]
    },
    {
      "cell_type": "code",
      "metadata": {
        "id": "-QuOiiIQgATp",
        "colab_type": "code",
        "colab": {
          "base_uri": "https://localhost:8080/",
          "height": 180
        },
        "outputId": "d3d70fae-cb12-4cd4-f78d-33dfadc535c9"
      },
      "source": [
        "del num\n",
        "print(num)"
      ],
      "execution_count": 28,
      "outputs": [
        {
          "output_type": "error",
          "ename": "NameError",
          "evalue": "ignored",
          "traceback": [
            "\u001b[0;31m---------------------------------------------------------------------------\u001b[0m",
            "\u001b[0;31mNameError\u001b[0m                                 Traceback (most recent call last)",
            "\u001b[0;32m<ipython-input-28-9d380f58e2e3>\u001b[0m in \u001b[0;36m<module>\u001b[0;34m()\u001b[0m\n\u001b[1;32m      1\u001b[0m \u001b[0;32mdel\u001b[0m \u001b[0mnum\u001b[0m\u001b[0;34m\u001b[0m\u001b[0;34m\u001b[0m\u001b[0m\n\u001b[0;32m----> 2\u001b[0;31m \u001b[0mprint\u001b[0m\u001b[0;34m(\u001b[0m\u001b[0mnum\u001b[0m\u001b[0;34m)\u001b[0m\u001b[0;34m\u001b[0m\u001b[0;34m\u001b[0m\u001b[0m\n\u001b[0m",
            "\u001b[0;31mNameError\u001b[0m: name 'num' is not defined"
          ]
        }
      ]
    },
    {
      "cell_type": "markdown",
      "metadata": {
        "id": "gF4JVZU1gcZU",
        "colab_type": "text"
      },
      "source": [
        "# **Compresión de Matrices**"
      ]
    },
    {
      "cell_type": "code",
      "metadata": {
        "id": "vXkSAUWpgFUB",
        "colab_type": "code",
        "colab": {
          "base_uri": "https://localhost:8080/",
          "height": 54
        },
        "outputId": "81310756-ce5d-4015-97dc-908c12891f88"
      },
      "source": [
        "lista = [i for i in range(100)]\n",
        "print(lista)"
      ],
      "execution_count": 29,
      "outputs": [
        {
          "output_type": "stream",
          "text": [
            "[0, 1, 2, 3, 4, 5, 6, 7, 8, 9, 10, 11, 12, 13, 14, 15, 16, 17, 18, 19, 20, 21, 22, 23, 24, 25, 26, 27, 28, 29, 30, 31, 32, 33, 34, 35, 36, 37, 38, 39, 40, 41, 42, 43, 44, 45, 46, 47, 48, 49, 50, 51, 52, 53, 54, 55, 56, 57, 58, 59, 60, 61, 62, 63, 64, 65, 66, 67, 68, 69, 70, 71, 72, 73, 74, 75, 76, 77, 78, 79, 80, 81, 82, 83, 84, 85, 86, 87, 88, 89, 90, 91, 92, 93, 94, 95, 96, 97, 98, 99]\n"
          ],
          "name": "stdout"
        }
      ]
    },
    {
      "cell_type": "code",
      "metadata": {
        "id": "2AbY5VOlgk8B",
        "colab_type": "code",
        "colab": {
          "base_uri": "https://localhost:8080/",
          "height": 34
        },
        "outputId": "56f8e89c-6216-4485-f0c7-d14f1627bbd1"
      },
      "source": [
        "pares = [i for i in range(0, 100, 2)]\n",
        "print(pares)"
      ],
      "execution_count": 30,
      "outputs": [
        {
          "output_type": "stream",
          "text": [
            "[0, 2, 4, 6, 8, 10, 12, 14, 16, 18, 20, 22, 24, 26, 28, 30, 32, 34, 36, 38, 40, 42, 44, 46, 48, 50, 52, 54, 56, 58, 60, 62, 64, 66, 68, 70, 72, 74, 76, 78, 80, 82, 84, 86, 88, 90, 92, 94, 96, 98]\n"
          ],
          "name": "stdout"
        }
      ]
    },
    {
      "cell_type": "code",
      "metadata": {
        "id": "l2woHix2gp8r",
        "colab_type": "code",
        "colab": {
          "base_uri": "https://localhost:8080/",
          "height": 34
        },
        "outputId": "3442be5f-e536-4771-dada-d5d6b7dd2d50"
      },
      "source": [
        "impares = [i for i in range(1, 100, 2)]\n",
        "print(impares)"
      ],
      "execution_count": 31,
      "outputs": [
        {
          "output_type": "stream",
          "text": [
            "[1, 3, 5, 7, 9, 11, 13, 15, 17, 19, 21, 23, 25, 27, 29, 31, 33, 35, 37, 39, 41, 43, 45, 47, 49, 51, 53, 55, 57, 59, 61, 63, 65, 67, 69, 71, 73, 75, 77, 79, 81, 83, 85, 87, 89, 91, 93, 95, 97, 99]\n"
          ],
          "name": "stdout"
        }
      ]
    },
    {
      "cell_type": "code",
      "metadata": {
        "id": "gXvv4viCguA4",
        "colab_type": "code",
        "colab": {
          "base_uri": "https://localhost:8080/",
          "height": 54
        },
        "outputId": "02f802c8-3019-4fce-910b-6c01c835c109"
      },
      "source": [
        "pares = [i for i in range(-100, 100) if abs(i) % 2 == 0]\n",
        "print(pares)"
      ],
      "execution_count": 32,
      "outputs": [
        {
          "output_type": "stream",
          "text": [
            "[-100, -98, -96, -94, -92, -90, -88, -86, -84, -82, -80, -78, -76, -74, -72, -70, -68, -66, -64, -62, -60, -58, -56, -54, -52, -50, -48, -46, -44, -42, -40, -38, -36, -34, -32, -30, -28, -26, -24, -22, -20, -18, -16, -14, -12, -10, -8, -6, -4, -2, 0, 2, 4, 6, 8, 10, 12, 14, 16, 18, 20, 22, 24, 26, 28, 30, 32, 34, 36, 38, 40, 42, 44, 46, 48, 50, 52, 54, 56, 58, 60, 62, 64, 66, 68, 70, 72, 74, 76, 78, 80, 82, 84, 86, 88, 90, 92, 94, 96, 98]\n"
          ],
          "name": "stdout"
        }
      ]
    },
    {
      "cell_type": "code",
      "metadata": {
        "id": "sq6_1VKSg55-",
        "colab_type": "code",
        "colab": {
          "base_uri": "https://localhost:8080/",
          "height": 54
        },
        "outputId": "2719c0bf-4faf-4995-e85e-4803ee8dba45"
      },
      "source": [
        "impares = [i for i in range(-100, 100) if abs(i) % 2 != 0]\n",
        "print(impares)"
      ],
      "execution_count": 33,
      "outputs": [
        {
          "output_type": "stream",
          "text": [
            "[-99, -97, -95, -93, -91, -89, -87, -85, -83, -81, -79, -77, -75, -73, -71, -69, -67, -65, -63, -61, -59, -57, -55, -53, -51, -49, -47, -45, -43, -41, -39, -37, -35, -33, -31, -29, -27, -25, -23, -21, -19, -17, -15, -13, -11, -9, -7, -5, -3, -1, 1, 3, 5, 7, 9, 11, 13, 15, 17, 19, 21, 23, 25, 27, 29, 31, 33, 35, 37, 39, 41, 43, 45, 47, 49, 51, 53, 55, 57, 59, 61, 63, 65, 67, 69, 71, 73, 75, 77, 79, 81, 83, 85, 87, 89, 91, 93, 95, 97, 99]\n"
          ],
          "name": "stdout"
        }
      ]
    },
    {
      "cell_type": "code",
      "metadata": {
        "id": "qGG1Xgb9hC9y",
        "colab_type": "code",
        "colab": {
          "base_uri": "https://localhost:8080/",
          "height": 51
        },
        "outputId": "000f3d58-3a3a-4c82-c347-4fece6c9cb68"
      },
      "source": [
        "import random\n",
        "\n",
        "# Negativos -> 0\n",
        "lista = [random.randint(-10, 10) for _ in range(10)]\n",
        "ceros_nums = [num if num > 0 else 0 for num in lista]\n",
        "print(lista)\n",
        "print(ceros_nums)"
      ],
      "execution_count": 52,
      "outputs": [
        {
          "output_type": "stream",
          "text": [
            "[-9, 1, -1, 4, 0, -8, 6, -4, -2, 5]\n",
            "[0, 1, 0, 4, 0, 0, 6, 0, 0, 5]\n"
          ],
          "name": "stdout"
        }
      ]
    },
    {
      "cell_type": "code",
      "metadata": {
        "id": "0kr1GvWXhujX",
        "colab_type": "code",
        "colab": {
          "base_uri": "https://localhost:8080/",
          "height": 34
        },
        "outputId": "d8958dcf-12e3-4e52-af8b-55204470f9d9"
      },
      "source": [
        "# Negativos -> 0\n",
        "# Positivos -> 1\n",
        "lista = [1 if random.randint(-10, 10) > 0 else 0 for _ in range(10)]\n",
        "print(lista)"
      ],
      "execution_count": 53,
      "outputs": [
        {
          "output_type": "stream",
          "text": [
            "[1, 0, 0, 0, 1, 1, 0, 1, 1, 0]\n"
          ],
          "name": "stdout"
        }
      ]
    },
    {
      "cell_type": "code",
      "metadata": {
        "id": "CDCLVDx7iYZB",
        "colab_type": "code",
        "colab": {
          "base_uri": "https://localhost:8080/",
          "height": 34
        },
        "outputId": "1ff76ffa-da78-4bf4-bddc-7bd7decd0877"
      },
      "source": [
        "filas = 10\n",
        "columnas = 5\n",
        "\n",
        "matriz = [[i*j for j in range(columnas)] for i in range(filas)]\n",
        "print(matriz)"
      ],
      "execution_count": 57,
      "outputs": [
        {
          "output_type": "stream",
          "text": [
            "[[0, 0, 0, 0, 0], [0, 1, 2, 3, 4], [0, 2, 4, 6, 8], [0, 3, 6, 9, 12], [0, 4, 8, 12, 16], [0, 5, 10, 15, 20], [0, 6, 12, 18, 24], [0, 7, 14, 21, 28], [0, 8, 16, 24, 32], [0, 9, 18, 27, 36]]\n"
          ],
          "name": "stdout"
        }
      ]
    },
    {
      "cell_type": "code",
      "metadata": {
        "id": "tUeUrJEzjVZm",
        "colab_type": "code",
        "colab": {
          "base_uri": "https://localhost:8080/",
          "height": 68
        },
        "outputId": "44f102d7-a9a1-47c7-a82b-830a5401a052"
      },
      "source": [
        "def generar_matriz(filas, columnas):\n",
        "    return [[random.randint(0, 9) for j in range(columnas)] for i in range(filas)]\n",
        "\n",
        "def sumar_matrices(A, B):\n",
        "    C = []\n",
        "\n",
        "    for i in range(len(A)):\n",
        "        fila = []\n",
        "\n",
        "        for j in range(len(A[0])):\n",
        "            fila.append(A[i][j] + B[i][j])\n",
        "        \n",
        "        C.append(fila)\n",
        "    \n",
        "    return C\n",
        "\n",
        "A = generar_matriz(3, 4)\n",
        "B = generar_matriz(3, 4)\n",
        "\n",
        "print(A, B, sep='\\n')\n",
        "print(sumar_matrices(A, B))"
      ],
      "execution_count": 63,
      "outputs": [
        {
          "output_type": "stream",
          "text": [
            "[[3, 8, 7, 4], [5, 0, 4, 6], [8, 3, 1, 0]]\n",
            "[[8, 4, 9, 0], [0, 9, 1, 1], [8, 7, 3, 5]]\n",
            "[[11, 12, 16, 4], [5, 9, 5, 7], [16, 10, 4, 5]]\n"
          ],
          "name": "stdout"
        }
      ]
    },
    {
      "cell_type": "markdown",
      "metadata": {
        "id": "NZ_61D8Gkj3g",
        "colab_type": "text"
      },
      "source": [
        "# **Recorrer lista circular**"
      ]
    },
    {
      "cell_type": "code",
      "metadata": {
        "id": "yP5mVCHRkZTz",
        "colab_type": "code",
        "colab": {
          "base_uri": "https://localhost:8080/",
          "height": 34
        },
        "outputId": "610d51fc-44e2-4173-f9bc-6e93db0e2299"
      },
      "source": [
        "lista = [random.randint(0, 9) for _ in range(10)]\n",
        "print(lista)"
      ],
      "execution_count": 66,
      "outputs": [
        {
          "output_type": "stream",
          "text": [
            "[3, 2, 7, 8, 1, 9, 2, 3, 5, 2]\n"
          ],
          "name": "stdout"
        }
      ]
    },
    {
      "cell_type": "code",
      "metadata": {
        "id": "7O0im_JHkjWl",
        "colab_type": "code",
        "colab": {
          "base_uri": "https://localhost:8080/",
          "height": 527
        },
        "outputId": "032c1bd2-d989-44f0-d8be-ec85b4e34499"
      },
      "source": [
        "largo = len(lista)\n",
        "\n",
        "for i in range(3*largo):\n",
        "    print(f'indice: {i}, indice circular: {i % largo}, elemento: {lista[i % largo]}')\n"
      ],
      "execution_count": 71,
      "outputs": [
        {
          "output_type": "stream",
          "text": [
            "indice: 0, indice circular: 0, elemento: 3\n",
            "indice: 1, indice circular: 1, elemento: 2\n",
            "indice: 2, indice circular: 2, elemento: 7\n",
            "indice: 3, indice circular: 3, elemento: 8\n",
            "indice: 4, indice circular: 4, elemento: 1\n",
            "indice: 5, indice circular: 5, elemento: 9\n",
            "indice: 6, indice circular: 6, elemento: 2\n",
            "indice: 7, indice circular: 7, elemento: 3\n",
            "indice: 8, indice circular: 8, elemento: 5\n",
            "indice: 9, indice circular: 9, elemento: 2\n",
            "indice: 10, indice circular: 0, elemento: 3\n",
            "indice: 11, indice circular: 1, elemento: 2\n",
            "indice: 12, indice circular: 2, elemento: 7\n",
            "indice: 13, indice circular: 3, elemento: 8\n",
            "indice: 14, indice circular: 4, elemento: 1\n",
            "indice: 15, indice circular: 5, elemento: 9\n",
            "indice: 16, indice circular: 6, elemento: 2\n",
            "indice: 17, indice circular: 7, elemento: 3\n",
            "indice: 18, indice circular: 8, elemento: 5\n",
            "indice: 19, indice circular: 9, elemento: 2\n",
            "indice: 20, indice circular: 0, elemento: 3\n",
            "indice: 21, indice circular: 1, elemento: 2\n",
            "indice: 22, indice circular: 2, elemento: 7\n",
            "indice: 23, indice circular: 3, elemento: 8\n",
            "indice: 24, indice circular: 4, elemento: 1\n",
            "indice: 25, indice circular: 5, elemento: 9\n",
            "indice: 26, indice circular: 6, elemento: 2\n",
            "indice: 27, indice circular: 7, elemento: 3\n",
            "indice: 28, indice circular: 8, elemento: 5\n",
            "indice: 29, indice circular: 9, elemento: 2\n"
          ],
          "name": "stdout"
        }
      ]
    },
    {
      "cell_type": "code",
      "metadata": {
        "id": "KoFjWc8KliVT",
        "colab_type": "code",
        "colab": {
          "base_uri": "https://localhost:8080/",
          "height": 221
        },
        "outputId": "4924bba0-b762-42eb-dd1d-7099d8b34f66"
      },
      "source": [
        "largo = len(lista)\n",
        "pos = random.randint(0, 9)\n",
        "\n",
        "print(lista)\n",
        "\n",
        "print('Empezando en la posicion:', pos)\n",
        "\n",
        "for i in range(pos, pos + largo):\n",
        "    print(f'indice: {i}, indice circular: {i % largo}, elemento: {lista[i % largo]}')"
      ],
      "execution_count": 78,
      "outputs": [
        {
          "output_type": "stream",
          "text": [
            "[3, 2, 7, 8, 1, 9, 2, 3, 5, 2]\n",
            "Empezando en la posicion: 4\n",
            "indice: 4, indice circular: 4, elemento: 1\n",
            "indice: 5, indice circular: 5, elemento: 9\n",
            "indice: 6, indice circular: 6, elemento: 2\n",
            "indice: 7, indice circular: 7, elemento: 3\n",
            "indice: 8, indice circular: 8, elemento: 5\n",
            "indice: 9, indice circular: 9, elemento: 2\n",
            "indice: 10, indice circular: 0, elemento: 3\n",
            "indice: 11, indice circular: 1, elemento: 2\n",
            "indice: 12, indice circular: 2, elemento: 7\n",
            "indice: 13, indice circular: 3, elemento: 8\n"
          ],
          "name": "stdout"
        }
      ]
    },
    {
      "cell_type": "code",
      "metadata": {
        "id": "iZXPRohPmCf0",
        "colab_type": "code",
        "colab": {
          "base_uri": "https://localhost:8080/",
          "height": 221
        },
        "outputId": "7e8d1e4f-3854-4ee1-b112-ca8e1bc1919f"
      },
      "source": [
        "largo = len(lista)\n",
        "pos = random.randint(0, 9)\n",
        "\n",
        "print(lista)\n",
        "\n",
        "print('Empezando en la posicion:', pos)\n",
        "\n",
        "for i in range(pos, pos + largo):\n",
        "    if i >= largo:\n",
        "        i -= largo\n",
        "    print(f'indice: {i}, indice circular: {i}, elemento: {lista[i]}')"
      ],
      "execution_count": 83,
      "outputs": [
        {
          "output_type": "stream",
          "text": [
            "[3, 2, 7, 8, 1, 9, 2, 3, 5, 2]\n",
            "Empezando en la posicion: 4\n",
            "indice: 4, indice circular: 4, elemento: 1\n",
            "indice: 5, indice circular: 5, elemento: 9\n",
            "indice: 6, indice circular: 6, elemento: 2\n",
            "indice: 7, indice circular: 7, elemento: 3\n",
            "indice: 8, indice circular: 8, elemento: 5\n",
            "indice: 9, indice circular: 9, elemento: 2\n",
            "indice: 0, indice circular: 0, elemento: 3\n",
            "indice: 1, indice circular: 1, elemento: 2\n",
            "indice: 2, indice circular: 2, elemento: 7\n",
            "indice: 3, indice circular: 3, elemento: 8\n"
          ],
          "name": "stdout"
        }
      ]
    },
    {
      "cell_type": "code",
      "metadata": {
        "id": "uz2_gKd9mPI5",
        "colab_type": "code",
        "colab": {
          "base_uri": "https://localhost:8080/",
          "height": 537
        },
        "outputId": "d60e4f75-5793-4c51-d4d8-831fb73720e7"
      },
      "source": [
        "largo = len(lista)\n",
        "\n",
        "for i in range(4*largo):\n",
        "    if i >= largo:\n",
        "        i -= largo\n",
        "    print(f'indice: {i}, indice circular: {i}, elemento: {lista[i]}')"
      ],
      "execution_count": 84,
      "outputs": [
        {
          "output_type": "stream",
          "text": [
            "indice: 0, indice circular: 0, elemento: 3\n",
            "indice: 1, indice circular: 1, elemento: 2\n",
            "indice: 2, indice circular: 2, elemento: 7\n",
            "indice: 3, indice circular: 3, elemento: 8\n",
            "indice: 4, indice circular: 4, elemento: 1\n",
            "indice: 5, indice circular: 5, elemento: 9\n",
            "indice: 6, indice circular: 6, elemento: 2\n",
            "indice: 7, indice circular: 7, elemento: 3\n",
            "indice: 8, indice circular: 8, elemento: 5\n",
            "indice: 9, indice circular: 9, elemento: 2\n",
            "indice: 0, indice circular: 0, elemento: 3\n",
            "indice: 1, indice circular: 1, elemento: 2\n",
            "indice: 2, indice circular: 2, elemento: 7\n",
            "indice: 3, indice circular: 3, elemento: 8\n",
            "indice: 4, indice circular: 4, elemento: 1\n",
            "indice: 5, indice circular: 5, elemento: 9\n",
            "indice: 6, indice circular: 6, elemento: 2\n",
            "indice: 7, indice circular: 7, elemento: 3\n",
            "indice: 8, indice circular: 8, elemento: 5\n",
            "indice: 9, indice circular: 9, elemento: 2\n"
          ],
          "name": "stdout"
        },
        {
          "output_type": "error",
          "ename": "IndexError",
          "evalue": "ignored",
          "traceback": [
            "\u001b[0;31m---------------------------------------------------------------------------\u001b[0m",
            "\u001b[0;31mIndexError\u001b[0m                                Traceback (most recent call last)",
            "\u001b[0;32m<ipython-input-84-ca0f30e932b3>\u001b[0m in \u001b[0;36m<module>\u001b[0;34m()\u001b[0m\n\u001b[1;32m      4\u001b[0m     \u001b[0;32mif\u001b[0m \u001b[0mi\u001b[0m \u001b[0;34m>=\u001b[0m \u001b[0mlargo\u001b[0m\u001b[0;34m:\u001b[0m\u001b[0;34m\u001b[0m\u001b[0;34m\u001b[0m\u001b[0m\n\u001b[1;32m      5\u001b[0m         \u001b[0mi\u001b[0m \u001b[0;34m-=\u001b[0m \u001b[0mlargo\u001b[0m\u001b[0;34m\u001b[0m\u001b[0;34m\u001b[0m\u001b[0m\n\u001b[0;32m----> 6\u001b[0;31m     \u001b[0mprint\u001b[0m\u001b[0;34m(\u001b[0m\u001b[0;34mf'indice: {i}, indice circular: {i}, elemento: {lista[i]}'\u001b[0m\u001b[0;34m)\u001b[0m\u001b[0;34m\u001b[0m\u001b[0;34m\u001b[0m\u001b[0m\n\u001b[0m",
            "\u001b[0;31mIndexError\u001b[0m: list index out of range"
          ]
        }
      ]
    },
    {
      "cell_type": "code",
      "metadata": {
        "id": "2TtKXGpQmoA5",
        "colab_type": "code",
        "colab": {
          "base_uri": "https://localhost:8080/",
          "height": 697
        },
        "outputId": "fbd1168b-3e1a-473a-da9a-da549a59855e"
      },
      "source": [
        "largo = len(lista)\n",
        "vueltas = -1\n",
        "\n",
        "for i in range(4*largo):\n",
        "    if i % largo == 0:\n",
        "        vueltas += 1\n",
        "\n",
        "    i -= largo * vueltas\n",
        "\n",
        "    print(f'indice: {i}, indice circular: {i}, elemento: {lista[i]}')"
      ],
      "execution_count": 89,
      "outputs": [
        {
          "output_type": "stream",
          "text": [
            "indice: 0, indice circular: 0, elemento: 3\n",
            "indice: 1, indice circular: 1, elemento: 2\n",
            "indice: 2, indice circular: 2, elemento: 7\n",
            "indice: 3, indice circular: 3, elemento: 8\n",
            "indice: 4, indice circular: 4, elemento: 1\n",
            "indice: 5, indice circular: 5, elemento: 9\n",
            "indice: 6, indice circular: 6, elemento: 2\n",
            "indice: 7, indice circular: 7, elemento: 3\n",
            "indice: 8, indice circular: 8, elemento: 5\n",
            "indice: 9, indice circular: 9, elemento: 2\n",
            "indice: 0, indice circular: 0, elemento: 3\n",
            "indice: 1, indice circular: 1, elemento: 2\n",
            "indice: 2, indice circular: 2, elemento: 7\n",
            "indice: 3, indice circular: 3, elemento: 8\n",
            "indice: 4, indice circular: 4, elemento: 1\n",
            "indice: 5, indice circular: 5, elemento: 9\n",
            "indice: 6, indice circular: 6, elemento: 2\n",
            "indice: 7, indice circular: 7, elemento: 3\n",
            "indice: 8, indice circular: 8, elemento: 5\n",
            "indice: 9, indice circular: 9, elemento: 2\n",
            "indice: 0, indice circular: 0, elemento: 3\n",
            "indice: 1, indice circular: 1, elemento: 2\n",
            "indice: 2, indice circular: 2, elemento: 7\n",
            "indice: 3, indice circular: 3, elemento: 8\n",
            "indice: 4, indice circular: 4, elemento: 1\n",
            "indice: 5, indice circular: 5, elemento: 9\n",
            "indice: 6, indice circular: 6, elemento: 2\n",
            "indice: 7, indice circular: 7, elemento: 3\n",
            "indice: 8, indice circular: 8, elemento: 5\n",
            "indice: 9, indice circular: 9, elemento: 2\n",
            "indice: 0, indice circular: 0, elemento: 3\n",
            "indice: 1, indice circular: 1, elemento: 2\n",
            "indice: 2, indice circular: 2, elemento: 7\n",
            "indice: 3, indice circular: 3, elemento: 8\n",
            "indice: 4, indice circular: 4, elemento: 1\n",
            "indice: 5, indice circular: 5, elemento: 9\n",
            "indice: 6, indice circular: 6, elemento: 2\n",
            "indice: 7, indice circular: 7, elemento: 3\n",
            "indice: 8, indice circular: 8, elemento: 5\n",
            "indice: 9, indice circular: 9, elemento: 2\n"
          ],
          "name": "stdout"
        }
      ]
    },
    {
      "cell_type": "code",
      "metadata": {
        "id": "jhgGxiTFn1Ei",
        "colab_type": "code",
        "colab": {
          "base_uri": "https://localhost:8080/",
          "height": 306
        },
        "outputId": "47023e44-9ae5-427a-cc57-207faf4196f7"
      },
      "source": [
        "largo = 26\n",
        "\n",
        "abecedario = 'Erick Obregon ZYB'\n",
        "\n",
        "key = 10\n",
        "\n",
        "for letra in abecedario:\n",
        "    codigo_ascii = ord(letra)\n",
        "    nuevo_codigo = codigo_ascii + key\n",
        "\n",
        "    if letra.islower() and nuevo_codigo > ord('z'):\n",
        "        nuevo_codigo -= largo\n",
        "    \n",
        "    if letra.isupper() and nuevo_codigo > ord('Z'):\n",
        "        nuevo_codigo -= largo\n",
        "\n",
        "    nueva_letra = chr(nuevo_codigo)\n",
        "    print(nueva_letra)"
      ],
      "execution_count": 121,
      "outputs": [
        {
          "output_type": "stream",
          "text": [
            "O\n",
            "b\n",
            "s\n",
            "m\n",
            "u\n",
            "*\n",
            "Y\n",
            "l\n",
            "b\n",
            "o\n",
            "q\n",
            "y\n",
            "x\n",
            "*\n",
            "J\n",
            "I\n",
            "L\n"
          ],
          "name": "stdout"
        }
      ]
    }
  ]
}
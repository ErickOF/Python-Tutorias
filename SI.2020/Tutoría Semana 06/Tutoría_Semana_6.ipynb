{
  "nbformat": 4,
  "nbformat_minor": 0,
  "metadata": {
    "colab": {
      "name": "Tutoría Semana 6.ipynb",
      "provenance": []
    },
    "kernelspec": {
      "name": "python3",
      "display_name": "Python 3"
    }
  },
  "cells": [
    {
      "cell_type": "markdown",
      "metadata": {
        "id": "c-Au9YwHWGqb",
        "colab_type": "text"
      },
      "source": [
        "# Ejercicios"
      ]
    },
    {
      "cell_type": "markdown",
      "metadata": {
        "id": "tX5dzTVlWJxF",
        "colab_type": "text"
      },
      "source": [
        "## Ejercicio 1\n",
        "\n",
        "* append(elemento)"
      ]
    },
    {
      "cell_type": "code",
      "metadata": {
        "id": "PoexaCTBRRxz",
        "colab_type": "code",
        "colab": {}
      },
      "source": [
        "def append(lista, elemento):\n",
        "    \"\"\"Inserta elemento al final de la lista\n",
        "    \"\"\"\n",
        "    lista = lista + [elemento]\n",
        "    return lista"
      ],
      "execution_count": 0,
      "outputs": []
    },
    {
      "cell_type": "code",
      "metadata": {
        "id": "YSx0Ue0VWigT",
        "colab_type": "code",
        "outputId": "1ce21950-9538-41c6-885b-b9c085817102",
        "colab": {
          "base_uri": "https://localhost:8080/",
          "height": 34
        }
      },
      "source": [
        "lista = [1, 2, 3]\n",
        "append(lista, 10)"
      ],
      "execution_count": 0,
      "outputs": [
        {
          "output_type": "execute_result",
          "data": {
            "text/plain": [
              "[1, 2, 3, 10]"
            ]
          },
          "metadata": {
            "tags": []
          },
          "execution_count": 2
        }
      ]
    },
    {
      "cell_type": "code",
      "metadata": {
        "id": "eYCYt98-WoPe",
        "colab_type": "code",
        "colab": {}
      },
      "source": [
        "def insert(lista, pos, elemento):\n",
        "    \"\"\"Insertar en la posicion pos el elemento\n",
        "    \"\"\"\n",
        "    if pos >= len(lista):\n",
        "        return lista + [elemento]\n",
        "\n",
        "    listaNueva = []\n",
        "\n",
        "    for i in range(len(lista)):\n",
        "        if i == pos:\n",
        "            listaNueva.append(elemento)\n",
        "        \n",
        "        listaNueva.append(lista[i])\n",
        "\n",
        "    return listaNueva"
      ],
      "execution_count": 0,
      "outputs": []
    },
    {
      "cell_type": "code",
      "metadata": {
        "id": "b2A63sCiXHJ1",
        "colab_type": "code",
        "outputId": "ba13cb0a-399a-4490-8900-2e5f0e920bb4",
        "colab": {
          "base_uri": "https://localhost:8080/",
          "height": 34
        }
      },
      "source": [
        "lista = [1, 2, 3]\n",
        "insert(lista, 30, 10)"
      ],
      "execution_count": 0,
      "outputs": [
        {
          "output_type": "execute_result",
          "data": {
            "text/plain": [
              "[1, 2, 3, 10]"
            ]
          },
          "metadata": {
            "tags": []
          },
          "execution_count": 13
        }
      ]
    },
    {
      "cell_type": "code",
      "metadata": {
        "id": "aZ8Tdwr5XhIf",
        "colab_type": "code",
        "outputId": "c0dd44ad-454f-4121-a078-6d3f01334e51",
        "colab": {
          "base_uri": "https://localhost:8080/",
          "height": 34
        }
      },
      "source": [
        "lista = [1, 2, 3]\n",
        "lista.insert(100, 0)\n",
        "lista"
      ],
      "execution_count": 0,
      "outputs": [
        {
          "output_type": "execute_result",
          "data": {
            "text/plain": [
              "[1, 2, 3, 0]"
            ]
          },
          "metadata": {
            "tags": []
          },
          "execution_count": 11
        }
      ]
    },
    {
      "cell_type": "code",
      "metadata": {
        "id": "wcClpXtSX4z7",
        "colab_type": "code",
        "colab": {}
      },
      "source": [
        "def remove(lista, elemento, primeraAparicion=False):\n",
        "    listaNueva = []\n",
        "    apariciones = 0\n",
        "\n",
        "    for num in lista:\n",
        "        if num != elemento or (apariciones >= 1 and primeraAparicion):\n",
        "            listaNueva.append(num)\n",
        "        else:\n",
        "            apariciones += 1\n",
        "\n",
        "    return listaNueva"
      ],
      "execution_count": 0,
      "outputs": []
    },
    {
      "cell_type": "code",
      "metadata": {
        "id": "7uWLQIGKYI71",
        "colab_type": "code",
        "outputId": "281e76a5-e724-4609-dee1-512c73cb37fa",
        "colab": {
          "base_uri": "https://localhost:8080/",
          "height": 34
        }
      },
      "source": [
        "lista = [1, 2, 3, 4, 3, 5, 6, 3, 3, 30]\n",
        "remove(lista, 3, True)"
      ],
      "execution_count": 0,
      "outputs": [
        {
          "output_type": "execute_result",
          "data": {
            "text/plain": [
              "[1, 2, 4, 3, 5, 6, 3, 3, 30]"
            ]
          },
          "metadata": {
            "tags": []
          },
          "execution_count": 25
        }
      ]
    },
    {
      "cell_type": "code",
      "metadata": {
        "id": "tbXZLttqZDG2",
        "colab_type": "code",
        "colab": {}
      },
      "source": [
        "def esPrimo(num):\n",
        "    if num < 2:\n",
        "        return False\n",
        "\n",
        "    for div in range(2, num):\n",
        "        if num % div == 0:\n",
        "            return False\n",
        "\n",
        "    return True"
      ],
      "execution_count": 0,
      "outputs": []
    },
    {
      "cell_type": "code",
      "metadata": {
        "id": "LTNReUGwZYCH",
        "colab_type": "code",
        "outputId": "d504d3ef-1321-4dde-be27-20b1395a1d11",
        "colab": {
          "base_uri": "https://localhost:8080/",
          "height": 442
        }
      },
      "source": [
        "def obtenerListaPrimos():\n",
        "    inicio = 1\n",
        "    fin = 100\n",
        "    listaPrimos = []\n",
        "\n",
        "    for num in range(inicio, fin + 1):\n",
        "        if esPrimo(num):\n",
        "            listaPrimos.append(num)\n",
        "    \n",
        "    return listaPrimos\n",
        "\n",
        "obtenerListaPrimos()"
      ],
      "execution_count": 0,
      "outputs": [
        {
          "output_type": "execute_result",
          "data": {
            "text/plain": [
              "[2,\n",
              " 3,\n",
              " 5,\n",
              " 7,\n",
              " 11,\n",
              " 13,\n",
              " 17,\n",
              " 19,\n",
              " 23,\n",
              " 29,\n",
              " 31,\n",
              " 37,\n",
              " 41,\n",
              " 43,\n",
              " 47,\n",
              " 53,\n",
              " 59,\n",
              " 61,\n",
              " 67,\n",
              " 71,\n",
              " 73,\n",
              " 79,\n",
              " 83,\n",
              " 89,\n",
              " 97]"
            ]
          },
          "metadata": {
            "tags": []
          },
          "execution_count": 33
        }
      ]
    },
    {
      "cell_type": "code",
      "metadata": {
        "id": "1DWB4qSMaFAx",
        "colab_type": "code",
        "colab": {}
      },
      "source": [
        "def sumarVector(lista1, lista2):\n",
        "    if len(lista1) == len(lista2):\n",
        "        suma = []\n",
        "\n",
        "        #for i in range(len(lista1)):\n",
        "        #    suma.append(lista1[i] + lista2[i])\n",
        "\n",
        "        # zip([1, 2, 3], [4, 5, 6])\n",
        "        # ((1, 4), (2, 5), (3, 6))\n",
        "        for num1, num2 in zip(lista1, lista2):\n",
        "            suma.append(num1 + num2)\n",
        "        \n",
        "        return suma\n",
        "    else:\n",
        "        raise ValueError('Las listas deben ser del mismo largo')"
      ],
      "execution_count": 0,
      "outputs": []
    },
    {
      "cell_type": "code",
      "metadata": {
        "id": "_B7I2PUCaqwz",
        "colab_type": "code",
        "outputId": "585dffca-7248-482c-b243-a3ca6884edd4",
        "colab": {
          "base_uri": "https://localhost:8080/",
          "height": 34
        }
      },
      "source": [
        "try:\n",
        "    suma = sumarVector([1, 2, 3], [4, 5, 6])\n",
        "    suma.append(1)\n",
        "    print(suma)\n",
        "except ValueError:\n",
        "    print('No se pueden sumar')"
      ],
      "execution_count": 0,
      "outputs": [
        {
          "output_type": "stream",
          "text": [
            "[5, 7, 9, 1]\n"
          ],
          "name": "stdout"
        }
      ]
    },
    {
      "cell_type": "markdown",
      "metadata": {
        "id": "ZnYlEy4WcsNl",
        "colab_type": "text"
      },
      "source": [
        "# Multiplicacion de vectores (producto punto)\n",
        "$u = (1, 2, 3)$\n",
        "$v = (0, 1, 1)$\n",
        "\n",
        "$v \\cdot u = 1 \\cdot 0 + 2 \\cdot 1 + 3 \\cdot 1$\n",
        "$v \\cdot u = 5$\n"
      ]
    },
    {
      "cell_type": "code",
      "metadata": {
        "id": "S8syT6bJdIVO",
        "colab_type": "code",
        "colab": {}
      },
      "source": [
        "def multVector(lista1, lista2):\n",
        "    if len(lista1) == len(lista2):\n",
        "        mult = 0\n",
        "\n",
        "        for i in range(len(lista1)):\n",
        "            mult += lista1[i] * lista2[i]\n",
        "        \n",
        "        return mult\n",
        "    else:\n",
        "        raise ValueError('Las listas deben ser del mismo largo')"
      ],
      "execution_count": 0,
      "outputs": []
    },
    {
      "cell_type": "code",
      "metadata": {
        "id": "l-kWbd60dZGg",
        "colab_type": "code",
        "outputId": "0952b08c-af1c-491f-92f7-385b81b50488",
        "colab": {
          "base_uri": "https://localhost:8080/",
          "height": 34
        }
      },
      "source": [
        "multVector([1, 2, 3], [0, 1, 1])"
      ],
      "execution_count": 0,
      "outputs": [
        {
          "output_type": "execute_result",
          "data": {
            "text/plain": [
              "5"
            ]
          },
          "metadata": {
            "tags": []
          },
          "execution_count": 57
        }
      ]
    },
    {
      "cell_type": "code",
      "metadata": {
        "id": "IHgJX5rmdmtY",
        "colab_type": "code",
        "colab": {}
      },
      "source": [
        "def eliminarRepetidas(lista, elemento):\n",
        "    listaNueva = []\n",
        "\n",
        "    for num in lista:\n",
        "        if num != elemento:\n",
        "            listaNueva.append(num)\n",
        "\n",
        "    return listaNueva\n",
        "\n",
        "def contarNotas(notas):\n",
        "    resultado = notas\n",
        "    cuenta = []\n",
        "\n",
        "    # Solo una aparicion\n",
        "    for nota in notas:\n",
        "        notas = eliminarRepetidas(notas, nota)\n",
        "        notas.append(nota)\n",
        "\n",
        "    # Contar\n",
        "    for nota in notas:\n",
        "        cuenta.append((nota, resultado.count(nota)))\n",
        "\n",
        "    return cuenta\n"
      ],
      "execution_count": 0,
      "outputs": []
    },
    {
      "cell_type": "code",
      "metadata": {
        "id": "Cqrkp1jHeb2r",
        "colab_type": "code",
        "outputId": "0e3db717-577a-4391-ad83-e5e544584916",
        "colab": {
          "base_uri": "https://localhost:8080/",
          "height": 34
        }
      },
      "source": [
        "contarNotas([100, 875, 480, 560, 480, 875, 100, 100, 575, 480, 480])"
      ],
      "execution_count": 0,
      "outputs": [
        {
          "output_type": "execute_result",
          "data": {
            "text/plain": [
              "[(560, 1), (875, 2), (100, 3), (575, 1), (480, 4)]"
            ]
          },
          "metadata": {
            "tags": []
          },
          "execution_count": 78
        }
      ]
    },
    {
      "cell_type": "code",
      "metadata": {
        "id": "ThGtU5mwgeZI",
        "colab_type": "code",
        "colab": {}
      },
      "source": [
        "def listarIndices(num, lista):\n",
        "    indices = []\n",
        "\n",
        "    \"\"\"\n",
        "    for i in range(len(lista)):\n",
        "        if num == lista[i]:\n",
        "            indices.append(i)\n",
        "    \"\"\"\n",
        "\n",
        "    for i, valor in enumerate(lista):\n",
        "        if num == valor:\n",
        "            indices.append(i)\n",
        "    \n",
        "    return indices"
      ],
      "execution_count": 0,
      "outputs": []
    },
    {
      "cell_type": "code",
      "metadata": {
        "id": "xvXuO8fCgui2",
        "colab_type": "code",
        "outputId": "57597cfa-0c56-4306-cea4-6a1a9bda32e7",
        "colab": {
          "base_uri": "https://localhost:8080/",
          "height": 34
        }
      },
      "source": [
        "listarIndices(\"uno\", [\"dos\", \"uno\", \"dos\", \"tres\", \"uno\", \"uno\"])"
      ],
      "execution_count": 0,
      "outputs": [
        {
          "output_type": "execute_result",
          "data": {
            "text/plain": [
              "[1, 4, 5]"
            ]
          },
          "metadata": {
            "tags": []
          },
          "execution_count": 8
        }
      ]
    },
    {
      "cell_type": "code",
      "metadata": {
        "id": "g9B-T2uFiAOu",
        "colab_type": "code",
        "colab": {}
      },
      "source": [
        "def obtenerPositivosNegativos(lista):\n",
        "    positivos = []\n",
        "    negativos = []\n",
        "\n",
        "    for num in lista:\n",
        "        if num < 0:\n",
        "            negativos.append(num)\n",
        "        else:\n",
        "            positivos.append(num)\n",
        "    \n",
        "    return [positivos, negativos]\n",
        "\n"
      ],
      "execution_count": 0,
      "outputs": []
    },
    {
      "cell_type": "code",
      "metadata": {
        "id": "FQffKIC6iXDp",
        "colab_type": "code",
        "outputId": "459ce35e-810d-46d9-e33c-483e06b564ab",
        "colab": {
          "base_uri": "https://localhost:8080/",
          "height": 34
        }
      },
      "source": [
        "obtenerPositivosNegativos([4, 2, 0, -15, -17, -1, 2, 8, -4, -2])"
      ],
      "execution_count": 0,
      "outputs": [
        {
          "output_type": "execute_result",
          "data": {
            "text/plain": [
              "[[4, 2, 0, 2, 8], [-15, -17, -1, -4, -2]]"
            ]
          },
          "metadata": {
            "tags": []
          },
          "execution_count": 12
        }
      ]
    },
    {
      "cell_type": "markdown",
      "metadata": {
        "id": "zA98L6xcimIJ",
        "colab_type": "text"
      },
      "source": [
        "# Matrices"
      ]
    },
    {
      "cell_type": "code",
      "metadata": {
        "id": "c8MVwfkminwm",
        "colab_type": "code",
        "colab": {}
      },
      "source": [
        "A = [[1, 2, 3, 4],\n",
        "     [5, 6, 7, 8],\n",
        "     [9, 10, 11, 12]]"
      ],
      "execution_count": 0,
      "outputs": []
    },
    {
      "cell_type": "code",
      "metadata": {
        "id": "gLXE2KiWi6iY",
        "colab_type": "code",
        "colab": {}
      },
      "source": [
        "A.append([12, 13, 14, 15])"
      ],
      "execution_count": 0,
      "outputs": []
    },
    {
      "cell_type": "code",
      "metadata": {
        "id": "VzmUafqJi_N2",
        "colab_type": "code",
        "outputId": "94bba434-88bd-4c05-f325-6d96a4c18ed5",
        "colab": {
          "base_uri": "https://localhost:8080/",
          "height": 34
        }
      },
      "source": [
        "A"
      ],
      "execution_count": 0,
      "outputs": [
        {
          "output_type": "execute_result",
          "data": {
            "text/plain": [
              "[[1, 2, 3, 4], [5, 6, 7, 8], [9, 10, 11, 12], [12, 13, 14, 15]]"
            ]
          },
          "metadata": {
            "tags": []
          },
          "execution_count": 15
        }
      ]
    },
    {
      "cell_type": "code",
      "metadata": {
        "id": "NaTyjQ9hjCf-",
        "colab_type": "code",
        "outputId": "5b18d0f0-fc76-40ea-9761-970d44953518",
        "colab": {
          "base_uri": "https://localhost:8080/",
          "height": 34
        }
      },
      "source": [
        "A[0]"
      ],
      "execution_count": 0,
      "outputs": [
        {
          "output_type": "execute_result",
          "data": {
            "text/plain": [
              "[1, 2, 3, 4]"
            ]
          },
          "metadata": {
            "tags": []
          },
          "execution_count": 16
        }
      ]
    },
    {
      "cell_type": "code",
      "metadata": {
        "id": "cSpgTdQtjKZQ",
        "colab_type": "code",
        "outputId": "e8a2f506-d96a-4182-919f-f33c26378197",
        "colab": {
          "base_uri": "https://localhost:8080/",
          "height": 34
        }
      },
      "source": [
        "A[0][2]"
      ],
      "execution_count": 0,
      "outputs": [
        {
          "output_type": "execute_result",
          "data": {
            "text/plain": [
              "3"
            ]
          },
          "metadata": {
            "tags": []
          },
          "execution_count": 19
        }
      ]
    },
    {
      "cell_type": "code",
      "metadata": {
        "id": "INYJBakgjV_t",
        "colab_type": "code",
        "outputId": "dbada764-4529-439a-9b89-f7e25922bbef",
        "colab": {
          "base_uri": "https://localhost:8080/",
          "height": 85
        }
      },
      "source": [
        "for fila in A:\n",
        "    for columna in fila:\n",
        "        print(columna, end='\\t')\n",
        "    print()"
      ],
      "execution_count": 0,
      "outputs": [
        {
          "output_type": "stream",
          "text": [
            "1\t2\t3\t4\t\n",
            "5\t6\t7\t8\t\n",
            "9\t10\t11\t12\t\n",
            "12\t13\t14\t15\t\n"
          ],
          "name": "stdout"
        }
      ]
    },
    {
      "cell_type": "code",
      "metadata": {
        "id": "HSadgoe1j1ud",
        "colab_type": "code",
        "outputId": "b2359163-dd34-4502-c9c9-1700308f272a",
        "colab": {
          "base_uri": "https://localhost:8080/",
          "height": 289
        }
      },
      "source": [
        "for i in range(len(A)):\n",
        "    for j in range(len(A[0])):\n",
        "        print(f'A[{i}][{j}] = {A[i][j]}')"
      ],
      "execution_count": 0,
      "outputs": [
        {
          "output_type": "stream",
          "text": [
            "A[0][0] = 1\n",
            "A[0][1] = 2\n",
            "A[0][2] = 3\n",
            "A[0][3] = 4\n",
            "A[1][0] = 5\n",
            "A[1][1] = 6\n",
            "A[1][2] = 7\n",
            "A[1][3] = 8\n",
            "A[2][0] = 9\n",
            "A[2][1] = 10\n",
            "A[2][2] = 11\n",
            "A[2][3] = 12\n",
            "A[3][0] = 12\n",
            "A[3][1] = 13\n",
            "A[3][2] = 14\n",
            "A[3][3] = 15\n"
          ],
          "name": "stdout"
        }
      ]
    },
    {
      "cell_type": "code",
      "metadata": {
        "id": "TtY-yxyCkq4c",
        "colab_type": "code",
        "colab": {}
      },
      "source": [
        "import random\n",
        "\n",
        "\n",
        "def crearMatriz(filas, cols):\n",
        "    A = []\n",
        "\n",
        "    for i in range(filas):\n",
        "        fila = []\n",
        "\n",
        "        for j in range(cols):\n",
        "            fila.append(random.randint(0, 9))\n",
        "        \n",
        "        A.append(fila)\n",
        "    \n",
        "    return A"
      ],
      "execution_count": 0,
      "outputs": []
    },
    {
      "cell_type": "code",
      "metadata": {
        "id": "ZXkgWrlOlN9L",
        "colab_type": "code",
        "colab": {}
      },
      "source": [
        "def sumarMatrices(A, B):\n",
        "    suma = []\n",
        "\n",
        "    for i in range(len(A)):\n",
        "        fila = []\n",
        "\n",
        "        for j in range(len(B[i])):\n",
        "            fila.append(A[i][j] + B[i][j])\n",
        "        \n",
        "        suma.append(fila)\n",
        "    \n",
        "    return suma"
      ],
      "execution_count": 0,
      "outputs": []
    },
    {
      "cell_type": "code",
      "metadata": {
        "id": "qCGGGR_ulE_R",
        "colab_type": "code",
        "outputId": "b1e61fb6-c773-4d94-952d-5f3ff2ccc6b8",
        "colab": {
          "base_uri": "https://localhost:8080/",
          "height": 68
        }
      },
      "source": [
        "A = crearMatriz(2, 3)\n",
        "B = crearMatriz(2, 3)\n",
        "print(A)\n",
        "print(B)\n",
        "suma = sumarMatrices(A, B)\n",
        "print(suma)"
      ],
      "execution_count": 0,
      "outputs": [
        {
          "output_type": "stream",
          "text": [
            "[[9, 6, 0], [5, 3, 0]]\n",
            "[[7, 9, 1], [0, 5, 5]]\n",
            "[[16, 15, 1], [5, 8, 5]]\n"
          ],
          "name": "stdout"
        }
      ]
    },
    {
      "cell_type": "markdown",
      "metadata": {
        "id": "2Jg8A_O2nLQS",
        "colab_type": "text"
      },
      "source": [
        "# Diccionarios"
      ]
    },
    {
      "cell_type": "code",
      "metadata": {
        "id": "zysY8JJsnKli",
        "colab_type": "code",
        "outputId": "9121643f-8ed4-4040-cbe4-5024693fc44a",
        "colab": {
          "base_uri": "https://localhost:8080/",
          "height": 34
        }
      },
      "source": [
        "diccionario = {}\n",
        "diccionario"
      ],
      "execution_count": 0,
      "outputs": [
        {
          "output_type": "execute_result",
          "data": {
            "text/plain": [
              "{}"
            ]
          },
          "metadata": {
            "tags": []
          },
          "execution_count": 36
        }
      ]
    },
    {
      "cell_type": "code",
      "metadata": {
        "id": "ko7qnttund6b",
        "colab_type": "code",
        "outputId": "7d7deb2f-a6e5-4b26-dc65-64e323638d18",
        "colab": {
          "base_uri": "https://localhost:8080/",
          "height": 34
        }
      },
      "source": [
        "diccionario['llave'] = 'valor'\n",
        "diccionario"
      ],
      "execution_count": 0,
      "outputs": [
        {
          "output_type": "execute_result",
          "data": {
            "text/plain": [
              "{'llave': 'valor'}"
            ]
          },
          "metadata": {
            "tags": []
          },
          "execution_count": 37
        }
      ]
    },
    {
      "cell_type": "code",
      "metadata": {
        "id": "Zen9ja9fnxUm",
        "colab_type": "code",
        "outputId": "33b1a95b-ae90-4820-ee03-3c730a541a81",
        "colab": {
          "base_uri": "https://localhost:8080/",
          "height": 34
        }
      },
      "source": [
        "diccionario['salut'] = 'hola'\n",
        "diccionario"
      ],
      "execution_count": 0,
      "outputs": [
        {
          "output_type": "execute_result",
          "data": {
            "text/plain": [
              "{'llave': 'valor', 'salut': 'hola'}"
            ]
          },
          "metadata": {
            "tags": []
          },
          "execution_count": 39
        }
      ]
    },
    {
      "cell_type": "code",
      "metadata": {
        "id": "RQ-s7NOpn3NV",
        "colab_type": "code",
        "outputId": "94c844f6-e9b2-4d2d-dc06-95c099a34da4",
        "colab": {
          "base_uri": "https://localhost:8080/",
          "height": 34
        }
      },
      "source": [
        "diccionario['salut']"
      ],
      "execution_count": 0,
      "outputs": [
        {
          "output_type": "execute_result",
          "data": {
            "text/plain": [
              "'hola'"
            ]
          },
          "metadata": {
            "tags": []
          },
          "execution_count": 40
        }
      ]
    },
    {
      "cell_type": "code",
      "metadata": {
        "id": "sUINUclYn9rv",
        "colab_type": "code",
        "outputId": "9469139d-2a2e-4ddf-c74e-783d0f30a3d9",
        "colab": {
          "base_uri": "https://localhost:8080/",
          "height": 165
        }
      },
      "source": [
        "diccionario['manzana']"
      ],
      "execution_count": 0,
      "outputs": [
        {
          "output_type": "error",
          "ename": "KeyError",
          "evalue": "ignored",
          "traceback": [
            "\u001b[0;31m---------------------------------------------------------------------------\u001b[0m",
            "\u001b[0;31mKeyError\u001b[0m                                  Traceback (most recent call last)",
            "\u001b[0;32m<ipython-input-41-0e2c58892878>\u001b[0m in \u001b[0;36m<module>\u001b[0;34m()\u001b[0m\n\u001b[0;32m----> 1\u001b[0;31m \u001b[0mdiccionario\u001b[0m\u001b[0;34m[\u001b[0m\u001b[0;34m'manzana'\u001b[0m\u001b[0;34m]\u001b[0m\u001b[0;34m\u001b[0m\u001b[0;34m\u001b[0m\u001b[0m\n\u001b[0m",
            "\u001b[0;31mKeyError\u001b[0m: 'manzana'"
          ]
        }
      ]
    },
    {
      "cell_type": "code",
      "metadata": {
        "id": "uPJtH_ycoCfS",
        "colab_type": "code",
        "outputId": "a546aae6-1639-421e-ebd0-9e3f0670dd73",
        "colab": {
          "base_uri": "https://localhost:8080/",
          "height": 34
        }
      },
      "source": [
        "diccionario['salut'] = 23\n",
        "diccionario"
      ],
      "execution_count": 0,
      "outputs": [
        {
          "output_type": "execute_result",
          "data": {
            "text/plain": [
              "{'llave': 'valor', 'salut': 23}"
            ]
          },
          "metadata": {
            "tags": []
          },
          "execution_count": 42
        }
      ]
    },
    {
      "cell_type": "code",
      "metadata": {
        "id": "lx-mqbbFoQ1G",
        "colab_type": "code",
        "colab": {}
      },
      "source": [
        "del diccionario['salut']"
      ],
      "execution_count": 0,
      "outputs": []
    },
    {
      "cell_type": "code",
      "metadata": {
        "id": "B8aofUPPoYUT",
        "colab_type": "code",
        "colab": {}
      },
      "source": [
        "del diccionario"
      ],
      "execution_count": 0,
      "outputs": []
    },
    {
      "cell_type": "code",
      "metadata": {
        "id": "1tn2UQI3odpY",
        "colab_type": "code",
        "outputId": "d892b14e-a4dc-4c58-b3d4-fe09b7eb2554",
        "colab": {
          "base_uri": "https://localhost:8080/",
          "height": 165
        }
      },
      "source": [
        "diccionario"
      ],
      "execution_count": 0,
      "outputs": [
        {
          "output_type": "error",
          "ename": "NameError",
          "evalue": "ignored",
          "traceback": [
            "\u001b[0;31m---------------------------------------------------------------------------\u001b[0m",
            "\u001b[0;31mNameError\u001b[0m                                 Traceback (most recent call last)",
            "\u001b[0;32m<ipython-input-46-2514df7f48ee>\u001b[0m in \u001b[0;36m<module>\u001b[0;34m()\u001b[0m\n\u001b[0;32m----> 1\u001b[0;31m \u001b[0mdiccionario\u001b[0m\u001b[0;34m\u001b[0m\u001b[0;34m\u001b[0m\u001b[0m\n\u001b[0m",
            "\u001b[0;31mNameError\u001b[0m: name 'diccionario' is not defined"
          ]
        }
      ]
    },
    {
      "cell_type": "code",
      "metadata": {
        "id": "DSNMv78sog6n",
        "colab_type": "code",
        "outputId": "028e65e4-d9c7-486a-ecba-bbb554722ba2",
        "colab": {
          "base_uri": "https://localhost:8080/",
          "height": 34
        }
      },
      "source": [
        "diccionario = {'salut': 'hola', 'apple': 'manzana', 'hunger': 'hambre'}\n",
        "diccionario"
      ],
      "execution_count": 0,
      "outputs": [
        {
          "output_type": "execute_result",
          "data": {
            "text/plain": [
              "{'apple': 'manzana', 'hunger': 'hambre', 'salut': 'hola'}"
            ]
          },
          "metadata": {
            "tags": []
          },
          "execution_count": 47
        }
      ]
    },
    {
      "cell_type": "code",
      "metadata": {
        "id": "PIVCrj77osMn",
        "colab_type": "code",
        "outputId": "e2fe4412-78b1-4f57-b0c6-3d770e73aab3",
        "colab": {
          "base_uri": "https://localhost:8080/",
          "height": 34
        }
      },
      "source": [
        "diccionario.values()"
      ],
      "execution_count": 0,
      "outputs": [
        {
          "output_type": "execute_result",
          "data": {
            "text/plain": [
              "dict_values(['hola', 'manzana', 'hambre'])"
            ]
          },
          "metadata": {
            "tags": []
          },
          "execution_count": 48
        }
      ]
    },
    {
      "cell_type": "code",
      "metadata": {
        "id": "MZYjSPLfowUp",
        "colab_type": "code",
        "outputId": "a9eb04f8-8d3a-4fdf-c043-ff0770c41bd1",
        "colab": {
          "base_uri": "https://localhost:8080/",
          "height": 34
        }
      },
      "source": [
        "diccionario.keys()"
      ],
      "execution_count": 0,
      "outputs": [
        {
          "output_type": "execute_result",
          "data": {
            "text/plain": [
              "dict_keys(['salut', 'apple', 'hunger'])"
            ]
          },
          "metadata": {
            "tags": []
          },
          "execution_count": 49
        }
      ]
    },
    {
      "cell_type": "code",
      "metadata": {
        "id": "Wgzco1pxo0oJ",
        "colab_type": "code",
        "outputId": "80e4b0e5-c168-4c20-8bd4-68727af8b0df",
        "colab": {
          "base_uri": "https://localhost:8080/",
          "height": 34
        }
      },
      "source": [
        "diccionario.items()"
      ],
      "execution_count": 0,
      "outputs": [
        {
          "output_type": "execute_result",
          "data": {
            "text/plain": [
              "dict_items([('salut', 'hola'), ('apple', 'manzana'), ('hunger', 'hambre')])"
            ]
          },
          "metadata": {
            "tags": []
          },
          "execution_count": 50
        }
      ]
    },
    {
      "cell_type": "code",
      "metadata": {
        "id": "guoPKSGdo6ZE",
        "colab_type": "code",
        "outputId": "5b329565-1b21-41d2-c5fc-b021da71e96d",
        "colab": {
          "base_uri": "https://localhost:8080/",
          "height": 68
        }
      },
      "source": [
        "for key in diccionario:\n",
        "    print(key, diccionario[key])"
      ],
      "execution_count": 0,
      "outputs": [
        {
          "output_type": "stream",
          "text": [
            "salut hola\n",
            "apple manzana\n",
            "hunger hambre\n"
          ],
          "name": "stdout"
        }
      ]
    },
    {
      "cell_type": "code",
      "metadata": {
        "id": "5dtXULffpCS1",
        "colab_type": "code",
        "outputId": "c1802813-20c4-4067-9697-eb6d816cc86e",
        "colab": {
          "base_uri": "https://localhost:8080/",
          "height": 68
        }
      },
      "source": [
        "for key in diccionario.keys():\n",
        "    print(key, diccionario[key])"
      ],
      "execution_count": 0,
      "outputs": [
        {
          "output_type": "stream",
          "text": [
            "salut hola\n",
            "apple manzana\n",
            "hunger hambre\n"
          ],
          "name": "stdout"
        }
      ]
    },
    {
      "cell_type": "code",
      "metadata": {
        "id": "bxuhRg7XpOsn",
        "colab_type": "code",
        "outputId": "5e70f177-f94f-4231-83a9-ca9e1ade6a2a",
        "colab": {
          "base_uri": "https://localhost:8080/",
          "height": 68
        }
      },
      "source": [
        "for key, value in diccionario.items():\n",
        "    print(key, value)"
      ],
      "execution_count": 0,
      "outputs": [
        {
          "output_type": "stream",
          "text": [
            "salut hola\n",
            "apple manzana\n",
            "hunger hambre\n"
          ],
          "name": "stdout"
        }
      ]
    },
    {
      "cell_type": "code",
      "metadata": {
        "id": "5nHWq1yQpYkr",
        "colab_type": "code",
        "outputId": "15f83120-de28-461a-cfb5-0b1d861615ca",
        "colab": {
          "base_uri": "https://localhost:8080/",
          "height": 34
        }
      },
      "source": [
        "diccionario2 = {2: 'dos', 3: 'tres', 4: 'cuatro'}\n",
        "diccionario2"
      ],
      "execution_count": 0,
      "outputs": [
        {
          "output_type": "execute_result",
          "data": {
            "text/plain": [
              "{2: 'dos', 3: 'tres', 4: 'cuatro'}"
            ]
          },
          "metadata": {
            "tags": []
          },
          "execution_count": 54
        }
      ]
    },
    {
      "cell_type": "code",
      "metadata": {
        "id": "YxtTyMiPp0C0",
        "colab_type": "code",
        "colab": {}
      },
      "source": [
        "diccionario['dict'] = diccionario2"
      ],
      "execution_count": 0,
      "outputs": []
    },
    {
      "cell_type": "code",
      "metadata": {
        "id": "3zr4tSkAp5RH",
        "colab_type": "code",
        "outputId": "943d240e-fae7-4683-f415-5efdef10ce85",
        "colab": {
          "base_uri": "https://localhost:8080/",
          "height": 85
        }
      },
      "source": [
        "diccionario"
      ],
      "execution_count": 0,
      "outputs": [
        {
          "output_type": "execute_result",
          "data": {
            "text/plain": [
              "{'apple': 'manzana',\n",
              " 'dict': {2: 'dos', 3: 'tres', 4: 'cuatro'},\n",
              " 'hunger': 'hambre',\n",
              " 'salut': 'hola'}"
            ]
          },
          "metadata": {
            "tags": []
          },
          "execution_count": 56
        }
      ]
    },
    {
      "cell_type": "code",
      "metadata": {
        "id": "Np3bTnx3p72r",
        "colab_type": "code",
        "outputId": "adb830f1-486f-420e-9182-5b1fc98aac89",
        "colab": {
          "base_uri": "https://localhost:8080/",
          "height": 34
        }
      },
      "source": [
        "elementos = (('one', 1), ('two', 2), ('three', 3))\n",
        "dict(elementos)"
      ],
      "execution_count": 0,
      "outputs": [
        {
          "output_type": "execute_result",
          "data": {
            "text/plain": [
              "{'one': 1, 'three': 3, 'two': 2}"
            ]
          },
          "metadata": {
            "tags": []
          },
          "execution_count": 58
        }
      ]
    },
    {
      "cell_type": "code",
      "metadata": {
        "id": "qFkR1OaJqOl7",
        "colab_type": "code",
        "colab": {}
      },
      "source": [
        "del diccionario['dict']"
      ],
      "execution_count": 0,
      "outputs": []
    },
    {
      "cell_type": "code",
      "metadata": {
        "id": "yllppsf-qSER",
        "colab_type": "code",
        "outputId": "107eb64c-ac1e-439d-e2dd-122f89c3605a",
        "colab": {
          "base_uri": "https://localhost:8080/",
          "height": 34
        }
      },
      "source": [
        "diccionario"
      ],
      "execution_count": 0,
      "outputs": [
        {
          "output_type": "execute_result",
          "data": {
            "text/plain": [
              "{'apple': 'manzana', 'hunger': 'hambre', 'salut': 'hola'}"
            ]
          },
          "metadata": {
            "tags": []
          },
          "execution_count": 60
        }
      ]
    },
    {
      "cell_type": "code",
      "metadata": {
        "id": "SgQW-lYkqU1B",
        "colab_type": "code",
        "colab": {}
      },
      "source": [
        "diccionario['apple'] = 'pommes'"
      ],
      "execution_count": 0,
      "outputs": []
    },
    {
      "cell_type": "code",
      "metadata": {
        "id": "zfm5iw8bqahd",
        "colab_type": "code",
        "outputId": "804b4ed0-93b7-4a69-d1ac-a1d63794a51d",
        "colab": {
          "base_uri": "https://localhost:8080/",
          "height": 34
        }
      },
      "source": [
        "diccionario"
      ],
      "execution_count": 0,
      "outputs": [
        {
          "output_type": "execute_result",
          "data": {
            "text/plain": [
              "{'apple': 'pommes', 'hunger': 'hambre', 'salut': 'hola'}"
            ]
          },
          "metadata": {
            "tags": []
          },
          "execution_count": 62
        }
      ]
    },
    {
      "cell_type": "code",
      "metadata": {
        "id": "UroVqx5QqcaF",
        "colab_type": "code",
        "colab": {}
      },
      "source": [
        "diccionario['apple'] = []\n",
        "diccionario['apple'].append('manzana')\n",
        "diccionario['apple'].append('pommes')"
      ],
      "execution_count": 0,
      "outputs": []
    },
    {
      "cell_type": "code",
      "metadata": {
        "id": "VDqgowNjqnJ5",
        "colab_type": "code",
        "outputId": "42c118df-924e-4e51-bde7-8292c141009a",
        "colab": {
          "base_uri": "https://localhost:8080/",
          "height": 34
        }
      },
      "source": [
        "diccionario"
      ],
      "execution_count": 0,
      "outputs": [
        {
          "output_type": "execute_result",
          "data": {
            "text/plain": [
              "{'apple': ['manzana', 'pommes'], 'hunger': 'hambre', 'salut': 'hola'}"
            ]
          },
          "metadata": {
            "tags": []
          },
          "execution_count": 64
        }
      ]
    },
    {
      "cell_type": "code",
      "metadata": {
        "id": "pQ3z-AYBqv0C",
        "colab_type": "code",
        "outputId": "8264472a-56cd-42a5-d6da-eb5e2a7e558c",
        "colab": {
          "base_uri": "https://localhost:8080/",
          "height": 34
        }
      },
      "source": [
        "diccionario.copy()"
      ],
      "execution_count": 0,
      "outputs": [
        {
          "output_type": "execute_result",
          "data": {
            "text/plain": [
              "{'apple': ['manzana', 'pommes'], 'hunger': 'hambre', 'salut': 'hola'}"
            ]
          },
          "metadata": {
            "tags": []
          },
          "execution_count": 65
        }
      ]
    },
    {
      "cell_type": "code",
      "metadata": {
        "id": "gBbT2eOeqzCu",
        "colab_type": "code",
        "colab": {}
      },
      "source": [
        "diccionario.clear()"
      ],
      "execution_count": 0,
      "outputs": []
    },
    {
      "cell_type": "code",
      "metadata": {
        "id": "tEK_67fFq3WW",
        "colab_type": "code",
        "outputId": "303fe886-222d-4a4d-8eee-2b8275e35200",
        "colab": {
          "base_uri": "https://localhost:8080/",
          "height": 34
        }
      },
      "source": [
        "diccionario"
      ],
      "execution_count": 0,
      "outputs": [
        {
          "output_type": "execute_result",
          "data": {
            "text/plain": [
              "{}"
            ]
          },
          "metadata": {
            "tags": []
          },
          "execution_count": 67
        }
      ]
    },
    {
      "cell_type": "code",
      "metadata": {
        "id": "J8ieLVM2q9-R",
        "colab_type": "code",
        "outputId": "afc5d3b2-34bb-42ea-aa4e-03f75b33aa32",
        "colab": {
          "base_uri": "https://localhost:8080/",
          "height": 51
        }
      },
      "source": [
        "ciudades = {'Cartago': }"
      ],
      "execution_count": 0,
      "outputs": [
        {
          "output_type": "stream",
          "text": [
            "[0.71266261 0.29458127 0.54812676 0.88416219 0.63670908 0.96521398\n",
            " 0.24662854 0.05230076 0.98206271 0.94696614]\n"
          ],
          "name": "stdout"
        }
      ]
    }
  ]
}
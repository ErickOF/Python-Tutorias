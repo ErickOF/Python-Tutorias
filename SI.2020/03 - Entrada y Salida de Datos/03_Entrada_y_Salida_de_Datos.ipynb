{
  "nbformat": 4,
  "nbformat_minor": 0,
  "metadata": {
    "colab": {
      "name": "03 - Entrada y Salida de Datos.ipynb",
      "provenance": []
    },
    "kernelspec": {
      "name": "python3",
      "display_name": "Python 3"
    }
  },
  "cells": [
    {
      "cell_type": "markdown",
      "metadata": {
        "id": "s4c4h0B4fPeM",
        "colab_type": "text"
      },
      "source": [
        "# **Entrada**\n",
        "\n",
        "Para la entrada de datos vía consola usamos la función pre construida de Python\n",
        "```python\n",
        "input()\n",
        "```\n",
        "la cual siempre nos devolverá un string sin importar el dato que ingresemos."
      ]
    },
    {
      "cell_type": "code",
      "metadata": {
        "id": "tG9p2uKifMj3",
        "colab_type": "code",
        "colab": {
          "base_uri": "https://localhost:8080/",
          "height": 51
        },
        "outputId": "017e607f-97e5-45a1-a290-f0051efe48ee"
      },
      "source": [
        "input('Ingrese una cadena: ')"
      ],
      "execution_count": 62,
      "outputs": [
        {
          "output_type": "stream",
          "text": [
            "Ingrese una cadena: Adios\n"
          ],
          "name": "stdout"
        },
        {
          "output_type": "execute_result",
          "data": {
            "text/plain": [
              "'Adios'"
            ]
          },
          "metadata": {
            "tags": []
          },
          "execution_count": 62
        }
      ]
    },
    {
      "cell_type": "code",
      "metadata": {
        "id": "IuBXg5Gofxsz",
        "colab_type": "code",
        "colab": {
          "base_uri": "https://localhost:8080/",
          "height": 51
        },
        "outputId": "29f4d11f-dc26-4b30-b236-c5ec63373dcb"
      },
      "source": [
        "input('Ingrese un número entero: ')"
      ],
      "execution_count": 63,
      "outputs": [
        {
          "output_type": "stream",
          "text": [
            "Ingrese un número entero: 43\n"
          ],
          "name": "stdout"
        },
        {
          "output_type": "execute_result",
          "data": {
            "text/plain": [
              "'43'"
            ]
          },
          "metadata": {
            "tags": []
          },
          "execution_count": 63
        }
      ]
    },
    {
      "cell_type": "code",
      "metadata": {
        "id": "Uwwy24xKf2U1",
        "colab_type": "code",
        "colab": {
          "base_uri": "https://localhost:8080/",
          "height": 51
        },
        "outputId": "6db8b482-914d-4645-d32b-738a1b7884c4"
      },
      "source": [
        "input('Ingrese un número decimal: ')"
      ],
      "execution_count": 64,
      "outputs": [
        {
          "output_type": "stream",
          "text": [
            "Ingrese un número decimal: 54.32\n"
          ],
          "name": "stdout"
        },
        {
          "output_type": "execute_result",
          "data": {
            "text/plain": [
              "'54.32'"
            ]
          },
          "metadata": {
            "tags": []
          },
          "execution_count": 64
        }
      ]
    },
    {
      "cell_type": "code",
      "metadata": {
        "id": "U8ckidayf7L8",
        "colab_type": "code",
        "colab": {
          "base_uri": "https://localhost:8080/",
          "height": 51
        },
        "outputId": "2a016278-4118-4b81-b093-22cd42e9c64b"
      },
      "source": [
        "input('Ingrese un número complejo: ')"
      ],
      "execution_count": 65,
      "outputs": [
        {
          "output_type": "stream",
          "text": [
            "Ingrese un número complejo: 2+5j\n"
          ],
          "name": "stdout"
        },
        {
          "output_type": "execute_result",
          "data": {
            "text/plain": [
              "'2+5j'"
            ]
          },
          "metadata": {
            "tags": []
          },
          "execution_count": 65
        }
      ]
    },
    {
      "cell_type": "markdown",
      "metadata": {
        "id": "XFz3DayrgCNX",
        "colab_type": "text"
      },
      "source": [
        "Note que los valores anteriores están encerrados entre comillas, lo cual nos\n",
        "indica que es valor de tipo string.\n",
        "\n",
        "Para recibir un tipo de dato no string, convertimos lo que nos devuelve la\n",
        "función\n",
        "```python\n",
        "input()\n",
        "```\n",
        "al tipo de datos que queremos."
      ]
    },
    {
      "cell_type": "code",
      "metadata": {
        "id": "Znzass_Hgmrm",
        "colab_type": "code",
        "colab": {
          "base_uri": "https://localhost:8080/",
          "height": 51
        },
        "outputId": "cc6d054e-c4f4-4015-b72c-adb159657cec"
      },
      "source": [
        "int(input('Ingrese un número entero: '))"
      ],
      "execution_count": 66,
      "outputs": [
        {
          "output_type": "stream",
          "text": [
            "Ingrese un número entero: 45\n"
          ],
          "name": "stdout"
        },
        {
          "output_type": "execute_result",
          "data": {
            "text/plain": [
              "45"
            ]
          },
          "metadata": {
            "tags": []
          },
          "execution_count": 66
        }
      ]
    },
    {
      "cell_type": "code",
      "metadata": {
        "id": "yxR1RdBag1sS",
        "colab_type": "code",
        "colab": {
          "base_uri": "https://localhost:8080/",
          "height": 51
        },
        "outputId": "9b6f87ab-54dc-4982-9695-2f29b5a8064f"
      },
      "source": [
        "float(input('Ingrese un número decimal: '))"
      ],
      "execution_count": 67,
      "outputs": [
        {
          "output_type": "stream",
          "text": [
            "Ingrese un número decimal: 34.12\n"
          ],
          "name": "stdout"
        },
        {
          "output_type": "execute_result",
          "data": {
            "text/plain": [
              "34.12"
            ]
          },
          "metadata": {
            "tags": []
          },
          "execution_count": 67
        }
      ]
    },
    {
      "cell_type": "code",
      "metadata": {
        "id": "2fw-UE37g7Ap",
        "colab_type": "code",
        "colab": {
          "base_uri": "https://localhost:8080/",
          "height": 51
        },
        "outputId": "c3b89716-46f7-4d4e-aae8-6ef38c0d1fc5"
      },
      "source": [
        "complex(input('Ingrese un número complejo: '))"
      ],
      "execution_count": 68,
      "outputs": [
        {
          "output_type": "stream",
          "text": [
            "Ingrese un número complejo: 1+3j\n"
          ],
          "name": "stdout"
        },
        {
          "output_type": "execute_result",
          "data": {
            "text/plain": [
              "(1+3j)"
            ]
          },
          "metadata": {
            "tags": []
          },
          "execution_count": 68
        }
      ]
    },
    {
      "cell_type": "markdown",
      "metadata": {
        "id": "In4jTsRIhTSa",
        "colab_type": "text"
      },
      "source": [
        "Opcionalmente, podemos usar la función pre construida de Python\n",
        "```python\n",
        "eval(x)\n",
        "```\n",
        "la cual se encarga de convertir al tipo de datos correspondiente."
      ]
    },
    {
      "cell_type": "code",
      "metadata": {
        "id": "rnzuArKVhqoT",
        "colab_type": "code",
        "colab": {
          "base_uri": "https://localhost:8080/",
          "height": 51
        },
        "outputId": "a83561cb-eba1-4e38-d3ad-b60ecb59f435"
      },
      "source": [
        "eval(input('Valor: '))"
      ],
      "execution_count": 69,
      "outputs": [
        {
          "output_type": "stream",
          "text": [
            "Valor: 45\n"
          ],
          "name": "stdout"
        },
        {
          "output_type": "execute_result",
          "data": {
            "text/plain": [
              "45"
            ]
          },
          "metadata": {
            "tags": []
          },
          "execution_count": 69
        }
      ]
    },
    {
      "cell_type": "code",
      "metadata": {
        "id": "iBoV9v43hz2_",
        "colab_type": "code",
        "colab": {
          "base_uri": "https://localhost:8080/",
          "height": 51
        },
        "outputId": "fa8fa590-dbad-4b4f-91d5-0b8d6fa2ff52"
      },
      "source": [
        "eval(input('Valor: '))"
      ],
      "execution_count": 70,
      "outputs": [
        {
          "output_type": "stream",
          "text": [
            "Valor: 34.56\n"
          ],
          "name": "stdout"
        },
        {
          "output_type": "execute_result",
          "data": {
            "text/plain": [
              "34.56"
            ]
          },
          "metadata": {
            "tags": []
          },
          "execution_count": 70
        }
      ]
    },
    {
      "cell_type": "code",
      "metadata": {
        "id": "lA5qv9Yeh-XO",
        "colab_type": "code",
        "colab": {
          "base_uri": "https://localhost:8080/",
          "height": 51
        },
        "outputId": "e8194ea6-3da5-45d1-dba3-98ae874800d3"
      },
      "source": [
        "eval(input('Valor: '))"
      ],
      "execution_count": 73,
      "outputs": [
        {
          "output_type": "stream",
          "text": [
            "Valor: 3+5j\n"
          ],
          "name": "stdout"
        },
        {
          "output_type": "execute_result",
          "data": {
            "text/plain": [
              "(3+5j)"
            ]
          },
          "metadata": {
            "tags": []
          },
          "execution_count": 73
        }
      ]
    },
    {
      "cell_type": "markdown",
      "metadata": {
        "id": "c3tiRpmMiFk2",
        "colab_type": "text"
      },
      "source": [
        "También, podemos saber el tipo de dato que estamos trabajando usando la función\n",
        "pre construida de Python\n",
        "```python\n",
        "type(obj)\n",
        "```"
      ]
    },
    {
      "cell_type": "code",
      "metadata": {
        "id": "5FmfIeEtiEqn",
        "colab_type": "code",
        "colab": {
          "base_uri": "https://localhost:8080/",
          "height": 34
        },
        "outputId": "4cfa9203-c027-481b-a0b8-44abf6ef05a5"
      },
      "source": [
        "type(23)"
      ],
      "execution_count": 12,
      "outputs": [
        {
          "output_type": "execute_result",
          "data": {
            "text/plain": [
              "int"
            ]
          },
          "metadata": {
            "tags": []
          },
          "execution_count": 12
        }
      ]
    },
    {
      "cell_type": "code",
      "metadata": {
        "id": "5J9JreMhiTpY",
        "colab_type": "code",
        "colab": {
          "base_uri": "https://localhost:8080/",
          "height": 34
        },
        "outputId": "f03853a5-21da-41a8-cdc2-ffebfdc3ab7d"
      },
      "source": [
        "type(43.12)"
      ],
      "execution_count": 13,
      "outputs": [
        {
          "output_type": "execute_result",
          "data": {
            "text/plain": [
              "float"
            ]
          },
          "metadata": {
            "tags": []
          },
          "execution_count": 13
        }
      ]
    },
    {
      "cell_type": "code",
      "metadata": {
        "id": "Xv91O5JUiWRi",
        "colab_type": "code",
        "colab": {
          "base_uri": "https://localhost:8080/",
          "height": 34
        },
        "outputId": "5abbf31c-22da-40c5-b353-0133dea527fc"
      },
      "source": [
        "type('Hola')"
      ],
      "execution_count": 14,
      "outputs": [
        {
          "output_type": "execute_result",
          "data": {
            "text/plain": [
              "str"
            ]
          },
          "metadata": {
            "tags": []
          },
          "execution_count": 14
        }
      ]
    },
    {
      "cell_type": "code",
      "metadata": {
        "id": "dHWUqI5ZiYHZ",
        "colab_type": "code",
        "colab": {
          "base_uri": "https://localhost:8080/",
          "height": 34
        },
        "outputId": "1175b01f-eec6-4bc5-baf4-96eb1abb7397"
      },
      "source": [
        "type(1+3j)"
      ],
      "execution_count": 15,
      "outputs": [
        {
          "output_type": "execute_result",
          "data": {
            "text/plain": [
              "complex"
            ]
          },
          "metadata": {
            "tags": []
          },
          "execution_count": 15
        }
      ]
    },
    {
      "cell_type": "code",
      "metadata": {
        "id": "YSdMocKaibS9",
        "colab_type": "code",
        "colab": {
          "base_uri": "https://localhost:8080/",
          "height": 34
        },
        "outputId": "124ddc9a-fd5d-42f3-94bb-ae30d6b57004"
      },
      "source": [
        "type([1, 2, 3])"
      ],
      "execution_count": 16,
      "outputs": [
        {
          "output_type": "execute_result",
          "data": {
            "text/plain": [
              "list"
            ]
          },
          "metadata": {
            "tags": []
          },
          "execution_count": 16
        }
      ]
    },
    {
      "cell_type": "code",
      "metadata": {
        "id": "0vtFqmUdidk1",
        "colab_type": "code",
        "colab": {
          "base_uri": "https://localhost:8080/",
          "height": 34
        },
        "outputId": "6e53b433-0f15-4829-ff40-6f40d95e272c"
      },
      "source": [
        "type((1, 2, 3))"
      ],
      "execution_count": 17,
      "outputs": [
        {
          "output_type": "execute_result",
          "data": {
            "text/plain": [
              "tuple"
            ]
          },
          "metadata": {
            "tags": []
          },
          "execution_count": 17
        }
      ]
    },
    {
      "cell_type": "code",
      "metadata": {
        "id": "rhna6gveigFA",
        "colab_type": "code",
        "colab": {
          "base_uri": "https://localhost:8080/",
          "height": 34
        },
        "outputId": "b9c31176-d8d1-4a7a-e830-ac90534669f0"
      },
      "source": [
        "type({1, 2, 3})"
      ],
      "execution_count": 18,
      "outputs": [
        {
          "output_type": "execute_result",
          "data": {
            "text/plain": [
              "set"
            ]
          },
          "metadata": {
            "tags": []
          },
          "execution_count": 18
        }
      ]
    },
    {
      "cell_type": "code",
      "metadata": {
        "id": "eBhIx35ziiIq",
        "colab_type": "code",
        "colab": {
          "base_uri": "https://localhost:8080/",
          "height": 34
        },
        "outputId": "9d3b0b17-5225-495c-a0be-52fc171abede"
      },
      "source": [
        "type({'hola': 1, 'adios': 2, 'pato': 3})"
      ],
      "execution_count": 19,
      "outputs": [
        {
          "output_type": "execute_result",
          "data": {
            "text/plain": [
              "dict"
            ]
          },
          "metadata": {
            "tags": []
          },
          "execution_count": 19
        }
      ]
    },
    {
      "cell_type": "code",
      "metadata": {
        "id": "XH1pzQxlirDH",
        "colab_type": "code",
        "colab": {
          "base_uri": "https://localhost:8080/",
          "height": 51
        },
        "outputId": "cecf986f-ef1a-4fde-aaac-6ad8f10dd332"
      },
      "source": [
        "valor = eval(input('Valor: '))\n",
        "type(valor)"
      ],
      "execution_count": 75,
      "outputs": [
        {
          "output_type": "stream",
          "text": [
            "Valor: 45.67\n"
          ],
          "name": "stdout"
        },
        {
          "output_type": "execute_result",
          "data": {
            "text/plain": [
              "float"
            ]
          },
          "metadata": {
            "tags": []
          },
          "execution_count": 75
        }
      ]
    },
    {
      "cell_type": "markdown",
      "metadata": {
        "id": "D0hQz_Z5i5Bs",
        "colab_type": "text"
      },
      "source": [
        "# **Salida**\n",
        "\n",
        "Para la salida de datos vía consola, usamos la función preconstruida de Python\n",
        "```python\n",
        "print(...)\n",
        "```"
      ]
    },
    {
      "cell_type": "code",
      "metadata": {
        "id": "TkX3Zr6Pjbdz",
        "colab_type": "code",
        "colab": {
          "base_uri": "https://localhost:8080/",
          "height": 34
        },
        "outputId": "484c7f29-c906-482e-e4e8-e8687bb4604f"
      },
      "source": [
        "print('Hola')"
      ],
      "execution_count": 22,
      "outputs": [
        {
          "output_type": "stream",
          "text": [
            "Hola\n"
          ],
          "name": "stdout"
        }
      ]
    },
    {
      "cell_type": "code",
      "metadata": {
        "id": "dqJ04eUpjdjP",
        "colab_type": "code",
        "colab": {
          "base_uri": "https://localhost:8080/",
          "height": 34
        },
        "outputId": "386a5af1-15fd-4116-e323-bdd56257912f"
      },
      "source": [
        "print(2)"
      ],
      "execution_count": 23,
      "outputs": [
        {
          "output_type": "stream",
          "text": [
            "2\n"
          ],
          "name": "stdout"
        }
      ]
    },
    {
      "cell_type": "code",
      "metadata": {
        "id": "9S7kbqzQje2e",
        "colab_type": "code",
        "colab": {
          "base_uri": "https://localhost:8080/",
          "height": 34
        },
        "outputId": "e578fbc5-5959-4a9a-a02c-4f8540b734e4"
      },
      "source": [
        "print(43.5)"
      ],
      "execution_count": 24,
      "outputs": [
        {
          "output_type": "stream",
          "text": [
            "43.5\n"
          ],
          "name": "stdout"
        }
      ]
    },
    {
      "cell_type": "code",
      "metadata": {
        "id": "Zc9XIEnTjgdc",
        "colab_type": "code",
        "colab": {
          "base_uri": "https://localhost:8080/",
          "height": 34
        },
        "outputId": "d0398206-50f2-426e-b6b2-57efe82e7c52"
      },
      "source": [
        "print([1, 2, 3])"
      ],
      "execution_count": 25,
      "outputs": [
        {
          "output_type": "stream",
          "text": [
            "[1, 2, 3]\n"
          ],
          "name": "stdout"
        }
      ]
    },
    {
      "cell_type": "code",
      "metadata": {
        "id": "56KaEz99jibE",
        "colab_type": "code",
        "colab": {
          "base_uri": "https://localhost:8080/",
          "height": 34
        },
        "outputId": "1d0c5e0a-c3f7-4cf8-a597-9394823914cd"
      },
      "source": [
        "print((1, 2, 3))"
      ],
      "execution_count": 26,
      "outputs": [
        {
          "output_type": "stream",
          "text": [
            "(1, 2, 3)\n"
          ],
          "name": "stdout"
        }
      ]
    },
    {
      "cell_type": "code",
      "metadata": {
        "id": "8PkZ5-o4jk4M",
        "colab_type": "code",
        "colab": {
          "base_uri": "https://localhost:8080/",
          "height": 34
        },
        "outputId": "8b17933a-9972-4ffe-ff32-53545c0696c3"
      },
      "source": [
        "print({1, 2, 3})"
      ],
      "execution_count": 27,
      "outputs": [
        {
          "output_type": "stream",
          "text": [
            "{1, 2, 3}\n"
          ],
          "name": "stdout"
        }
      ]
    },
    {
      "cell_type": "code",
      "metadata": {
        "id": "NUQ0gTvIjpQ4",
        "colab_type": "code",
        "colab": {
          "base_uri": "https://localhost:8080/",
          "height": 34
        },
        "outputId": "b1c5ad6c-7495-401f-a1c6-7cb681d19b1a"
      },
      "source": [
        "print({'hola': 1, 'adios': 2, 'pato': 3})"
      ],
      "execution_count": 28,
      "outputs": [
        {
          "output_type": "stream",
          "text": [
            "{'hola': 1, 'adios': 2, 'pato': 3}\n"
          ],
          "name": "stdout"
        }
      ]
    },
    {
      "cell_type": "code",
      "metadata": {
        "id": "dVwCNXSbjqrA",
        "colab_type": "code",
        "colab": {
          "base_uri": "https://localhost:8080/",
          "height": 34
        },
        "outputId": "e3215bca-8123-4fd4-cb21-83ae910de6c2"
      },
      "source": [
        "print(1+3j)"
      ],
      "execution_count": 29,
      "outputs": [
        {
          "output_type": "stream",
          "text": [
            "(1+3j)\n"
          ],
          "name": "stdout"
        }
      ]
    },
    {
      "cell_type": "markdown",
      "metadata": {
        "id": "MHfJRXvYj_ch",
        "colab_type": "text"
      },
      "source": [
        "## **Darle estilo a la salida**\n",
        "\n",
        "Tenemos diferentes formas de darle un formato fancy a la salida:"
      ]
    },
    {
      "cell_type": "markdown",
      "metadata": {
        "id": "DyX8G_q2kbIP",
        "colab_type": "text"
      },
      "source": [
        "### 1. print(f\" \")\n",
        "\n",
        "Antes de imprimir nuestros datos podemos colocar *f* o *F* antes de abrir\n",
        "comillas, lo cual nos permite colocar expresiones de Python entre { y } que\n",
        "pueden referirse a variables o valores."
      ]
    },
    {
      "cell_type": "code",
      "metadata": {
        "id": "hazIVLM3j91y",
        "colab_type": "code",
        "colab": {
          "base_uri": "https://localhost:8080/",
          "height": 34
        },
        "outputId": "e6e7dd30-ea84-488d-88b2-890f66274445"
      },
      "source": [
        "num1 = 10\n",
        "num2 = 20\n",
        "suma = num1 + num2\n",
        "print(f'{num1} + {num2} = {suma}')"
      ],
      "execution_count": 76,
      "outputs": [
        {
          "output_type": "stream",
          "text": [
            "10 + 20 = 30\n"
          ],
          "name": "stdout"
        }
      ]
    },
    {
      "cell_type": "code",
      "metadata": {
        "id": "6Vr05hSGlW0H",
        "colab_type": "code",
        "colab": {
          "base_uri": "https://localhost:8080/",
          "height": 34
        },
        "outputId": "f6b59548-ca95-4ca8-fe61-2c7c78f08ea7"
      },
      "source": [
        "num1 = 10\n",
        "num2 = 20\n",
        "print(f'{num1} + {num2} = {num1 + num2}')"
      ],
      "execution_count": 77,
      "outputs": [
        {
          "output_type": "stream",
          "text": [
            "10 + 20 = 30\n"
          ],
          "name": "stdout"
        }
      ]
    },
    {
      "cell_type": "code",
      "metadata": {
        "id": "fYBHm8yWld3_",
        "colab_type": "code",
        "colab": {
          "base_uri": "https://localhost:8080/",
          "height": 34
        },
        "outputId": "1be6509f-333d-4aef-b4f6-9d681d5bca7d"
      },
      "source": [
        "print(f'{10} + {20} = {30}')"
      ],
      "execution_count": 78,
      "outputs": [
        {
          "output_type": "stream",
          "text": [
            "10 + 20 = 30\n"
          ],
          "name": "stdout"
        }
      ]
    },
    {
      "cell_type": "code",
      "metadata": {
        "id": "ruFQZ2iplh4f",
        "colab_type": "code",
        "colab": {
          "base_uri": "https://localhost:8080/",
          "height": 34
        },
        "outputId": "3f0c4cdf-41e4-41db-b536-0ec15591b9b6"
      },
      "source": [
        "print(f'{10} + {20} = {10 + 20}')"
      ],
      "execution_count": 80,
      "outputs": [
        {
          "output_type": "stream",
          "text": [
            "10 + 20 = 30\n"
          ],
          "name": "stdout"
        }
      ]
    },
    {
      "cell_type": "markdown",
      "metadata": {
        "id": "4Ql9wOCimR_u",
        "colab_type": "text"
      },
      "source": [
        "### 2. str.format()\n",
        "\n",
        "Este método lleva un poco más de trabajo que el anterior. Se usan *{}*, las cuales serán sustituidas en orden por cada una de los valores datos en el\n",
        "*format*."
      ]
    },
    {
      "cell_type": "code",
      "metadata": {
        "id": "79WS1PRRmr6N",
        "colab_type": "code",
        "colab": {
          "base_uri": "https://localhost:8080/",
          "height": 34
        },
        "outputId": "983d9a8d-a84c-4c9c-ebae-4a370db4215e"
      },
      "source": [
        "num1 = 42\n",
        "num2 = 13\n",
        "div = num1 / num2\n",
        "print('{} / {} = {}'.format(num1, num2, div))"
      ],
      "execution_count": 81,
      "outputs": [
        {
          "output_type": "stream",
          "text": [
            "42 / 13 = 3.230769230769231\n"
          ],
          "name": "stdout"
        }
      ]
    },
    {
      "cell_type": "markdown",
      "metadata": {
        "id": "kS3kuIWLnNI0",
        "colab_type": "text"
      },
      "source": [
        "Observe el resultado enterior, tiene muchos decimales, podríamos indicar la\n",
        "cantidad de decimales que queremos de la siguiente manera:"
      ]
    },
    {
      "cell_type": "code",
      "metadata": {
        "id": "I0DxB6nFndbi",
        "colab_type": "code",
        "colab": {
          "base_uri": "https://localhost:8080/",
          "height": 34
        },
        "outputId": "92a2ab62-5d52-4628-90bd-1d6e7406fc35"
      },
      "source": [
        "num1 = 42\n",
        "num2 = 13\n",
        "div = num1 / num2\n",
        "print('{} / {} = {:.3}'.format(num1, num2, div))"
      ],
      "execution_count": 87,
      "outputs": [
        {
          "output_type": "stream",
          "text": [
            "42 / 13 = 3.23\n"
          ],
          "name": "stdout"
        }
      ]
    },
    {
      "cell_type": "markdown",
      "metadata": {
        "id": "I6QiP8Spn8BH",
        "colab_type": "text"
      },
      "source": [
        "También podemos indicar porcentajes"
      ]
    },
    {
      "cell_type": "code",
      "metadata": {
        "id": "kHuxUah-n-n9",
        "colab_type": "code",
        "colab": {
          "base_uri": "https://localhost:8080/",
          "height": 34
        },
        "outputId": "f78939a9-a8cf-48bb-ff0c-cfd55a187ba3"
      },
      "source": [
        "print('{:.1%}'.format(0.1))"
      ],
      "execution_count": 93,
      "outputs": [
        {
          "output_type": "stream",
          "text": [
            "10.0%\n"
          ],
          "name": "stdout"
        }
      ]
    },
    {
      "cell_type": "markdown",
      "metadata": {
        "id": "US0Ca6jKoLio",
        "colab_type": "text"
      },
      "source": [
        "### 3. Separación por comas\n",
        "\n",
        "Podemos separar cada valor que queremos imprimir por una coma."
      ]
    },
    {
      "cell_type": "code",
      "metadata": {
        "id": "u3oAFyTzoJ-q",
        "colab_type": "code",
        "colab": {
          "base_uri": "https://localhost:8080/",
          "height": 34
        },
        "outputId": "7edf2fce-8c0a-4465-9b4d-f0d3d137ad33"
      },
      "source": [
        "print('Hola', 23, 43.12)"
      ],
      "execution_count": 94,
      "outputs": [
        {
          "output_type": "stream",
          "text": [
            "Hola 23 43.12\n"
          ],
          "name": "stdout"
        }
      ]
    },
    {
      "cell_type": "markdown",
      "metadata": {
        "id": "8J5WKD6VoZU4",
        "colab_type": "text"
      },
      "source": [
        "#### 4. Concatenación\n",
        "\n",
        "Podemos imprimir realizando una concatención de valores. Hay que tener cuidado\n",
        "de que todos los datos deben ser de tipo string para que no dé error. Esto debido a que solo se puede concatener string con string."
      ]
    },
    {
      "cell_type": "code",
      "metadata": {
        "id": "XnVZHQi4oYg1",
        "colab_type": "code",
        "colab": {
          "base_uri": "https://localhost:8080/",
          "height": 34
        },
        "outputId": "e20b3458-68f6-4059-b230-ab6810cad494"
      },
      "source": [
        "num1 = 10\n",
        "num2 = 20\n",
        "suma = num1 + num2\n",
        "print(str(num1) + ' + ' + str(num2) + ' = ' + str(suma))"
      ],
      "execution_count": 95,
      "outputs": [
        {
          "output_type": "stream",
          "text": [
            "10 + 20 = 30\n"
          ],
          "name": "stdout"
        }
      ]
    },
    {
      "cell_type": "markdown",
      "metadata": {
        "id": "pvHcbeBNo9bD",
        "colab_type": "text"
      },
      "source": [
        "## **Cambiar el final de línea**\n",
        "\n",
        "Observe el siguiente código:"
      ]
    },
    {
      "cell_type": "code",
      "metadata": {
        "id": "4mJZmqcppF7u",
        "colab_type": "code",
        "colab": {
          "base_uri": "https://localhost:8080/",
          "height": 68
        },
        "outputId": "f05ae9dd-c1d0-449f-f337-512be930b585"
      },
      "source": [
        "print('Hola')\n",
        "print(23)\n",
        "print(43.12)"
      ],
      "execution_count": 52,
      "outputs": [
        {
          "output_type": "stream",
          "text": [
            "Hola\n",
            "23\n",
            "43.12\n"
          ],
          "name": "stdout"
        }
      ]
    },
    {
      "cell_type": "markdown",
      "metadata": {
        "id": "ELmcpWXGpME9",
        "colab_type": "text"
      },
      "source": [
        "Note que cada *print* escribe en una nueva línea. Esto se debe a un parámetro\n",
        "llamado *end*, el cual podemos cambiar por lo que queramos."
      ]
    },
    {
      "cell_type": "code",
      "metadata": {
        "id": "wuDmkkP-pKdk",
        "colab_type": "code",
        "colab": {
          "base_uri": "https://localhost:8080/",
          "height": 68
        },
        "outputId": "6fcb4f25-08d1-4528-f969-9c2c627881fa"
      },
      "source": [
        "print('Hola', end='\\n')\n",
        "print(23, end='\\n')\n",
        "print(43.12, end='\\n')"
      ],
      "execution_count": 96,
      "outputs": [
        {
          "output_type": "stream",
          "text": [
            "Hola\n",
            "23\n",
            "43.12\n"
          ],
          "name": "stdout"
        }
      ]
    },
    {
      "cell_type": "code",
      "metadata": {
        "id": "-tvoKbk0ph8c",
        "colab_type": "code",
        "colab": {
          "base_uri": "https://localhost:8080/",
          "height": 34
        },
        "outputId": "1b8147c4-a9f7-4073-90a0-cbeac84027a1"
      },
      "source": [
        "print('Hola', end='\\t')\n",
        "print(23, end='\\t')\n",
        "print(43.12, end='\\t')"
      ],
      "execution_count": 54,
      "outputs": [
        {
          "output_type": "stream",
          "text": [
            "Hola\t23\t43.12\t"
          ],
          "name": "stdout"
        }
      ]
    },
    {
      "cell_type": "code",
      "metadata": {
        "id": "d4qtpUvDpksq",
        "colab_type": "code",
        "colab": {
          "base_uri": "https://localhost:8080/",
          "height": 34
        },
        "outputId": "94aa421f-b158-41e0-b8f1-1803f0e61b48"
      },
      "source": [
        "print('Hola', end='---')\n",
        "print(23, end='---')\n",
        "print(43.12, end='---')"
      ],
      "execution_count": 55,
      "outputs": [
        {
          "output_type": "stream",
          "text": [
            "Hola---23---43.12---"
          ],
          "name": "stdout"
        }
      ]
    },
    {
      "cell_type": "markdown",
      "metadata": {
        "id": "C6S5V-vjp5kR",
        "colab_type": "text"
      },
      "source": [
        "**Nota:** ¿No entiende para qué sirve *\\n* y *\\t*? [Esto podría ayudarle](https://docs.python.org/2.0/ref/strings.html)."
      ]
    },
    {
      "cell_type": "markdown",
      "metadata": {
        "id": "1wxE3guGpsS-",
        "colab_type": "text"
      },
      "source": [
        "## **Cambiar la separación de los valores**\n",
        "\n",
        "Observe el siguiente código:"
      ]
    },
    {
      "cell_type": "code",
      "metadata": {
        "id": "0qPHb0wFpred",
        "colab_type": "code",
        "colab": {
          "base_uri": "https://localhost:8080/",
          "height": 34
        },
        "outputId": "d434d758-bd71-4ed6-dbb8-e449238d6eba"
      },
      "source": [
        "print('Hola', 23, 43.12)"
      ],
      "execution_count": 56,
      "outputs": [
        {
          "output_type": "stream",
          "text": [
            "Hola 23 43.12\n"
          ],
          "name": "stdout"
        }
      ]
    },
    {
      "cell_type": "markdown",
      "metadata": {
        "id": "n7o5gRs0qS9s",
        "colab_type": "text"
      },
      "source": [
        "Cuando hacemos un *print* en Python, separando los valores por coma, por\n",
        "defecto, cada valor es separado mediante un espacio. Esto se debe a un\n",
        "parámetro en Python llamado *sep*, el cual podemos cambiar por lo que nosotros\n",
        "queramos."
      ]
    },
    {
      "cell_type": "code",
      "metadata": {
        "id": "OotXZXXxq2Ye",
        "colab_type": "code",
        "colab": {
          "base_uri": "https://localhost:8080/",
          "height": 34
        },
        "outputId": "c9ab07f6-0102-4f1b-a2bb-1b07a2bae918"
      },
      "source": [
        "print('Hola', 23, 43.12, sep=' ')"
      ],
      "execution_count": 97,
      "outputs": [
        {
          "output_type": "stream",
          "text": [
            "Hola 23 43.12\n"
          ],
          "name": "stdout"
        }
      ]
    },
    {
      "cell_type": "code",
      "metadata": {
        "id": "37Z45egEq5fR",
        "colab_type": "code",
        "colab": {
          "base_uri": "https://localhost:8080/",
          "height": 34
        },
        "outputId": "0161652a-d127-4a08-a1c8-8ef76ac80f19"
      },
      "source": [
        "print('Hola', 23, 43.12, sep='')"
      ],
      "execution_count": 98,
      "outputs": [
        {
          "output_type": "stream",
          "text": [
            "Hola2343.12\n"
          ],
          "name": "stdout"
        }
      ]
    },
    {
      "cell_type": "code",
      "metadata": {
        "id": "lBvV4slrq8Ih",
        "colab_type": "code",
        "colab": {
          "base_uri": "https://localhost:8080/",
          "height": 34
        },
        "outputId": "1b2632fd-11cc-4035-91f3-bb9e7783fb2e"
      },
      "source": [
        "print('Hola', 23, 43.12, sep='---')"
      ],
      "execution_count": 99,
      "outputs": [
        {
          "output_type": "stream",
          "text": [
            "Hola---23---43.12\n"
          ],
          "name": "stdout"
        }
      ]
    },
    {
      "cell_type": "code",
      "metadata": {
        "id": "V3Iri2alrLKY",
        "colab_type": "code",
        "colab": {
          "base_uri": "https://localhost:8080/",
          "height": 34
        },
        "outputId": "91b908d8-f089-4520-ffbf-a2a123b66516"
      },
      "source": [
        "print('Hola', 23, 43.12, sep='\\t')"
      ],
      "execution_count": 100,
      "outputs": [
        {
          "output_type": "stream",
          "text": [
            "Hola\t23\t43.12\n"
          ],
          "name": "stdout"
        }
      ]
    },
    {
      "cell_type": "code",
      "metadata": {
        "id": "BU1QnPeVrNFp",
        "colab_type": "code",
        "colab": {
          "base_uri": "https://localhost:8080/",
          "height": 34
        },
        "outputId": "634b66c8-edae-4f59-95a6-af46ede86385"
      },
      "source": [
        "print('Hola', 23, 43.12, sep='***')"
      ],
      "execution_count": 101,
      "outputs": [
        {
          "output_type": "stream",
          "text": [
            "Hola***23***43.12\n"
          ],
          "name": "stdout"
        }
      ]
    },
    {
      "cell_type": "markdown",
      "metadata": {
        "id": "gRDsln03vgIJ",
        "colab_type": "text"
      },
      "source": [
        "# **Sep y end juntos**"
      ]
    },
    {
      "cell_type": "code",
      "metadata": {
        "id": "unU76uXQvk5e",
        "colab_type": "code",
        "colab": {
          "base_uri": "https://localhost:8080/",
          "height": 34
        },
        "outputId": "c9f4d12d-4e13-4693-8f88-d0c3d805ffc0"
      },
      "source": [
        "print('Hola', 23, 43.12, sep='***', end='-')\n",
        "print('Hola', 23, 43.12, sep='**', end='--')\n",
        "print('Hola', 23, 43.12, sep='*', end='---')"
      ],
      "execution_count": 103,
      "outputs": [
        {
          "output_type": "stream",
          "text": [
            "Hola***23***43.12-Hola**23**43.12--Hola*23*43.12---"
          ],
          "name": "stdout"
        }
      ]
    }
  ]
}
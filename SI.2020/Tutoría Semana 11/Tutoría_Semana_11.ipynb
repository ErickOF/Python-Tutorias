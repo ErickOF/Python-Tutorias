{
  "nbformat": 4,
  "nbformat_minor": 0,
  "metadata": {
    "colab": {
      "name": "Tutoría Semana 11",
      "provenance": []
    },
    "kernelspec": {
      "name": "python3",
      "display_name": "Python 3"
    }
  },
  "cells": [
    {
      "cell_type": "markdown",
      "metadata": {
        "id": "vG_Qbh5cXwGf",
        "colab_type": "text"
      },
      "source": [
        "# **Tuplas**"
      ]
    },
    {
      "cell_type": "code",
      "metadata": {
        "id": "y58C4vvbX32w",
        "colab_type": "code",
        "colab": {
          "base_uri": "https://localhost:8080/",
          "height": 34
        },
        "outputId": "aa95d82a-ef38-4d23-dc7f-df7191be4eb5"
      },
      "source": [
        "tupla = ()\n",
        "print(tupla)"
      ],
      "execution_count": 5,
      "outputs": [
        {
          "output_type": "stream",
          "text": [
            "()\n"
          ],
          "name": "stdout"
        }
      ]
    },
    {
      "cell_type": "code",
      "metadata": {
        "id": "toRFyzaYYCZj",
        "colab_type": "code",
        "colab": {
          "base_uri": "https://localhost:8080/",
          "height": 34
        },
        "outputId": "1cc3ad1a-6cb2-4aee-c09f-f1de13b449a8"
      },
      "source": [
        "tupla = (1,)\n",
        "print(tupla)"
      ],
      "execution_count": 7,
      "outputs": [
        {
          "output_type": "stream",
          "text": [
            "(1,)\n"
          ],
          "name": "stdout"
        }
      ]
    },
    {
      "cell_type": "code",
      "metadata": {
        "id": "YawAVJLwYSMA",
        "colab_type": "code",
        "colab": {
          "base_uri": "https://localhost:8080/",
          "height": 34
        },
        "outputId": "3e305d59-d853-46b2-d305-2a108474b121"
      },
      "source": [
        "tupla = (1, 2, 3, 4, 5, 6)\n",
        "print(tupla)"
      ],
      "execution_count": 11,
      "outputs": [
        {
          "output_type": "stream",
          "text": [
            "(1, 2, 3, 4, 5, 6)\n"
          ],
          "name": "stdout"
        }
      ]
    },
    {
      "cell_type": "code",
      "metadata": {
        "id": "uUz0UeUMYWMH",
        "colab_type": "code",
        "colab": {
          "base_uri": "https://localhost:8080/",
          "height": 163
        },
        "outputId": "1622f699-9dff-4827-8082-a05ddca9ff58"
      },
      "source": [
        "tupla[0] = 10"
      ],
      "execution_count": 9,
      "outputs": [
        {
          "output_type": "error",
          "ename": "TypeError",
          "evalue": "ignored",
          "traceback": [
            "\u001b[0;31m---------------------------------------------------------------------------\u001b[0m",
            "\u001b[0;31mTypeError\u001b[0m                                 Traceback (most recent call last)",
            "\u001b[0;32m<ipython-input-9-e9815587379a>\u001b[0m in \u001b[0;36m<module>\u001b[0;34m()\u001b[0m\n\u001b[0;32m----> 1\u001b[0;31m \u001b[0mtupla\u001b[0m\u001b[0;34m[\u001b[0m\u001b[0;36m0\u001b[0m\u001b[0;34m]\u001b[0m \u001b[0;34m=\u001b[0m \u001b[0;36m10\u001b[0m\u001b[0;34m\u001b[0m\u001b[0;34m\u001b[0m\u001b[0m\n\u001b[0m",
            "\u001b[0;31mTypeError\u001b[0m: 'tuple' object does not support item assignment"
          ]
        }
      ]
    },
    {
      "cell_type": "code",
      "metadata": {
        "id": "HcfpfvMsYgmc",
        "colab_type": "code",
        "colab": {
          "base_uri": "https://localhost:8080/",
          "height": 34
        },
        "outputId": "8e3ba0c4-a830-4144-cf44-6971832cc9ec"
      },
      "source": [
        "tupla = (10,) + tupla[1:]\n",
        "print(tupla)"
      ],
      "execution_count": 12,
      "outputs": [
        {
          "output_type": "stream",
          "text": [
            "(10, 2, 3, 4, 5, 6)\n"
          ],
          "name": "stdout"
        }
      ]
    },
    {
      "cell_type": "code",
      "metadata": {
        "id": "KpEd-LTaYvg9",
        "colab_type": "code",
        "colab": {
          "base_uri": "https://localhost:8080/",
          "height": 34
        },
        "outputId": "3a24a10e-bc38-4e5b-d760-83c2aef5aa51"
      },
      "source": [
        "i = 3\n",
        "elemento = 5\n",
        "\n",
        "tupla = tupla[:i] + (elemento,) + tupla[i+1:]\n",
        "print(tupla)"
      ],
      "execution_count": 13,
      "outputs": [
        {
          "output_type": "stream",
          "text": [
            "(10, 2, 3, 5, 5, 6)\n"
          ],
          "name": "stdout"
        }
      ]
    },
    {
      "cell_type": "code",
      "metadata": {
        "id": "BWBKljdmZEmS",
        "colab_type": "code",
        "colab": {
          "base_uri": "https://localhost:8080/",
          "height": 34
        },
        "outputId": "6b97faea-a4a5-4818-f5e5-a3446677bedd"
      },
      "source": [
        "def modificarEnTupla(tupla, i, elemento):\n",
        "    tupla = tupla[:i] + (elemento,) + tupla[i+1:]\n",
        "    return tupla\n",
        "\n",
        "print(modificarEnTupla((1, 2, 3, 4, 5, 6), 2, 5))"
      ],
      "execution_count": 35,
      "outputs": [
        {
          "output_type": "stream",
          "text": [
            "(1, 2, 5, 4, 5, 6)\n"
          ],
          "name": "stdout"
        }
      ]
    },
    {
      "cell_type": "code",
      "metadata": {
        "id": "lCbN5fyVZjBG",
        "colab_type": "code",
        "colab": {
          "base_uri": "https://localhost:8080/",
          "height": 34
        },
        "outputId": "8b0e5a1d-aa06-4376-bde5-0cb39fe5a026"
      },
      "source": [
        "def insertarEnTupla(tupla, i, elemento):\n",
        "    return tupla[:i] + (elemento,) + tupla[i:]\n",
        "\n",
        "print(insertarEnTupla((1, 2, 3, 4, 5, 6), 3, 5))"
      ],
      "execution_count": 16,
      "outputs": [
        {
          "output_type": "stream",
          "text": [
            "(1, 2, 3, 5, 4, 5, 6)\n"
          ],
          "name": "stdout"
        }
      ]
    },
    {
      "cell_type": "code",
      "metadata": {
        "id": "UfCShIZ1Z5H4",
        "colab_type": "code",
        "colab": {
          "base_uri": "https://localhost:8080/",
          "height": 34
        },
        "outputId": "5113875b-da8b-4dfa-b86f-6608b901f11b"
      },
      "source": [
        "def eliminarEnTuplaPorPosicion(tupla, i):\n",
        "    return tupla[:i] + tupla[i+1:]\n",
        "\n",
        "print(eliminarEnTuplaPorPosicion((1, 2, 3, 4, 5, 6), 3))"
      ],
      "execution_count": 18,
      "outputs": [
        {
          "output_type": "stream",
          "text": [
            "(1, 2, 3, 5, 6)\n"
          ],
          "name": "stdout"
        }
      ]
    },
    {
      "cell_type": "code",
      "metadata": {
        "id": "A1_dP8bdaPHE",
        "colab_type": "code",
        "colab": {
          "base_uri": "https://localhost:8080/",
          "height": 34
        },
        "outputId": "f0defd0a-8141-4b79-e440-738537579fc9"
      },
      "source": [
        "def eliminarEnTuplaPorElemento(tupla, elemento):\n",
        "    for i in range(len(tupla)):\n",
        "        if tupla[i] == elemento:\n",
        "            return tupla[:i] + tupla[i+1:]\n",
        "\n",
        "    return tupla\n",
        "\n",
        "print(eliminarEnTuplaPorElemento((1, 2, 3, 4, 5, 6), 3))"
      ],
      "execution_count": 24,
      "outputs": [
        {
          "output_type": "stream",
          "text": [
            "(1, 2, 4, 5, 6)\n"
          ],
          "name": "stdout"
        }
      ]
    },
    {
      "cell_type": "code",
      "metadata": {
        "id": "TbPHmy7ybxdq",
        "colab_type": "code",
        "colab": {
          "base_uri": "https://localhost:8080/",
          "height": 51
        },
        "outputId": "42c6e753-b626-435d-99a3-7587e5448308"
      },
      "source": [
        "def popTupla(tupla, pos=len(tupla)-1):\n",
        "    elemento = tupla[pos]\n",
        "    tupla = tupla[:pos] + tupla[pos+1:]\n",
        "\n",
        "    return tupla, elemento\n",
        "\n",
        "nuevaTupla, eliminado = popTupla((1, 2, 3, 4, 5, 6), 3)\n",
        "print(nuevaTupla, eliminado)\n",
        "\n",
        "nuevaTupla, eliminado = popTupla((1, 2, 3, 4, 5, 6))\n",
        "print(nuevaTupla, eliminado)"
      ],
      "execution_count": 51,
      "outputs": [
        {
          "output_type": "stream",
          "text": [
            "(1, 2, 3, 5, 6) 4\n",
            "(1, 2, 3, 4, 5) 6\n"
          ],
          "name": "stdout"
        }
      ]
    },
    {
      "cell_type": "markdown",
      "metadata": {
        "id": "sMi3_OH1OgZa",
        "colab_type": "text"
      },
      "source": [
        "# **Programación Orientada a Objetos (POO)**\n",
        "\n",
        "```python\n",
        "class NombreClase:\n",
        "    def __init__(self):\n",
        "        # Inicializo los atributos\n",
        "    \n",
        "    # Metodo -> Son acciones que pueden realizar los objetos\n",
        "    def hacerAlgo(self):\n",
        "        pass\n",
        "```"
      ]
    },
    {
      "cell_type": "code",
      "metadata": {
        "id": "qiypuX4tOcQs",
        "colab_type": "code",
        "colab": {}
      },
      "source": [
        "class Persona:\n",
        "    def __init__(self, pnombre, papellidos, pedad, lugar='Cartago'):\n",
        "        self.nombre = pnombre\n",
        "        self.apellidos = papellidos\n",
        "        self.edad = pedad\n",
        "        self.lugar = lugar\n",
        "        self.hijos = []\n",
        "    \n",
        "    def __str__(self):\n",
        "        # Siempre debe devolver un string\n",
        "        return f'Mi nombre es {self.nombre} {self.apellidos}\\n' +\\\n",
        "               f'Tengo {self.edad} años\\nY vivo en {self.lugar}'\n",
        "    \n",
        "    def presentarse(self):\n",
        "        print(f'Mi nombre es {self.nombre} {self.apellidos}')\n",
        "        print(f'Tengo {self.edad} años')\n",
        "        print(f'Y vivo en {self.lugar}')\n",
        "    \n",
        "    def agregarHijos(self, hijo):\n",
        "        self.hijos.append(hijo)\n",
        "    \n",
        "    def verHijos(self):\n",
        "        for hijo in self.hijos:\n",
        "            print(hijo, '\\n')"
      ],
      "execution_count": 0,
      "outputs": []
    },
    {
      "cell_type": "code",
      "metadata": {
        "id": "VXDDz7bBXvdb",
        "colab_type": "code",
        "colab": {}
      },
      "source": [
        "pErick = Persona('Erick Andres', 'Obregon Fonseca', 22, 'San Jose')\n",
        "pMaria = Persona('Maria', 'Ortiz', 19, 'Guanacaste')"
      ],
      "execution_count": 0,
      "outputs": []
    },
    {
      "cell_type": "code",
      "metadata": {
        "id": "w8fFrnwAOYiC",
        "colab_type": "code",
        "colab": {
          "base_uri": "https://localhost:8080/",
          "height": 119
        },
        "outputId": "978cc32a-2cdb-4ae4-c8d7-aea5c7b68893"
      },
      "source": [
        "pErick.presentarse()\n",
        "pMaria.presentarse()"
      ],
      "execution_count": 151,
      "outputs": [
        {
          "output_type": "stream",
          "text": [
            "Mi nombre es Erick Andres Obregon Fonseca\n",
            "Tengo 22 años\n",
            "Y vivo en San Jose\n",
            "Mi nombre es Maria Ortiz\n",
            "Tengo 19 años\n",
            "Y vivo en Guanacaste\n"
          ],
          "name": "stdout"
        }
      ]
    },
    {
      "cell_type": "code",
      "metadata": {
        "id": "182Xn7dmkMYl",
        "colab_type": "code",
        "colab": {}
      },
      "source": [
        "pErick.lugar = 'Cartago'\n",
        "pErick.edad += 1"
      ],
      "execution_count": 0,
      "outputs": []
    },
    {
      "cell_type": "code",
      "metadata": {
        "id": "Fk80JtyhkQI4",
        "colab_type": "code",
        "colab": {
          "base_uri": "https://localhost:8080/",
          "height": 119
        },
        "outputId": "f176e8ef-e938-4fbd-f8a4-8feb4ee2ba9b"
      },
      "source": [
        "pErick.presentarse()\n",
        "pMaria.presentarse()"
      ],
      "execution_count": 153,
      "outputs": [
        {
          "output_type": "stream",
          "text": [
            "Mi nombre es Erick Andres Obregon Fonseca\n",
            "Tengo 23 años\n",
            "Y vivo en Cartago\n",
            "Mi nombre es Maria Ortiz\n",
            "Tengo 19 años\n",
            "Y vivo en Guanacaste\n"
          ],
          "name": "stdout"
        }
      ]
    },
    {
      "cell_type": "code",
      "metadata": {
        "id": "6HcUlhqGmy07",
        "colab_type": "code",
        "colab": {
          "base_uri": "https://localhost:8080/",
          "height": 119
        },
        "outputId": "e88e5fb1-2b80-45cb-870a-63f525f0ff69"
      },
      "source": [
        "pErick.agregarHijos(pMaria)\n",
        "pErick.agregarHijos(pMaria)\n",
        "pErick.agregarHijos(pMaria)\n",
        "print(pErick)\n",
        "print(pMaria)"
      ],
      "execution_count": 154,
      "outputs": [
        {
          "output_type": "stream",
          "text": [
            "Mi nombre es Erick Andres Obregon Fonseca\n",
            "Tengo 23 años\n",
            "Y vivo en Cartago\n",
            "Mi nombre es Maria Ortiz\n",
            "Tengo 19 años\n",
            "Y vivo en Guanacaste\n"
          ],
          "name": "stdout"
        }
      ]
    },
    {
      "cell_type": "code",
      "metadata": {
        "id": "EbGN_P-In445",
        "colab_type": "code",
        "colab": {
          "base_uri": "https://localhost:8080/",
          "height": 221
        },
        "outputId": "e35f467b-250a-49bb-c8c3-c03b7a59e9a8"
      },
      "source": [
        "pErick.verHijos()"
      ],
      "execution_count": 155,
      "outputs": [
        {
          "output_type": "stream",
          "text": [
            "Mi nombre es Maria Ortiz\n",
            "Tengo 19 años\n",
            "Y vivo en Guanacaste \n",
            "\n",
            "Mi nombre es Maria Ortiz\n",
            "Tengo 19 años\n",
            "Y vivo en Guanacaste \n",
            "\n",
            "Mi nombre es Maria Ortiz\n",
            "Tengo 19 años\n",
            "Y vivo en Guanacaste \n",
            "\n"
          ],
          "name": "stdout"
        }
      ]
    },
    {
      "cell_type": "code",
      "metadata": {
        "id": "ao1AKXDFozwa",
        "colab_type": "code",
        "colab": {}
      },
      "source": [
        "class Estudiante:\n",
        "    def __init__(self, nombre, apellidos, carnet):\n",
        "        self.__nombre = nombre\n",
        "        self.__apellidos = apellidos\n",
        "        self.__carnet = carnet\n",
        "    \n",
        "    def getNombre(self):\n",
        "        return self.__nombre\n",
        "\n",
        "    def getApellidos(self):\n",
        "        return self.__apellidos\n",
        "\n",
        "    def getCarnet(self):\n",
        "        return self.__carnet\n",
        "\n",
        "    def setNombre(self, nuevoNombre):\n",
        "        self.__nombre = nuevoNombre\n",
        "\n",
        "    def setApellidos(self, nuevoApellidos):\n",
        "        self.__apellidos = nuevoApellidos\n",
        "\n",
        "    def setCarnet(self, nuevoCarnet):\n",
        "        self.__carnet = nuevoCarnet"
      ],
      "execution_count": 0,
      "outputs": []
    },
    {
      "cell_type": "code",
      "metadata": {
        "id": "g4m1IeuYpQiU",
        "colab_type": "code",
        "colab": {
          "base_uri": "https://localhost:8080/",
          "height": 68
        },
        "outputId": "1b525279-31e1-43d2-d7f4-5bf215843733"
      },
      "source": [
        "eErick = Estudiante('Erick', 'Obregon', 2016123157)\n",
        "eErick.setNombre('Erick Andres')\n",
        "eErick.setApellidos('Obregon Fonseca')\n",
        "print(eErick.getNombre())\n",
        "print(eErick.getApellidos())\n",
        "print(eErick.getCarnet())"
      ],
      "execution_count": 167,
      "outputs": [
        {
          "output_type": "stream",
          "text": [
            "Erick Andres\n",
            "Obregon Fonseca\n",
            "2016123157\n"
          ],
          "name": "stdout"
        }
      ]
    },
    {
      "cell_type": "markdown",
      "metadata": {
        "id": "n5Ztq348u4Q_",
        "colab_type": "text"
      },
      "source": [
        "## **Sobre carga de operadores**\n",
        "\n",
        "Algunas funcionalidades genéricas que pueden ser sobre cargadas\n",
        "\n",
        "| Sr.No. | Method, Description & Sample Call |\n",
        "|--------|-----------------------------------|\n",
        "|   1    | \\_\\_init\\_\\_(self [,args...]) <br> Constructor (with any optional arguments <br> Sample Call : obj = className(args) |\n",
        "|   2    | \\_\\_del\\_\\_(self) <br> Destructor, deletes an object <br> Sample Call : del obj |\n",
        "|   3    | \\_\\_repr\\_\\_(self) <br> Evaluatable string representation <br> Sample Call : repr(obj) |\n",
        "|   4    | \\_\\_str\\_\\_(self) <br> Printable string representation <br> Sample Call : str(obj) |\n",
        "|   5    | \\_\\_cmp\\_\\_(self, x) <br> Object comparison <br> Sample Call : cmp(obj, x)\n",
        "\n",
        "### **Operadores**\n",
        "| **Operator** | **Method** |\n",
        "| ------------ | ---------- |\n",
        "|     a + b    | \\_\\_add\\_\\_(self, other) |\n",
        "|     a - b    | \\_\\_sub\\_\\_(self, other) |\n",
        "|     a * b    | \\_\\_mul\\_\\_(self, other) |\n",
        "|     a @ b    | \\_\\_matmul\\_\\_(self, other) |\n",
        "|     a \\   b  | \\_\\_truediv\\_\\_(self, other) |\n",
        "|     a _\\_\\ b   |   \\_\\_floordiv\\_\\_(self, other)    |\n",
        "|     a % b    |      \\_\\_mod\\_\\_(self, other)      |\n",
        "| divmod(a, b) |    \\_\\_divmod\\_\\_(self, other)     |\n",
        "|     a ** b   | \\_\\_pow\\_\\_(self, other[, modulo]) |\n",
        "|     a << b   | \\_\\_lshift\\_\\_(self, other) |\n",
        "|     a >> b   |  \\_\\_rshift\\_\\_(self, other) |\n",
        "|     a & b    |  \\_\\_and\\_\\_(self, other) |\n",
        "|     a ^ b    |  \\_\\_xor\\_\\_(self, other) |\n",
        "|     a \\| b    |  \\_\\_or\\_\\_(self, other) |\n",
        "|     a ~ b    |  \\_\\_not\\_\\_(self, other) |"
      ]
    },
    {
      "cell_type": "code",
      "metadata": {
        "id": "GNHd4aGDu7Yf",
        "colab_type": "code",
        "colab": {}
      },
      "source": [
        "class Cuadrado:\n",
        "    def __init__(self, lado):\n",
        "        self.__lado = lado\n",
        "    \n",
        "    def __str__(self):\n",
        "        return f'<Lado: {self.__lado}cm>'\n",
        "    \n",
        "    def __add__(self, cuadrado):\n",
        "        nuevoLado = self.__lado + cuadrado.getLado()\n",
        "        return Cuadrado(nuevoLado)\n",
        "    \n",
        "    def __sub__(self, cuadrado):\n",
        "        nuevoLado = abs(self.__lado - cuadrado.getLado())\n",
        "        return Cuadrado(nuevoLado)\n",
        "    \n",
        "    def __mul__(self, elemento):\n",
        "        nuevoLado = 0\n",
        "        \n",
        "        if isinstance(elemento, Cuadrado):\n",
        "            nuevoLado = self.__lado * elemento.getLado()\n",
        "        elif isinstance(elemento, (int, float)):\n",
        "            nuevoLado = self.__lado * elemento\n",
        "        else:\n",
        "            raise TypeError(f'Unsupported operand type(s) for *: {type(self)} and {type(elemento)}')\n",
        "\n",
        "        return Cuadrado(nuevoLado)\n",
        "\n",
        "    def getLado(self):\n",
        "        return self.__lado\n",
        "\n",
        "    def setLado(self, lado):\n",
        "        self.__lado = lado\n",
        "    \n",
        "    def calcularArea(self):\n",
        "        return self.__lado * self.__lado # lado**2"
      ],
      "execution_count": 0,
      "outputs": []
    },
    {
      "cell_type": "code",
      "metadata": {
        "id": "Z-E0hudivUFO",
        "colab_type": "code",
        "colab": {
          "base_uri": "https://localhost:8080/",
          "height": 51
        },
        "outputId": "3029f573-4788-4042-a80e-6058690e71bd"
      },
      "source": [
        "cuadrado1 = Cuadrado(10)\n",
        "print(cuadrado1)\n",
        "print(cuadrado1.calcularArea())"
      ],
      "execution_count": 242,
      "outputs": [
        {
          "output_type": "stream",
          "text": [
            "<Lado: 10cm>\n",
            "100\n"
          ],
          "name": "stdout"
        }
      ]
    },
    {
      "cell_type": "code",
      "metadata": {
        "id": "An34Surnvaj_",
        "colab_type": "code",
        "colab": {
          "base_uri": "https://localhost:8080/",
          "height": 51
        },
        "outputId": "b6d61df3-e0b8-4ba3-f986-d5fe64aafb33"
      },
      "source": [
        "cuadrado2 = Cuadrado(15)\n",
        "print(cuadrado2)\n",
        "print(cuadrado2.calcularArea())"
      ],
      "execution_count": 243,
      "outputs": [
        {
          "output_type": "stream",
          "text": [
            "<Lado: 15cm>\n",
            "225\n"
          ],
          "name": "stdout"
        }
      ]
    },
    {
      "cell_type": "code",
      "metadata": {
        "id": "Kk1-gpL3ve1r",
        "colab_type": "code",
        "colab": {
          "base_uri": "https://localhost:8080/",
          "height": 51
        },
        "outputId": "c63bd853-2092-40aa-f7f8-2311447f4e43"
      },
      "source": [
        "cuadradoSuma = cuadrado1 + cuadrado2\n",
        "print(cuadradoSuma)\n",
        "print(cuadradoSuma.calcularArea())"
      ],
      "execution_count": 244,
      "outputs": [
        {
          "output_type": "stream",
          "text": [
            "<Lado: 25cm>\n",
            "625\n"
          ],
          "name": "stdout"
        }
      ]
    },
    {
      "cell_type": "code",
      "metadata": {
        "id": "G_RNRzJzwW5B",
        "colab_type": "code",
        "colab": {
          "base_uri": "https://localhost:8080/",
          "height": 51
        },
        "outputId": "f00da9ee-8146-4d6f-e058-3fc201dec28a"
      },
      "source": [
        "cuadradoResta = cuadrado1 - cuadrado2\n",
        "print(cuadradoResta)\n",
        "print(cuadradoResta.calcularArea())"
      ],
      "execution_count": 245,
      "outputs": [
        {
          "output_type": "stream",
          "text": [
            "<Lado: 5cm>\n",
            "25\n"
          ],
          "name": "stdout"
        }
      ]
    },
    {
      "cell_type": "code",
      "metadata": {
        "id": "rvx-S9SsxjIx",
        "colab_type": "code",
        "colab": {
          "base_uri": "https://localhost:8080/",
          "height": 51
        },
        "outputId": "e06b3524-a181-44be-c052-fd109fb49690"
      },
      "source": [
        "cuadradoMult = cuadrado1 * cuadrado2\n",
        "print(cuadradoMult)\n",
        "print(cuadradoMult.calcularArea())"
      ],
      "execution_count": 246,
      "outputs": [
        {
          "output_type": "stream",
          "text": [
            "<Lado: 150cm>\n",
            "22500\n"
          ],
          "name": "stdout"
        }
      ]
    },
    {
      "cell_type": "code",
      "metadata": {
        "id": "yWXhcHSryzKx",
        "colab_type": "code",
        "colab": {
          "base_uri": "https://localhost:8080/",
          "height": 51
        },
        "outputId": "aac9bdbf-42c0-4882-b843-ef5fa76464a2"
      },
      "source": [
        "cuadradoMult2 = cuadrado1 * 2\n",
        "print(cuadradoMult2)\n",
        "print(cuadradoMult2.calcularArea())"
      ],
      "execution_count": 247,
      "outputs": [
        {
          "output_type": "stream",
          "text": [
            "<Lado: 20cm>\n",
            "400\n"
          ],
          "name": "stdout"
        }
      ]
    },
    {
      "cell_type": "code",
      "metadata": {
        "id": "hhsLZ5MIy4z1",
        "colab_type": "code",
        "colab": {
          "base_uri": "https://localhost:8080/",
          "height": 316
        },
        "outputId": "46ef6f52-585f-4ecc-8fe7-375d09832777"
      },
      "source": [
        "cuadradoMult2 = cuadrado1 * []\n",
        "print(cuadradoMult2)\n",
        "print(cuadradoMult2.calcularArea())"
      ],
      "execution_count": 248,
      "outputs": [
        {
          "output_type": "error",
          "ename": "TypeError",
          "evalue": "ignored",
          "traceback": [
            "\u001b[0;31m---------------------------------------------------------------------------\u001b[0m",
            "\u001b[0;31mTypeError\u001b[0m                                 Traceback (most recent call last)",
            "\u001b[0;32m<ipython-input-248-4942a6669a17>\u001b[0m in \u001b[0;36m<module>\u001b[0;34m()\u001b[0m\n\u001b[0;32m----> 1\u001b[0;31m \u001b[0mcuadradoMult2\u001b[0m \u001b[0;34m=\u001b[0m \u001b[0mcuadrado1\u001b[0m \u001b[0;34m*\u001b[0m \u001b[0;34m[\u001b[0m\u001b[0;34m]\u001b[0m\u001b[0;34m\u001b[0m\u001b[0;34m\u001b[0m\u001b[0m\n\u001b[0m\u001b[1;32m      2\u001b[0m \u001b[0mprint\u001b[0m\u001b[0;34m(\u001b[0m\u001b[0mcuadradoMult2\u001b[0m\u001b[0;34m)\u001b[0m\u001b[0;34m\u001b[0m\u001b[0;34m\u001b[0m\u001b[0m\n\u001b[1;32m      3\u001b[0m \u001b[0mprint\u001b[0m\u001b[0;34m(\u001b[0m\u001b[0mcuadradoMult2\u001b[0m\u001b[0;34m.\u001b[0m\u001b[0mcalcularArea\u001b[0m\u001b[0;34m(\u001b[0m\u001b[0;34m)\u001b[0m\u001b[0;34m)\u001b[0m\u001b[0;34m\u001b[0m\u001b[0;34m\u001b[0m\u001b[0m\n",
            "\u001b[0;32m<ipython-input-241-478b8a61d2f8>\u001b[0m in \u001b[0;36m__mul__\u001b[0;34m(self, elemento)\u001b[0m\n\u001b[1;32m     22\u001b[0m             \u001b[0mnuevoLado\u001b[0m \u001b[0;34m=\u001b[0m \u001b[0mself\u001b[0m\u001b[0;34m.\u001b[0m\u001b[0m__lado\u001b[0m \u001b[0;34m*\u001b[0m \u001b[0melemento\u001b[0m\u001b[0;34m\u001b[0m\u001b[0;34m\u001b[0m\u001b[0m\n\u001b[1;32m     23\u001b[0m         \u001b[0;32melse\u001b[0m\u001b[0;34m:\u001b[0m\u001b[0;34m\u001b[0m\u001b[0;34m\u001b[0m\u001b[0m\n\u001b[0;32m---> 24\u001b[0;31m             \u001b[0;32mraise\u001b[0m \u001b[0mTypeError\u001b[0m\u001b[0;34m(\u001b[0m\u001b[0;34mf'Unsupported operand type(s) for *: {type(self)} and {type(elemento)}'\u001b[0m\u001b[0;34m)\u001b[0m\u001b[0;34m\u001b[0m\u001b[0;34m\u001b[0m\u001b[0m\n\u001b[0m\u001b[1;32m     25\u001b[0m \u001b[0;34m\u001b[0m\u001b[0m\n\u001b[1;32m     26\u001b[0m         \u001b[0;32mreturn\u001b[0m \u001b[0mCuadrado\u001b[0m\u001b[0;34m(\u001b[0m\u001b[0mnuevoLado\u001b[0m\u001b[0;34m)\u001b[0m\u001b[0;34m\u001b[0m\u001b[0;34m\u001b[0m\u001b[0m\n",
            "\u001b[0;31mTypeError\u001b[0m: Unsupported operand type(s) for *: <class '__main__.Cuadrado'> and <class 'list'>"
          ]
        }
      ]
    },
    {
      "cell_type": "code",
      "metadata": {
        "id": "cu2zQJWMz3GE",
        "colab_type": "code",
        "colab": {
          "base_uri": "https://localhost:8080/",
          "height": 282
        },
        "outputId": "fc8d6e2f-ae6d-477e-eefe-4a678b259a4d"
      },
      "source": [
        "cuadradoSuma = cuadrado1 + 2"
      ],
      "execution_count": 249,
      "outputs": [
        {
          "output_type": "error",
          "ename": "AttributeError",
          "evalue": "ignored",
          "traceback": [
            "\u001b[0;31m---------------------------------------------------------------------------\u001b[0m",
            "\u001b[0;31mAttributeError\u001b[0m                            Traceback (most recent call last)",
            "\u001b[0;32m<ipython-input-249-19fa0e090cf8>\u001b[0m in \u001b[0;36m<module>\u001b[0;34m()\u001b[0m\n\u001b[0;32m----> 1\u001b[0;31m \u001b[0mcuadradoSuma\u001b[0m \u001b[0;34m=\u001b[0m \u001b[0mcuadrado1\u001b[0m \u001b[0;34m+\u001b[0m \u001b[0;36m2\u001b[0m\u001b[0;34m\u001b[0m\u001b[0;34m\u001b[0m\u001b[0m\n\u001b[0m",
            "\u001b[0;32m<ipython-input-241-478b8a61d2f8>\u001b[0m in \u001b[0;36m__add__\u001b[0;34m(self, cuadrado)\u001b[0m\n\u001b[1;32m      7\u001b[0m \u001b[0;34m\u001b[0m\u001b[0m\n\u001b[1;32m      8\u001b[0m     \u001b[0;32mdef\u001b[0m \u001b[0m__add__\u001b[0m\u001b[0;34m(\u001b[0m\u001b[0mself\u001b[0m\u001b[0;34m,\u001b[0m \u001b[0mcuadrado\u001b[0m\u001b[0;34m)\u001b[0m\u001b[0;34m:\u001b[0m\u001b[0;34m\u001b[0m\u001b[0;34m\u001b[0m\u001b[0m\n\u001b[0;32m----> 9\u001b[0;31m         \u001b[0mnuevoLado\u001b[0m \u001b[0;34m=\u001b[0m \u001b[0mself\u001b[0m\u001b[0;34m.\u001b[0m\u001b[0m__lado\u001b[0m \u001b[0;34m+\u001b[0m \u001b[0mcuadrado\u001b[0m\u001b[0;34m.\u001b[0m\u001b[0mgetLado\u001b[0m\u001b[0;34m(\u001b[0m\u001b[0;34m)\u001b[0m\u001b[0;34m\u001b[0m\u001b[0;34m\u001b[0m\u001b[0m\n\u001b[0m\u001b[1;32m     10\u001b[0m         \u001b[0;32mreturn\u001b[0m \u001b[0mCuadrado\u001b[0m\u001b[0;34m(\u001b[0m\u001b[0mnuevoLado\u001b[0m\u001b[0;34m)\u001b[0m\u001b[0;34m\u001b[0m\u001b[0;34m\u001b[0m\u001b[0m\n\u001b[1;32m     11\u001b[0m \u001b[0;34m\u001b[0m\u001b[0m\n",
            "\u001b[0;31mAttributeError\u001b[0m: 'int' object has no attribute 'getLado'"
          ]
        }
      ]
    },
    {
      "cell_type": "code",
      "metadata": {
        "id": "BbHcloyT0MQE",
        "colab_type": "code",
        "colab": {}
      },
      "source": [
        "from random import randint\n",
        "\n",
        "\n",
        "class Matriz:\n",
        "    def __init__(self, filas, columnas, menor=0, mayor=9):\n",
        "        self.__filas = filas\n",
        "        self.__columnas = columnas\n",
        "        self.__matriz = [[randint(menor, mayor) for _ in range(columnas)] for _ in range(filas)]\n",
        "\n",
        "    def mostrarMatriz(self):\n",
        "        # Recorremos filas\n",
        "        for i in range(self.__filas):\n",
        "            # Recorremos columnas\n",
        "            for j in range(self.__columnas):\n",
        "                print(self.__matriz[i][j], end='\\t')\n",
        "            print()\n",
        "\n",
        "    def getFilas(self):\n",
        "        return self.__filas\n",
        "\n",
        "    def getColumnas(self):\n",
        "        return self.__columnas\n",
        "    \n",
        "    def setValor(self, i, j, elemento):\n",
        "        self.__matriz[i][j] = elemento\n",
        "    \n",
        "    def getValor(self, i, j):\n",
        "        return self.__matriz[i][j]\n",
        "\n",
        "    def __add__(self, matriz):\n",
        "        # Validar que la matriz tenga las mismas dimensiones\n",
        "        if self.__filas != matriz.getFilas() or self.__columnas != matriz.getColumnas():\n",
        "            raise ValueError('No se pueden sumar matrices de diferente tamaño.')\n",
        "\n",
        "        # Resultado de la suma de las matrices\n",
        "        suma = Matriz(self.__filas, self.__columnas)\n",
        "\n",
        "        # Recorremos filas\n",
        "        for i in range(self.__filas):\n",
        "            # Recorremos columnas\n",
        "            for j in range(self.__columnas):\n",
        "                # Sumamos\n",
        "                suma.setValor(i, j, self.__matriz[i][j] + matriz.getValor(i, j))\n",
        "        \n",
        "        return suma"
      ],
      "execution_count": 0,
      "outputs": []
    },
    {
      "cell_type": "code",
      "metadata": {
        "id": "wa0MLd-k1MYn",
        "colab_type": "code",
        "colab": {
          "base_uri": "https://localhost:8080/",
          "height": 306
        },
        "outputId": "83202c51-9efe-4849-a58c-581379cca2d9"
      },
      "source": [
        "A = Matriz(5, 5, menor=5)\n",
        "B = Matriz(5, 5, mayor=100)\n",
        "C = A + B\n",
        "\n",
        "A.mostrarMatriz()\n",
        "print()\n",
        "B.mostrarMatriz()\n",
        "print()\n",
        "C.mostrarMatriz()"
      ],
      "execution_count": 278,
      "outputs": [
        {
          "output_type": "stream",
          "text": [
            "6\t7\t5\t6\t5\t\n",
            "9\t6\t9\t8\t7\t\n",
            "7\t7\t7\t7\t9\t\n",
            "7\t8\t5\t8\t8\t\n",
            "6\t7\t5\t8\t8\t\n",
            "\n",
            "38\t92\t93\t86\t17\t\n",
            "5\t74\t88\t73\t96\t\n",
            "33\t76\t11\t47\t95\t\n",
            "79\t50\t14\t37\t45\t\n",
            "97\t11\t34\t23\t27\t\n",
            "\n",
            "44\t99\t98\t92\t22\t\n",
            "14\t80\t97\t81\t103\t\n",
            "40\t83\t18\t54\t104\t\n",
            "86\t58\t19\t45\t53\t\n",
            "103\t18\t39\t31\t35\t\n"
          ],
          "name": "stdout"
        }
      ]
    }
  ]
}
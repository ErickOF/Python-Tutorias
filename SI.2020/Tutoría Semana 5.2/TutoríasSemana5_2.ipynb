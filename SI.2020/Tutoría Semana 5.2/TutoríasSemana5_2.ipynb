{
  "nbformat": 4,
  "nbformat_minor": 0,
  "metadata": {
    "colab": {
      "name": "TutoríasSemana5.2.ipynb",
      "provenance": []
    },
    "kernelspec": {
      "name": "python3",
      "display_name": "Python 3"
    }
  },
  "cells": [
    {
      "cell_type": "markdown",
      "metadata": {
        "id": "WMBY2suYIqYs",
        "colab_type": "text"
      },
      "source": [
        "# Ciclo While\n",
        "\n",
        "```python\n",
        "while (condicion): # Si la condicion se cumple, el ciclo se ejecuta\n",
        "    # Bloque de codigo\n",
        "```"
      ]
    },
    {
      "cell_type": "code",
      "metadata": {
        "id": "LtJmKcgq-nOj",
        "colab_type": "code",
        "colab": {
          "base_uri": "https://localhost:8080/",
          "height": 204
        },
        "outputId": "f326fd78-811b-4d11-9e91-d70c073f8a9a"
      },
      "source": [
        "contador = 0\n",
        "\n",
        "while (contador <= 10):\n",
        "    print(contador)\n",
        "    contador = contador + 1 # contador += 1"
      ],
      "execution_count": 1,
      "outputs": [
        {
          "output_type": "stream",
          "text": [
            "0\n",
            "1\n",
            "2\n",
            "3\n",
            "4\n",
            "5\n",
            "6\n",
            "7\n",
            "8\n",
            "9\n",
            "10\n"
          ],
          "name": "stdout"
        }
      ]
    },
    {
      "cell_type": "code",
      "metadata": {
        "id": "vuLT-25sJB-5",
        "colab_type": "code",
        "colab": {
          "base_uri": "https://localhost:8080/",
          "height": 204
        },
        "outputId": "a4e9ffba-b50e-474f-fd73-9115809a19b4"
      },
      "source": [
        "contador = 10\n",
        "\n",
        "while (contador >= 0):\n",
        "    print(contador)\n",
        "    contador = contador - 1 # contador -= 1"
      ],
      "execution_count": 5,
      "outputs": [
        {
          "output_type": "stream",
          "text": [
            "10\n",
            "9\n",
            "8\n",
            "7\n",
            "6\n",
            "5\n",
            "4\n",
            "3\n",
            "2\n",
            "1\n",
            "0\n"
          ],
          "name": "stdout"
        }
      ]
    },
    {
      "cell_type": "code",
      "metadata": {
        "id": "X9ApVyIGJnjg",
        "colab_type": "code",
        "colab": {
          "base_uri": "https://localhost:8080/",
          "height": 119
        },
        "outputId": "f3fe1042-a347-424e-bedf-5ebb2658c9f7"
      },
      "source": [
        "contador = 0\n",
        "\n",
        "while (contador <= 10):\n",
        "    if (contador % 2 == 0):\n",
        "        print(contador)\n",
        "    contador = contador + 1"
      ],
      "execution_count": 6,
      "outputs": [
        {
          "output_type": "stream",
          "text": [
            "0\n",
            "2\n",
            "4\n",
            "6\n",
            "8\n",
            "10\n"
          ],
          "name": "stdout"
        }
      ]
    },
    {
      "cell_type": "code",
      "metadata": {
        "id": "haGQvut-KD1m",
        "colab_type": "code",
        "colab": {
          "base_uri": "https://localhost:8080/",
          "height": 1000
        },
        "outputId": "1c064dc3-646e-4c13-f00a-3b2ad083a368"
      },
      "source": [
        "# Tablas de multiplicar\n",
        "num = 1\n",
        "mult = 1\n",
        "\n",
        "while num <= 12:\n",
        "    while mult <= 12:\n",
        "        print('{} x {} = {}'.format(num, mult, num * mult))\n",
        "        mult += 1 # mult = mult + 1\n",
        "    num += 1 # num = num + 1\n",
        "    mult = 1\n",
        "    print()"
      ],
      "execution_count": 10,
      "outputs": [
        {
          "output_type": "stream",
          "text": [
            "1 x 1 = 1\n",
            "1 x 2 = 2\n",
            "1 x 3 = 3\n",
            "1 x 4 = 4\n",
            "1 x 5 = 5\n",
            "1 x 6 = 6\n",
            "1 x 7 = 7\n",
            "1 x 8 = 8\n",
            "1 x 9 = 9\n",
            "1 x 10 = 10\n",
            "1 x 11 = 11\n",
            "1 x 12 = 12\n",
            "\n",
            "2 x 1 = 2\n",
            "2 x 2 = 4\n",
            "2 x 3 = 6\n",
            "2 x 4 = 8\n",
            "2 x 5 = 10\n",
            "2 x 6 = 12\n",
            "2 x 7 = 14\n",
            "2 x 8 = 16\n",
            "2 x 9 = 18\n",
            "2 x 10 = 20\n",
            "2 x 11 = 22\n",
            "2 x 12 = 24\n",
            "\n",
            "3 x 1 = 3\n",
            "3 x 2 = 6\n",
            "3 x 3 = 9\n",
            "3 x 4 = 12\n",
            "3 x 5 = 15\n",
            "3 x 6 = 18\n",
            "3 x 7 = 21\n",
            "3 x 8 = 24\n",
            "3 x 9 = 27\n",
            "3 x 10 = 30\n",
            "3 x 11 = 33\n",
            "3 x 12 = 36\n",
            "\n",
            "4 x 1 = 4\n",
            "4 x 2 = 8\n",
            "4 x 3 = 12\n",
            "4 x 4 = 16\n",
            "4 x 5 = 20\n",
            "4 x 6 = 24\n",
            "4 x 7 = 28\n",
            "4 x 8 = 32\n",
            "4 x 9 = 36\n",
            "4 x 10 = 40\n",
            "4 x 11 = 44\n",
            "4 x 12 = 48\n",
            "\n",
            "5 x 1 = 5\n",
            "5 x 2 = 10\n",
            "5 x 3 = 15\n",
            "5 x 4 = 20\n",
            "5 x 5 = 25\n",
            "5 x 6 = 30\n",
            "5 x 7 = 35\n",
            "5 x 8 = 40\n",
            "5 x 9 = 45\n",
            "5 x 10 = 50\n",
            "5 x 11 = 55\n",
            "5 x 12 = 60\n",
            "\n",
            "6 x 1 = 6\n",
            "6 x 2 = 12\n",
            "6 x 3 = 18\n",
            "6 x 4 = 24\n",
            "6 x 5 = 30\n",
            "6 x 6 = 36\n",
            "6 x 7 = 42\n",
            "6 x 8 = 48\n",
            "6 x 9 = 54\n",
            "6 x 10 = 60\n",
            "6 x 11 = 66\n",
            "6 x 12 = 72\n",
            "\n",
            "7 x 1 = 7\n",
            "7 x 2 = 14\n",
            "7 x 3 = 21\n",
            "7 x 4 = 28\n",
            "7 x 5 = 35\n",
            "7 x 6 = 42\n",
            "7 x 7 = 49\n",
            "7 x 8 = 56\n",
            "7 x 9 = 63\n",
            "7 x 10 = 70\n",
            "7 x 11 = 77\n",
            "7 x 12 = 84\n",
            "\n",
            "8 x 1 = 8\n",
            "8 x 2 = 16\n",
            "8 x 3 = 24\n",
            "8 x 4 = 32\n",
            "8 x 5 = 40\n",
            "8 x 6 = 48\n",
            "8 x 7 = 56\n",
            "8 x 8 = 64\n",
            "8 x 9 = 72\n",
            "8 x 10 = 80\n",
            "8 x 11 = 88\n",
            "8 x 12 = 96\n",
            "\n",
            "9 x 1 = 9\n",
            "9 x 2 = 18\n",
            "9 x 3 = 27\n",
            "9 x 4 = 36\n",
            "9 x 5 = 45\n",
            "9 x 6 = 54\n",
            "9 x 7 = 63\n",
            "9 x 8 = 72\n",
            "9 x 9 = 81\n",
            "9 x 10 = 90\n",
            "9 x 11 = 99\n",
            "9 x 12 = 108\n",
            "\n",
            "10 x 1 = 10\n",
            "10 x 2 = 20\n",
            "10 x 3 = 30\n",
            "10 x 4 = 40\n",
            "10 x 5 = 50\n",
            "10 x 6 = 60\n",
            "10 x 7 = 70\n",
            "10 x 8 = 80\n",
            "10 x 9 = 90\n",
            "10 x 10 = 100\n",
            "10 x 11 = 110\n",
            "10 x 12 = 120\n",
            "\n",
            "11 x 1 = 11\n",
            "11 x 2 = 22\n",
            "11 x 3 = 33\n",
            "11 x 4 = 44\n",
            "11 x 5 = 55\n",
            "11 x 6 = 66\n",
            "11 x 7 = 77\n",
            "11 x 8 = 88\n",
            "11 x 9 = 99\n",
            "11 x 10 = 110\n",
            "11 x 11 = 121\n",
            "11 x 12 = 132\n",
            "\n",
            "12 x 1 = 12\n",
            "12 x 2 = 24\n",
            "12 x 3 = 36\n",
            "12 x 4 = 48\n",
            "12 x 5 = 60\n",
            "12 x 6 = 72\n",
            "12 x 7 = 84\n",
            "12 x 8 = 96\n",
            "12 x 9 = 108\n",
            "12 x 10 = 120\n",
            "12 x 11 = 132\n",
            "12 x 12 = 144\n",
            "\n"
          ],
          "name": "stdout"
        }
      ]
    },
    {
      "cell_type": "code",
      "metadata": {
        "id": "fMAwrW9hLy-u",
        "colab_type": "code",
        "colab": {
          "base_uri": "https://localhost:8080/",
          "height": 51
        },
        "outputId": "0a0686ba-3b9c-436a-cd8b-135a78100256"
      },
      "source": [
        "# Valide si un numero es primo\n",
        "numero = int(input('Ingrese un numero: '))\n",
        "\n",
        "def esPrimo(num):\n",
        "    if (num < 2):\n",
        "        return False\n",
        "\n",
        "    div = 2\n",
        "\n",
        "    while (div < num):\n",
        "        if (num % div == 0):\n",
        "            return False\n",
        "        div += 1\n",
        "    return True\n",
        "\n",
        "if esPrimo(numero): # esPrimo(numero) == True\n",
        "    print('El numero es primo')\n",
        "else:\n",
        "    print('El numero no es primo')"
      ],
      "execution_count": 17,
      "outputs": [
        {
          "output_type": "stream",
          "text": [
            "Ingrese un numero: 113\n",
            "El numero es primo\n"
          ],
          "name": "stdout"
        }
      ]
    },
    {
      "cell_type": "markdown",
      "metadata": {
        "id": "VVoBvq7ENd3i",
        "colab_type": "text"
      },
      "source": [
        "# Ciclo **for**\n",
        "\n",
        "* **Forma 1**\n",
        "* $i = 0$\n",
        "* se ejecuta mientras $i < final$\n",
        "* $i = i + 1$\n",
        "\n",
        "```python\n",
        "for i in range(final):\n",
        "    # Codigo\n",
        "```"
      ]
    },
    {
      "cell_type": "code",
      "metadata": {
        "id": "trFbmJ4iNdBm",
        "colab_type": "code",
        "colab": {
          "base_uri": "https://localhost:8080/",
          "height": 187
        },
        "outputId": "d24e00e2-04e5-4575-e1b5-9ba512516140"
      },
      "source": [
        "for i in range(10):\n",
        "    print(i)"
      ],
      "execution_count": 20,
      "outputs": [
        {
          "output_type": "stream",
          "text": [
            "0\n",
            "1\n",
            "2\n",
            "3\n",
            "4\n",
            "5\n",
            "6\n",
            "7\n",
            "8\n",
            "9\n"
          ],
          "name": "stdout"
        }
      ]
    },
    {
      "cell_type": "markdown",
      "metadata": {
        "id": "gywMcpO1OTNF",
        "colab_type": "text"
      },
      "source": [
        "* **Forma 2**\n",
        "* $i = inicial$\n",
        "* se ejecuta mientras $i < final$\n",
        "* $i = i + 1$\n",
        "\n",
        "```python\n",
        "for i in range(inicial, final):\n",
        "    # Bloque de codigo\n",
        "```"
      ]
    },
    {
      "cell_type": "code",
      "metadata": {
        "id": "SqyuqEngOdmG",
        "colab_type": "code",
        "colab": {
          "base_uri": "https://localhost:8080/",
          "height": 187
        },
        "outputId": "fa31e576-39c5-43ce-df3a-9e2350070c97"
      },
      "source": [
        "for i in range(20, 30):\n",
        "    print(i)"
      ],
      "execution_count": 21,
      "outputs": [
        {
          "output_type": "stream",
          "text": [
            "20\n",
            "21\n",
            "22\n",
            "23\n",
            "24\n",
            "25\n",
            "26\n",
            "27\n",
            "28\n",
            "29\n"
          ],
          "name": "stdout"
        }
      ]
    },
    {
      "cell_type": "code",
      "metadata": {
        "id": "xuzER-0UOlI7",
        "colab_type": "code",
        "colab": {
          "base_uri": "https://localhost:8080/",
          "height": 102
        },
        "outputId": "4aafe305-f170-4d4a-defc-ce42368c2c7c"
      },
      "source": [
        "for i in range(20, 30):\n",
        "    if (i % 2 == 0):\n",
        "        print(i)"
      ],
      "execution_count": 22,
      "outputs": [
        {
          "output_type": "stream",
          "text": [
            "20\n",
            "22\n",
            "24\n",
            "26\n",
            "28\n"
          ],
          "name": "stdout"
        }
      ]
    },
    {
      "cell_type": "markdown",
      "metadata": {
        "id": "DD_JlEJgOscn",
        "colab_type": "text"
      },
      "source": [
        "* **Forma 3**\n",
        "* $i = inicial$\n",
        "* se ejecuta mientras $i < final$\n",
        "* $i = i + paso$\n",
        "\n",
        "```python\n",
        "for i in range(inicial, final, paso):\n",
        "    # Bloque de codigo\n",
        "```"
      ]
    },
    {
      "cell_type": "code",
      "metadata": {
        "id": "_zcasO0JO2JX",
        "colab_type": "code",
        "colab": {
          "base_uri": "https://localhost:8080/",
          "height": 187
        },
        "outputId": "f4c1d1b4-fbab-454e-9551-1a73269d3636"
      },
      "source": [
        "for i in range(0, 20, 2):\n",
        "    print(i)"
      ],
      "execution_count": 25,
      "outputs": [
        {
          "output_type": "stream",
          "text": [
            "0\n",
            "2\n",
            "4\n",
            "6\n",
            "8\n",
            "10\n",
            "12\n",
            "14\n",
            "16\n",
            "18\n"
          ],
          "name": "stdout"
        }
      ]
    },
    {
      "cell_type": "code",
      "metadata": {
        "id": "ZC5D1OYpPGxP",
        "colab_type": "code",
        "colab": {
          "base_uri": "https://localhost:8080/",
          "height": 102
        },
        "outputId": "ee2f58e6-9645-4376-b973-8b6936424495"
      },
      "source": [
        "inicial = 0\n",
        "final = 20\n",
        "paso = 5\n",
        "\n",
        "for num in range(inicial, final + 1, paso):\n",
        "    print(num)"
      ],
      "execution_count": 30,
      "outputs": [
        {
          "output_type": "stream",
          "text": [
            "0\n",
            "5\n",
            "10\n",
            "15\n",
            "20\n"
          ],
          "name": "stdout"
        }
      ]
    },
    {
      "cell_type": "code",
      "metadata": {
        "id": "enGAzdrUPZaL",
        "colab_type": "code",
        "colab": {
          "base_uri": "https://localhost:8080/",
          "height": 85
        },
        "outputId": "12188e27-af15-4250-e943-a9d89e87ce77"
      },
      "source": [
        "i = 10\n",
        "\n",
        "for i in range(0, 20, 5):\n",
        "    print(i)"
      ],
      "execution_count": 31,
      "outputs": [
        {
          "output_type": "stream",
          "text": [
            "0\n",
            "5\n",
            "10\n",
            "15\n"
          ],
          "name": "stdout"
        }
      ]
    },
    {
      "cell_type": "code",
      "metadata": {
        "id": "8sqE5xZqPr4l",
        "colab_type": "code",
        "colab": {
          "base_uri": "https://localhost:8080/",
          "height": 187
        },
        "outputId": "cbb59d02-0a4e-42e1-ca0e-0d297ed43869"
      },
      "source": [
        "i = 2\n",
        "\n",
        "for i in range(10):\n",
        "    print(i)"
      ],
      "execution_count": 34,
      "outputs": [
        {
          "output_type": "stream",
          "text": [
            "0\n",
            "1\n",
            "2\n",
            "3\n",
            "4\n",
            "5\n",
            "6\n",
            "7\n",
            "8\n",
            "9\n"
          ],
          "name": "stdout"
        }
      ]
    },
    {
      "cell_type": "code",
      "metadata": {
        "id": "yIiShFwUQHLw",
        "colab_type": "code",
        "colab": {
          "base_uri": "https://localhost:8080/",
          "height": 221
        },
        "outputId": "de453d21-e927-487b-fdf1-050a211894b1"
      },
      "source": [
        "for num in range(-30, 30, 5):\n",
        "    print(num)"
      ],
      "execution_count": 35,
      "outputs": [
        {
          "output_type": "stream",
          "text": [
            "-30\n",
            "-25\n",
            "-20\n",
            "-15\n",
            "-10\n",
            "-5\n",
            "0\n",
            "5\n",
            "10\n",
            "15\n",
            "20\n",
            "25\n"
          ],
          "name": "stdout"
        }
      ]
    },
    {
      "cell_type": "code",
      "metadata": {
        "id": "4jtuWdCRQNAi",
        "colab_type": "code",
        "colab": {
          "base_uri": "https://localhost:8080/",
          "height": 187
        },
        "outputId": "66db437d-49f9-4605-f55e-434d90ec5b62"
      },
      "source": [
        "for num in range(10, 0, -1):\n",
        "    print(num)"
      ],
      "execution_count": 36,
      "outputs": [
        {
          "output_type": "stream",
          "text": [
            "10\n",
            "9\n",
            "8\n",
            "7\n",
            "6\n",
            "5\n",
            "4\n",
            "3\n",
            "2\n",
            "1\n"
          ],
          "name": "stdout"
        }
      ]
    },
    {
      "cell_type": "markdown",
      "metadata": {
        "id": "mmtG1NfKQssr",
        "colab_type": "text"
      },
      "source": [
        ""
      ]
    },
    {
      "cell_type": "markdown",
      "metadata": {
        "id": "4czPXn0EQv0G",
        "colab_type": "text"
      },
      "source": [
        "# Forma 4"
      ]
    },
    {
      "cell_type": "code",
      "metadata": {
        "id": "FSOr4B5TQy-4",
        "colab_type": "code",
        "colab": {
          "base_uri": "https://localhost:8080/",
          "height": 102
        },
        "outputId": "ee731992-dab4-4c0f-be4c-4d102d56e9d4"
      },
      "source": [
        "cadena = 'Erick'\n",
        "\n",
        "for c in cadena:\n",
        "    print(c)"
      ],
      "execution_count": 37,
      "outputs": [
        {
          "output_type": "stream",
          "text": [
            "E\n",
            "r\n",
            "i\n",
            "c\n",
            "k\n"
          ],
          "name": "stdout"
        }
      ]
    },
    {
      "cell_type": "code",
      "metadata": {
        "id": "J-OgVpDnQ9SD",
        "colab_type": "code",
        "colab": {
          "base_uri": "https://localhost:8080/",
          "height": 102
        },
        "outputId": "e5d18735-4e70-4ff3-e2e2-132742ef24b2"
      },
      "source": [
        "numeros = [1, 2, 3, 4, 5]\n",
        "\n",
        "for num in numeros:\n",
        "    print(num)"
      ],
      "execution_count": 38,
      "outputs": [
        {
          "output_type": "stream",
          "text": [
            "1\n",
            "2\n",
            "3\n",
            "4\n",
            "5\n"
          ],
          "name": "stdout"
        }
      ]
    },
    {
      "cell_type": "code",
      "metadata": {
        "id": "0Te03XRGRDG2",
        "colab_type": "code",
        "colab": {
          "base_uri": "https://localhost:8080/",
          "height": 34
        },
        "outputId": "11ab2bf1-196d-40c4-f5b2-f51d52aa4776"
      },
      "source": [
        "numeros = [1, 2, 3, 4, 5]\n",
        "pares = []\n",
        "\n",
        "for num in numeros:\n",
        "    if num % 2 == 0:\n",
        "        pares.append(num)\n",
        "\n",
        "print(pares)"
      ],
      "execution_count": 39,
      "outputs": [
        {
          "output_type": "stream",
          "text": [
            "[2, 4]\n"
          ],
          "name": "stdout"
        }
      ]
    },
    {
      "cell_type": "code",
      "metadata": {
        "id": "F6PyqKJiRWlK",
        "colab_type": "code",
        "colab": {
          "base_uri": "https://localhost:8080/",
          "height": 119
        },
        "outputId": "191a98b2-d7ca-4b88-e629-027ed227a34f"
      },
      "source": [
        "tupla = (1, 2, 3, 4, 5, 6)\n",
        "\n",
        "for num in tupla:\n",
        "    print(num)"
      ],
      "execution_count": 40,
      "outputs": [
        {
          "output_type": "stream",
          "text": [
            "1\n",
            "2\n",
            "3\n",
            "4\n",
            "5\n",
            "6\n"
          ],
          "name": "stdout"
        }
      ]
    },
    {
      "cell_type": "code",
      "metadata": {
        "id": "SHtD33sHRXwU",
        "colab_type": "code",
        "colab": {
          "base_uri": "https://localhost:8080/",
          "height": 85
        },
        "outputId": "15f103b8-b385-4ff3-c470-622e8790c53c"
      },
      "source": [
        "diccionario = {'Hello': 'Hola', 'One': 'Uno', 'Bird': 'Pajaro', 'Book': 'Libro'}\n",
        "\n",
        "for var in diccionario:\n",
        "    print(var)"
      ],
      "execution_count": 41,
      "outputs": [
        {
          "output_type": "stream",
          "text": [
            "Hello\n",
            "One\n",
            "Bird\n",
            "Book\n"
          ],
          "name": "stdout"
        }
      ]
    },
    {
      "cell_type": "code",
      "metadata": {
        "id": "1wEzcj-kRj7C",
        "colab_type": "code",
        "colab": {
          "base_uri": "https://localhost:8080/",
          "height": 85
        },
        "outputId": "110d66f4-758f-4573-fc6d-89806c0134a7"
      },
      "source": [
        "diccionario = {'Hello': 'Hola', 'One': 'Uno', 'Bird': 'Pajaro', 'Book': 'Libro'}\n",
        "\n",
        "for valor in diccionario.keys():\n",
        "    print(valor)"
      ],
      "execution_count": 42,
      "outputs": [
        {
          "output_type": "stream",
          "text": [
            "Hello\n",
            "One\n",
            "Bird\n",
            "Book\n"
          ],
          "name": "stdout"
        }
      ]
    },
    {
      "cell_type": "code",
      "metadata": {
        "id": "0THY6LRoRpmn",
        "colab_type": "code",
        "colab": {
          "base_uri": "https://localhost:8080/",
          "height": 85
        },
        "outputId": "24e84218-ce46-4d2b-c58d-e5707e629990"
      },
      "source": [
        "diccionario = {'Hello': 'Hola', 'One': 'Uno', 'Bird': 'Pajaro', 'Book': 'Libro'}\n",
        "\n",
        "for valor in diccionario.values():\n",
        "    print(valor)"
      ],
      "execution_count": 43,
      "outputs": [
        {
          "output_type": "stream",
          "text": [
            "Hola\n",
            "Uno\n",
            "Pajaro\n",
            "Libro\n"
          ],
          "name": "stdout"
        }
      ]
    },
    {
      "cell_type": "code",
      "metadata": {
        "id": "VTylwuK2RwWD",
        "colab_type": "code",
        "colab": {
          "base_uri": "https://localhost:8080/",
          "height": 85
        },
        "outputId": "93391c3b-62ff-476d-80c4-5f7c04119a88"
      },
      "source": [
        "diccionario = {'Hello': 'Hola', 'One': 'Uno', 'Bird': 'Pajaro', 'Book': 'Libro'}\n",
        "\n",
        "for llave in diccionario:\n",
        "    print(llave, diccionario[llave])"
      ],
      "execution_count": 44,
      "outputs": [
        {
          "output_type": "stream",
          "text": [
            "Hello Hola\n",
            "One Uno\n",
            "Bird Pajaro\n",
            "Book Libro\n"
          ],
          "name": "stdout"
        }
      ]
    },
    {
      "cell_type": "code",
      "metadata": {
        "id": "Vo1z33nHR4lX",
        "colab_type": "code",
        "colab": {
          "base_uri": "https://localhost:8080/",
          "height": 85
        },
        "outputId": "f3bd969f-a777-4622-f517-178bdc076003"
      },
      "source": [
        "diccionario = {'Hello': 'Hola', 'One': 'Uno', 'Bird': 'Pajaro', 'Book': 'Libro'}\n",
        "\n",
        "for item in diccionario.items(): # (Llave, valor)\n",
        "    print(item)"
      ],
      "execution_count": 45,
      "outputs": [
        {
          "output_type": "stream",
          "text": [
            "('Hello', 'Hola')\n",
            "('One', 'Uno')\n",
            "('Bird', 'Pajaro')\n",
            "('Book', 'Libro')\n"
          ],
          "name": "stdout"
        }
      ]
    },
    {
      "cell_type": "code",
      "metadata": {
        "id": "9I7Mx-_TSAHc",
        "colab_type": "code",
        "colab": {
          "base_uri": "https://localhost:8080/",
          "height": 85
        },
        "outputId": "000fa248-9c79-4d8b-fb57-e615038e5346"
      },
      "source": [
        "diccionario = {'Hello': 'Hola', 'One': 'Uno', 'Bird': 'Pajaro', 'Book': 'Libro'}\n",
        "\n",
        "for (llave, valor) in diccionario.items(): # (Llave, valor)\n",
        "    print(llave, valor)"
      ],
      "execution_count": 46,
      "outputs": [
        {
          "output_type": "stream",
          "text": [
            "Hello Hola\n",
            "One Uno\n",
            "Bird Pajaro\n",
            "Book Libro\n"
          ],
          "name": "stdout"
        }
      ]
    },
    {
      "cell_type": "code",
      "metadata": {
        "id": "SHLJfag1SQBT",
        "colab_type": "code",
        "colab": {
          "base_uri": "https://localhost:8080/",
          "height": 1000
        },
        "outputId": "3d4eb415-fdcf-4fe2-d067-e3be513b3850"
      },
      "source": [
        "for num1 in range(1, 13): # \n",
        "    for num2 in range(1, 13): # Termina ejecucion primero\n",
        "        print(num1, 'x', num2, '=', num1 * num2)\n",
        "    print()"
      ],
      "execution_count": 48,
      "outputs": [
        {
          "output_type": "stream",
          "text": [
            "1 x 1 = 1\n",
            "1 x 2 = 2\n",
            "1 x 3 = 3\n",
            "1 x 4 = 4\n",
            "1 x 5 = 5\n",
            "1 x 6 = 6\n",
            "1 x 7 = 7\n",
            "1 x 8 = 8\n",
            "1 x 9 = 9\n",
            "1 x 10 = 10\n",
            "1 x 11 = 11\n",
            "1 x 12 = 12\n",
            "\n",
            "2 x 1 = 2\n",
            "2 x 2 = 4\n",
            "2 x 3 = 6\n",
            "2 x 4 = 8\n",
            "2 x 5 = 10\n",
            "2 x 6 = 12\n",
            "2 x 7 = 14\n",
            "2 x 8 = 16\n",
            "2 x 9 = 18\n",
            "2 x 10 = 20\n",
            "2 x 11 = 22\n",
            "2 x 12 = 24\n",
            "\n",
            "3 x 1 = 3\n",
            "3 x 2 = 6\n",
            "3 x 3 = 9\n",
            "3 x 4 = 12\n",
            "3 x 5 = 15\n",
            "3 x 6 = 18\n",
            "3 x 7 = 21\n",
            "3 x 8 = 24\n",
            "3 x 9 = 27\n",
            "3 x 10 = 30\n",
            "3 x 11 = 33\n",
            "3 x 12 = 36\n",
            "\n",
            "4 x 1 = 4\n",
            "4 x 2 = 8\n",
            "4 x 3 = 12\n",
            "4 x 4 = 16\n",
            "4 x 5 = 20\n",
            "4 x 6 = 24\n",
            "4 x 7 = 28\n",
            "4 x 8 = 32\n",
            "4 x 9 = 36\n",
            "4 x 10 = 40\n",
            "4 x 11 = 44\n",
            "4 x 12 = 48\n",
            "\n",
            "5 x 1 = 5\n",
            "5 x 2 = 10\n",
            "5 x 3 = 15\n",
            "5 x 4 = 20\n",
            "5 x 5 = 25\n",
            "5 x 6 = 30\n",
            "5 x 7 = 35\n",
            "5 x 8 = 40\n",
            "5 x 9 = 45\n",
            "5 x 10 = 50\n",
            "5 x 11 = 55\n",
            "5 x 12 = 60\n",
            "\n",
            "6 x 1 = 6\n",
            "6 x 2 = 12\n",
            "6 x 3 = 18\n",
            "6 x 4 = 24\n",
            "6 x 5 = 30\n",
            "6 x 6 = 36\n",
            "6 x 7 = 42\n",
            "6 x 8 = 48\n",
            "6 x 9 = 54\n",
            "6 x 10 = 60\n",
            "6 x 11 = 66\n",
            "6 x 12 = 72\n",
            "\n",
            "7 x 1 = 7\n",
            "7 x 2 = 14\n",
            "7 x 3 = 21\n",
            "7 x 4 = 28\n",
            "7 x 5 = 35\n",
            "7 x 6 = 42\n",
            "7 x 7 = 49\n",
            "7 x 8 = 56\n",
            "7 x 9 = 63\n",
            "7 x 10 = 70\n",
            "7 x 11 = 77\n",
            "7 x 12 = 84\n",
            "\n",
            "8 x 1 = 8\n",
            "8 x 2 = 16\n",
            "8 x 3 = 24\n",
            "8 x 4 = 32\n",
            "8 x 5 = 40\n",
            "8 x 6 = 48\n",
            "8 x 7 = 56\n",
            "8 x 8 = 64\n",
            "8 x 9 = 72\n",
            "8 x 10 = 80\n",
            "8 x 11 = 88\n",
            "8 x 12 = 96\n",
            "\n",
            "9 x 1 = 9\n",
            "9 x 2 = 18\n",
            "9 x 3 = 27\n",
            "9 x 4 = 36\n",
            "9 x 5 = 45\n",
            "9 x 6 = 54\n",
            "9 x 7 = 63\n",
            "9 x 8 = 72\n",
            "9 x 9 = 81\n",
            "9 x 10 = 90\n",
            "9 x 11 = 99\n",
            "9 x 12 = 108\n",
            "\n",
            "10 x 1 = 10\n",
            "10 x 2 = 20\n",
            "10 x 3 = 30\n",
            "10 x 4 = 40\n",
            "10 x 5 = 50\n",
            "10 x 6 = 60\n",
            "10 x 7 = 70\n",
            "10 x 8 = 80\n",
            "10 x 9 = 90\n",
            "10 x 10 = 100\n",
            "10 x 11 = 110\n",
            "10 x 12 = 120\n",
            "\n",
            "11 x 1 = 11\n",
            "11 x 2 = 22\n",
            "11 x 3 = 33\n",
            "11 x 4 = 44\n",
            "11 x 5 = 55\n",
            "11 x 6 = 66\n",
            "11 x 7 = 77\n",
            "11 x 8 = 88\n",
            "11 x 9 = 99\n",
            "11 x 10 = 110\n",
            "11 x 11 = 121\n",
            "11 x 12 = 132\n",
            "\n",
            "12 x 1 = 12\n",
            "12 x 2 = 24\n",
            "12 x 3 = 36\n",
            "12 x 4 = 48\n",
            "12 x 5 = 60\n",
            "12 x 6 = 72\n",
            "12 x 7 = 84\n",
            "12 x 8 = 96\n",
            "12 x 9 = 108\n",
            "12 x 10 = 120\n",
            "12 x 11 = 132\n",
            "12 x 12 = 144\n",
            "\n"
          ],
          "name": "stdout"
        }
      ]
    },
    {
      "cell_type": "code",
      "metadata": {
        "id": "3D00SC5fS24K",
        "colab_type": "code",
        "colab": {
          "base_uri": "https://localhost:8080/",
          "height": 221
        },
        "outputId": "6426ace8-1efc-454c-a566-18c885259e11"
      },
      "source": [
        "inicio = int(input('Inicio: '))\n",
        "final = int(input('Final: '))\n",
        "\n",
        "for num in range(inicio, final + 1):\n",
        "    print(num)"
      ],
      "execution_count": 50,
      "outputs": [
        {
          "output_type": "stream",
          "text": [
            "Inicio: 1\n",
            "Final: 10\n",
            "1\n",
            "2\n",
            "3\n",
            "4\n",
            "5\n",
            "6\n",
            "7\n",
            "8\n",
            "9\n",
            "10\n"
          ],
          "name": "stdout"
        }
      ]
    },
    {
      "cell_type": "markdown",
      "metadata": {
        "id": "7pDqlTlTWZvv",
        "colab_type": "text"
      },
      "source": [
        "# Secuencias"
      ]
    },
    {
      "cell_type": "markdown",
      "metadata": {
        "id": "JZcC9-wUWhke",
        "colab_type": "text"
      },
      "source": [
        "## Listas\n",
        "[Todos los métodos de la lista](https://docs.python.org/3/tutorial/datastructures.html#more-on-lists)"
      ]
    },
    {
      "cell_type": "code",
      "metadata": {
        "id": "-gN2TUnEWlES",
        "colab_type": "code",
        "colab": {
          "base_uri": "https://localhost:8080/",
          "height": 34
        },
        "outputId": "af6a3001-2e11-4307-f2b2-89e0ed281ed7"
      },
      "source": [
        "lista = [] # Vacia\n",
        "lista = [1, 2, 3, 4] # Cuatro elementos\n",
        "lista[0]"
      ],
      "execution_count": 51,
      "outputs": [
        {
          "output_type": "execute_result",
          "data": {
            "text/plain": [
              "1"
            ]
          },
          "metadata": {
            "tags": []
          },
          "execution_count": 51
        }
      ]
    },
    {
      "cell_type": "code",
      "metadata": {
        "id": "Eh1jdQrzWyfc",
        "colab_type": "code",
        "colab": {
          "base_uri": "https://localhost:8080/",
          "height": 34
        },
        "outputId": "6ecda832-fb46-4895-ce84-e1bb28b38700"
      },
      "source": [
        "lista[-1]"
      ],
      "execution_count": 52,
      "outputs": [
        {
          "output_type": "execute_result",
          "data": {
            "text/plain": [
              "4"
            ]
          },
          "metadata": {
            "tags": []
          },
          "execution_count": 52
        }
      ]
    },
    {
      "cell_type": "code",
      "metadata": {
        "id": "zgwuPoqIW23Z",
        "colab_type": "code",
        "colab": {
          "base_uri": "https://localhost:8080/",
          "height": 165
        },
        "outputId": "e796b67b-346b-4586-f34b-69e371d0482f"
      },
      "source": [
        "lista[6]"
      ],
      "execution_count": 53,
      "outputs": [
        {
          "output_type": "error",
          "ename": "IndexError",
          "evalue": "ignored",
          "traceback": [
            "\u001b[0;31m---------------------------------------------------------------------------\u001b[0m",
            "\u001b[0;31mIndexError\u001b[0m                                Traceback (most recent call last)",
            "\u001b[0;32m<ipython-input-53-f715f6e228b7>\u001b[0m in \u001b[0;36m<module>\u001b[0;34m()\u001b[0m\n\u001b[0;32m----> 1\u001b[0;31m \u001b[0mlista\u001b[0m\u001b[0;34m[\u001b[0m\u001b[0;36m6\u001b[0m\u001b[0;34m]\u001b[0m\u001b[0;34m\u001b[0m\u001b[0;34m\u001b[0m\u001b[0m\n\u001b[0m",
            "\u001b[0;31mIndexError\u001b[0m: list index out of range"
          ]
        }
      ]
    },
    {
      "cell_type": "code",
      "metadata": {
        "id": "tsFQMwsgW-bl",
        "colab_type": "code",
        "colab": {
          "base_uri": "https://localhost:8080/",
          "height": 165
        },
        "outputId": "c0f7ef0a-b7d6-4254-d0af-95d2409bdc5e"
      },
      "source": [
        "lista[-10]"
      ],
      "execution_count": 54,
      "outputs": [
        {
          "output_type": "error",
          "ename": "IndexError",
          "evalue": "ignored",
          "traceback": [
            "\u001b[0;31m---------------------------------------------------------------------------\u001b[0m",
            "\u001b[0;31mIndexError\u001b[0m                                Traceback (most recent call last)",
            "\u001b[0;32m<ipython-input-54-5e040fafa97c>\u001b[0m in \u001b[0;36m<module>\u001b[0;34m()\u001b[0m\n\u001b[0;32m----> 1\u001b[0;31m \u001b[0mlista\u001b[0m\u001b[0;34m[\u001b[0m\u001b[0;34m-\u001b[0m\u001b[0;36m10\u001b[0m\u001b[0;34m]\u001b[0m\u001b[0;34m\u001b[0m\u001b[0;34m\u001b[0m\u001b[0m\n\u001b[0m",
            "\u001b[0;31mIndexError\u001b[0m: list index out of range"
          ]
        }
      ]
    },
    {
      "cell_type": "code",
      "metadata": {
        "id": "HYbnKjoXXDX2",
        "colab_type": "code",
        "colab": {
          "base_uri": "https://localhost:8080/",
          "height": 34
        },
        "outputId": "4adc431c-8cdc-4773-80b0-ba76c34eecca"
      },
      "source": [
        "# Agrega un objeto a la lista, al final\n",
        "lista.append(15)\n",
        "lista"
      ],
      "execution_count": 55,
      "outputs": [
        {
          "output_type": "execute_result",
          "data": {
            "text/plain": [
              "[1, 2, 3, 4, 15]"
            ]
          },
          "metadata": {
            "tags": []
          },
          "execution_count": 55
        }
      ]
    },
    {
      "cell_type": "code",
      "metadata": {
        "id": "f2l1ODeCXLCN",
        "colab_type": "code",
        "colab": {
          "base_uri": "https://localhost:8080/",
          "height": 34
        },
        "outputId": "74c3bfd8-80a8-4f36-9411-2434b942aaa4"
      },
      "source": [
        "# Se agrega un objeto a la lista insert(pos, elemento)\n",
        "lista.insert(0, 100)\n",
        "lista"
      ],
      "execution_count": 56,
      "outputs": [
        {
          "output_type": "execute_result",
          "data": {
            "text/plain": [
              "[100, 1, 2, 3, 4, 15]"
            ]
          },
          "metadata": {
            "tags": []
          },
          "execution_count": 56
        }
      ]
    },
    {
      "cell_type": "code",
      "metadata": {
        "id": "mYdRom1nXUqs",
        "colab_type": "code",
        "colab": {
          "base_uri": "https://localhost:8080/",
          "height": 34
        },
        "outputId": "3e95dca7-736b-4f82-cdf4-cf855ada3625"
      },
      "source": [
        "lista.insert(-1, 500)\n",
        "lista"
      ],
      "execution_count": 57,
      "outputs": [
        {
          "output_type": "execute_result",
          "data": {
            "text/plain": [
              "[100, 1, 2, 3, 4, 500, 15]"
            ]
          },
          "metadata": {
            "tags": []
          },
          "execution_count": 57
        }
      ]
    },
    {
      "cell_type": "code",
      "metadata": {
        "id": "51kbNkiZXauI",
        "colab_type": "code",
        "colab": {
          "base_uri": "https://localhost:8080/",
          "height": 34
        },
        "outputId": "4aa3403c-1fed-4b15-d863-2aee4f8435ef"
      },
      "source": [
        "# len -> me da el tamaño de la lista\n",
        "lista.insert(len(lista), 10000)\n",
        "lista"
      ],
      "execution_count": 58,
      "outputs": [
        {
          "output_type": "execute_result",
          "data": {
            "text/plain": [
              "[100, 1, 2, 3, 4, 500, 15, 10000]"
            ]
          },
          "metadata": {
            "tags": []
          },
          "execution_count": 58
        }
      ]
    },
    {
      "cell_type": "code",
      "metadata": {
        "id": "_TlEWGdpXrBM",
        "colab_type": "code",
        "colab": {
          "base_uri": "https://localhost:8080/",
          "height": 34
        },
        "outputId": "345ac7f3-14ad-4d57-a070-1393a48540d4"
      },
      "source": [
        "# pop -> Elimina el elemento en la posicion j: me devuelve el objeto\n",
        "# lista.pop(j)\n",
        "eliminado = lista.pop() # El ultimo\n",
        "print(eliminado, lista)"
      ],
      "execution_count": 59,
      "outputs": [
        {
          "output_type": "stream",
          "text": [
            "10000 [100, 1, 2, 3, 4, 500, 15]\n"
          ],
          "name": "stdout"
        }
      ]
    },
    {
      "cell_type": "code",
      "metadata": {
        "id": "w__Tl97-XzfH",
        "colab_type": "code",
        "colab": {
          "base_uri": "https://localhost:8080/",
          "height": 34
        },
        "outputId": "22c59050-4d33-49f3-e16c-dab39ea51548"
      },
      "source": [
        "eliminado = lista.pop(0) # El primero\n",
        "print(eliminado, lista)"
      ],
      "execution_count": 60,
      "outputs": [
        {
          "output_type": "stream",
          "text": [
            "100 [1, 2, 3, 4, 500, 15]\n"
          ],
          "name": "stdout"
        }
      ]
    },
    {
      "cell_type": "code",
      "metadata": {
        "id": "Vvo4rhzaX4Ue",
        "colab_type": "code",
        "colab": {
          "base_uri": "https://localhost:8080/",
          "height": 34
        },
        "outputId": "3fc0fdb8-debd-43e0-8496-68ccb8340510"
      },
      "source": [
        "# lista.remove(obj) -> Elimina el obj\n",
        "lista.remove(1)\n",
        "lista"
      ],
      "execution_count": 61,
      "outputs": [
        {
          "output_type": "execute_result",
          "data": {
            "text/plain": [
              "[2, 3, 4, 500, 15]"
            ]
          },
          "metadata": {
            "tags": []
          },
          "execution_count": 61
        }
      ]
    },
    {
      "cell_type": "code",
      "metadata": {
        "id": "uKpzcku1YKxZ",
        "colab_type": "code",
        "colab": {
          "base_uri": "https://localhost:8080/",
          "height": 34
        },
        "outputId": "f72b6d81-67ec-4505-d01c-dc362560f9ad"
      },
      "source": [
        "lista = [1, 2, 3, 4, 5, 10, 10, 2, 10]\n",
        "lista"
      ],
      "execution_count": 69,
      "outputs": [
        {
          "output_type": "execute_result",
          "data": {
            "text/plain": [
              "[1, 2, 3, 4, 5, 10, 10, 2, 10]"
            ]
          },
          "metadata": {
            "tags": []
          },
          "execution_count": 69
        }
      ]
    },
    {
      "cell_type": "code",
      "metadata": {
        "id": "LJ8mFERTX-eN",
        "colab_type": "code",
        "colab": {
          "base_uri": "https://localhost:8080/",
          "height": 34
        },
        "outputId": "b82540d0-c39a-4ba2-e545-f22c2a92c190"
      },
      "source": [
        "# lista.remove(obj) -> Elimina el obj\n",
        "# Cuando hay repetido, elimina la primer aparicion\n",
        "lista.remove(10) # No devuelve nada\n",
        "lista"
      ],
      "execution_count": 70,
      "outputs": [
        {
          "output_type": "execute_result",
          "data": {
            "text/plain": [
              "[1, 2, 3, 4, 5, 10, 2, 10]"
            ]
          },
          "metadata": {
            "tags": []
          },
          "execution_count": 70
        }
      ]
    },
    {
      "cell_type": "code",
      "metadata": {
        "id": "c2V2wI6hYX8J",
        "colab_type": "code",
        "colab": {
          "base_uri": "https://localhost:8080/",
          "height": 34
        },
        "outputId": "f6516dbd-ca8e-4737-a7ff-349ff9cccb86"
      },
      "source": [
        "lista = [1, 2, 3, 4]\n",
        "lista = []\n",
        "lista"
      ],
      "execution_count": 71,
      "outputs": [
        {
          "output_type": "execute_result",
          "data": {
            "text/plain": [
              "[]"
            ]
          },
          "metadata": {
            "tags": []
          },
          "execution_count": 71
        }
      ]
    },
    {
      "cell_type": "code",
      "metadata": {
        "id": "JQdWG8GLYeIP",
        "colab_type": "code",
        "colab": {
          "base_uri": "https://localhost:8080/",
          "height": 34
        },
        "outputId": "e13e0a0f-ac0f-43a8-b688-033cbac46349"
      },
      "source": [
        "lista = [1, 2, 3, 4]\n",
        "lista.clear() # Elimina todos los elementos de la lista\n",
        "lista"
      ],
      "execution_count": 72,
      "outputs": [
        {
          "output_type": "execute_result",
          "data": {
            "text/plain": [
              "[]"
            ]
          },
          "metadata": {
            "tags": []
          },
          "execution_count": 72
        }
      ]
    },
    {
      "cell_type": "code",
      "metadata": {
        "id": "jKmQ196eYisN",
        "colab_type": "code",
        "colab": {
          "base_uri": "https://localhost:8080/",
          "height": 34
        },
        "outputId": "0bde4453-4f2d-4f6c-b551-5288d77214a1"
      },
      "source": [
        "# lista.count(obj) -> La cantidad de veces que aparece obj en la lista\n",
        "lista = [1, 2, 3, 1, 1, 5, 7]\n",
        "lista.count(1)"
      ],
      "execution_count": 73,
      "outputs": [
        {
          "output_type": "execute_result",
          "data": {
            "text/plain": [
              "3"
            ]
          },
          "metadata": {
            "tags": []
          },
          "execution_count": 73
        }
      ]
    },
    {
      "cell_type": "code",
      "metadata": {
        "id": "2Kck3HnTYpdT",
        "colab_type": "code",
        "colab": {
          "base_uri": "https://localhost:8080/",
          "height": 34
        },
        "outputId": "ef89d8e7-b62e-4119-9c5d-3d823d47a935"
      },
      "source": [
        "lista.count(7)"
      ],
      "execution_count": 74,
      "outputs": [
        {
          "output_type": "execute_result",
          "data": {
            "text/plain": [
              "1"
            ]
          },
          "metadata": {
            "tags": []
          },
          "execution_count": 74
        }
      ]
    },
    {
      "cell_type": "code",
      "metadata": {
        "id": "Y41N713oYspk",
        "colab_type": "code",
        "colab": {
          "base_uri": "https://localhost:8080/",
          "height": 34
        },
        "outputId": "d6caa762-3c32-4f22-865a-fe34f757cba9"
      },
      "source": [
        "lista.count(10000)"
      ],
      "execution_count": 75,
      "outputs": [
        {
          "output_type": "execute_result",
          "data": {
            "text/plain": [
              "0"
            ]
          },
          "metadata": {
            "tags": []
          },
          "execution_count": 75
        }
      ]
    },
    {
      "cell_type": "code",
      "metadata": {
        "id": "RBIjsZL-Y1RA",
        "colab_type": "code",
        "colab": {
          "base_uri": "https://localhost:8080/",
          "height": 34
        },
        "outputId": "aa5bc1fb-8c12-4097-f4e5-c3f9b9e25614"
      },
      "source": [
        "# contar pares\n",
        "lista = [1, 3, 6, 7, 7, 2, 5, 6, 2]\n",
        "cantidad = 0\n",
        "\n",
        "for num in lista:\n",
        "    if num % 2 == 0:\n",
        "        cantidad += 1\n",
        "cantidad"
      ],
      "execution_count": 77,
      "outputs": [
        {
          "output_type": "execute_result",
          "data": {
            "text/plain": [
              "4"
            ]
          },
          "metadata": {
            "tags": []
          },
          "execution_count": 77
        }
      ]
    },
    {
      "cell_type": "code",
      "metadata": {
        "id": "F8zOK99cY-ox",
        "colab_type": "code",
        "colab": {
          "base_uri": "https://localhost:8080/",
          "height": 34
        },
        "outputId": "3bd7ef18-2028-43df-d3b7-08ae8a43c556"
      },
      "source": [
        "# lista.index(obj, inicio=0) -> Devuelve la posicion de la primera aparicion de obj en la lista\n",
        "lista = [1, 2, 3, 1, 1, 5, 7, 1]\n",
        "lista.index(1, 5)"
      ],
      "execution_count": 84,
      "outputs": [
        {
          "output_type": "execute_result",
          "data": {
            "text/plain": [
              "7"
            ]
          },
          "metadata": {
            "tags": []
          },
          "execution_count": 84
        }
      ]
    },
    {
      "cell_type": "code",
      "metadata": {
        "id": "DOeTNBVVZ5wn",
        "colab_type": "code",
        "colab": {
          "base_uri": "https://localhost:8080/",
          "height": 165
        },
        "outputId": "72f6f5c7-21be-4b9e-e4a8-9a9596b8792e"
      },
      "source": [
        "lista.index(100)"
      ],
      "execution_count": 85,
      "outputs": [
        {
          "output_type": "error",
          "ename": "ValueError",
          "evalue": "ignored",
          "traceback": [
            "\u001b[0;31m---------------------------------------------------------------------------\u001b[0m",
            "\u001b[0;31mValueError\u001b[0m                                Traceback (most recent call last)",
            "\u001b[0;32m<ipython-input-85-6299005bf9cc>\u001b[0m in \u001b[0;36m<module>\u001b[0;34m()\u001b[0m\n\u001b[0;32m----> 1\u001b[0;31m \u001b[0mlista\u001b[0m\u001b[0;34m.\u001b[0m\u001b[0mindex\u001b[0m\u001b[0;34m(\u001b[0m\u001b[0;36m100\u001b[0m\u001b[0;34m)\u001b[0m\u001b[0;34m\u001b[0m\u001b[0;34m\u001b[0m\u001b[0m\n\u001b[0m",
            "\u001b[0;31mValueError\u001b[0m: 100 is not in list"
          ]
        }
      ]
    },
    {
      "cell_type": "code",
      "metadata": {
        "id": "vvlr-_qGakT9",
        "colab_type": "code",
        "colab": {
          "base_uri": "https://localhost:8080/",
          "height": 34
        },
        "outputId": "e986c186-63f9-4e75-cc4f-f0d8b2565c36"
      },
      "source": [
        "# lista.sort() -> Ordena la lista en forma asc\n",
        "lista = [8, 2, 5, 1, 7, 4, 8]\n",
        "lista.sort()\n",
        "lista"
      ],
      "execution_count": 91,
      "outputs": [
        {
          "output_type": "execute_result",
          "data": {
            "text/plain": [
              "[1, 2, 4, 5, 7, 8, 8]"
            ]
          },
          "metadata": {
            "tags": []
          },
          "execution_count": 91
        }
      ]
    },
    {
      "cell_type": "code",
      "metadata": {
        "id": "JYijx8qUa1C3",
        "colab_type": "code",
        "colab": {
          "base_uri": "https://localhost:8080/",
          "height": 34
        },
        "outputId": "c9f2691c-ed81-4f04-af28-5089037eaa17"
      },
      "source": [
        "# lista.sort(reverse=True) -> Ordena la lista en forma desc\n",
        "lista = [8, 2, 5, 1, 7, 4, 8]\n",
        "lista.sort(reverse=True)\n",
        "lista"
      ],
      "execution_count": 92,
      "outputs": [
        {
          "output_type": "execute_result",
          "data": {
            "text/plain": [
              "[8, 8, 7, 5, 4, 2, 1]"
            ]
          },
          "metadata": {
            "tags": []
          },
          "execution_count": 92
        }
      ]
    },
    {
      "cell_type": "code",
      "metadata": {
        "id": "XW6H2yhVa8q8",
        "colab_type": "code",
        "colab": {
          "base_uri": "https://localhost:8080/",
          "height": 34
        },
        "outputId": "14f901be-99bc-4230-a73f-4a1f19ce6608"
      },
      "source": [
        "# sorted(seq) -> ordenada\n",
        "lista = [8, 2, 5, 1, 7, 4, 8]\n",
        "lista = sorted(lista, reverse=True)\n",
        "lista"
      ],
      "execution_count": 96,
      "outputs": [
        {
          "output_type": "execute_result",
          "data": {
            "text/plain": [
              "[8, 8, 7, 5, 4, 2, 1]"
            ]
          },
          "metadata": {
            "tags": []
          },
          "execution_count": 96
        }
      ]
    },
    {
      "cell_type": "code",
      "metadata": {
        "id": "yJ3-JKWWbK-k",
        "colab_type": "code",
        "colab": {
          "base_uri": "https://localhost:8080/",
          "height": 34
        },
        "outputId": "4b5f4ea1-1f12-4666-9749-777f31992761"
      },
      "source": [
        "lista = [1, 2, 3, 4]\n",
        "lista2 = lista\n",
        "lista[0] = 1000\n",
        "lista2"
      ],
      "execution_count": 102,
      "outputs": [
        {
          "output_type": "execute_result",
          "data": {
            "text/plain": [
              "[1000, 2, 3, 4]"
            ]
          },
          "metadata": {
            "tags": []
          },
          "execution_count": 102
        }
      ]
    },
    {
      "cell_type": "code",
      "metadata": {
        "id": "B5ykL3b_cNEt",
        "colab_type": "code",
        "colab": {
          "base_uri": "https://localhost:8080/",
          "height": 34
        },
        "outputId": "a8c5ec2b-dab8-4982-edf5-35df39e55fc5"
      },
      "source": [
        "# lista.copy() -> Devuelve una copia de la lista\n",
        "lista = [1, 2, 3, 4]\n",
        "lista2 = lista.copy()\n",
        "lista[0] = 1000\n",
        "lista2"
      ],
      "execution_count": 103,
      "outputs": [
        {
          "output_type": "execute_result",
          "data": {
            "text/plain": [
              "[1, 2, 3, 4]"
            ]
          },
          "metadata": {
            "tags": []
          },
          "execution_count": 103
        }
      ]
    },
    {
      "cell_type": "code",
      "metadata": {
        "id": "tcnzhwvVcTmX",
        "colab_type": "code",
        "colab": {
          "base_uri": "https://localhost:8080/",
          "height": 34
        },
        "outputId": "2032fdb0-6282-4750-aa75-6de183c4408a"
      },
      "source": [
        "lista = [1, 2, 3, 4]\n",
        "lista2 = lista[:] # lista[inicio:fin], lista[:fin], lista[inicio:], lista[:]\n",
        "lista[0] = 1000\n",
        "lista2"
      ],
      "execution_count": 104,
      "outputs": [
        {
          "output_type": "execute_result",
          "data": {
            "text/plain": [
              "[1, 2, 3, 4]"
            ]
          },
          "metadata": {
            "tags": []
          },
          "execution_count": 104
        }
      ]
    },
    {
      "cell_type": "markdown",
      "metadata": {
        "id": "gJssqOrWcrfC",
        "colab_type": "text"
      },
      "source": [
        "Más información sobre la librería [random](https://docs.python.org/3/library/random.html)"
      ]
    },
    {
      "cell_type": "code",
      "metadata": {
        "id": "OG70AHLFcmPK",
        "colab_type": "code",
        "colab": {
          "base_uri": "https://localhost:8080/",
          "height": 34
        },
        "outputId": "c8429d71-9c36-49a8-8807-8d5ece22265e"
      },
      "source": [
        "import random\n",
        "\n",
        "lista = []\n",
        "\n",
        "for i in range(10):\n",
        "    # Numeros aleatorios entre 0 y 100\n",
        "    lista.append(random.randint(0, 100))\n",
        "\n",
        "lista"
      ],
      "execution_count": 108,
      "outputs": [
        {
          "output_type": "execute_result",
          "data": {
            "text/plain": [
              "[44, 62, 67, 15, 97, 47, 48, 2, 70, 30]"
            ]
          },
          "metadata": {
            "tags": []
          },
          "execution_count": 108
        }
      ]
    },
    {
      "cell_type": "code",
      "metadata": {
        "id": "_4_FiQ-Cc9S8",
        "colab_type": "code",
        "colab": {
          "base_uri": "https://localhost:8080/",
          "height": 34
        },
        "outputId": "9c36d481-1448-47ab-e94f-44d8e50e4c56"
      },
      "source": [
        "# lista[inicio:fin] -> desde inicio hasta un elemento antes de fin\n",
        "lista[2:5]"
      ],
      "execution_count": 109,
      "outputs": [
        {
          "output_type": "execute_result",
          "data": {
            "text/plain": [
              "[67, 15, 97]"
            ]
          },
          "metadata": {
            "tags": []
          },
          "execution_count": 109
        }
      ]
    },
    {
      "cell_type": "code",
      "metadata": {
        "id": "63J5yaXAdLSy",
        "colab_type": "code",
        "colab": {
          "base_uri": "https://localhost:8080/",
          "height": 34
        },
        "outputId": "23a49d04-b4d2-4f7b-904b-6d4a11b4865c"
      },
      "source": [
        "# lista[:fin] -> desde la posicion 0 hasta un elemento antes de fin\n",
        "lista[:6]"
      ],
      "execution_count": 110,
      "outputs": [
        {
          "output_type": "execute_result",
          "data": {
            "text/plain": [
              "[44, 62, 67, 15, 97, 47]"
            ]
          },
          "metadata": {
            "tags": []
          },
          "execution_count": 110
        }
      ]
    },
    {
      "cell_type": "code",
      "metadata": {
        "id": "fQTur82ZdaWn",
        "colab_type": "code",
        "colab": {
          "base_uri": "https://localhost:8080/",
          "height": 34
        },
        "outputId": "b6c1b207-d34a-4f94-a125-d0bb263833ea"
      },
      "source": [
        "# lista[inicio:] -> desde inicio hasta un elemento antes el ultimo elemento\n",
        "lista[4:]"
      ],
      "execution_count": 111,
      "outputs": [
        {
          "output_type": "execute_result",
          "data": {
            "text/plain": [
              "[97, 47, 48, 2, 70, 30]"
            ]
          },
          "metadata": {
            "tags": []
          },
          "execution_count": 111
        }
      ]
    },
    {
      "cell_type": "code",
      "metadata": {
        "id": "fiRpy4bTdiWj",
        "colab_type": "code",
        "colab": {
          "base_uri": "https://localhost:8080/",
          "height": 34
        },
        "outputId": "f4cc8205-8f8e-45c5-edcf-d03d454ae048"
      },
      "source": [
        "# lista[:] -> todos los elementos\n",
        "lista[:]"
      ],
      "execution_count": 112,
      "outputs": [
        {
          "output_type": "execute_result",
          "data": {
            "text/plain": [
              "[44, 62, 67, 15, 97, 47, 48, 2, 70, 30]"
            ]
          },
          "metadata": {
            "tags": []
          },
          "execution_count": 112
        }
      ]
    },
    {
      "cell_type": "markdown",
      "metadata": {
        "id": "_8rAB5dvdt0Y",
        "colab_type": "text"
      },
      "source": [
        "# Compresión de Listas\n",
        "\n",
        "[más información](https://docs.python.org/3/tutorial/datastructures.html#list-comprehensions)"
      ]
    },
    {
      "cell_type": "code",
      "metadata": {
        "id": "gyQudh4BdvTv",
        "colab_type": "code",
        "colab": {
          "base_uri": "https://localhost:8080/",
          "height": 34
        },
        "outputId": "162619a8-fb69-401a-d0f4-7942dd13c5d9"
      },
      "source": [
        "lista = [i for i in range(10)]\n",
        "lista"
      ],
      "execution_count": 117,
      "outputs": [
        {
          "output_type": "execute_result",
          "data": {
            "text/plain": [
              "[0, 1, 2, 3, 4, 5, 6, 7, 8, 9]"
            ]
          },
          "metadata": {
            "tags": []
          },
          "execution_count": 117
        }
      ]
    },
    {
      "cell_type": "code",
      "metadata": {
        "id": "ra0cwJTdeGhy",
        "colab_type": "code",
        "colab": {
          "base_uri": "https://localhost:8080/",
          "height": 34
        },
        "outputId": "d577906f-22d3-4855-902c-6df16f6a0e08"
      },
      "source": [
        "lista = [valor for valor in range(10) if valor % 2 == 0]\n",
        "lista"
      ],
      "execution_count": 118,
      "outputs": [
        {
          "output_type": "execute_result",
          "data": {
            "text/plain": [
              "[0, 2, 4, 6, 8]"
            ]
          },
          "metadata": {
            "tags": []
          },
          "execution_count": 118
        }
      ]
    },
    {
      "cell_type": "code",
      "metadata": {
        "id": "Bmuo39Q0eQKD",
        "colab_type": "code",
        "colab": {
          "base_uri": "https://localhost:8080/",
          "height": 34
        },
        "outputId": "f5ab87d1-e26d-44cf-86dc-27bdd81f9ebf"
      },
      "source": [
        "import random\n",
        "\n",
        "lista = [random.randint(-10, 10) for _ in range(20)]\n",
        "lista"
      ],
      "execution_count": 125,
      "outputs": [
        {
          "output_type": "execute_result",
          "data": {
            "text/plain": [
              "[-2, 5, 3, -2, 4, -1, 2, 9, 2, -9, 1, -7, -1, -3, 3, 0, -4, 8, 9, 9]"
            ]
          },
          "metadata": {
            "tags": []
          },
          "execution_count": 125
        }
      ]
    },
    {
      "cell_type": "code",
      "metadata": {
        "id": "9w39lCBrexkn",
        "colab_type": "code",
        "colab": {
          "base_uri": "https://localhost:8080/",
          "height": 34
        },
        "outputId": "a7f0894c-94a0-4b00-e90b-5a28f993866f"
      },
      "source": [
        "abs(-10)"
      ],
      "execution_count": 126,
      "outputs": [
        {
          "output_type": "execute_result",
          "data": {
            "text/plain": [
              "10"
            ]
          },
          "metadata": {
            "tags": []
          },
          "execution_count": 126
        }
      ]
    },
    {
      "cell_type": "code",
      "metadata": {
        "id": "iZ1q23QEfB14",
        "colab_type": "code",
        "colab": {
          "base_uri": "https://localhost:8080/",
          "height": 34
        },
        "outputId": "596a8a9b-7a97-4319-cee4-8436391de960"
      },
      "source": [
        "num = 10\n",
        "num = num if num >= 0 else abs(num)\n",
        "num"
      ],
      "execution_count": 128,
      "outputs": [
        {
          "output_type": "execute_result",
          "data": {
            "text/plain": [
              "10"
            ]
          },
          "metadata": {
            "tags": []
          },
          "execution_count": 128
        }
      ]
    },
    {
      "cell_type": "markdown",
      "metadata": {
        "id": "rjf2TNkQfWn1",
        "colab_type": "text"
      },
      "source": [
        "# Compresion de Listas Anidadas"
      ]
    },
    {
      "cell_type": "code",
      "metadata": {
        "id": "lL-YSS8dfYhC",
        "colab_type": "code",
        "colab": {
          "base_uri": "https://localhost:8080/",
          "height": 357
        },
        "outputId": "a19c6c2f-206d-45d4-9df5-74e975afae60"
      },
      "source": [
        "# Listas de listas o matrices\n",
        "matriz = [[i * j for i in range(10)] for j in range(20)]\n",
        "matriz"
      ],
      "execution_count": 136,
      "outputs": [
        {
          "output_type": "execute_result",
          "data": {
            "text/plain": [
              "[[0, 0, 0, 0, 0, 0, 0, 0, 0, 0],\n",
              " [0, 1, 2, 3, 4, 5, 6, 7, 8, 9],\n",
              " [0, 2, 4, 6, 8, 10, 12, 14, 16, 18],\n",
              " [0, 3, 6, 9, 12, 15, 18, 21, 24, 27],\n",
              " [0, 4, 8, 12, 16, 20, 24, 28, 32, 36],\n",
              " [0, 5, 10, 15, 20, 25, 30, 35, 40, 45],\n",
              " [0, 6, 12, 18, 24, 30, 36, 42, 48, 54],\n",
              " [0, 7, 14, 21, 28, 35, 42, 49, 56, 63],\n",
              " [0, 8, 16, 24, 32, 40, 48, 56, 64, 72],\n",
              " [0, 9, 18, 27, 36, 45, 54, 63, 72, 81],\n",
              " [0, 10, 20, 30, 40, 50, 60, 70, 80, 90],\n",
              " [0, 11, 22, 33, 44, 55, 66, 77, 88, 99],\n",
              " [0, 12, 24, 36, 48, 60, 72, 84, 96, 108],\n",
              " [0, 13, 26, 39, 52, 65, 78, 91, 104, 117],\n",
              " [0, 14, 28, 42, 56, 70, 84, 98, 112, 126],\n",
              " [0, 15, 30, 45, 60, 75, 90, 105, 120, 135],\n",
              " [0, 16, 32, 48, 64, 80, 96, 112, 128, 144],\n",
              " [0, 17, 34, 51, 68, 85, 102, 119, 136, 153],\n",
              " [0, 18, 36, 54, 72, 90, 108, 126, 144, 162],\n",
              " [0, 19, 38, 57, 76, 95, 114, 133, 152, 171]]"
            ]
          },
          "metadata": {
            "tags": []
          },
          "execution_count": 136
        }
      ]
    },
    {
      "cell_type": "code",
      "metadata": {
        "id": "YlIwHSj8f_KL",
        "colab_type": "code",
        "colab": {
          "base_uri": "https://localhost:8080/",
          "height": 357
        },
        "outputId": "b166e329-33ee-49f1-9353-adf4c496e32a"
      },
      "source": [
        "matriz = [[random.randint(0, 999) for i in range(10)] for j in range(20)]\n",
        "matriz"
      ],
      "execution_count": 152,
      "outputs": [
        {
          "output_type": "execute_result",
          "data": {
            "text/plain": [
              "[[842, 77, 356, 488, 998, 791, 298, 107, 336, 751],\n",
              " [57, 831, 752, 939, 145, 674, 234, 832, 775, 532],\n",
              " [65, 275, 554, 724, 556, 946, 854, 363, 36, 854],\n",
              " [876, 45, 875, 427, 764, 758, 983, 785, 223, 706],\n",
              " [517, 803, 981, 810, 125, 891, 491, 792, 362, 909],\n",
              " [679, 351, 338, 360, 345, 235, 291, 798, 95, 269],\n",
              " [409, 680, 61, 773, 320, 714, 903, 408, 773, 967],\n",
              " [777, 882, 153, 814, 493, 380, 862, 351, 972, 505],\n",
              " [782, 289, 688, 863, 373, 863, 125, 370, 812, 863],\n",
              " [2, 98, 336, 500, 167, 318, 600, 628, 624, 805],\n",
              " [783, 350, 226, 91, 841, 131, 527, 400, 25, 235],\n",
              " [879, 943, 416, 574, 436, 967, 13, 667, 268, 945],\n",
              " [53, 632, 657, 156, 310, 963, 769, 307, 998, 564],\n",
              " [342, 912, 296, 483, 209, 363, 243, 944, 31, 237],\n",
              " [762, 398, 676, 833, 610, 346, 20, 20, 639, 814],\n",
              " [465, 107, 502, 47, 163, 895, 918, 478, 223, 64],\n",
              " [582, 663, 252, 411, 518, 402, 543, 766, 481, 683],\n",
              " [823, 79, 269, 845, 308, 643, 137, 901, 756, 936],\n",
              " [662, 698, 569, 179, 501, 274, 310, 951, 435, 314],\n",
              " [41, 376, 301, 567, 301, 417, 36, 341, 604, 281]]"
            ]
          },
          "metadata": {
            "tags": []
          },
          "execution_count": 152
        }
      ]
    },
    {
      "cell_type": "markdown",
      "metadata": {
        "id": "PVCrnvbWiIYd",
        "colab_type": "text"
      },
      "source": [
        "```python\n",
        "matriz[fila][columna]\n",
        "```"
      ]
    },
    {
      "cell_type": "code",
      "metadata": {
        "id": "-zWMBQoxgKjG",
        "colab_type": "code",
        "colab": {
          "base_uri": "https://localhost:8080/",
          "height": 357
        },
        "outputId": "ef6a1266-37ac-480b-9f5b-9228fb934885"
      },
      "source": [
        "def mostrarMatriz(A):\n",
        "    for fila in A:\n",
        "        for columna in fila:\n",
        "            if columna < 10:\n",
        "                print('00' + str(columna), end='\\t')\n",
        "            elif 10 <= columna < 100:\n",
        "                print('0' + str(columna), end='\\t')\n",
        "            else:\n",
        "                print(columna, end='\\t')\n",
        "        print()\n",
        "\n",
        "mostrarMatriz(matriz)"
      ],
      "execution_count": 154,
      "outputs": [
        {
          "output_type": "stream",
          "text": [
            "842\t077\t356\t488\t998\t791\t298\t107\t336\t751\t\n",
            "057\t831\t752\t939\t145\t674\t234\t832\t775\t532\t\n",
            "065\t275\t554\t724\t556\t946\t854\t363\t036\t854\t\n",
            "876\t045\t875\t427\t764\t758\t983\t785\t223\t706\t\n",
            "517\t803\t981\t810\t125\t891\t491\t792\t362\t909\t\n",
            "679\t351\t338\t360\t345\t235\t291\t798\t095\t269\t\n",
            "409\t680\t061\t773\t320\t714\t903\t408\t773\t967\t\n",
            "777\t882\t153\t814\t493\t380\t862\t351\t972\t505\t\n",
            "782\t289\t688\t863\t373\t863\t125\t370\t812\t863\t\n",
            "002\t098\t336\t500\t167\t318\t600\t628\t624\t805\t\n",
            "783\t350\t226\t091\t841\t131\t527\t400\t025\t235\t\n",
            "879\t943\t416\t574\t436\t967\t013\t667\t268\t945\t\n",
            "053\t632\t657\t156\t310\t963\t769\t307\t998\t564\t\n",
            "342\t912\t296\t483\t209\t363\t243\t944\t031\t237\t\n",
            "762\t398\t676\t833\t610\t346\t020\t020\t639\t814\t\n",
            "465\t107\t502\t047\t163\t895\t918\t478\t223\t064\t\n",
            "582\t663\t252\t411\t518\t402\t543\t766\t481\t683\t\n",
            "823\t079\t269\t845\t308\t643\t137\t901\t756\t936\t\n",
            "662\t698\t569\t179\t501\t274\t310\t951\t435\t314\t\n",
            "041\t376\t301\t567\t301\t417\t036\t341\t604\t281\t\n"
          ],
          "name": "stdout"
        }
      ]
    },
    {
      "cell_type": "code",
      "metadata": {
        "id": "SaTNy6o4h0DP",
        "colab_type": "code",
        "colab": {
          "base_uri": "https://localhost:8080/",
          "height": 34
        },
        "outputId": "ce11bb04-3b33-4bce-9e44-eadbf7da8936"
      },
      "source": [
        "matriz[2][3]"
      ],
      "execution_count": 158,
      "outputs": [
        {
          "output_type": "execute_result",
          "data": {
            "text/plain": [
              "724"
            ]
          },
          "metadata": {
            "tags": []
          },
          "execution_count": 158
        }
      ]
    },
    {
      "cell_type": "code",
      "metadata": {
        "id": "6Ee-8B1PiVyi",
        "colab_type": "code",
        "colab": {
          "base_uri": "https://localhost:8080/",
          "height": 34
        },
        "outputId": "bbfe9125-3480-4cb7-8143-5229ff2ac4df"
      },
      "source": [
        "matriz.pop()"
      ],
      "execution_count": 159,
      "outputs": [
        {
          "output_type": "execute_result",
          "data": {
            "text/plain": [
              "[41, 376, 301, 567, 301, 417, 36, 341, 604, 281]"
            ]
          },
          "metadata": {
            "tags": []
          },
          "execution_count": 159
        }
      ]
    },
    {
      "cell_type": "code",
      "metadata": {
        "id": "3du2HzPriai0",
        "colab_type": "code",
        "colab": {
          "base_uri": "https://localhost:8080/",
          "height": 340
        },
        "outputId": "daa1b98c-8ff8-4c0a-b633-596478d71c9c"
      },
      "source": [
        "matriz[-1]"
      ],
      "execution_count": 160,
      "outputs": [
        {
          "output_type": "execute_result",
          "data": {
            "text/plain": [
              "[[842, 77, 356, 488, 998, 791, 298, 107, 336, 751],\n",
              " [57, 831, 752, 939, 145, 674, 234, 832, 775, 532],\n",
              " [65, 275, 554, 724, 556, 946, 854, 363, 36, 854],\n",
              " [876, 45, 875, 427, 764, 758, 983, 785, 223, 706],\n",
              " [517, 803, 981, 810, 125, 891, 491, 792, 362, 909],\n",
              " [679, 351, 338, 360, 345, 235, 291, 798, 95, 269],\n",
              " [409, 680, 61, 773, 320, 714, 903, 408, 773, 967],\n",
              " [777, 882, 153, 814, 493, 380, 862, 351, 972, 505],\n",
              " [782, 289, 688, 863, 373, 863, 125, 370, 812, 863],\n",
              " [2, 98, 336, 500, 167, 318, 600, 628, 624, 805],\n",
              " [783, 350, 226, 91, 841, 131, 527, 400, 25, 235],\n",
              " [879, 943, 416, 574, 436, 967, 13, 667, 268, 945],\n",
              " [53, 632, 657, 156, 310, 963, 769, 307, 998, 564],\n",
              " [342, 912, 296, 483, 209, 363, 243, 944, 31, 237],\n",
              " [762, 398, 676, 833, 610, 346, 20, 20, 639, 814],\n",
              " [465, 107, 502, 47, 163, 895, 918, 478, 223, 64],\n",
              " [582, 663, 252, 411, 518, 402, 543, 766, 481, 683],\n",
              " [823, 79, 269, 845, 308, 643, 137, 901, 756, 936],\n",
              " [662, 698, 569, 179, 501, 274, 310, 951, 435, 314]]"
            ]
          },
          "metadata": {
            "tags": []
          },
          "execution_count": 160
        }
      ]
    },
    {
      "cell_type": "code",
      "metadata": {
        "id": "27fCTA-Eirlw",
        "colab_type": "code",
        "colab": {
          "base_uri": "https://localhost:8080/",
          "height": 340
        },
        "outputId": "c8ff7b99-41b3-4d0d-d44a-fc04120eb495"
      },
      "source": [
        "matriz2 = matriz[:]\n",
        "matriz[0][0] = -10\n",
        "matriz2"
      ],
      "execution_count": 161,
      "outputs": [
        {
          "output_type": "execute_result",
          "data": {
            "text/plain": [
              "[[-10, 77, 356, 488, 998, 791, 298, 107, 336, 751],\n",
              " [57, 831, 752, 939, 145, 674, 234, 832, 775, 532],\n",
              " [65, 275, 554, 724, 556, 946, 854, 363, 36, 854],\n",
              " [876, 45, 875, 427, 764, 758, 983, 785, 223, 706],\n",
              " [517, 803, 981, 810, 125, 891, 491, 792, 362, 909],\n",
              " [679, 351, 338, 360, 345, 235, 291, 798, 95, 269],\n",
              " [409, 680, 61, 773, 320, 714, 903, 408, 773, 967],\n",
              " [777, 882, 153, 814, 493, 380, 862, 351, 972, 505],\n",
              " [782, 289, 688, 863, 373, 863, 125, 370, 812, 863],\n",
              " [2, 98, 336, 500, 167, 318, 600, 628, 624, 805],\n",
              " [783, 350, 226, 91, 841, 131, 527, 400, 25, 235],\n",
              " [879, 943, 416, 574, 436, 967, 13, 667, 268, 945],\n",
              " [53, 632, 657, 156, 310, 963, 769, 307, 998, 564],\n",
              " [342, 912, 296, 483, 209, 363, 243, 944, 31, 237],\n",
              " [762, 398, 676, 833, 610, 346, 20, 20, 639, 814],\n",
              " [465, 107, 502, 47, 163, 895, 918, 478, 223, 64],\n",
              " [582, 663, 252, 411, 518, 402, 543, 766, 481, 683],\n",
              " [823, 79, 269, 845, 308, 643, 137, 901, 756, 936],\n",
              " [662, 698, 569, 179, 501, 274, 310, 951, 435, 314]]"
            ]
          },
          "metadata": {
            "tags": []
          },
          "execution_count": 161
        }
      ]
    },
    {
      "cell_type": "code",
      "metadata": {
        "id": "ibisi4CUi1rg",
        "colab_type": "code",
        "colab": {
          "base_uri": "https://localhost:8080/",
          "height": 340
        },
        "outputId": "842dd85e-7a13-40f7-d378-6dba4ceb5aaa"
      },
      "source": [
        "matriz3 = matriz.copy()\n",
        "matriz[0][0] = 100\n",
        "matriz3"
      ],
      "execution_count": 162,
      "outputs": [
        {
          "output_type": "execute_result",
          "data": {
            "text/plain": [
              "[[100, 77, 356, 488, 998, 791, 298, 107, 336, 751],\n",
              " [57, 831, 752, 939, 145, 674, 234, 832, 775, 532],\n",
              " [65, 275, 554, 724, 556, 946, 854, 363, 36, 854],\n",
              " [876, 45, 875, 427, 764, 758, 983, 785, 223, 706],\n",
              " [517, 803, 981, 810, 125, 891, 491, 792, 362, 909],\n",
              " [679, 351, 338, 360, 345, 235, 291, 798, 95, 269],\n",
              " [409, 680, 61, 773, 320, 714, 903, 408, 773, 967],\n",
              " [777, 882, 153, 814, 493, 380, 862, 351, 972, 505],\n",
              " [782, 289, 688, 863, 373, 863, 125, 370, 812, 863],\n",
              " [2, 98, 336, 500, 167, 318, 600, 628, 624, 805],\n",
              " [783, 350, 226, 91, 841, 131, 527, 400, 25, 235],\n",
              " [879, 943, 416, 574, 436, 967, 13, 667, 268, 945],\n",
              " [53, 632, 657, 156, 310, 963, 769, 307, 998, 564],\n",
              " [342, 912, 296, 483, 209, 363, 243, 944, 31, 237],\n",
              " [762, 398, 676, 833, 610, 346, 20, 20, 639, 814],\n",
              " [465, 107, 502, 47, 163, 895, 918, 478, 223, 64],\n",
              " [582, 663, 252, 411, 518, 402, 543, 766, 481, 683],\n",
              " [823, 79, 269, 845, 308, 643, 137, 901, 756, 936],\n",
              " [662, 698, 569, 179, 501, 274, 310, 951, 435, 314]]"
            ]
          },
          "metadata": {
            "tags": []
          },
          "execution_count": 162
        }
      ]
    },
    {
      "cell_type": "code",
      "metadata": {
        "id": "cmx4X85Ai7we",
        "colab_type": "code",
        "colab": {
          "base_uri": "https://localhost:8080/",
          "height": 340
        },
        "outputId": "77a07f94-6700-4159-e8f3-bc51ec91861b"
      },
      "source": [
        "matriz4 = [fila.copy() for fila in matriz]\n",
        "matriz[0][0] = 15\n",
        "matriz4"
      ],
      "execution_count": 163,
      "outputs": [
        {
          "output_type": "execute_result",
          "data": {
            "text/plain": [
              "[[100, 77, 356, 488, 998, 791, 298, 107, 336, 751],\n",
              " [57, 831, 752, 939, 145, 674, 234, 832, 775, 532],\n",
              " [65, 275, 554, 724, 556, 946, 854, 363, 36, 854],\n",
              " [876, 45, 875, 427, 764, 758, 983, 785, 223, 706],\n",
              " [517, 803, 981, 810, 125, 891, 491, 792, 362, 909],\n",
              " [679, 351, 338, 360, 345, 235, 291, 798, 95, 269],\n",
              " [409, 680, 61, 773, 320, 714, 903, 408, 773, 967],\n",
              " [777, 882, 153, 814, 493, 380, 862, 351, 972, 505],\n",
              " [782, 289, 688, 863, 373, 863, 125, 370, 812, 863],\n",
              " [2, 98, 336, 500, 167, 318, 600, 628, 624, 805],\n",
              " [783, 350, 226, 91, 841, 131, 527, 400, 25, 235],\n",
              " [879, 943, 416, 574, 436, 967, 13, 667, 268, 945],\n",
              " [53, 632, 657, 156, 310, 963, 769, 307, 998, 564],\n",
              " [342, 912, 296, 483, 209, 363, 243, 944, 31, 237],\n",
              " [762, 398, 676, 833, 610, 346, 20, 20, 639, 814],\n",
              " [465, 107, 502, 47, 163, 895, 918, 478, 223, 64],\n",
              " [582, 663, 252, 411, 518, 402, 543, 766, 481, 683],\n",
              " [823, 79, 269, 845, 308, 643, 137, 901, 756, 936],\n",
              " [662, 698, 569, 179, 501, 274, 310, 951, 435, 314]]"
            ]
          },
          "metadata": {
            "tags": []
          },
          "execution_count": 163
        }
      ]
    }
  ]
}
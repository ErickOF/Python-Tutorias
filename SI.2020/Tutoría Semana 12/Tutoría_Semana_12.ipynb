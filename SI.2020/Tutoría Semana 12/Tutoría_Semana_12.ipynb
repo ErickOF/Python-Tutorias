{
  "nbformat": 4,
  "nbformat_minor": 0,
  "metadata": {
    "colab": {
      "name": "Tutoría Semana 12.ipynb",
      "provenance": []
    },
    "kernelspec": {
      "name": "python3",
      "display_name": "Python 3"
    }
  },
  "cells": [
    {
      "cell_type": "code",
      "metadata": {
        "id": "Dt0t_6kLUUU2",
        "colab_type": "code",
        "colab": {}
      },
      "source": [
        "class String:\n",
        "    def __init__(self, string=''):\n",
        "        self.__string = string\n",
        "    \n",
        "    def __str__(self):\n",
        "        return self.__string\n",
        "    \n",
        "    def getData(self):\n",
        "        return self.__string\n",
        "\n",
        "    def __add__(self, string2):\n",
        "        if isinstance(string2, str):\n",
        "            return String(self.__string + string2)\n",
        "        elif isinstance(string2, String):\n",
        "            return String(self.__string + string2.getData())\n",
        "        else:\n",
        "            return String(self.__string + str(string2))\n",
        "\n",
        "    def find(self, elemento, inicio=0, fin=None):\n",
        "        if fin == None:\n",
        "            fin = len(self.__string) - 1\n",
        "        \n",
        "        indices = []\n",
        "\n",
        "        for i in range(inicio, fin + 1):\n",
        "            if self.__string[i] == elemento:\n",
        "                indices.append(i)\n",
        "\n",
        "        return indices"
      ],
      "execution_count": 37,
      "outputs": []
    },
    {
      "cell_type": "code",
      "metadata": {
        "id": "houNGBJxdmpJ",
        "colab_type": "code",
        "colab": {
          "base_uri": "https://localhost:8080/",
          "height": 68
        },
        "outputId": "80abd218-2cf9-43e2-c9a5-1bd8b0bbd9cb"
      },
      "source": [
        "cadena = String('hola')\n",
        "cadena2 = String(' mundo')\n",
        "cadena3 = cadena + cadena2\n",
        "print(cadena3)\n",
        "print(cadena3.find('o'))\n",
        "print(cadena3.find('!'))"
      ],
      "execution_count": 36,
      "outputs": [
        {
          "output_type": "stream",
          "text": [
            "hola mundo\n",
            "[1, 9]\n",
            "[]\n"
          ],
          "name": "stdout"
        }
      ]
    },
    {
      "cell_type": "markdown",
      "metadata": {
        "id": "Ojl9Iz8bnGx9",
        "colab_type": "text"
      },
      "source": [
        "# **Herencia**"
      ]
    },
    {
      "cell_type": "code",
      "metadata": {
        "id": "Rw1efR5dgsG2",
        "colab_type": "code",
        "colab": {}
      },
      "source": [
        "# Clase padre\n",
        "class Persona:\n",
        "    def __init__(self, nombre, edad, cedula):\n",
        "        self.nombre = nombre\n",
        "        self.edad = edad\n",
        "        self.cedula = cedula\n",
        "    \n",
        "    def __str__(self):\n",
        "        return f'Nombre: {self.nombre}\\nEdad: {self.edad}\\nCedula: {self.cedula}'\n",
        "    \n",
        "    def saludar(self, nombre):\n",
        "        return 'Hola ' + nombre"
      ],
      "execution_count": 90,
      "outputs": []
    },
    {
      "cell_type": "code",
      "metadata": {
        "id": "3XRy3EZPhjaT",
        "colab_type": "code",
        "colab": {
          "base_uri": "https://localhost:8080/",
          "height": 85
        },
        "outputId": "8d88d915-4734-4c37-bea8-d2abf9dc2c17"
      },
      "source": [
        "pErick = Persona('Erick Obregon', 22, 305070987)\n",
        "print(pErick)\n",
        "print(pErick.saludar('Andres'))"
      ],
      "execution_count": 100,
      "outputs": [
        {
          "output_type": "stream",
          "text": [
            "Nombre: Erick Obregon\n",
            "Edad: 22\n",
            "Cedula: 305070987\n",
            "Hola Andres\n"
          ],
          "name": "stdout"
        }
      ]
    },
    {
      "cell_type": "code",
      "metadata": {
        "id": "rAdYKhSQooSM",
        "colab_type": "code",
        "colab": {}
      },
      "source": [
        "# Clase hijo\n",
        "class Estudiante(Persona):\n",
        "    def __init__(self, nombre, edad, cedula, carnet, carrera):\n",
        "        #Persona.__init__(self, nombre, edad, cedula)\n",
        "        super(Estudiante, self).__init__(nombre, edad, cedula)\n",
        "        self.carnet = carnet\n",
        "        self.carrera = carrera\n",
        "    \n",
        "    def __str__(self):\n",
        "        return super(Estudiante, self).__str__() +\\\n",
        "            f'\\nCarnet: {self.carnet}\\nCarrera: {self.carrera}'\n",
        "    \n",
        "    def estudiar(self):\n",
        "        return 'Estoy estudiando'"
      ],
      "execution_count": 96,
      "outputs": []
    },
    {
      "cell_type": "code",
      "metadata": {
        "id": "u-qmxmT7pJxm",
        "colab_type": "code",
        "colab": {
          "base_uri": "https://localhost:8080/",
          "height": 153
        },
        "outputId": "426f7d4f-5e53-4c44-fc09-172e428c3f35"
      },
      "source": [
        "estudianteErick = Estudiante('Erick Obregon', 22, 305070987, 2016123157, 'Ing. en Computadores')\n",
        "print(estudianteErick)\n",
        "print(estudianteErick.saludar('Andres'))\n",
        "print(estudianteErick.estudiar())\n",
        "print(estudianteErick.nombre)"
      ],
      "execution_count": 101,
      "outputs": [
        {
          "output_type": "stream",
          "text": [
            "Nombre: Erick Obregon\n",
            "Edad: 22\n",
            "Cedula: 305070987\n",
            "Carnet: 2016123157\n",
            "Carrera: Ing. en Computadores\n",
            "Hola Andres\n",
            "Estoy estudiando\n",
            "Erick Obregon\n"
          ],
          "name": "stdout"
        }
      ]
    },
    {
      "cell_type": "markdown",
      "metadata": {
        "id": "FKUZ_BchrsT8",
        "colab_type": "text"
      },
      "source": [
        "# **Herencia Múltiple**"
      ]
    },
    {
      "cell_type": "code",
      "metadata": {
        "id": "qDedRmP-rrbd",
        "colab_type": "code",
        "colab": {}
      },
      "source": [
        "class Padre:\n",
        "    def __init__(self, colorDeOjos, tipoDeCabello):\n",
        "        self.colorDeOjos = colorDeOjos\n",
        "        self.tipoDeCabello = tipoDeCabello\n",
        "        self.peso = 20\n",
        "    \n",
        "    def saludar(self):\n",
        "        return 'Hola'"
      ],
      "execution_count": 127,
      "outputs": []
    },
    {
      "cell_type": "code",
      "metadata": {
        "id": "hTASXkg_roOR",
        "colab_type": "code",
        "colab": {}
      },
      "source": [
        "class Madre:\n",
        "    def __init__(self, colorDeCabello, altura):\n",
        "        self.colorDeCabello = colorDeCabello\n",
        "        self.altura = altura\n",
        "        self.peso = 30\n",
        "    \n",
        "    def despedirse(self):\n",
        "        return 'Adios'"
      ],
      "execution_count": 128,
      "outputs": []
    },
    {
      "cell_type": "code",
      "metadata": {
        "id": "TG2H-zaLsLb9",
        "colab_type": "code",
        "colab": {}
      },
      "source": [
        "class Hijo(Madre, Padre):\n",
        "    def __init__(self, colorDeOjos, tipoDeCabello, colorDeCabello, altura):\n",
        "        Madre.__init__(self, colorDeCabello, altura)\n",
        "        Padre.__init__(self, colorDeOjos, tipoDeCabello)"
      ],
      "execution_count": 134,
      "outputs": []
    },
    {
      "cell_type": "code",
      "metadata": {
        "id": "t_Jrs-EasyJm",
        "colab_type": "code",
        "colab": {
          "base_uri": "https://localhost:8080/",
          "height": 136
        },
        "outputId": "0bfd0879-d282-4d9d-b1ec-542f8f4a9475"
      },
      "source": [
        "hijoErick = Hijo('Marron oscuro', 'Colochos', 'Negro', '1.84')\n",
        "print(hijoErick.despedirse())\n",
        "print(hijoErick.saludar())\n",
        "print(hijoErick.colorDeOjos)\n",
        "print(hijoErick.tipoDeCabello)\n",
        "print(hijoErick.colorDeCabello)\n",
        "print(hijoErick.altura)\n",
        "print(hijoErick.peso)"
      ],
      "execution_count": 135,
      "outputs": [
        {
          "output_type": "stream",
          "text": [
            "Adios\n",
            "Hola\n",
            "Marron oscuro\n",
            "Colochos\n",
            "Negro\n",
            "1.84\n",
            "20\n"
          ],
          "name": "stdout"
        }
      ]
    }
  ]
}